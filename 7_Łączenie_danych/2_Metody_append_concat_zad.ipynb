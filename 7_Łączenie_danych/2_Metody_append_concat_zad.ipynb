{
 "cells": [
  {
   "cell_type": "code",
   "execution_count": 1,
   "id": "35250333",
   "metadata": {},
   "outputs": [],
   "source": [
    "import pandas as pd\n",
    "import numpy as np"
   ]
  },
  {
   "cell_type": "code",
   "execution_count": 5,
   "id": "f092627d",
   "metadata": {},
   "outputs": [],
   "source": [
    "mrbean = pd.read_csv('C:/Users/Mariusz Baran/Data_Science_kurs/Data_science_pliki/course-files/mrbean_facebook_statuses_join.csv',\n",
    "                    usecols= ['status_message_mrbean','status_type','num_likes'])\n",
    "nasa = pd.read_csv('C:/Users/Mariusz Baran/Data_Science_kurs/Data_science_pliki/course-files/nasa_facebook_statuses_join.csv',\n",
    "                  usecols = ['status_message_nasa','status_type','num_likes'])"
   ]
  },
  {
   "cell_type": "code",
   "execution_count": 6,
   "id": "32092b41",
   "metadata": {},
   "outputs": [
    {
     "data": {
      "text/html": [
       "<div>\n",
       "<style scoped>\n",
       "    .dataframe tbody tr th:only-of-type {\n",
       "        vertical-align: middle;\n",
       "    }\n",
       "\n",
       "    .dataframe tbody tr th {\n",
       "        vertical-align: top;\n",
       "    }\n",
       "\n",
       "    .dataframe thead th {\n",
       "        text-align: right;\n",
       "    }\n",
       "</style>\n",
       "<table border=\"1\" class=\"dataframe\">\n",
       "  <thead>\n",
       "    <tr style=\"text-align: right;\">\n",
       "      <th></th>\n",
       "      <th>status_message_mrbean</th>\n",
       "      <th>status_type</th>\n",
       "      <th>num_likes</th>\n",
       "    </tr>\n",
       "  </thead>\n",
       "  <tbody>\n",
       "    <tr>\n",
       "      <th>0</th>\n",
       "      <td>It's time for Mr Bean and Teddy to get ready f...</td>\n",
       "      <td>video</td>\n",
       "      <td>16079</td>\n",
       "    </tr>\n",
       "    <tr>\n",
       "      <th>1</th>\n",
       "      <td>NaN</td>\n",
       "      <td>photo</td>\n",
       "      <td>114008</td>\n",
       "    </tr>\n",
       "    <tr>\n",
       "      <th>2</th>\n",
       "      <td>NaN</td>\n",
       "      <td>photo</td>\n",
       "      <td>218579</td>\n",
       "    </tr>\n",
       "    <tr>\n",
       "      <th>3</th>\n",
       "      <td>Mr Bean is ready to do some shopping but bewar...</td>\n",
       "      <td>video</td>\n",
       "      <td>20338</td>\n",
       "    </tr>\n",
       "    <tr>\n",
       "      <th>4</th>\n",
       "      <td>NaN</td>\n",
       "      <td>photo</td>\n",
       "      <td>215591</td>\n",
       "    </tr>\n",
       "  </tbody>\n",
       "</table>\n",
       "</div>"
      ],
      "text/plain": [
       "                               status_message_mrbean status_type  num_likes\n",
       "0  It's time for Mr Bean and Teddy to get ready f...       video      16079\n",
       "1                                                NaN       photo     114008\n",
       "2                                                NaN       photo     218579\n",
       "3  Mr Bean is ready to do some shopping but bewar...       video      20338\n",
       "4                                                NaN       photo     215591"
      ]
     },
     "execution_count": 6,
     "metadata": {},
     "output_type": "execute_result"
    }
   ],
   "source": [
    "mrbean.head()"
   ]
  },
  {
   "cell_type": "code",
   "execution_count": 7,
   "id": "02847f86",
   "metadata": {},
   "outputs": [
    {
     "data": {
      "text/html": [
       "<div>\n",
       "<style scoped>\n",
       "    .dataframe tbody tr th:only-of-type {\n",
       "        vertical-align: middle;\n",
       "    }\n",
       "\n",
       "    .dataframe tbody tr th {\n",
       "        vertical-align: top;\n",
       "    }\n",
       "\n",
       "    .dataframe thead th {\n",
       "        text-align: right;\n",
       "    }\n",
       "</style>\n",
       "<table border=\"1\" class=\"dataframe\">\n",
       "  <thead>\n",
       "    <tr style=\"text-align: right;\">\n",
       "      <th></th>\n",
       "      <th>status_message_nasa</th>\n",
       "      <th>status_type</th>\n",
       "      <th>num_likes</th>\n",
       "    </tr>\n",
       "  </thead>\n",
       "  <tbody>\n",
       "    <tr>\n",
       "      <th>0</th>\n",
       "      <td>This morning, the #RockOn mission with student...</td>\n",
       "      <td>photo</td>\n",
       "      <td>5142</td>\n",
       "    </tr>\n",
       "    <tr>\n",
       "      <th>1</th>\n",
       "      <td>Pluto's largest moon, Charon, is home to an un...</td>\n",
       "      <td>photo</td>\n",
       "      <td>19074</td>\n",
       "    </tr>\n",
       "    <tr>\n",
       "      <th>2</th>\n",
       "      <td>Our Restore-L mission is an endeavor to launch...</td>\n",
       "      <td>photo</td>\n",
       "      <td>7551</td>\n",
       "    </tr>\n",
       "    <tr>\n",
       "      <th>3</th>\n",
       "      <td>A new dark vortex was discovered in the atmosp...</td>\n",
       "      <td>photo</td>\n",
       "      <td>24359</td>\n",
       "    </tr>\n",
       "    <tr>\n",
       "      <th>4</th>\n",
       "      <td>NaN</td>\n",
       "      <td>video</td>\n",
       "      <td>2731</td>\n",
       "    </tr>\n",
       "  </tbody>\n",
       "</table>\n",
       "</div>"
      ],
      "text/plain": [
       "                                 status_message_nasa status_type  num_likes\n",
       "0  This morning, the #RockOn mission with student...       photo       5142\n",
       "1  Pluto's largest moon, Charon, is home to an un...       photo      19074\n",
       "2  Our Restore-L mission is an endeavor to launch...       photo       7551\n",
       "3  A new dark vortex was discovered in the atmosp...       photo      24359\n",
       "4                                                NaN       video       2731"
      ]
     },
     "execution_count": 7,
     "metadata": {},
     "output_type": "execute_result"
    }
   ],
   "source": [
    "nasa.head()"
   ]
  },
  {
   "cell_type": "code",
   "execution_count": 9,
   "id": "c0a2ed31",
   "metadata": {},
   "outputs": [],
   "source": [
    "fb = mrbean.append(nasa, sort=True)"
   ]
  },
  {
   "cell_type": "code",
   "execution_count": 10,
   "id": "f9f8c31a",
   "metadata": {},
   "outputs": [
    {
     "data": {
      "text/html": [
       "<div>\n",
       "<style scoped>\n",
       "    .dataframe tbody tr th:only-of-type {\n",
       "        vertical-align: middle;\n",
       "    }\n",
       "\n",
       "    .dataframe tbody tr th {\n",
       "        vertical-align: top;\n",
       "    }\n",
       "\n",
       "    .dataframe thead th {\n",
       "        text-align: right;\n",
       "    }\n",
       "</style>\n",
       "<table border=\"1\" class=\"dataframe\">\n",
       "  <thead>\n",
       "    <tr style=\"text-align: right;\">\n",
       "      <th></th>\n",
       "      <th>num_likes</th>\n",
       "      <th>status_message_mrbean</th>\n",
       "      <th>status_message_nasa</th>\n",
       "      <th>status_type</th>\n",
       "    </tr>\n",
       "  </thead>\n",
       "  <tbody>\n",
       "    <tr>\n",
       "      <th>0</th>\n",
       "      <td>16079</td>\n",
       "      <td>It's time for Mr Bean and Teddy to get ready f...</td>\n",
       "      <td>NaN</td>\n",
       "      <td>video</td>\n",
       "    </tr>\n",
       "    <tr>\n",
       "      <th>1</th>\n",
       "      <td>114008</td>\n",
       "      <td>NaN</td>\n",
       "      <td>NaN</td>\n",
       "      <td>photo</td>\n",
       "    </tr>\n",
       "    <tr>\n",
       "      <th>2</th>\n",
       "      <td>218579</td>\n",
       "      <td>NaN</td>\n",
       "      <td>NaN</td>\n",
       "      <td>photo</td>\n",
       "    </tr>\n",
       "    <tr>\n",
       "      <th>3</th>\n",
       "      <td>20338</td>\n",
       "      <td>Mr Bean is ready to do some shopping but bewar...</td>\n",
       "      <td>NaN</td>\n",
       "      <td>video</td>\n",
       "    </tr>\n",
       "    <tr>\n",
       "      <th>4</th>\n",
       "      <td>215591</td>\n",
       "      <td>NaN</td>\n",
       "      <td>NaN</td>\n",
       "      <td>photo</td>\n",
       "    </tr>\n",
       "    <tr>\n",
       "      <th>...</th>\n",
       "      <td>...</td>\n",
       "      <td>...</td>\n",
       "      <td>...</td>\n",
       "      <td>...</td>\n",
       "    </tr>\n",
       "    <tr>\n",
       "      <th>758</th>\n",
       "      <td>39355</td>\n",
       "      <td>NaN</td>\n",
       "      <td>You've never seen Pluto like this before! New ...</td>\n",
       "      <td>photo</td>\n",
       "    </tr>\n",
       "    <tr>\n",
       "      <th>759</th>\n",
       "      <td>11835</td>\n",
       "      <td>NaN</td>\n",
       "      <td>Our cooperative field study in East Asia advan...</td>\n",
       "      <td>photo</td>\n",
       "    </tr>\n",
       "    <tr>\n",
       "      <th>760</th>\n",
       "      <td>15567</td>\n",
       "      <td>NaN</td>\n",
       "      <td>After spending a #YearInSpace, astronaut Scott...</td>\n",
       "      <td>photo</td>\n",
       "    </tr>\n",
       "    <tr>\n",
       "      <th>761</th>\n",
       "      <td>41584</td>\n",
       "      <td>NaN</td>\n",
       "      <td>Gravitational waves, predicted by Einstein and...</td>\n",
       "      <td>photo</td>\n",
       "    </tr>\n",
       "    <tr>\n",
       "      <th>762</th>\n",
       "      <td>12793</td>\n",
       "      <td>NaN</td>\n",
       "      <td>Have you ever used a GPS to help you get somew...</td>\n",
       "      <td>photo</td>\n",
       "    </tr>\n",
       "  </tbody>\n",
       "</table>\n",
       "<p>819 rows × 4 columns</p>\n",
       "</div>"
      ],
      "text/plain": [
       "     num_likes                              status_message_mrbean  \\\n",
       "0        16079  It's time for Mr Bean and Teddy to get ready f...   \n",
       "1       114008                                                NaN   \n",
       "2       218579                                                NaN   \n",
       "3        20338  Mr Bean is ready to do some shopping but bewar...   \n",
       "4       215591                                                NaN   \n",
       "..         ...                                                ...   \n",
       "758      39355                                                NaN   \n",
       "759      11835                                                NaN   \n",
       "760      15567                                                NaN   \n",
       "761      41584                                                NaN   \n",
       "762      12793                                                NaN   \n",
       "\n",
       "                                   status_message_nasa status_type  \n",
       "0                                                  NaN       video  \n",
       "1                                                  NaN       photo  \n",
       "2                                                  NaN       photo  \n",
       "3                                                  NaN       video  \n",
       "4                                                  NaN       photo  \n",
       "..                                                 ...         ...  \n",
       "758  You've never seen Pluto like this before! New ...       photo  \n",
       "759  Our cooperative field study in East Asia advan...       photo  \n",
       "760  After spending a #YearInSpace, astronaut Scott...       photo  \n",
       "761  Gravitational waves, predicted by Einstein and...       photo  \n",
       "762  Have you ever used a GPS to help you get somew...       photo  \n",
       "\n",
       "[819 rows x 4 columns]"
      ]
     },
     "execution_count": 10,
     "metadata": {},
     "output_type": "execute_result"
    }
   ],
   "source": [
    "fb"
   ]
  },
  {
   "cell_type": "code",
   "execution_count": 11,
   "id": "4ad3694e",
   "metadata": {},
   "outputs": [
    {
     "data": {
      "text/plain": [
       "num_likes                                                            16079\n",
       "status_message_mrbean    It's time for Mr Bean and Teddy to get ready f...\n",
       "status_message_nasa                                                    NaN\n",
       "status_type                                                          video\n",
       "Name: 0, dtype: object"
      ]
     },
     "execution_count": 11,
     "metadata": {},
     "output_type": "execute_result"
    }
   ],
   "source": [
    "fb.iloc[0]"
   ]
  },
  {
   "cell_type": "code",
   "execution_count": 14,
   "id": "af5e1a7b",
   "metadata": {},
   "outputs": [],
   "source": [
    "fb = mrbean.append(nasa, sort=True, ignore_index=True)"
   ]
  },
  {
   "cell_type": "code",
   "execution_count": 15,
   "id": "5e38665d",
   "metadata": {},
   "outputs": [
    {
     "data": {
      "text/plain": [
       "num_likes                                                            16079\n",
       "status_message_mrbean    It's time for Mr Bean and Teddy to get ready f...\n",
       "status_message_nasa                                                    NaN\n",
       "status_type                                                          video\n",
       "Name: 0, dtype: object"
      ]
     },
     "execution_count": 15,
     "metadata": {},
     "output_type": "execute_result"
    }
   ],
   "source": [
    "fb.iloc[0]"
   ]
  },
  {
   "cell_type": "code",
   "execution_count": 16,
   "id": "2c020a11",
   "metadata": {},
   "outputs": [],
   "source": [
    "mrbean.rename({'status_message_mrbean': 'status_message'}, axis='columns', inplace=True)\n",
    "nasa.rename({'status_message_nasa': 'status_message'}, axis='columns', inplace=True)"
   ]
  },
  {
   "cell_type": "code",
   "execution_count": 17,
   "id": "fde0581f",
   "metadata": {},
   "outputs": [
    {
     "data": {
      "text/html": [
       "<div>\n",
       "<style scoped>\n",
       "    .dataframe tbody tr th:only-of-type {\n",
       "        vertical-align: middle;\n",
       "    }\n",
       "\n",
       "    .dataframe tbody tr th {\n",
       "        vertical-align: top;\n",
       "    }\n",
       "\n",
       "    .dataframe thead th {\n",
       "        text-align: right;\n",
       "    }\n",
       "</style>\n",
       "<table border=\"1\" class=\"dataframe\">\n",
       "  <thead>\n",
       "    <tr style=\"text-align: right;\">\n",
       "      <th></th>\n",
       "      <th>num_likes</th>\n",
       "      <th>status_message</th>\n",
       "      <th>status_type</th>\n",
       "    </tr>\n",
       "  </thead>\n",
       "  <tbody>\n",
       "    <tr>\n",
       "      <th>0</th>\n",
       "      <td>16079</td>\n",
       "      <td>It's time for Mr Bean and Teddy to get ready f...</td>\n",
       "      <td>video</td>\n",
       "    </tr>\n",
       "    <tr>\n",
       "      <th>1</th>\n",
       "      <td>114008</td>\n",
       "      <td>NaN</td>\n",
       "      <td>photo</td>\n",
       "    </tr>\n",
       "    <tr>\n",
       "      <th>2</th>\n",
       "      <td>218579</td>\n",
       "      <td>NaN</td>\n",
       "      <td>photo</td>\n",
       "    </tr>\n",
       "    <tr>\n",
       "      <th>3</th>\n",
       "      <td>20338</td>\n",
       "      <td>Mr Bean is ready to do some shopping but bewar...</td>\n",
       "      <td>video</td>\n",
       "    </tr>\n",
       "    <tr>\n",
       "      <th>4</th>\n",
       "      <td>215591</td>\n",
       "      <td>NaN</td>\n",
       "      <td>photo</td>\n",
       "    </tr>\n",
       "  </tbody>\n",
       "</table>\n",
       "</div>"
      ],
      "text/plain": [
       "   num_likes                                     status_message status_type\n",
       "0      16079  It's time for Mr Bean and Teddy to get ready f...       video\n",
       "1     114008                                                NaN       photo\n",
       "2     218579                                                NaN       photo\n",
       "3      20338  Mr Bean is ready to do some shopping but bewar...       video\n",
       "4     215591                                                NaN       photo"
      ]
     },
     "execution_count": 17,
     "metadata": {},
     "output_type": "execute_result"
    }
   ],
   "source": [
    "fb = mrbean.append(nasa, sort=True, ignore_index=True)\n",
    "fb.head()"
   ]
  },
  {
   "cell_type": "code",
   "execution_count": 19,
   "id": "ee72a707",
   "metadata": {},
   "outputs": [],
   "source": [
    "fb = pd.concat(objs=[mrbean, nasa], ignore_index=True)"
   ]
  },
  {
   "cell_type": "code",
   "execution_count": 20,
   "id": "17a046fc",
   "metadata": {},
   "outputs": [
    {
     "data": {
      "text/html": [
       "<div>\n",
       "<style scoped>\n",
       "    .dataframe tbody tr th:only-of-type {\n",
       "        vertical-align: middle;\n",
       "    }\n",
       "\n",
       "    .dataframe tbody tr th {\n",
       "        vertical-align: top;\n",
       "    }\n",
       "\n",
       "    .dataframe thead th {\n",
       "        text-align: right;\n",
       "    }\n",
       "</style>\n",
       "<table border=\"1\" class=\"dataframe\">\n",
       "  <thead>\n",
       "    <tr style=\"text-align: right;\">\n",
       "      <th></th>\n",
       "      <th>status_message</th>\n",
       "      <th>status_type</th>\n",
       "      <th>num_likes</th>\n",
       "    </tr>\n",
       "  </thead>\n",
       "  <tbody>\n",
       "    <tr>\n",
       "      <th>0</th>\n",
       "      <td>It's time for Mr Bean and Teddy to get ready f...</td>\n",
       "      <td>video</td>\n",
       "      <td>16079</td>\n",
       "    </tr>\n",
       "    <tr>\n",
       "      <th>1</th>\n",
       "      <td>NaN</td>\n",
       "      <td>photo</td>\n",
       "      <td>114008</td>\n",
       "    </tr>\n",
       "    <tr>\n",
       "      <th>2</th>\n",
       "      <td>NaN</td>\n",
       "      <td>photo</td>\n",
       "      <td>218579</td>\n",
       "    </tr>\n",
       "    <tr>\n",
       "      <th>3</th>\n",
       "      <td>Mr Bean is ready to do some shopping but bewar...</td>\n",
       "      <td>video</td>\n",
       "      <td>20338</td>\n",
       "    </tr>\n",
       "    <tr>\n",
       "      <th>4</th>\n",
       "      <td>NaN</td>\n",
       "      <td>photo</td>\n",
       "      <td>215591</td>\n",
       "    </tr>\n",
       "  </tbody>\n",
       "</table>\n",
       "</div>"
      ],
      "text/plain": [
       "                                      status_message status_type  num_likes\n",
       "0  It's time for Mr Bean and Teddy to get ready f...       video      16079\n",
       "1                                                NaN       photo     114008\n",
       "2                                                NaN       photo     218579\n",
       "3  Mr Bean is ready to do some shopping but bewar...       video      20338\n",
       "4                                                NaN       photo     215591"
      ]
     },
     "execution_count": 20,
     "metadata": {},
     "output_type": "execute_result"
    }
   ],
   "source": [
    "fb.head()"
   ]
  },
  {
   "cell_type": "code",
   "execution_count": null,
   "id": "6b25f427",
   "metadata": {},
   "outputs": [],
   "source": []
  }
 ],
 "metadata": {
  "kernelspec": {
   "display_name": "Python 3",
   "language": "python",
   "name": "python3"
  },
  "language_info": {
   "codemirror_mode": {
    "name": "ipython",
    "version": 3
   },
   "file_extension": ".py",
   "mimetype": "text/x-python",
   "name": "python",
   "nbconvert_exporter": "python",
   "pygments_lexer": "ipython3",
   "version": "3.8.8"
  }
 },
 "nbformat": 4,
 "nbformat_minor": 5
}
