{
 "cells": [
  {
   "cell_type": "markdown",
   "metadata": {},
   "source": [
    "# Najważniejsze biblioteki do analizy danych\n",
    "## Pandas\n",
    "![Logo_Pandas](https://raw.githubusercontent.com/pandas-dev/pandas/bfa75255849ed1473679948a1e4197886a252bdb/web/pandas/static/img/pandas.svg)\n",
    "pandas is a fast, *powerful*, flexible and __easy to use__ open source data analysis and manipulation tool,\n",
    "built on top of the Python programming language.\n",
    "\n",
    "[More details](https://pandas.pydata.org/)\n",
    "\n",
    "## Numpy\n",
    "NumPy is a library for the **Python** programming language, adding support for large, multi-dimensional arrays and matrices, along with a large collection of high-level mathematical functions to operate on these arrays. "
   ]
  },
  {
   "cell_type": "markdown",
   "metadata": {},
   "source": [
    "$$e^x=\\sum_{i=0}^\\infty \\frac{1}{i!}x^i$$ "
   ]
  },
  {
   "cell_type": "code",
   "execution_count": null,
   "metadata": {},
   "outputs": [],
   "source": []
  }
 ],
 "metadata": {
  "kernelspec": {
   "display_name": "Python 3",
   "language": "python",
   "name": "python3"
  },
  "language_info": {
   "codemirror_mode": {
    "name": "ipython",
    "version": 3
   },
   "file_extension": ".py",
   "mimetype": "text/x-python",
   "name": "python",
   "nbconvert_exporter": "python",
   "pygments_lexer": "ipython3",
   "version": "3.8.5"
  }
 },
 "nbformat": 4,
 "nbformat_minor": 4
}
