{
 "cells": [
  {
   "cell_type": "code",
   "execution_count": 1,
   "id": "226145fe",
   "metadata": {},
   "outputs": [],
   "source": [
    "import pandas as pd\n",
    "import numpy as np"
   ]
  },
  {
   "cell_type": "code",
   "execution_count": 2,
   "id": "4f558ff3",
   "metadata": {},
   "outputs": [
    {
     "data": {
      "text/html": [
       "<div>\n",
       "<style scoped>\n",
       "    .dataframe tbody tr th:only-of-type {\n",
       "        vertical-align: middle;\n",
       "    }\n",
       "\n",
       "    .dataframe tbody tr th {\n",
       "        vertical-align: top;\n",
       "    }\n",
       "\n",
       "    .dataframe thead th {\n",
       "        text-align: right;\n",
       "    }\n",
       "</style>\n",
       "<table border=\"1\" class=\"dataframe\">\n",
       "  <thead>\n",
       "    <tr style=\"text-align: right;\">\n",
       "      <th></th>\n",
       "      <th>Category</th>\n",
       "      <th>Item</th>\n",
       "      <th>Calories</th>\n",
       "      <th>TotalFat</th>\n",
       "    </tr>\n",
       "  </thead>\n",
       "  <tbody>\n",
       "    <tr>\n",
       "      <th>0</th>\n",
       "      <td>Breakfast</td>\n",
       "      <td>Egg McMuffin</td>\n",
       "      <td>300</td>\n",
       "      <td>13.0</td>\n",
       "    </tr>\n",
       "    <tr>\n",
       "      <th>1</th>\n",
       "      <td>Breakfast</td>\n",
       "      <td>Egg White Delight</td>\n",
       "      <td>250</td>\n",
       "      <td>8.0</td>\n",
       "    </tr>\n",
       "    <tr>\n",
       "      <th>2</th>\n",
       "      <td>Breakfast</td>\n",
       "      <td>Sausage McMuffin</td>\n",
       "      <td>370</td>\n",
       "      <td>23.0</td>\n",
       "    </tr>\n",
       "    <tr>\n",
       "      <th>3</th>\n",
       "      <td>Breakfast</td>\n",
       "      <td>Sausage McMuffin with Egg</td>\n",
       "      <td>450</td>\n",
       "      <td>28.0</td>\n",
       "    </tr>\n",
       "    <tr>\n",
       "      <th>4</th>\n",
       "      <td>Breakfast</td>\n",
       "      <td>Sausage McMuffin with Egg Whites</td>\n",
       "      <td>400</td>\n",
       "      <td>23.0</td>\n",
       "    </tr>\n",
       "  </tbody>\n",
       "</table>\n",
       "</div>"
      ],
      "text/plain": [
       "    Category                              Item  Calories  TotalFat\n",
       "0  Breakfast                      Egg McMuffin       300      13.0\n",
       "1  Breakfast                 Egg White Delight       250       8.0\n",
       "2  Breakfast                  Sausage McMuffin       370      23.0\n",
       "3  Breakfast         Sausage McMuffin with Egg       450      28.0\n",
       "4  Breakfast  Sausage McMuffin with Egg Whites       400      23.0"
      ]
     },
     "execution_count": 2,
     "metadata": {},
     "output_type": "execute_result"
    }
   ],
   "source": [
    "mcdonalds = pd.read_csv('C:/Users/Mariusz Baran/Data_Science_kurs/Data_science_pliki/course-files/mcdonalds.csv',\n",
    "                       usecols=['Category', 'Item', 'Calories', 'TotalFat'])\n",
    "mcdonalds.head()"
   ]
  },
  {
   "cell_type": "code",
   "execution_count": 3,
   "id": "39035f0e",
   "metadata": {},
   "outputs": [],
   "source": [
    "mcdonalds.to_csv('mc_1.csv', index=False)"
   ]
  },
  {
   "cell_type": "markdown",
   "id": "10b1b973",
   "metadata": {},
   "source": [
    "quotechar='\"' - wszystkie wartości w cudzysłowie"
   ]
  },
  {
   "cell_type": "code",
   "execution_count": 9,
   "id": "ea1bd6a9",
   "metadata": {},
   "outputs": [],
   "source": [
    "mcdonalds.to_csv('mc_2.csv', index=False, quotechar='\"')"
   ]
  },
  {
   "cell_type": "markdown",
   "id": "94c60248",
   "metadata": {},
   "source": [
    "decimal=',' - wartości dziesiętne oddzielone przecinkiem"
   ]
  },
  {
   "cell_type": "code",
   "execution_count": 10,
   "id": "4c2d7ede",
   "metadata": {},
   "outputs": [],
   "source": [
    "mcdonalds.to_csv('mc_3.csv', index=False, quotechar='\"', decimal=',')"
   ]
  },
  {
   "cell_type": "code",
   "execution_count": 14,
   "id": "f395b032",
   "metadata": {},
   "outputs": [],
   "source": [
    "mcdonalds.to_csv('mc_4.csv', index=False, quotechar='\"', decimal=',', columns=['Item', 'TotalFat'])"
   ]
  },
  {
   "cell_type": "code",
   "execution_count": 15,
   "id": "036bacf5",
   "metadata": {},
   "outputs": [],
   "source": [
    "mcdonalds.to_json('mc_5.json')"
   ]
  },
  {
   "cell_type": "markdown",
   "id": "6ddfd610",
   "metadata": {},
   "source": [
    "Expotr do html"
   ]
  },
  {
   "cell_type": "code",
   "execution_count": 20,
   "id": "2facba8e",
   "metadata": {},
   "outputs": [],
   "source": [
    "import io\n",
    "html = mcdonalds.to_html()\n",
    "with io.open('mc_6.html', 'w', encoding='utf-8') as plik:\n",
    "    plik.write(html)"
   ]
  },
  {
   "cell_type": "code",
   "execution_count": null,
   "id": "2bc0913c",
   "metadata": {},
   "outputs": [],
   "source": []
  }
 ],
 "metadata": {
  "kernelspec": {
   "display_name": "Python 3",
   "language": "python",
   "name": "python3"
  },
  "language_info": {
   "codemirror_mode": {
    "name": "ipython",
    "version": 3
   },
   "file_extension": ".py",
   "mimetype": "text/x-python",
   "name": "python",
   "nbconvert_exporter": "python",
   "pygments_lexer": "ipython3",
   "version": "3.8.8"
  }
 },
 "nbformat": 4,
 "nbformat_minor": 5
}
