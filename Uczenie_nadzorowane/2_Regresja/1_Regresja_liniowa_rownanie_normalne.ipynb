{
  "nbformat": 4,
  "nbformat_minor": 0,
  "metadata": {
    "colab": {
      "name": "1_Regresja_liniowa-rownanie_normalne.ipynb",
      "provenance": [],
      "authorship_tag": "ABX9TyNTasgfPFBGZ/XC6FIx1rAo",
      "include_colab_link": true
    },
    "kernelspec": {
      "name": "python3",
      "display_name": "Python 3"
    },
    "language_info": {
      "name": "python"
    }
  },
  "cells": [
    {
      "cell_type": "markdown",
      "metadata": {
        "id": "view-in-github",
        "colab_type": "text"
      },
      "source": [
        "<a href=\"https://colab.research.google.com/github/keinam53/Kurs_Pandas/blob/master/Uczenie_nadzorowane/2_Regresja/1_Regresja_liniowa_rownanie_normalne.ipynb\" target=\"_parent\"><img src=\"https://colab.research.google.com/assets/colab-badge.svg\" alt=\"Open In Colab\"/></a>"
      ]
    },
    {
      "cell_type": "markdown",
      "metadata": {
        "id": "JiDkH6g9xrZ_"
      },
      "source": [
        "###Regresja liniowa - równanie normalne\n",
        "1. [Import bibliotek](#0)\n",
        "2. [Przygotowanie danych](#1)\n",
        "3. [Równanie normalne](#2)\n",
        "4. [Regresja liniowa przy pomocy scikit-learn](#3)"
      ]
    },
    {
      "cell_type": "markdown",
      "metadata": {
        "id": "y7O4_6EXx85N"
      },
      "source": [
        "### <a name='0'></a> Import bibliotek"
      ]
    },
    {
      "cell_type": "code",
      "metadata": {
        "id": "3Jo401t7sOvR"
      },
      "source": [
        "import numpy as np"
      ],
      "execution_count": 1,
      "outputs": []
    },
    {
      "cell_type": "markdown",
      "metadata": {
        "id": "1l_5MiW8yBWR"
      },
      "source": [
        "### <a name='1'></a> Przygotowanie danych"
      ]
    },
    {
      "cell_type": "code",
      "metadata": {
        "colab": {
          "base_uri": "https://localhost:8080/"
        },
        "id": "W4sLIXUsyD6h",
        "outputId": "cfe3471b-f891-409a-bb47-43322c5fa857"
      },
      "source": [
        "X1 = np.array([1, 2, 3, 4, 5, 6])\n",
        "Y = np.array([3000, 3250, 3500, 3750, 4000, 4250])\n",
        "m = len(X1)\n",
        "\n",
        "print(f'Lata pracy: {X1}')\n",
        "print(f'Wynagrodzenie: {Y}')\n",
        "print(f'Liczba próbek: {m}')"
      ],
      "execution_count": 3,
      "outputs": [
        {
          "output_type": "stream",
          "text": [
            "Lata pracy: [1 2 3 4 5 6]\n",
            "Wynagrodzenie: [3000 3250 3500 3750 4000 4250]\n",
            "Liczba próbek: 6\n"
          ],
          "name": "stdout"
        }
      ]
    },
    {
      "cell_type": "code",
      "metadata": {
        "colab": {
          "base_uri": "https://localhost:8080/"
        },
        "id": "J2ZlF6agy-pI",
        "outputId": "656c30a1-dac9-45cd-8840-4ef5e856eb33"
      },
      "source": [
        "#zmiana kształtu danych - 6 wierszy, 1 kolumna\n",
        "X1 = X1.reshape(m, 1)\n",
        "print(X1)\n",
        "print(f'\\n{X1.shape}')"
      ],
      "execution_count": 4,
      "outputs": [
        {
          "output_type": "stream",
          "text": [
            "[[1]\n",
            " [2]\n",
            " [3]\n",
            " [4]\n",
            " [5]\n",
            " [6]]\n",
            "\n",
            "(6, 1)\n"
          ],
          "name": "stdout"
        }
      ]
    },
    {
      "cell_type": "code",
      "metadata": {
        "colab": {
          "base_uri": "https://localhost:8080/"
        },
        "id": "tHKNrNkE0T6P",
        "outputId": "b593c0b7-55b7-4d89-8358-7ec3cc9a9808"
      },
      "source": [
        "#wygenerowanie wektora jedynek - bias\n",
        "bias = np.ones((m, 1))\n",
        "print(bias)\n",
        "print(f'\\n{bias.shape}')"
      ],
      "execution_count": 6,
      "outputs": [
        {
          "output_type": "stream",
          "text": [
            "[[1.]\n",
            " [1.]\n",
            " [1.]\n",
            " [1.]\n",
            " [1.]\n",
            " [1.]]\n",
            "\n",
            "(6, 1)\n"
          ],
          "name": "stdout"
        }
      ]
    },
    {
      "cell_type": "code",
      "metadata": {
        "colab": {
          "base_uri": "https://localhost:8080/"
        },
        "id": "nczhd7m60sG_",
        "outputId": "6ccdbab8-40db-469a-da1d-a370f1d2a976"
      },
      "source": [
        "#dodanie X1 i bias\n",
        "X = np.append(bias, X1, axis=1)\n",
        "print(X)\n",
        "print(f'\\n{X1.shape}')"
      ],
      "execution_count": 15,
      "outputs": [
        {
          "output_type": "stream",
          "text": [
            "[[1. 1.]\n",
            " [1. 2.]\n",
            " [1. 3.]\n",
            " [1. 4.]\n",
            " [1. 5.]\n",
            " [1. 6.]]\n",
            "\n",
            "(6, 1)\n"
          ],
          "name": "stdout"
        }
      ]
    },
    {
      "cell_type": "markdown",
      "metadata": {
        "id": "axl1eCBm3qMB"
      },
      "source": [
        "### <a name='2'></a> Równanie normalne\n",
        "\n",
        "Regresja liniowa w $R^2$:\n",
        "$$Y = w_0 + w_1X_1$$\n",
        "$$Y = W^TX$$\n",
        "gdzie: $$W= \\left[\\begin{matrix}w_0\\\\w_1\\end{matrix}\\right]$$ $$ X= \\left[\\begin{matrix}1\\\\X_1\\end{matrix}\\right] $$ stąd $$ W^T= \\left[\\begin{matrix}w_0&w_1\\end{matrix}\\right] $$    \n",
        "$$Y = W^TX = \\left[\\begin{matrix}w_0&w_1\\end{matrix}\\right] \\cdot  \\left[\\begin{matrix}1\\\\X_1\\end{matrix}\\right] = w_0 + w_1X_1$$\n",
        "\n",
        "Równanie normalne - równanie pozwalające obliczyć minimum funkcji straty (o ile istnieje)\n",
        "$$W = (X^TX)^{-1}(X^TY)$$"
      ]
    },
    {
      "cell_type": "code",
      "metadata": {
        "colab": {
          "base_uri": "https://localhost:8080/"
        },
        "id": "Ec5yFVk31GCP",
        "outputId": "5b034467-5267-4ec6-eb3e-0e89c865f450"
      },
      "source": [
        "#wykonanie ręcznych obliczeń z wzoru na W\n",
        "#pierwszy nawias\n",
        "np.dot(X.transpose(), X)"
      ],
      "execution_count": 16,
      "outputs": [
        {
          "output_type": "execute_result",
          "data": {
            "text/plain": [
              "array([[ 6., 21.],\n",
              "       [21., 91.]])"
            ]
          },
          "metadata": {
            "tags": []
          },
          "execution_count": 16
        }
      ]
    },
    {
      "cell_type": "code",
      "metadata": {
        "colab": {
          "base_uri": "https://localhost:8080/"
        },
        "id": "Z-H32cyL7laW",
        "outputId": "1e62cd94-f0ab-40da-b87a-0fdb9e0700c5"
      },
      "source": [
        "#macierz odwrotna\n",
        "L = np.linalg.inv(np.dot(X.transpose(), X))\n",
        "L"
      ],
      "execution_count": 18,
      "outputs": [
        {
          "output_type": "execute_result",
          "data": {
            "text/plain": [
              "array([[ 0.86666667, -0.2       ],\n",
              "       [-0.2       ,  0.05714286]])"
            ]
          },
          "metadata": {
            "tags": []
          },
          "execution_count": 18
        }
      ]
    },
    {
      "cell_type": "code",
      "metadata": {
        "colab": {
          "base_uri": "https://localhost:8080/"
        },
        "id": "TmhvZ5hz8dMG",
        "outputId": "022c979a-516a-48f2-e03b-7b887bd88a3b"
      },
      "source": [
        "#drugi nawias\n",
        "P = np.dot(X.transpose(), Y)\n",
        "P"
      ],
      "execution_count": 19,
      "outputs": [
        {
          "output_type": "execute_result",
          "data": {
            "text/plain": [
              "array([21750., 80500.])"
            ]
          },
          "metadata": {
            "tags": []
          },
          "execution_count": 19
        }
      ]
    },
    {
      "cell_type": "code",
      "metadata": {
        "colab": {
          "base_uri": "https://localhost:8080/"
        },
        "id": "fjyT_wY783jo",
        "outputId": "a9e7a444-d629-41f9-ffe3-cbecfffe2769"
      },
      "source": [
        "#Wynik\n",
        "np.dot(L, P)"
      ],
      "execution_count": 20,
      "outputs": [
        {
          "output_type": "execute_result",
          "data": {
            "text/plain": [
              "array([2750.,  250.])"
            ]
          },
          "metadata": {
            "tags": []
          },
          "execution_count": 20
        }
      ]
    },
    {
      "cell_type": "markdown",
      "metadata": {
        "id": "ivzo7PZz9MyT"
      },
      "source": [
        "Końcowa postać modelu$$Y = 2750 + 250X_1$$"
      ]
    },
    {
      "cell_type": "markdown",
      "metadata": {
        "id": "sUy4IAhw9QsB"
      },
      "source": [
        "### <a name='3'></a> Regresja liniowa przy pomocy scikit-learn"
      ]
    },
    {
      "cell_type": "code",
      "metadata": {
        "colab": {
          "base_uri": "https://localhost:8080/"
        },
        "id": "kerXukNu9CtW",
        "outputId": "dd5fdddc-ef21-4e6c-84cf-5da681427803"
      },
      "source": [
        "from sklearn.linear_model import LinearRegression\n",
        "\n",
        "regression = LinearRegression()\n",
        "regression.fit(X1, Y)\n",
        "\n",
        "print(regression.intercept_)  #intercept_ - współczynnik w0\n",
        "print(regression.coef_[0])  #coef_[0] - współczynnik w1"
      ],
      "execution_count": 23,
      "outputs": [
        {
          "output_type": "stream",
          "text": [
            "2750.0\n",
            "250.0\n"
          ],
          "name": "stdout"
        }
      ]
    },
    {
      "cell_type": "code",
      "metadata": {
        "id": "TVYbmuVZ-HwT"
      },
      "source": [
        ""
      ],
      "execution_count": null,
      "outputs": []
    }
  ]
}