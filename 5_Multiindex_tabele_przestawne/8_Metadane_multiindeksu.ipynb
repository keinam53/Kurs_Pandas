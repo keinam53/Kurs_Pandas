{
 "cells": [
  {
   "cell_type": "markdown",
   "id": "2e07da80",
   "metadata": {},
   "source": [
    "**Metadane multiindeksu**"
   ]
  },
  {
   "cell_type": "code",
   "execution_count": 1,
   "id": "e1eecad8",
   "metadata": {},
   "outputs": [],
   "source": [
    "import pandas as pd\n",
    "import numpy as np"
   ]
  },
  {
   "cell_type": "code",
   "execution_count": 2,
   "id": "85b78e39",
   "metadata": {},
   "outputs": [
    {
     "data": {
      "text/html": [
       "<div>\n",
       "<style scoped>\n",
       "    .dataframe tbody tr th:only-of-type {\n",
       "        vertical-align: middle;\n",
       "    }\n",
       "\n",
       "    .dataframe tbody tr th {\n",
       "        vertical-align: top;\n",
       "    }\n",
       "\n",
       "    .dataframe thead th {\n",
       "        text-align: right;\n",
       "    }\n",
       "</style>\n",
       "<table border=\"1\" class=\"dataframe\">\n",
       "  <thead>\n",
       "    <tr style=\"text-align: right;\">\n",
       "      <th></th>\n",
       "      <th>Region</th>\n",
       "      <th>EventType</th>\n",
       "      <th>Public automated</th>\n",
       "      <th>Public passive</th>\n",
       "      <th>Private</th>\n",
       "      <th>Farm</th>\n",
       "    </tr>\n",
       "  </thead>\n",
       "  <tbody>\n",
       "    <tr>\n",
       "      <th>0</th>\n",
       "      <td>Newfoundland</td>\n",
       "      <td>Accidents</td>\n",
       "      <td>0</td>\n",
       "      <td>0</td>\n",
       "      <td>0</td>\n",
       "      <td>0</td>\n",
       "    </tr>\n",
       "    <tr>\n",
       "      <th>1</th>\n",
       "      <td>Newfoundland</td>\n",
       "      <td>Fatalities</td>\n",
       "      <td>0</td>\n",
       "      <td>0</td>\n",
       "      <td>0</td>\n",
       "      <td>0</td>\n",
       "    </tr>\n",
       "    <tr>\n",
       "      <th>2</th>\n",
       "      <td>Newfoundland</td>\n",
       "      <td>Serious injuries</td>\n",
       "      <td>0</td>\n",
       "      <td>0</td>\n",
       "      <td>0</td>\n",
       "      <td>0</td>\n",
       "    </tr>\n",
       "    <tr>\n",
       "      <th>3</th>\n",
       "      <td>Nova Scotia</td>\n",
       "      <td>Accidents</td>\n",
       "      <td>1</td>\n",
       "      <td>0</td>\n",
       "      <td>0</td>\n",
       "      <td>0</td>\n",
       "    </tr>\n",
       "    <tr>\n",
       "      <th>4</th>\n",
       "      <td>Nova Scotia</td>\n",
       "      <td>Fatalities</td>\n",
       "      <td>0</td>\n",
       "      <td>0</td>\n",
       "      <td>0</td>\n",
       "      <td>0</td>\n",
       "    </tr>\n",
       "  </tbody>\n",
       "</table>\n",
       "</div>"
      ],
      "text/plain": [
       "         Region         EventType  Public automated  Public passive  Private  \\\n",
       "0  Newfoundland         Accidents                 0               0        0   \n",
       "1  Newfoundland        Fatalities                 0               0        0   \n",
       "2  Newfoundland  Serious injuries                 0               0        0   \n",
       "3   Nova Scotia         Accidents                 1               0        0   \n",
       "4   Nova Scotia        Fatalities                 0               0        0   \n",
       "\n",
       "   Farm  \n",
       "0     0  \n",
       "1     0  \n",
       "2     0  \n",
       "3     0  \n",
       "4     0  "
      ]
     },
     "execution_count": 2,
     "metadata": {},
     "output_type": "execute_result"
    }
   ],
   "source": [
    "incidents = pd.read_csv('C:/Users/Mariusz Baran/Data_Science_kurs/Data_science_pliki/course-files/Canadian Railway Crossing Incidents.csv')\n",
    "incidents.head()"
   ]
  },
  {
   "cell_type": "code",
   "execution_count": 3,
   "id": "78cbd55f",
   "metadata": {},
   "outputs": [
    {
     "data": {
      "text/html": [
       "<div>\n",
       "<style scoped>\n",
       "    .dataframe tbody tr th:only-of-type {\n",
       "        vertical-align: middle;\n",
       "    }\n",
       "\n",
       "    .dataframe tbody tr th {\n",
       "        vertical-align: top;\n",
       "    }\n",
       "\n",
       "    .dataframe thead th {\n",
       "        text-align: right;\n",
       "    }\n",
       "</style>\n",
       "<table border=\"1\" class=\"dataframe\">\n",
       "  <thead>\n",
       "    <tr style=\"text-align: right;\">\n",
       "      <th></th>\n",
       "      <th>EventType</th>\n",
       "      <th>Public automated</th>\n",
       "      <th>Public passive</th>\n",
       "      <th>Private</th>\n",
       "      <th>Farm</th>\n",
       "    </tr>\n",
       "    <tr>\n",
       "      <th>Region</th>\n",
       "      <th></th>\n",
       "      <th></th>\n",
       "      <th></th>\n",
       "      <th></th>\n",
       "      <th></th>\n",
       "    </tr>\n",
       "  </thead>\n",
       "  <tbody>\n",
       "    <tr>\n",
       "      <th>Newfoundland</th>\n",
       "      <td>Accidents</td>\n",
       "      <td>0</td>\n",
       "      <td>0</td>\n",
       "      <td>0</td>\n",
       "      <td>0</td>\n",
       "    </tr>\n",
       "    <tr>\n",
       "      <th>Newfoundland</th>\n",
       "      <td>Fatalities</td>\n",
       "      <td>0</td>\n",
       "      <td>0</td>\n",
       "      <td>0</td>\n",
       "      <td>0</td>\n",
       "    </tr>\n",
       "    <tr>\n",
       "      <th>Newfoundland</th>\n",
       "      <td>Serious injuries</td>\n",
       "      <td>0</td>\n",
       "      <td>0</td>\n",
       "      <td>0</td>\n",
       "      <td>0</td>\n",
       "    </tr>\n",
       "    <tr>\n",
       "      <th>Nova Scotia</th>\n",
       "      <td>Accidents</td>\n",
       "      <td>1</td>\n",
       "      <td>0</td>\n",
       "      <td>0</td>\n",
       "      <td>0</td>\n",
       "    </tr>\n",
       "    <tr>\n",
       "      <th>Nova Scotia</th>\n",
       "      <td>Fatalities</td>\n",
       "      <td>0</td>\n",
       "      <td>0</td>\n",
       "      <td>0</td>\n",
       "      <td>0</td>\n",
       "    </tr>\n",
       "  </tbody>\n",
       "</table>\n",
       "</div>"
      ],
      "text/plain": [
       "                     EventType  Public automated  Public passive  Private  \\\n",
       "Region                                                                      \n",
       "Newfoundland         Accidents                 0               0        0   \n",
       "Newfoundland        Fatalities                 0               0        0   \n",
       "Newfoundland  Serious injuries                 0               0        0   \n",
       "Nova Scotia          Accidents                 1               0        0   \n",
       "Nova Scotia         Fatalities                 0               0        0   \n",
       "\n",
       "              Farm  \n",
       "Region              \n",
       "Newfoundland     0  \n",
       "Newfoundland     0  \n",
       "Newfoundland     0  \n",
       "Nova Scotia      0  \n",
       "Nova Scotia      0  "
      ]
     },
     "execution_count": 3,
     "metadata": {},
     "output_type": "execute_result"
    }
   ],
   "source": [
    "incidents.set_index('Region', inplace=True)\n",
    "incidents.head()"
   ]
  },
  {
   "cell_type": "code",
   "execution_count": 4,
   "id": "4f098d8b",
   "metadata": {},
   "outputs": [
    {
     "data": {
      "text/plain": [
       "Index(['Newfoundland', 'Newfoundland', 'Newfoundland', 'Nova Scotia',\n",
       "       'Nova Scotia', 'Nova Scotia', 'New Brunswick', 'New Brunswick',\n",
       "       'New Brunswick', 'Quebec', 'Quebec', 'Quebec', 'Ontario', 'Ontario',\n",
       "       'Ontario', 'Manitoba', 'Manitoba', 'Manitoba', 'Saskatchewan',\n",
       "       'Saskatchewan', 'Saskatchewan', 'Alberta', 'Alberta', 'Alberta',\n",
       "       'British Columbia', 'British Columbia', 'British Columbia',\n",
       "       'Northwest Territories', 'Northwest Territories',\n",
       "       'Northwest Territories'],\n",
       "      dtype='object', name='Region')"
      ]
     },
     "execution_count": 4,
     "metadata": {},
     "output_type": "execute_result"
    }
   ],
   "source": [
    "incidents.index"
   ]
  },
  {
   "cell_type": "code",
   "execution_count": 6,
   "id": "0bfc87b2",
   "metadata": {},
   "outputs": [
    {
     "data": {
      "text/html": [
       "<div>\n",
       "<style scoped>\n",
       "    .dataframe tbody tr th:only-of-type {\n",
       "        vertical-align: middle;\n",
       "    }\n",
       "\n",
       "    .dataframe tbody tr th {\n",
       "        vertical-align: top;\n",
       "    }\n",
       "\n",
       "    .dataframe thead th {\n",
       "        text-align: right;\n",
       "    }\n",
       "</style>\n",
       "<table border=\"1\" class=\"dataframe\">\n",
       "  <thead>\n",
       "    <tr style=\"text-align: right;\">\n",
       "      <th></th>\n",
       "      <th></th>\n",
       "      <th>index</th>\n",
       "      <th>Public automated</th>\n",
       "      <th>Public passive</th>\n",
       "      <th>Private</th>\n",
       "      <th>Farm</th>\n",
       "    </tr>\n",
       "    <tr>\n",
       "      <th>Region</th>\n",
       "      <th>EventType</th>\n",
       "      <th></th>\n",
       "      <th></th>\n",
       "      <th></th>\n",
       "      <th></th>\n",
       "      <th></th>\n",
       "    </tr>\n",
       "  </thead>\n",
       "  <tbody>\n",
       "    <tr>\n",
       "      <th rowspan=\"3\" valign=\"top\">Newfoundland</th>\n",
       "      <th>Accidents</th>\n",
       "      <td>0</td>\n",
       "      <td>0</td>\n",
       "      <td>0</td>\n",
       "      <td>0</td>\n",
       "      <td>0</td>\n",
       "    </tr>\n",
       "    <tr>\n",
       "      <th>Fatalities</th>\n",
       "      <td>1</td>\n",
       "      <td>0</td>\n",
       "      <td>0</td>\n",
       "      <td>0</td>\n",
       "      <td>0</td>\n",
       "    </tr>\n",
       "    <tr>\n",
       "      <th>Serious injuries</th>\n",
       "      <td>2</td>\n",
       "      <td>0</td>\n",
       "      <td>0</td>\n",
       "      <td>0</td>\n",
       "      <td>0</td>\n",
       "    </tr>\n",
       "    <tr>\n",
       "      <th rowspan=\"2\" valign=\"top\">Nova Scotia</th>\n",
       "      <th>Accidents</th>\n",
       "      <td>3</td>\n",
       "      <td>1</td>\n",
       "      <td>0</td>\n",
       "      <td>0</td>\n",
       "      <td>0</td>\n",
       "    </tr>\n",
       "    <tr>\n",
       "      <th>Fatalities</th>\n",
       "      <td>4</td>\n",
       "      <td>0</td>\n",
       "      <td>0</td>\n",
       "      <td>0</td>\n",
       "      <td>0</td>\n",
       "    </tr>\n",
       "  </tbody>\n",
       "</table>\n",
       "</div>"
      ],
      "text/plain": [
       "                               index  Public automated  Public passive  \\\n",
       "Region       EventType                                                   \n",
       "Newfoundland Accidents             0                 0               0   \n",
       "             Fatalities            1                 0               0   \n",
       "             Serious injuries      2                 0               0   \n",
       "Nova Scotia  Accidents             3                 1               0   \n",
       "             Fatalities            4                 0               0   \n",
       "\n",
       "                               Private  Farm  \n",
       "Region       EventType                        \n",
       "Newfoundland Accidents               0     0  \n",
       "             Fatalities              0     0  \n",
       "             Serious injuries        0     0  \n",
       "Nova Scotia  Accidents               0     0  \n",
       "             Fatalities              0     0  "
      ]
     },
     "execution_count": 6,
     "metadata": {},
     "output_type": "execute_result"
    }
   ],
   "source": [
    "incidents.reset_index(inplace=True)\n",
    "incidents.set_index(['Region', 'EventType'], inplace=True)\n",
    "incidents.head()"
   ]
  },
  {
   "cell_type": "code",
   "execution_count": 11,
   "id": "969bd4a9",
   "metadata": {},
   "outputs": [
    {
     "data": {
      "text/plain": [
       "MultiIndex([(         'Newfoundland',        'Accidents'),\n",
       "            (         'Newfoundland',       'Fatalities'),\n",
       "            (         'Newfoundland', 'Serious injuries'),\n",
       "            (          'Nova Scotia',        'Accidents'),\n",
       "            (          'Nova Scotia',       'Fatalities'),\n",
       "            (          'Nova Scotia', 'Serious injuries'),\n",
       "            (        'New Brunswick',        'Accidents'),\n",
       "            (        'New Brunswick',       'Fatalities'),\n",
       "            (        'New Brunswick', 'Serious injuries'),\n",
       "            (               'Quebec',        'Accidents'),\n",
       "            (               'Quebec',       'Fatalities'),\n",
       "            (               'Quebec', 'Serious injuries'),\n",
       "            (              'Ontario',        'Accidents'),\n",
       "            (              'Ontario',       'Fatalities'),\n",
       "            (              'Ontario', 'Serious injuries'),\n",
       "            (             'Manitoba',        'Accidents'),\n",
       "            (             'Manitoba',       'Fatalities'),\n",
       "            (             'Manitoba', 'Serious injuries'),\n",
       "            (         'Saskatchewan',        'Accidents'),\n",
       "            (         'Saskatchewan',       'Fatalities'),\n",
       "            (         'Saskatchewan', 'Serious injuries'),\n",
       "            (              'Alberta',        'Accidents'),\n",
       "            (              'Alberta',       'Fatalities'),\n",
       "            (              'Alberta', 'Serious injuries'),\n",
       "            (     'British Columbia',        'Accidents'),\n",
       "            (     'British Columbia',       'Fatalities'),\n",
       "            (     'British Columbia', 'Serious injuries'),\n",
       "            ('Northwest Territories',        'Accidents'),\n",
       "            ('Northwest Territories',       'Fatalities'),\n",
       "            ('Northwest Territories', 'Serious injuries')],\n",
       "           names=['Region', 'EventType'])"
      ]
     },
     "execution_count": 11,
     "metadata": {},
     "output_type": "execute_result"
    }
   ],
   "source": [
    "incidents.index"
   ]
  },
  {
   "cell_type": "code",
   "execution_count": 12,
   "id": "886553ba",
   "metadata": {},
   "outputs": [
    {
     "data": {
      "text/plain": [
       "Index(['Newfoundland', 'Newfoundland', 'Newfoundland', 'Nova Scotia',\n",
       "       'Nova Scotia', 'Nova Scotia', 'New Brunswick', 'New Brunswick',\n",
       "       'New Brunswick', 'Quebec', 'Quebec', 'Quebec', 'Ontario', 'Ontario',\n",
       "       'Ontario', 'Manitoba', 'Manitoba', 'Manitoba', 'Saskatchewan',\n",
       "       'Saskatchewan', 'Saskatchewan', 'Alberta', 'Alberta', 'Alberta',\n",
       "       'British Columbia', 'British Columbia', 'British Columbia',\n",
       "       'Northwest Territories', 'Northwest Territories',\n",
       "       'Northwest Territories'],\n",
       "      dtype='object', name='Region')"
      ]
     },
     "execution_count": 12,
     "metadata": {},
     "output_type": "execute_result"
    }
   ],
   "source": [
    "incidents.index.get_level_values(0)"
   ]
  },
  {
   "cell_type": "code",
   "execution_count": 14,
   "id": "d39d1977",
   "metadata": {},
   "outputs": [
    {
     "data": {
      "text/plain": [
       "Index(['Accidents', 'Fatalities', 'Serious injuries', 'Accidents',\n",
       "       'Fatalities', 'Serious injuries', 'Accidents', 'Fatalities',\n",
       "       'Serious injuries', 'Accidents', 'Fatalities', 'Serious injuries',\n",
       "       'Accidents', 'Fatalities', 'Serious injuries', 'Accidents',\n",
       "       'Fatalities', 'Serious injuries', 'Accidents', 'Fatalities',\n",
       "       'Serious injuries', 'Accidents', 'Fatalities', 'Serious injuries',\n",
       "       'Accidents', 'Fatalities', 'Serious injuries', 'Accidents',\n",
       "       'Fatalities', 'Serious injuries'],\n",
       "      dtype='object', name='EventType')"
      ]
     },
     "execution_count": 14,
     "metadata": {},
     "output_type": "execute_result"
    }
   ],
   "source": [
    "incidents.index.get_level_values(1)"
   ]
  },
  {
   "cell_type": "code",
   "execution_count": 15,
   "id": "9bd707c1",
   "metadata": {},
   "outputs": [
    {
     "data": {
      "text/plain": [
       "FrozenList(['Region', 'EventType'])"
      ]
     },
     "execution_count": 15,
     "metadata": {},
     "output_type": "execute_result"
    }
   ],
   "source": [
    "incidents.index.names"
   ]
  },
  {
   "cell_type": "markdown",
   "id": "85dd095e",
   "metadata": {},
   "source": [
    "Wyświetlenie i zmiana nazw indeksów"
   ]
  },
  {
   "cell_type": "code",
   "execution_count": 18,
   "id": "dde0ff43",
   "metadata": {},
   "outputs": [
    {
     "data": {
      "text/html": [
       "<div>\n",
       "<style scoped>\n",
       "    .dataframe tbody tr th:only-of-type {\n",
       "        vertical-align: middle;\n",
       "    }\n",
       "\n",
       "    .dataframe tbody tr th {\n",
       "        vertical-align: top;\n",
       "    }\n",
       "\n",
       "    .dataframe thead th {\n",
       "        text-align: right;\n",
       "    }\n",
       "</style>\n",
       "<table border=\"1\" class=\"dataframe\">\n",
       "  <thead>\n",
       "    <tr style=\"text-align: right;\">\n",
       "      <th></th>\n",
       "      <th></th>\n",
       "      <th>Public automated</th>\n",
       "      <th>Public passive</th>\n",
       "      <th>Private</th>\n",
       "      <th>Farm</th>\n",
       "    </tr>\n",
       "    <tr>\n",
       "      <th>Region</th>\n",
       "      <th>EventType</th>\n",
       "      <th></th>\n",
       "      <th></th>\n",
       "      <th></th>\n",
       "      <th></th>\n",
       "    </tr>\n",
       "  </thead>\n",
       "  <tbody>\n",
       "    <tr>\n",
       "      <th rowspan=\"3\" valign=\"top\">Newfoundland</th>\n",
       "      <th>Accidents</th>\n",
       "      <td>0</td>\n",
       "      <td>0</td>\n",
       "      <td>0</td>\n",
       "      <td>0</td>\n",
       "    </tr>\n",
       "    <tr>\n",
       "      <th>Fatalities</th>\n",
       "      <td>0</td>\n",
       "      <td>0</td>\n",
       "      <td>0</td>\n",
       "      <td>0</td>\n",
       "    </tr>\n",
       "    <tr>\n",
       "      <th>Serious injuries</th>\n",
       "      <td>0</td>\n",
       "      <td>0</td>\n",
       "      <td>0</td>\n",
       "      <td>0</td>\n",
       "    </tr>\n",
       "    <tr>\n",
       "      <th rowspan=\"2\" valign=\"top\">Nova Scotia</th>\n",
       "      <th>Accidents</th>\n",
       "      <td>1</td>\n",
       "      <td>0</td>\n",
       "      <td>0</td>\n",
       "      <td>0</td>\n",
       "    </tr>\n",
       "    <tr>\n",
       "      <th>Fatalities</th>\n",
       "      <td>0</td>\n",
       "      <td>0</td>\n",
       "      <td>0</td>\n",
       "      <td>0</td>\n",
       "    </tr>\n",
       "  </tbody>\n",
       "</table>\n",
       "</div>"
      ],
      "text/plain": [
       "                               Public automated  Public passive  Private  Farm\n",
       "Region       EventType                                                        \n",
       "Newfoundland Accidents                        0               0        0     0\n",
       "             Fatalities                       0               0        0     0\n",
       "             Serious injuries                 0               0        0     0\n",
       "Nova Scotia  Accidents                        1               0        0     0\n",
       "             Fatalities                       0               0        0     0"
      ]
     },
     "execution_count": 18,
     "metadata": {},
     "output_type": "execute_result"
    }
   ],
   "source": [
    "incidents.drop(columns='index', inplace=True)\n",
    "incidents.head()"
   ]
  },
  {
   "cell_type": "code",
   "execution_count": 19,
   "id": "602daea3",
   "metadata": {},
   "outputs": [
    {
     "data": {
      "text/html": [
       "<div>\n",
       "<style scoped>\n",
       "    .dataframe tbody tr th:only-of-type {\n",
       "        vertical-align: middle;\n",
       "    }\n",
       "\n",
       "    .dataframe tbody tr th {\n",
       "        vertical-align: top;\n",
       "    }\n",
       "\n",
       "    .dataframe thead th {\n",
       "        text-align: right;\n",
       "    }\n",
       "</style>\n",
       "<table border=\"1\" class=\"dataframe\">\n",
       "  <thead>\n",
       "    <tr style=\"text-align: right;\">\n",
       "      <th></th>\n",
       "      <th></th>\n",
       "      <th>Public automated</th>\n",
       "      <th>Public passive</th>\n",
       "      <th>Private</th>\n",
       "      <th>Farm</th>\n",
       "    </tr>\n",
       "    <tr>\n",
       "      <th>Area</th>\n",
       "      <th>Event</th>\n",
       "      <th></th>\n",
       "      <th></th>\n",
       "      <th></th>\n",
       "      <th></th>\n",
       "    </tr>\n",
       "  </thead>\n",
       "  <tbody>\n",
       "    <tr>\n",
       "      <th rowspan=\"3\" valign=\"top\">Newfoundland</th>\n",
       "      <th>Accidents</th>\n",
       "      <td>0</td>\n",
       "      <td>0</td>\n",
       "      <td>0</td>\n",
       "      <td>0</td>\n",
       "    </tr>\n",
       "    <tr>\n",
       "      <th>Fatalities</th>\n",
       "      <td>0</td>\n",
       "      <td>0</td>\n",
       "      <td>0</td>\n",
       "      <td>0</td>\n",
       "    </tr>\n",
       "    <tr>\n",
       "      <th>Serious injuries</th>\n",
       "      <td>0</td>\n",
       "      <td>0</td>\n",
       "      <td>0</td>\n",
       "      <td>0</td>\n",
       "    </tr>\n",
       "    <tr>\n",
       "      <th rowspan=\"2\" valign=\"top\">Nova Scotia</th>\n",
       "      <th>Accidents</th>\n",
       "      <td>1</td>\n",
       "      <td>0</td>\n",
       "      <td>0</td>\n",
       "      <td>0</td>\n",
       "    </tr>\n",
       "    <tr>\n",
       "      <th>Fatalities</th>\n",
       "      <td>0</td>\n",
       "      <td>0</td>\n",
       "      <td>0</td>\n",
       "      <td>0</td>\n",
       "    </tr>\n",
       "  </tbody>\n",
       "</table>\n",
       "</div>"
      ],
      "text/plain": [
       "                               Public automated  Public passive  Private  Farm\n",
       "Area         Event                                                            \n",
       "Newfoundland Accidents                        0               0        0     0\n",
       "             Fatalities                       0               0        0     0\n",
       "             Serious injuries                 0               0        0     0\n",
       "Nova Scotia  Accidents                        1               0        0     0\n",
       "             Fatalities                       0               0        0     0"
      ]
     },
     "execution_count": 19,
     "metadata": {},
     "output_type": "execute_result"
    }
   ],
   "source": [
    "incidents.index.set_names(['Area', 'Event'], inplace=True)\n",
    "incidents.head()"
   ]
  },
  {
   "cell_type": "code",
   "execution_count": null,
   "id": "bb76b9dd",
   "metadata": {},
   "outputs": [],
   "source": []
  }
 ],
 "metadata": {
  "kernelspec": {
   "display_name": "Python 3",
   "language": "python",
   "name": "python3"
  },
  "language_info": {
   "codemirror_mode": {
    "name": "ipython",
    "version": 3
   },
   "file_extension": ".py",
   "mimetype": "text/x-python",
   "name": "python",
   "nbconvert_exporter": "python",
   "pygments_lexer": "ipython3",
   "version": "3.8.8"
  }
 },
 "nbformat": 4,
 "nbformat_minor": 5
}
