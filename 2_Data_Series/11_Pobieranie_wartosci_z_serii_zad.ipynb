{
 "cells": [
  {
   "cell_type": "code",
   "execution_count": 1,
   "id": "3a96eb2a",
   "metadata": {},
   "outputs": [],
   "source": [
    "import pandas as pd"
   ]
  },
  {
   "cell_type": "code",
   "execution_count": 3,
   "id": "94320bf9",
   "metadata": {},
   "outputs": [
    {
     "name": "stdout",
     "output_type": "stream",
     "text": [
      "Symbol\n",
      "AF            Afghanistan\n",
      "AL                Albania\n",
      "DZ                Algeria\n",
      "AD                Andorra\n",
      "AO                 Angola\n",
      "AI               Anguilla\n",
      "AQ             Antarctica\n",
      "AG    Antigua and Barbuda\n",
      "SA           Saudi Arabia\n",
      "AR              Argentina\n",
      "AM                Armenia\n",
      "AW                  Aruba\n",
      "AU              Australia\n",
      "AT                Austria\n",
      "AZ             Azerbaijan\n",
      "BS                Bahamas\n",
      "BH                Bahrain\n",
      "BD             Bangladesh\n",
      "BB               Barbados\n",
      "BE                Belgium\n",
      "Name: Name, dtype: object\n"
     ]
    }
   ],
   "source": [
    "countries = pd.read_csv(\"C:/Users\\Mariusz Baran/Data_Science_kurs/Data_science_pliki/course-files/countries.csv\",\n",
    "                       usecols=[\"Symbol\", \"Name\"],index_col=\"Symbol\", squeeze=True)\n",
    "print(countries.head(20))"
   ]
  },
  {
   "cell_type": "code",
   "execution_count": 5,
   "id": "3623b69f",
   "metadata": {},
   "outputs": [
    {
     "data": {
      "text/plain": [
       "'France'"
      ]
     },
     "execution_count": 5,
     "metadata": {},
     "output_type": "execute_result"
    }
   ],
   "source": [
    "countries.loc[\"FR\"]"
   ]
  },
  {
   "cell_type": "code",
   "execution_count": 8,
   "id": "3050291e",
   "metadata": {},
   "outputs": [
    {
     "data": {
      "text/plain": [
       "'France'"
      ]
     },
     "execution_count": 8,
     "metadata": {},
     "output_type": "execute_result"
    }
   ],
   "source": [
    "countries[\"FR\"]"
   ]
  },
  {
   "cell_type": "code",
   "execution_count": 9,
   "id": "969aabe7",
   "metadata": {},
   "outputs": [
    {
     "data": {
      "text/plain": [
       "'France'"
      ]
     },
     "execution_count": 9,
     "metadata": {},
     "output_type": "execute_result"
    }
   ],
   "source": [
    "countries.get(\"FR\")"
   ]
  },
  {
   "cell_type": "code",
   "execution_count": 11,
   "id": "a77c9534",
   "metadata": {},
   "outputs": [
    {
     "data": {
      "text/plain": [
       "'France'"
      ]
     },
     "execution_count": 11,
     "metadata": {},
     "output_type": "execute_result"
    }
   ],
   "source": [
    "countries.at[\"FR\"]"
   ]
  },
  {
   "cell_type": "code",
   "execution_count": 6,
   "id": "7c90a42f",
   "metadata": {},
   "outputs": [
    {
     "data": {
      "text/plain": [
       "'Austria'"
      ]
     },
     "execution_count": 6,
     "metadata": {},
     "output_type": "execute_result"
    }
   ],
   "source": [
    "countries.iloc[13]"
   ]
  },
  {
   "cell_type": "code",
   "execution_count": 12,
   "id": "3fbb8616",
   "metadata": {},
   "outputs": [
    {
     "data": {
      "text/plain": [
       "'Austria'"
      ]
     },
     "execution_count": 12,
     "metadata": {},
     "output_type": "execute_result"
    }
   ],
   "source": [
    "countries[13]"
   ]
  },
  {
   "cell_type": "code",
   "execution_count": 13,
   "id": "f16247f4",
   "metadata": {},
   "outputs": [
    {
     "data": {
      "text/plain": [
       "'Austria'"
      ]
     },
     "execution_count": 13,
     "metadata": {},
     "output_type": "execute_result"
    }
   ],
   "source": [
    "countries.iat[13]"
   ]
  },
  {
   "cell_type": "code",
   "execution_count": 7,
   "id": "32934ef5",
   "metadata": {},
   "outputs": [
    {
     "data": {
      "text/plain": [
       "Symbol\n",
       "FI    Finland\n",
       "SE     Sweden\n",
       "NO     Norway\n",
       "Name: Name, dtype: object"
      ]
     },
     "execution_count": 7,
     "metadata": {},
     "output_type": "execute_result"
    }
   ],
   "source": [
    "nordic = [\"FI\", \"SE\", \"NO\"]\n",
    "countries.loc[nordic]"
   ]
  },
  {
   "cell_type": "code",
   "execution_count": 14,
   "id": "31f7b24c",
   "metadata": {},
   "outputs": [
    {
     "data": {
      "text/plain": [
       "Symbol\n",
       "FI    Finland\n",
       "SE     Sweden\n",
       "NO     Norway\n",
       "Name: Name, dtype: object"
      ]
     },
     "execution_count": 14,
     "metadata": {},
     "output_type": "execute_result"
    }
   ],
   "source": [
    "countries[nordic]"
   ]
  }
 ],
 "metadata": {
  "kernelspec": {
   "display_name": "Python 3",
   "language": "python",
   "name": "python3"
  },
  "language_info": {
   "codemirror_mode": {
    "name": "ipython",
    "version": 3
   },
   "file_extension": ".py",
   "mimetype": "text/x-python",
   "name": "python",
   "nbconvert_exporter": "python",
   "pygments_lexer": "ipython3",
   "version": "3.8.8"
  }
 },
 "nbformat": 4,
 "nbformat_minor": 5
}
