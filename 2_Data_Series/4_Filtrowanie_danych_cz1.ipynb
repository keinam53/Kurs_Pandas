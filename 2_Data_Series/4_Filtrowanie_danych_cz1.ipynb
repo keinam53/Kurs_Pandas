{
 "cells": [
  {
   "cell_type": "code",
   "execution_count": 1,
   "id": "54d34d45",
   "metadata": {},
   "outputs": [],
   "source": [
    "import pandas as pd\n",
    "import numpy as np\n",
    "import matplotlib.pyplot as plt\n",
    "import math"
   ]
  },
  {
   "cell_type": "code",
   "execution_count": 2,
   "id": "67d4e978",
   "metadata": {},
   "outputs": [
    {
     "name": "stdout",
     "output_type": "stream",
     "text": [
      "[1, 2, 3, 11, 12, 13]\n"
     ]
    }
   ],
   "source": [
    "numbers = [1, 2, 3, 11, 12, 13]\n",
    "print(numbers)"
   ]
  },
  {
   "cell_type": "code",
   "execution_count": 4,
   "id": "79dacfec",
   "metadata": {},
   "outputs": [
    {
     "name": "stdout",
     "output_type": "stream",
     "text": [
      "0     1\n",
      "1     2\n",
      "2     3\n",
      "3    11\n",
      "4    12\n",
      "5    13\n",
      "dtype: int64\n"
     ]
    }
   ],
   "source": [
    "num_series = pd.Series(numbers)\n",
    "print(num_series)"
   ]
  },
  {
   "cell_type": "code",
   "execution_count": 5,
   "id": "b14f3bee",
   "metadata": {},
   "outputs": [
    {
     "data": {
      "text/plain": [
       "0    False\n",
       "1    False\n",
       "2    False\n",
       "3     True\n",
       "4     True\n",
       "5     True\n",
       "dtype: bool"
      ]
     },
     "execution_count": 5,
     "metadata": {},
     "output_type": "execute_result"
    }
   ],
   "source": [
    "num_series > 10"
   ]
  },
  {
   "cell_type": "code",
   "execution_count": 6,
   "id": "197f53ad",
   "metadata": {},
   "outputs": [
    {
     "data": {
      "text/plain": [
       "0     NaN\n",
       "1     NaN\n",
       "2     NaN\n",
       "3    11.0\n",
       "4    12.0\n",
       "5    13.0\n",
       "dtype: float64"
      ]
     },
     "execution_count": 6,
     "metadata": {},
     "output_type": "execute_result"
    }
   ],
   "source": [
    "num_series.where(num_series > 10)"
   ]
  },
  {
   "cell_type": "code",
   "execution_count": 10,
   "id": "3bb47c50",
   "metadata": {},
   "outputs": [
    {
     "data": {
      "text/plain": [
       "0    -1\n",
       "1    -1\n",
       "2    -1\n",
       "3    11\n",
       "4    12\n",
       "5    13\n",
       "dtype: int64"
      ]
     },
     "execution_count": 10,
     "metadata": {},
     "output_type": "execute_result"
    }
   ],
   "source": [
    "num_series.where(cond=num_series > 10, other=-1)"
   ]
  },
  {
   "cell_type": "markdown",
   "id": "49141716",
   "metadata": {},
   "source": [
    "**Odrzucenie NaN - dropna()**"
   ]
  },
  {
   "cell_type": "code",
   "execution_count": 11,
   "id": "98f3796f",
   "metadata": {},
   "outputs": [
    {
     "data": {
      "text/plain": [
       "3    11.0\n",
       "4    12.0\n",
       "5    13.0\n",
       "dtype: float64"
      ]
     },
     "execution_count": 11,
     "metadata": {},
     "output_type": "execute_result"
    }
   ],
   "source": [
    "num_series.where(num_series > 10).dropna()"
   ]
  },
  {
   "cell_type": "code",
   "execution_count": 14,
   "id": "95022acd",
   "metadata": {},
   "outputs": [
    {
     "name": "stdout",
     "output_type": "stream",
     "text": [
      "0     1\n",
      "1     2\n",
      "2     3\n",
      "3    11\n",
      "4    12\n",
      "5    13\n",
      "dtype: int64\n"
     ]
    }
   ],
   "source": [
    "print(num_series)"
   ]
  },
  {
   "cell_type": "markdown",
   "id": "a17fb613",
   "metadata": {},
   "source": [
    "**Odrzucenie NaN - dropna()**"
   ]
  },
  {
   "cell_type": "code",
   "execution_count": 19,
   "id": "9539f31e",
   "metadata": {},
   "outputs": [
    {
     "name": "stdout",
     "output_type": "stream",
     "text": [
      "3    11.0\n",
      "4    12.0\n",
      "5    13.0\n",
      "dtype: float64\n"
     ]
    }
   ],
   "source": [
    "num_series.where(num_series > 10, inplace=True)\n",
    "print(num_series)"
   ]
  },
  {
   "cell_type": "code",
   "execution_count": 16,
   "id": "22fe584e",
   "metadata": {},
   "outputs": [
    {
     "name": "stdout",
     "output_type": "stream",
     "text": [
      "0     NaN\n",
      "1     NaN\n",
      "2     NaN\n",
      "3    11.0\n",
      "4    12.0\n",
      "5    13.0\n",
      "dtype: float64\n"
     ]
    }
   ],
   "source": [
    "print(num_series)"
   ]
  },
  {
   "cell_type": "code",
   "execution_count": 17,
   "id": "6dbede24",
   "metadata": {},
   "outputs": [
    {
     "name": "stdout",
     "output_type": "stream",
     "text": [
      "3    11.0\n",
      "4    12.0\n",
      "5    13.0\n",
      "dtype: float64\n"
     ]
    }
   ],
   "source": [
    "num_series.dropna(inplace=True)\n",
    "print(num_series)"
   ]
  },
  {
   "cell_type": "markdown",
   "id": "eca3aa8f",
   "metadata": {},
   "source": [
    "**Filtrowanie**"
   ]
  },
  {
   "cell_type": "code",
   "execution_count": 20,
   "id": "66960366",
   "metadata": {},
   "outputs": [
    {
     "name": "stdout",
     "output_type": "stream",
     "text": [
      "0     1\n",
      "1     2\n",
      "2     3\n",
      "3    11\n",
      "4    12\n",
      "5    13\n",
      "dtype: int64\n"
     ]
    }
   ],
   "source": [
    "num_series = pd.Series(numbers)\n",
    "print(num_series)"
   ]
  },
  {
   "cell_type": "code",
   "execution_count": 21,
   "id": "7f689a17",
   "metadata": {},
   "outputs": [
    {
     "data": {
      "text/plain": [
       "0     1\n",
       "2     3\n",
       "4    12\n",
       "dtype: int64"
      ]
     },
     "execution_count": 21,
     "metadata": {},
     "output_type": "execute_result"
    }
   ],
   "source": [
    "num_series.filter(items=[0,2,4])"
   ]
  },
  {
   "cell_type": "code",
   "execution_count": null,
   "id": "26f52b61",
   "metadata": {},
   "outputs": [],
   "source": []
  }
 ],
 "metadata": {
  "kernelspec": {
   "display_name": "Python 3",
   "language": "python",
   "name": "python3"
  },
  "language_info": {
   "codemirror_mode": {
    "name": "ipython",
    "version": 3
   },
   "file_extension": ".py",
   "mimetype": "text/x-python",
   "name": "python",
   "nbconvert_exporter": "python",
   "pygments_lexer": "ipython3",
   "version": "3.8.8"
  }
 },
 "nbformat": 4,
 "nbformat_minor": 5
}
