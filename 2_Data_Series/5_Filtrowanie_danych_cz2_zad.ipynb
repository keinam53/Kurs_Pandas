{
 "cells": [
  {
   "cell_type": "code",
   "execution_count": 1,
   "id": "f478d8c4",
   "metadata": {},
   "outputs": [],
   "source": [
    "import pandas as pd\n",
    "import numpy as np\n",
    "import matplotlib.pyplot as plt\n",
    "import math"
   ]
  },
  {
   "cell_type": "code",
   "execution_count": 3,
   "id": "c8f236ff",
   "metadata": {},
   "outputs": [
    {
     "name": "stdout",
     "output_type": "stream",
     "text": [
      "0            Albania\n",
      "1            Austria\n",
      "2            Belarus\n",
      "3            Belgium\n",
      "4           Bulgaria\n",
      "5            Croatia\n",
      "6             Cyprus\n",
      "7     Czech Republic\n",
      "8            Denmark\n",
      "9            Estonia\n",
      "10           Finland\n",
      "11            France\n",
      "12           Germany\n",
      "13            Greece\n",
      "14           Hungary\n",
      "15           Iceland\n",
      "16           Ireland\n",
      "17             Italy\n",
      "18            Latvia\n",
      "19         Lithuania\n",
      "20        Luxembourg\n",
      "21         Macedonia\n",
      "22             Malta\n",
      "23        Montenegro\n",
      "24       Netherlands\n",
      "25            Norway\n",
      "26            Poland\n",
      "27          Portugal\n",
      "28           Romania\n",
      "29            Russia\n",
      "30            Serbia\n",
      "31          Slovenia\n",
      "32             Spain\n",
      "33            Sweden\n",
      "34       Switzerland\n",
      "35     UnitedKingdom\n",
      "36            Turkey\n",
      "37           Ukraine\n",
      "dtype: object\n"
     ]
    }
   ],
   "source": [
    "names_list=['Albania','Austria','Belarus','Belgium','Bulgaria','Croatia','Cyprus','Czech Republic','Denmark','Estonia',\n",
    "            'Finland','France','Germany','Greece','Hungary','Iceland','Ireland','Italy','Latvia','Lithuania',\n",
    "            'Luxembourg','Macedonia','Malta','Montenegro','Netherlands','Norway','Poland','Portugal','Romania',\n",
    "            'Russia','Serbia','Slovenia','Spain', 'Sweden','Switzerland','UnitedKingdom','Turkey','Ukraine']\n",
    "names_series = pd.Series(names_list)\n",
    "print(names_series)"
   ]
  },
  {
   "cell_type": "code",
   "execution_count": 4,
   "id": "1e90bb5c",
   "metadata": {},
   "outputs": [
    {
     "name": "stdout",
     "output_type": "stream",
     "text": [
      "0      1947\n",
      "1      8347\n",
      "2      3564\n",
      "3      8369\n",
      "4      4560\n",
      "5      3814\n",
      "6      4623\n",
      "7      6348\n",
      "8      6328\n",
      "9      6506\n",
      "10    16483\n",
      "11     7736\n",
      "12     7264\n",
      "13     5318\n",
      "14     3876\n",
      "15    51440\n",
      "16     5911\n",
      "17     5494\n",
      "18     3230\n",
      "19     3471\n",
      "20    16830\n",
      "21     3521\n",
      "22     4171\n",
      "23     5420\n",
      "24     7010\n",
      "25    24891\n",
      "26     3797\n",
      "27     4959\n",
      "28     2551\n",
      "29     6410\n",
      "30     4359\n",
      "31     6521\n",
      "32     5707\n",
      "33    14934\n",
      "34     8175\n",
      "35     2498\n",
      "36     3550\n",
      "37     5701\n",
      "dtype: int64\n"
     ]
    }
   ],
   "source": [
    "energy2010_list = [1947,8347,3564,8369,4560,3814,4623,6348,6328,6506,16483,7736,7264,5318,3876,51440,5911,5494,3230,\n",
    "                   3471,16830,3521,4171,5420,7010,24891,3797,4959,2551,6410,4359,6521,5707,14934,8175,2498,3550,5701]\n",
    "energy2010_series = pd.Series(energy2010_list)\n",
    "print(energy2010_series)"
   ]
  },
  {
   "cell_type": "code",
   "execution_count": 5,
   "id": "3fe034d8",
   "metadata": {},
   "outputs": [
    {
     "name": "stdout",
     "output_type": "stream",
     "text": [
      "0      2118\n",
      "1      8507\n",
      "2      3698\n",
      "3      7987\n",
      "4      4762\n",
      "5      3819\n",
      "6      4057\n",
      "7      6305\n",
      "8      6039\n",
      "9      6689\n",
      "10    15687\n",
      "11     7344\n",
      "12     7270\n",
      "13     5511\n",
      "14     3919\n",
      "15    53203\n",
      "16     5665\n",
      "17     5398\n",
      "18     3588\n",
      "19     3608\n",
      "20    14696\n",
      "21     3626\n",
      "22     4761\n",
      "23     5416\n",
      "24     6871\n",
      "25    23658\n",
      "26     3899\n",
      "27     4736\n",
      "28     2604\n",
      "29     6617\n",
      "30     4387\n",
      "31     6778\n",
      "32     5573\n",
      "33    14290\n",
      "34     7886\n",
      "35     2794\n",
      "36     3641\n",
      "37     5452\n",
      "dtype: int64\n"
     ]
    }
   ],
   "source": [
    "energy2012_list = [2118,8507,3698,7987,4762,3819,4057,6305,6039,6689,15687,7344,7270,5511,3919,53203,5665,5398,3588,\n",
    "                   3608,14696,3626,4761,5416,6871,23658,3899,4736,2604,6617,4387,6778,5573,14290,7886,2794,3641,5452]\n",
    "energy2012_series = pd.Series(energy2012_list)\n",
    "print(energy2012_series)"
   ]
  },
  {
   "cell_type": "code",
   "execution_count": 6,
   "id": "73301d47",
   "metadata": {},
   "outputs": [
    {
     "name": "stdout",
     "output_type": "stream",
     "text": [
      "7779.8421052631575\n"
     ]
    }
   ],
   "source": [
    "mean2010 = energy2010_series.mean()\n",
    "print(mean2010)"
   ]
  },
  {
   "cell_type": "code",
   "execution_count": 7,
   "id": "998d6257",
   "metadata": {},
   "outputs": [
    {
     "name": "stdout",
     "output_type": "stream",
     "text": [
      "7706.815789473684\n"
     ]
    }
   ],
   "source": [
    "mean2012 = energy2012_series.mean()\n",
    "print(mean2012)"
   ]
  },
  {
   "cell_type": "code",
   "execution_count": 10,
   "id": "5bbbd0f5",
   "metadata": {
    "collapsed": true
   },
   "outputs": [
    {
     "name": "stdout",
     "output_type": "stream",
     "text": [
      "0     False\n",
      "1      True\n",
      "2     False\n",
      "3      True\n",
      "4     False\n",
      "5     False\n",
      "6     False\n",
      "7     False\n",
      "8     False\n",
      "9     False\n",
      "10     True\n",
      "11    False\n",
      "12    False\n",
      "13    False\n",
      "14    False\n",
      "15     True\n",
      "16    False\n",
      "17    False\n",
      "18    False\n",
      "19    False\n",
      "20     True\n",
      "21    False\n",
      "22    False\n",
      "23    False\n",
      "24    False\n",
      "25     True\n",
      "26    False\n",
      "27    False\n",
      "28    False\n",
      "29    False\n",
      "30    False\n",
      "31    False\n",
      "32    False\n",
      "33     True\n",
      "34     True\n",
      "35    False\n",
      "36    False\n",
      "37    False\n",
      "dtype: bool\n"
     ]
    }
   ],
   "source": [
    "above_mean_2010 = energy2010_series > mean2010\n",
    "print(above_mean_2010)"
   ]
  },
  {
   "cell_type": "code",
   "execution_count": 11,
   "id": "be7767f1",
   "metadata": {
    "collapsed": true
   },
   "outputs": [
    {
     "name": "stdout",
     "output_type": "stream",
     "text": [
      "0     False\n",
      "1      True\n",
      "2     False\n",
      "3      True\n",
      "4     False\n",
      "5     False\n",
      "6     False\n",
      "7     False\n",
      "8     False\n",
      "9     False\n",
      "10     True\n",
      "11    False\n",
      "12    False\n",
      "13    False\n",
      "14    False\n",
      "15     True\n",
      "16    False\n",
      "17    False\n",
      "18    False\n",
      "19    False\n",
      "20     True\n",
      "21    False\n",
      "22    False\n",
      "23    False\n",
      "24    False\n",
      "25     True\n",
      "26    False\n",
      "27    False\n",
      "28    False\n",
      "29    False\n",
      "30    False\n",
      "31    False\n",
      "32    False\n",
      "33     True\n",
      "34     True\n",
      "35    False\n",
      "36    False\n",
      "37    False\n",
      "dtype: bool\n"
     ]
    }
   ],
   "source": [
    "above_mean_2012 = energy2012_series > mean2012\n",
    "print(above_mean_2012)"
   ]
  },
  {
   "cell_type": "code",
   "execution_count": 13,
   "id": "04184957",
   "metadata": {},
   "outputs": [
    {
     "data": {
      "text/plain": [
       "1         Austria\n",
       "3         Belgium\n",
       "10        Finland\n",
       "15        Iceland\n",
       "20     Luxembourg\n",
       "25         Norway\n",
       "33         Sweden\n",
       "34    Switzerland\n",
       "dtype: object"
      ]
     },
     "execution_count": 13,
     "metadata": {},
     "output_type": "execute_result"
    }
   ],
   "source": [
    "names_series.where(above_mean_2010 & above_mean_2012).dropna()"
   ]
  },
  {
   "cell_type": "code",
   "execution_count": 14,
   "id": "f5ab9be4",
   "metadata": {
    "collapsed": true
   },
   "outputs": [
    {
     "name": "stdout",
     "output_type": "stream",
     "text": [
      "0      True\n",
      "1     False\n",
      "2      True\n",
      "3     False\n",
      "4      True\n",
      "5      True\n",
      "6      True\n",
      "7      True\n",
      "8      True\n",
      "9      True\n",
      "10    False\n",
      "11     True\n",
      "12     True\n",
      "13     True\n",
      "14     True\n",
      "15    False\n",
      "16     True\n",
      "17     True\n",
      "18     True\n",
      "19     True\n",
      "20    False\n",
      "21     True\n",
      "22     True\n",
      "23     True\n",
      "24     True\n",
      "25    False\n",
      "26     True\n",
      "27     True\n",
      "28     True\n",
      "29     True\n",
      "30     True\n",
      "31     True\n",
      "32     True\n",
      "33    False\n",
      "34    False\n",
      "35     True\n",
      "36     True\n",
      "37     True\n",
      "dtype: bool\n"
     ]
    }
   ],
   "source": [
    "below_mean_2010 = energy2010_series < mean2010\n",
    "print(below_mean_2010)"
   ]
  },
  {
   "cell_type": "code",
   "execution_count": 16,
   "id": "fc4c5a08",
   "metadata": {
    "scrolled": true
   },
   "outputs": [
    {
     "data": {
      "text/plain": [
       "Series([], dtype: object)"
      ]
     },
     "execution_count": 16,
     "metadata": {},
     "output_type": "execute_result"
    }
   ],
   "source": [
    "names_series.where(below_mean_2010 & above_mean_2012).dropna()"
   ]
  },
  {
   "cell_type": "markdown",
   "id": "10ccf9cc",
   "metadata": {},
   "source": [
    "**Wniosek:**\n",
    " żadne państwo nie rozwijało się bardzo szybko, państwa rozwinięte nie cofają się"
   ]
  },
  {
   "cell_type": "code",
   "execution_count": null,
   "id": "24212706",
   "metadata": {},
   "outputs": [],
   "source": []
  }
 ],
 "metadata": {
  "kernelspec": {
   "display_name": "Python 3",
   "language": "python",
   "name": "python3"
  },
  "language_info": {
   "codemirror_mode": {
    "name": "ipython",
    "version": 3
   },
   "file_extension": ".py",
   "mimetype": "text/x-python",
   "name": "python",
   "nbconvert_exporter": "python",
   "pygments_lexer": "ipython3",
   "version": "3.8.8"
  }
 },
 "nbformat": 4,
 "nbformat_minor": 5
}
