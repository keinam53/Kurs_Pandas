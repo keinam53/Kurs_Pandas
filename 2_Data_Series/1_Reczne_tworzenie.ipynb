{
 "cells": [
  {
   "cell_type": "code",
   "execution_count": 1,
   "id": "68cd70ef",
   "metadata": {},
   "outputs": [],
   "source": [
    "import pandas as pd\n",
    "import numpy as np\n",
    "import matplotlib.pyplot as plt\n",
    "import math"
   ]
  },
  {
   "cell_type": "code",
   "execution_count": 2,
   "id": "028047c7",
   "metadata": {},
   "outputs": [],
   "source": [
    "%matplotlib inline"
   ]
  },
  {
   "cell_type": "code",
   "execution_count": 3,
   "id": "86da5622",
   "metadata": {},
   "outputs": [
    {
     "name": "stdout",
     "output_type": "stream",
     "text": [
      "['London', 'Berlin', 'Warsaw', 'Paris']\n"
     ]
    }
   ],
   "source": [
    "cities = [\"London\", \"Berlin\", \"Warsaw\", \"Paris\"]\n",
    "print(cities)"
   ]
  },
  {
   "cell_type": "code",
   "execution_count": 4,
   "id": "d026e6c5",
   "metadata": {},
   "outputs": [
    {
     "data": {
      "text/plain": [
       "0    London\n",
       "1    Berlin\n",
       "2    Warsaw\n",
       "3     Paris\n",
       "dtype: object"
      ]
     },
     "execution_count": 4,
     "metadata": {},
     "output_type": "execute_result"
    }
   ],
   "source": [
    "pd.Series(cities)"
   ]
  },
  {
   "cell_type": "code",
   "execution_count": 5,
   "id": "e38e4c3b",
   "metadata": {},
   "outputs": [
    {
     "data": {
      "text/plain": [
       "0     2\n",
       "1     3\n",
       "2     5\n",
       "3     7\n",
       "4    13\n",
       "5    17\n",
       "6    19\n",
       "dtype: int64"
      ]
     },
     "execution_count": 5,
     "metadata": {},
     "output_type": "execute_result"
    }
   ],
   "source": [
    "prime_numbers = (2, 3, 5, 7, 13, 17, 19)\n",
    "pd.Series(prime_numbers)"
   ]
  },
  {
   "cell_type": "code",
   "execution_count": 6,
   "id": "e669b61e",
   "metadata": {},
   "outputs": [
    {
     "data": {
      "text/plain": [
       "0     True\n",
       "1    False\n",
       "2     True\n",
       "dtype: bool"
      ]
     },
     "execution_count": 6,
     "metadata": {},
     "output_type": "execute_result"
    }
   ],
   "source": [
    "logical_values = (True, False, True)\n",
    "pd.Series(logical_values)"
   ]
  },
  {
   "cell_type": "code",
   "execution_count": 9,
   "id": "fb225ea5",
   "metadata": {},
   "outputs": [
    {
     "name": "stdout",
     "output_type": "stream",
     "text": [
      "{'Jaws': 1975, '1941': 1979, 'Indiana Jones': 1981, 'E.T': 1982}\n"
     ]
    }
   ],
   "source": [
    "spielberg_filmography = {\"Jaws\": 1975,\n",
    "                        \"1941\": 1979,\n",
    "                        \"Indiana Jones\": 1981,\n",
    "                        \"E.T\": 1982}\n",
    "print(spielberg_filmography)"
   ]
  },
  {
   "cell_type": "code",
   "execution_count": 10,
   "id": "ea713a38",
   "metadata": {},
   "outputs": [
    {
     "data": {
      "text/plain": [
       "Jaws             1975\n",
       "1941             1979\n",
       "Indiana Jones    1981\n",
       "E.T              1982\n",
       "dtype: int64"
      ]
     },
     "execution_count": 10,
     "metadata": {},
     "output_type": "execute_result"
    }
   ],
   "source": [
    "pd.Series(spielberg_filmography)"
   ]
  },
  {
   "cell_type": "code",
   "execution_count": null,
   "id": "58d8c47d",
   "metadata": {},
   "outputs": [],
   "source": []
  }
 ],
 "metadata": {
  "kernelspec": {
   "display_name": "Python 3",
   "language": "python",
   "name": "python3"
  },
  "language_info": {
   "codemirror_mode": {
    "name": "ipython",
    "version": 3
   },
   "file_extension": ".py",
   "mimetype": "text/x-python",
   "name": "python",
   "nbconvert_exporter": "python",
   "pygments_lexer": "ipython3",
   "version": "3.8.8"
  }
 },
 "nbformat": 4,
 "nbformat_minor": 5
}
