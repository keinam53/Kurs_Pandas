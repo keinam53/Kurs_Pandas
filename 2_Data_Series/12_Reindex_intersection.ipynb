{
 "cells": [
  {
   "cell_type": "markdown",
   "id": "b37e6959",
   "metadata": {},
   "source": [
    "**Reindex i intersection**"
   ]
  },
  {
   "cell_type": "code",
   "execution_count": 1,
   "id": "a553d3dc",
   "metadata": {},
   "outputs": [
    {
     "name": "stdout",
     "output_type": "stream",
     "text": [
      "a     Austria\n",
      "b     Belgium\n",
      "c      Canada\n",
      "d     Denmark\n",
      "e1    England\n",
      "e2    Estonia\n",
      "dtype: object\n"
     ]
    }
   ],
   "source": [
    "import pandas as pd\n",
    "index = [\"a\", \"b\", \"c\", \"d\", \"e1\", \"e2\"]\n",
    "values = [\"Austria\", \"Belgium\", \"Canada\", \"Denmark\", \"England\", \"Estonia\"]\n",
    "s = pd.Series(values, index)\n",
    "print(s)"
   ]
  },
  {
   "cell_type": "code",
   "execution_count": 2,
   "id": "40fd0a85",
   "metadata": {},
   "outputs": [
    {
     "data": {
      "text/plain": [
       "a    Austria\n",
       "b    Belgium\n",
       "dtype: object"
      ]
     },
     "execution_count": 2,
     "metadata": {},
     "output_type": "execute_result"
    }
   ],
   "source": [
    "search_list = [\"a\", \"b\"]\n",
    "s.loc[search_list]"
   ]
  },
  {
   "cell_type": "code",
   "execution_count": 4,
   "id": "0d6affd7",
   "metadata": {},
   "outputs": [],
   "source": [
    "search_list_not_found = [\"a\", \"b\", \"f\"] #BLAD!\n",
    "s.loc[search_list_not_found]"
   ]
  },
  {
   "cell_type": "code",
   "execution_count": 5,
   "id": "36e2f56f",
   "metadata": {},
   "outputs": [
    {
     "data": {
      "text/plain": [
       "a    Austria\n",
       "b    Belgium\n",
       "f        NaN\n",
       "dtype: object"
      ]
     },
     "execution_count": 5,
     "metadata": {},
     "output_type": "execute_result"
    }
   ],
   "source": [
    "s.reindex(search_list_not_found)"
   ]
  },
  {
   "cell_type": "markdown",
   "id": "381ee209",
   "metadata": {},
   "source": [
    "intersection() - część wspólna list\n",
    "\n",
    "w poniższych przypadkach index nie może mieć duplikatów!"
   ]
  },
  {
   "cell_type": "code",
   "execution_count": 6,
   "id": "ea221793",
   "metadata": {},
   "outputs": [
    {
     "data": {
      "text/plain": [
       "Index(['a', 'b', 'c', 'd', 'e1', 'e2'], dtype='object')"
      ]
     },
     "execution_count": 6,
     "metadata": {},
     "output_type": "execute_result"
    }
   ],
   "source": [
    "s.index"
   ]
  },
  {
   "cell_type": "code",
   "execution_count": 7,
   "id": "113615c2",
   "metadata": {},
   "outputs": [
    {
     "data": {
      "text/plain": [
       "Index(['a', 'b'], dtype='object')"
      ]
     },
     "execution_count": 7,
     "metadata": {},
     "output_type": "execute_result"
    }
   ],
   "source": [
    "s.index.intersection(search_list_not_found)"
   ]
  },
  {
   "cell_type": "code",
   "execution_count": 8,
   "id": "52aa41e9",
   "metadata": {},
   "outputs": [
    {
     "data": {
      "text/plain": [
       "a    Austria\n",
       "b    Belgium\n",
       "dtype: object"
      ]
     },
     "execution_count": 8,
     "metadata": {},
     "output_type": "execute_result"
    }
   ],
   "source": [
    "s.loc[s.index.intersection(search_list_not_found)]"
   ]
  },
  {
   "cell_type": "code",
   "execution_count": 9,
   "id": "e0ea21cd",
   "metadata": {},
   "outputs": [
    {
     "name": "stdout",
     "output_type": "stream",
     "text": [
      "a    Austria\n",
      "b    Belgium\n",
      "c     Canada\n",
      "d    Denmark\n",
      "e    England\n",
      "e    Estonia\n",
      "dtype: object\n"
     ]
    }
   ],
   "source": [
    "index = [\"a\", \"b\", \"c\", \"d\", \"e\", \"e\"]\n",
    "values = [\"Austria\", \"Belgium\", \"Canada\", \"Denmark\", \"England\", \"Estonia\"]\n",
    "s = pd.Series(values, index)\n",
    "print(s)"
   ]
  },
  {
   "cell_type": "code",
   "execution_count": 11,
   "id": "0e0bb07a",
   "metadata": {},
   "outputs": [],
   "source": [
    "s.loc[s.reindex(search_list_not_found)] #BŁĄD!"
   ]
  },
  {
   "cell_type": "code",
   "execution_count": 12,
   "id": "b9cbd0c1",
   "metadata": {},
   "outputs": [
    {
     "data": {
      "text/plain": [
       "a    Austria\n",
       "b    Belgium\n",
       "dtype: object"
      ]
     },
     "execution_count": 12,
     "metadata": {},
     "output_type": "execute_result"
    }
   ],
   "source": [
    "s.loc[s.index.intersection(search_list_not_found)]"
   ]
  },
  {
   "cell_type": "code",
   "execution_count": 13,
   "id": "2f63b150",
   "metadata": {},
   "outputs": [
    {
     "name": "stdout",
     "output_type": "stream",
     "text": [
      "['a', 'b', 'f', 'e']\n"
     ]
    }
   ],
   "source": [
    "search_list_not_found.append(\"e\")\n",
    "print(search_list_not_found)"
   ]
  },
  {
   "cell_type": "code",
   "execution_count": 14,
   "id": "f490d9fe",
   "metadata": {},
   "outputs": [
    {
     "data": {
      "text/plain": [
       "a    Austria\n",
       "b    Belgium\n",
       "e    England\n",
       "e    Estonia\n",
       "dtype: object"
      ]
     },
     "execution_count": 14,
     "metadata": {},
     "output_type": "execute_result"
    }
   ],
   "source": [
    "s.loc[s.index.intersection(search_list_not_found)]"
   ]
  },
  {
   "cell_type": "code",
   "execution_count": null,
   "id": "02b864e2",
   "metadata": {},
   "outputs": [],
   "source": []
  }
 ],
 "metadata": {
  "kernelspec": {
   "display_name": "Python 3",
   "language": "python",
   "name": "python3"
  },
  "language_info": {
   "codemirror_mode": {
    "name": "ipython",
    "version": 3
   },
   "file_extension": ".py",
   "mimetype": "text/x-python",
   "name": "python",
   "nbconvert_exporter": "python",
   "pygments_lexer": "ipython3",
   "version": "3.8.8"
  }
 },
 "nbformat": 4,
 "nbformat_minor": 5
}
