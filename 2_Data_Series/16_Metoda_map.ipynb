{
 "cells": [
  {
   "cell_type": "code",
   "execution_count": 1,
   "id": "c4ae0069",
   "metadata": {},
   "outputs": [],
   "source": [
    "import pandas as pd\n",
    "import numpy as np\n",
    "import matplotlib.pyplot as plt\n",
    "import math"
   ]
  },
  {
   "cell_type": "code",
   "execution_count": 3,
   "id": "1f0d5f88",
   "metadata": {},
   "outputs": [
    {
     "name": "stdout",
     "output_type": "stream",
     "text": [
      "Mariusz    5\n",
      "Piotr      3\n",
      "Mateusz    2\n",
      "Damian     4\n",
      "Kamil      3\n",
      "Marcin     4\n",
      "Łukasz     4\n",
      "Dominik    5\n",
      "dtype: int64\n"
     ]
    }
   ],
   "source": [
    "team = pd.Series(index=[\"Mariusz\", \"Piotr\", \"Mateusz\", \"Damian\", \"Kamil\", \"Marcin\", \"Łukasz\",\"Dominik\"],\n",
    "                data=[5, 3, 2, 4, 3, 4, 4, 5])\n",
    "print(team)"
   ]
  },
  {
   "cell_type": "code",
   "execution_count": 6,
   "id": "903c155a",
   "metadata": {},
   "outputs": [
    {
     "name": "stdout",
     "output_type": "stream",
     "text": [
      "1      C\n",
      "2      B\n",
      "3      A\n",
      "4     A+\n",
      "5    A++\n",
      "dtype: object\n"
     ]
    }
   ],
   "source": [
    "notes = pd.Series(index=[1, 2, 3, 4, 5], data=[\"C\", \"B\", \"A\", \"A+\", \"A++\"])\n",
    "print(notes)"
   ]
  },
  {
   "cell_type": "markdown",
   "id": "d40c94fe",
   "metadata": {},
   "source": [
    "Metoda map() przypisuje do indexu 1 serii dane 2 serii"
   ]
  },
  {
   "cell_type": "code",
   "execution_count": 7,
   "id": "eef3a8ed",
   "metadata": {},
   "outputs": [
    {
     "data": {
      "text/plain": [
       "Mariusz    A++\n",
       "Piotr        A\n",
       "Mateusz      B\n",
       "Damian      A+\n",
       "Kamil        A\n",
       "Marcin      A+\n",
       "Łukasz      A+\n",
       "Dominik    A++\n",
       "dtype: object"
      ]
     },
     "execution_count": 7,
     "metadata": {},
     "output_type": "execute_result"
    }
   ],
   "source": [
    "team.map(notes)"
   ]
  },
  {
   "cell_type": "markdown",
   "id": "1f858af4",
   "metadata": {},
   "source": [
    "Działa również ze słownikiem"
   ]
  },
  {
   "cell_type": "code",
   "execution_count": 8,
   "id": "fec98902",
   "metadata": {},
   "outputs": [
    {
     "name": "stdout",
     "output_type": "stream",
     "text": [
      "{1: 'C', 2: 'B', 3: 'A', 4: 'A+', 5: 'A++'}\n"
     ]
    }
   ],
   "source": [
    "notes_dict = {1: \"C\", 2: \"B\", 3: \"A\", 4: \"A+\", 5: \"A++\"}\n",
    "print(notes_dict)"
   ]
  },
  {
   "cell_type": "code",
   "execution_count": 9,
   "id": "faebecc0",
   "metadata": {},
   "outputs": [
    {
     "data": {
      "text/plain": [
       "Mariusz    A++\n",
       "Piotr        A\n",
       "Mateusz      B\n",
       "Damian      A+\n",
       "Kamil        A\n",
       "Marcin      A+\n",
       "Łukasz      A+\n",
       "Dominik    A++\n",
       "dtype: object"
      ]
     },
     "execution_count": 9,
     "metadata": {},
     "output_type": "execute_result"
    }
   ],
   "source": [
    "team.map(notes_dict)"
   ]
  },
  {
   "cell_type": "code",
   "execution_count": null,
   "id": "5d176884",
   "metadata": {},
   "outputs": [],
   "source": []
  }
 ],
 "metadata": {
  "kernelspec": {
   "display_name": "Python 3",
   "language": "python",
   "name": "python3"
  },
  "language_info": {
   "codemirror_mode": {
    "name": "ipython",
    "version": 3
   },
   "file_extension": ".py",
   "mimetype": "text/x-python",
   "name": "python",
   "nbconvert_exporter": "python",
   "pygments_lexer": "ipython3",
   "version": "3.8.8"
  }
 },
 "nbformat": 4,
 "nbformat_minor": 5
}
