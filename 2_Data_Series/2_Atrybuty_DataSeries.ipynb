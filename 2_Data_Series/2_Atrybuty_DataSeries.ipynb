{
 "cells": [
  {
   "cell_type": "code",
   "execution_count": 1,
   "id": "d6a1128d",
   "metadata": {},
   "outputs": [],
   "source": [
    "import pandas as pd\n",
    "import numpy as np\n",
    "import matplotlib.pyplot as plt\n",
    "import math"
   ]
  },
  {
   "cell_type": "code",
   "execution_count": 2,
   "id": "c969985d",
   "metadata": {},
   "outputs": [],
   "source": [
    "%matplotlib inline"
   ]
  },
  {
   "cell_type": "code",
   "execution_count": 4,
   "id": "f878b35f",
   "metadata": {},
   "outputs": [
    {
     "name": "stdout",
     "output_type": "stream",
     "text": [
      "0    London\n",
      "1    Berlin\n",
      "2    Warsaw\n",
      "3     Paris\n",
      "dtype: object\n"
     ]
    }
   ],
   "source": [
    "cities = [\"London\", \"Berlin\", \"Warsaw\", \"Paris\"]\n",
    "cities_series = pd.Series(cities)\n",
    "print(cities_series)"
   ]
  },
  {
   "cell_type": "code",
   "execution_count": 5,
   "id": "980925a6",
   "metadata": {},
   "outputs": [
    {
     "data": {
      "text/plain": [
       "4"
      ]
     },
     "execution_count": 5,
     "metadata": {},
     "output_type": "execute_result"
    }
   ],
   "source": [
    "cities_series.size"
   ]
  },
  {
   "cell_type": "code",
   "execution_count": 6,
   "id": "5f3f4b16",
   "metadata": {},
   "outputs": [
    {
     "data": {
      "text/plain": [
       "32"
      ]
     },
     "execution_count": 6,
     "metadata": {},
     "output_type": "execute_result"
    }
   ],
   "source": [
    "cities_series.nbytes"
   ]
  },
  {
   "cell_type": "code",
   "execution_count": 7,
   "id": "1e3f7659",
   "metadata": {},
   "outputs": [
    {
     "data": {
      "text/plain": [
       "True"
      ]
     },
     "execution_count": 7,
     "metadata": {},
     "output_type": "execute_result"
    }
   ],
   "source": [
    "cities_series.is_unique"
   ]
  },
  {
   "cell_type": "code",
   "execution_count": 8,
   "id": "0c8334a7",
   "metadata": {},
   "outputs": [
    {
     "data": {
      "text/plain": [
       "False"
      ]
     },
     "execution_count": 8,
     "metadata": {},
     "output_type": "execute_result"
    }
   ],
   "source": [
    "cities_series.is_monotonic"
   ]
  },
  {
   "cell_type": "code",
   "execution_count": 9,
   "id": "208bb530",
   "metadata": {},
   "outputs": [
    {
     "data": {
      "text/plain": [
       "RangeIndex(start=0, stop=4, step=1)"
      ]
     },
     "execution_count": 9,
     "metadata": {},
     "output_type": "execute_result"
    }
   ],
   "source": [
    "cities_series.index"
   ]
  },
  {
   "cell_type": "code",
   "execution_count": 10,
   "id": "27628d66",
   "metadata": {},
   "outputs": [
    {
     "data": {
      "text/plain": [
       "array(['London', 'Berlin', 'Warsaw', 'Paris'], dtype=object)"
      ]
     },
     "execution_count": 10,
     "metadata": {},
     "output_type": "execute_result"
    }
   ],
   "source": [
    "cities_series.values"
   ]
  },
  {
   "cell_type": "code",
   "execution_count": 11,
   "id": "7c4208a3",
   "metadata": {},
   "outputs": [
    {
     "data": {
      "text/plain": [
       "dtype('O')"
      ]
     },
     "execution_count": 11,
     "metadata": {},
     "output_type": "execute_result"
    }
   ],
   "source": [
    "cities_series.dtype"
   ]
  },
  {
   "cell_type": "code",
   "execution_count": 12,
   "id": "002e2a5a",
   "metadata": {},
   "outputs": [
    {
     "data": {
      "text/plain": [
       "(4,)"
      ]
     },
     "execution_count": 12,
     "metadata": {},
     "output_type": "execute_result"
    }
   ],
   "source": [
    "cities_series.shape"
   ]
  },
  {
   "cell_type": "code",
   "execution_count": 13,
   "id": "b17966ae",
   "metadata": {},
   "outputs": [
    {
     "data": {
      "text/plain": [
       "[RangeIndex(start=0, stop=4, step=1)]"
      ]
     },
     "execution_count": 13,
     "metadata": {},
     "output_type": "execute_result"
    }
   ],
   "source": [
    "cities_series.axes"
   ]
  },
  {
   "cell_type": "code",
   "execution_count": 14,
   "id": "c446bd6f",
   "metadata": {},
   "outputs": [
    {
     "name": "stdout",
     "output_type": "stream",
     "text": [
      "0     1\n",
      "1     2\n",
      "2     4\n",
      "3    64\n",
      "4    99\n",
      "dtype: int64\n"
     ]
    }
   ],
   "source": [
    "monotonic_list = [1, 2, 4, 64, 99]\n",
    "monotonic_series = pd.Series(monotonic_list)\n",
    "print(monotonic_series)"
   ]
  },
  {
   "cell_type": "code",
   "execution_count": 15,
   "id": "fca751f7",
   "metadata": {},
   "outputs": [
    {
     "data": {
      "text/plain": [
       "True"
      ]
     },
     "execution_count": 15,
     "metadata": {},
     "output_type": "execute_result"
    }
   ],
   "source": [
    "monotonic_series.is_monotonic"
   ]
  },
  {
   "cell_type": "code",
   "execution_count": 16,
   "id": "9bebb5d8",
   "metadata": {},
   "outputs": [
    {
     "data": {
      "text/plain": [
       "True"
      ]
     },
     "execution_count": 16,
     "metadata": {},
     "output_type": "execute_result"
    }
   ],
   "source": [
    "monotonic_series.is_monotonic_increasing"
   ]
  },
  {
   "cell_type": "code",
   "execution_count": 17,
   "id": "24a0716b",
   "metadata": {},
   "outputs": [
    {
     "data": {
      "text/plain": [
       "False"
      ]
     },
     "execution_count": 17,
     "metadata": {},
     "output_type": "execute_result"
    }
   ],
   "source": [
    "monotonic_series.is_monotonic_decreasing"
   ]
  },
  {
   "cell_type": "code",
   "execution_count": 18,
   "id": "a1703937",
   "metadata": {},
   "outputs": [
    {
     "name": "stdout",
     "output_type": "stream",
     "text": [
      "0       Cola\n",
      "1    Redbull\n",
      "2     Sprite\n",
      "dtype: object\n"
     ]
    }
   ],
   "source": [
    "string_list = [\"Cola\", \"Redbull\", \"Sprite\"]\n",
    "string_series = pd.Series(string_list)\n",
    "print(string_series)"
   ]
  },
  {
   "cell_type": "code",
   "execution_count": 19,
   "id": "db0eaf05",
   "metadata": {},
   "outputs": [
    {
     "data": {
      "text/plain": [
       "True"
      ]
     },
     "execution_count": 19,
     "metadata": {},
     "output_type": "execute_result"
    }
   ],
   "source": [
    "string_series.is_monotonic"
   ]
  },
  {
   "cell_type": "code",
   "execution_count": 20,
   "id": "6ff9091d",
   "metadata": {},
   "outputs": [
    {
     "data": {
      "text/plain": [
       "True"
      ]
     },
     "execution_count": 20,
     "metadata": {},
     "output_type": "execute_result"
    }
   ],
   "source": [
    "string_series.is_monotonic_increasing"
   ]
  },
  {
   "cell_type": "code",
   "execution_count": null,
   "id": "fea82842",
   "metadata": {},
   "outputs": [],
   "source": []
  }
 ],
 "metadata": {
  "kernelspec": {
   "display_name": "Python 3",
   "language": "python",
   "name": "python3"
  },
  "language_info": {
   "codemirror_mode": {
    "name": "ipython",
    "version": 3
   },
   "file_extension": ".py",
   "mimetype": "text/x-python",
   "name": "python",
   "nbconvert_exporter": "python",
   "pygments_lexer": "ipython3",
   "version": "3.8.8"
  }
 },
 "nbformat": 4,
 "nbformat_minor": 5
}
