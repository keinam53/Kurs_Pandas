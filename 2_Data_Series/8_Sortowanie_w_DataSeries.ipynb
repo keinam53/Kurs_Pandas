{
 "cells": [
  {
   "cell_type": "markdown",
   "id": "700dc201",
   "metadata": {},
   "source": [
    "**Sortowanie danych w data series**"
   ]
  },
  {
   "cell_type": "code",
   "execution_count": 1,
   "id": "85f52c87",
   "metadata": {},
   "outputs": [],
   "source": [
    "import pandas as pd\n",
    "import numpy as np\n",
    "import matplotlib.pyplot as plt\n",
    "import math"
   ]
  },
  {
   "cell_type": "code",
   "execution_count": 2,
   "id": "9b05761b",
   "metadata": {},
   "outputs": [
    {
     "data": {
      "text/plain": [
       "0                Bulbasaur\n",
       "1                  Ivysaur\n",
       "2                 Venusaur\n",
       "3    VenusaurMega Venusaur\n",
       "4               Charmander\n",
       "Name: Name, dtype: object"
      ]
     },
     "execution_count": 2,
     "metadata": {},
     "output_type": "execute_result"
    }
   ],
   "source": [
    "pok = pd.read_csv(\"C:/Users/Mariusz Baran/Data_Science_kurs/Data_science_pliki/course-files/pokemon.csv\",\n",
    "                 usecols=[\"Name\"], squeeze=True)\n",
    "pok.head()"
   ]
  },
  {
   "cell_type": "markdown",
   "id": "ebace1a2",
   "metadata": {},
   "source": [
    "Sortowanie po wartości:"
   ]
  },
  {
   "cell_type": "code",
   "execution_count": 3,
   "id": "c30608dc",
   "metadata": {},
   "outputs": [
    {
     "data": {
      "text/plain": [
       "510                  Abomasnow\n",
       "511    AbomasnowMega Abomasnow\n",
       "68                        Abra\n",
       "392                      Absol\n",
       "393            AbsolMega Absol\n",
       "Name: Name, dtype: object"
      ]
     },
     "execution_count": 3,
     "metadata": {},
     "output_type": "execute_result"
    }
   ],
   "source": [
    "pok.sort_values().head()"
   ]
  },
  {
   "cell_type": "markdown",
   "id": "0819d2f9",
   "metadata": {},
   "source": [
    "sortowanie malejące:"
   ]
  },
  {
   "cell_type": "code",
   "execution_count": 5,
   "id": "5862be40",
   "metadata": {},
   "outputs": [
    {
     "data": {
      "text/plain": [
       "794    Zygarde50% Forme\n",
       "695            Zweilous\n",
       "46                Zubat\n",
       "631               Zorua\n",
       "632             Zoroark\n",
       "Name: Name, dtype: object"
      ]
     },
     "execution_count": 5,
     "metadata": {},
     "output_type": "execute_result"
    }
   ],
   "source": [
    "pok.sort_values(ascending=False).head()"
   ]
  },
  {
   "cell_type": "markdown",
   "id": "9eda3849",
   "metadata": {},
   "source": [
    "Sortowanie nie wyływa na obiekt!"
   ]
  },
  {
   "cell_type": "code",
   "execution_count": 6,
   "id": "e8695662",
   "metadata": {},
   "outputs": [
    {
     "data": {
      "text/plain": [
       "0                Bulbasaur\n",
       "1                  Ivysaur\n",
       "2                 Venusaur\n",
       "3    VenusaurMega Venusaur\n",
       "4               Charmander\n",
       "Name: Name, dtype: object"
      ]
     },
     "execution_count": 6,
     "metadata": {},
     "output_type": "execute_result"
    }
   ],
   "source": [
    "pok.head()"
   ]
  },
  {
   "cell_type": "markdown",
   "id": "809dccd0",
   "metadata": {},
   "source": [
    "inplace=True zmienia!"
   ]
  },
  {
   "cell_type": "code",
   "execution_count": 7,
   "id": "e80272bb",
   "metadata": {},
   "outputs": [],
   "source": [
    "pok.sort_values(inplace=True)"
   ]
  },
  {
   "cell_type": "code",
   "execution_count": 8,
   "id": "76d35cc5",
   "metadata": {},
   "outputs": [
    {
     "name": "stdout",
     "output_type": "stream",
     "text": [
      "510                  Abomasnow\n",
      "511    AbomasnowMega Abomasnow\n",
      "68                        Abra\n",
      "392                      Absol\n",
      "393            AbsolMega Absol\n",
      "Name: Name, dtype: object\n"
     ]
    }
   ],
   "source": [
    "print(pok.head())"
   ]
  },
  {
   "cell_type": "markdown",
   "id": "495ba5db",
   "metadata": {},
   "source": [
    "Sortowanie po indexie:"
   ]
  },
  {
   "cell_type": "code",
   "execution_count": 9,
   "id": "5aed9fba",
   "metadata": {},
   "outputs": [
    {
     "data": {
      "text/plain": [
       "0                Bulbasaur\n",
       "1                  Ivysaur\n",
       "2                 Venusaur\n",
       "3    VenusaurMega Venusaur\n",
       "4               Charmander\n",
       "Name: Name, dtype: object"
      ]
     },
     "execution_count": 9,
     "metadata": {},
     "output_type": "execute_result"
    }
   ],
   "source": [
    "pok.sort_index().head()"
   ]
  },
  {
   "cell_type": "code",
   "execution_count": 10,
   "id": "cee40ebb",
   "metadata": {},
   "outputs": [
    {
     "name": "stdout",
     "output_type": "stream",
     "text": [
      "799              Volcanion\n",
      "798     HoopaHoopa Unbound\n",
      "797    HoopaHoopa Confined\n",
      "796    DiancieMega Diancie\n",
      "795                Diancie\n",
      "Name: Name, dtype: object\n"
     ]
    }
   ],
   "source": [
    "pok = pok.sort_index(ascending=False)\n",
    "print(pok.head())"
   ]
  },
  {
   "cell_type": "code",
   "execution_count": null,
   "id": "21b0dc01",
   "metadata": {},
   "outputs": [],
   "source": []
  }
 ],
 "metadata": {
  "kernelspec": {
   "display_name": "Python 3",
   "language": "python",
   "name": "python3"
  },
  "language_info": {
   "codemirror_mode": {
    "name": "ipython",
    "version": 3
   },
   "file_extension": ".py",
   "mimetype": "text/x-python",
   "name": "python",
   "nbconvert_exporter": "python",
   "pygments_lexer": "ipython3",
   "version": "3.8.8"
  }
 },
 "nbformat": 4,
 "nbformat_minor": 5
}
