{
 "cells": [
  {
   "cell_type": "markdown",
   "id": "89a609fa",
   "metadata": {},
   "source": [
    "**Pobieranie wartosci z serii**"
   ]
  },
  {
   "cell_type": "code",
   "execution_count": 4,
   "id": "a19e467c",
   "metadata": {},
   "outputs": [
    {
     "name": "stdout",
     "output_type": "stream",
     "text": [
      "a    Austria\n",
      "b    Belgium\n",
      "c     Canada\n",
      "d    Denmark\n",
      "e    England\n",
      "e    Estonia\n",
      "dtype: object\n"
     ]
    }
   ],
   "source": [
    "import pandas as pd\n",
    "index = [\"a\", \"b\", \"c\", \"d\", \"e\", \"e\"]\n",
    "values = [\"Austria\", \"Belgium\", \"Canada\", \"Denmark\", \"England\", \"Estonia\"]\n",
    "s = pd.Series(values, index)\n",
    "print(s)"
   ]
  },
  {
   "cell_type": "markdown",
   "id": "e60e9069",
   "metadata": {},
   "source": [
    "**Operator [ ]**\n",
    "\n",
    "Pobieranie wartości po pozycji:"
   ]
  },
  {
   "cell_type": "code",
   "execution_count": 5,
   "id": "bd3f4502",
   "metadata": {},
   "outputs": [
    {
     "data": {
      "text/plain": [
       "'Belgium'"
      ]
     },
     "execution_count": 5,
     "metadata": {},
     "output_type": "execute_result"
    }
   ],
   "source": [
    "s[1]"
   ]
  },
  {
   "cell_type": "code",
   "execution_count": 6,
   "id": "5debbd1d",
   "metadata": {},
   "outputs": [
    {
     "data": {
      "text/plain": [
       "'Belgium'"
      ]
     },
     "execution_count": 6,
     "metadata": {},
     "output_type": "execute_result"
    }
   ],
   "source": [
    "s[\"b\"]"
   ]
  },
  {
   "cell_type": "markdown",
   "id": "83bcdc71",
   "metadata": {},
   "source": [
    "Jeśli index nie jest unikalny:"
   ]
  },
  {
   "cell_type": "code",
   "execution_count": 7,
   "id": "ad01116e",
   "metadata": {},
   "outputs": [
    {
     "data": {
      "text/plain": [
       "e    England\n",
       "e    Estonia\n",
       "dtype: object"
      ]
     },
     "execution_count": 7,
     "metadata": {},
     "output_type": "execute_result"
    }
   ],
   "source": [
    "s[\"e\"]"
   ]
  },
  {
   "cell_type": "markdown",
   "id": "6996025b",
   "metadata": {},
   "source": [
    "**Metoda get()**\n",
    "\n",
    "Pobieranie wartości po pozycji:"
   ]
  },
  {
   "cell_type": "code",
   "execution_count": 9,
   "id": "79b30c7d",
   "metadata": {},
   "outputs": [
    {
     "data": {
      "text/plain": [
       "'Belgium'"
      ]
     },
     "execution_count": 9,
     "metadata": {},
     "output_type": "execute_result"
    }
   ],
   "source": [
    "s.get(1)"
   ]
  },
  {
   "cell_type": "code",
   "execution_count": 10,
   "id": "55c77b8f",
   "metadata": {},
   "outputs": [
    {
     "data": {
      "text/plain": [
       "'Belgium'"
      ]
     },
     "execution_count": 10,
     "metadata": {},
     "output_type": "execute_result"
    }
   ],
   "source": [
    "s.get(\"b\")"
   ]
  },
  {
   "cell_type": "markdown",
   "id": "a1b8b7d3",
   "metadata": {},
   "source": [
    "Jeśli index nie jest unikalny:"
   ]
  },
  {
   "cell_type": "code",
   "execution_count": 11,
   "id": "d71fe332",
   "metadata": {},
   "outputs": [
    {
     "data": {
      "text/plain": [
       "e    England\n",
       "e    Estonia\n",
       "dtype: object"
      ]
     },
     "execution_count": 11,
     "metadata": {},
     "output_type": "execute_result"
    }
   ],
   "source": [
    "s.get(\"e\")"
   ]
  },
  {
   "cell_type": "markdown",
   "id": "df08476c",
   "metadata": {},
   "source": [
    "**Metoda at[ ]**\n",
    "\n",
    "Pobieranie wartości po pozycji:"
   ]
  },
  {
   "cell_type": "code",
   "execution_count": null,
   "id": "063188cc",
   "metadata": {},
   "outputs": [],
   "source": [
    "s.at[1] #BŁĄD!"
   ]
  },
  {
   "cell_type": "code",
   "execution_count": 14,
   "id": "74d49ca1",
   "metadata": {},
   "outputs": [
    {
     "data": {
      "text/plain": [
       "'Belgium'"
      ]
     },
     "execution_count": 14,
     "metadata": {},
     "output_type": "execute_result"
    }
   ],
   "source": [
    "s.at[\"b\"]"
   ]
  },
  {
   "cell_type": "markdown",
   "id": "9e9526b9",
   "metadata": {},
   "source": [
    "Jeśli index nie jest unikalny:"
   ]
  },
  {
   "cell_type": "code",
   "execution_count": 15,
   "id": "89b7dd6e",
   "metadata": {},
   "outputs": [
    {
     "data": {
      "text/plain": [
       "e    England\n",
       "e    Estonia\n",
       "dtype: object"
      ]
     },
     "execution_count": 15,
     "metadata": {},
     "output_type": "execute_result"
    }
   ],
   "source": [
    "s.at[\"e\"]"
   ]
  },
  {
   "cell_type": "markdown",
   "id": "9495f3f7",
   "metadata": {},
   "source": [
    "**Metoda iat[ ]**\n",
    "\n",
    "Pobieranie wartości po pozycji:\n"
   ]
  },
  {
   "cell_type": "code",
   "execution_count": 16,
   "id": "011449d4",
   "metadata": {},
   "outputs": [
    {
     "data": {
      "text/plain": [
       "'Belgium'"
      ]
     },
     "execution_count": 16,
     "metadata": {},
     "output_type": "execute_result"
    }
   ],
   "source": [
    "s.iat[1]"
   ]
  },
  {
   "cell_type": "code",
   "execution_count": null,
   "id": "91918c92",
   "metadata": {},
   "outputs": [],
   "source": [
    "s.iat[\"b\"] #BŁĄD!"
   ]
  },
  {
   "cell_type": "markdown",
   "id": "8073fc71",
   "metadata": {},
   "source": [
    "Jeśli index nie jest unikalny:"
   ]
  },
  {
   "cell_type": "code",
   "execution_count": null,
   "id": "d3af68d3",
   "metadata": {},
   "outputs": [],
   "source": [
    "s.iat[[1, 2]] #BŁĄD!"
   ]
  },
  {
   "cell_type": "markdown",
   "id": "7aa78e07",
   "metadata": {},
   "source": [
    "**Metoda loc[ ]**\n",
    "\n",
    "Pobieranie wartości po pozycji:\n"
   ]
  },
  {
   "cell_type": "code",
   "execution_count": null,
   "id": "22ddde14",
   "metadata": {},
   "outputs": [],
   "source": [
    "s.loc[1] #BŁĄD!"
   ]
  },
  {
   "cell_type": "code",
   "execution_count": 20,
   "id": "49daebbe",
   "metadata": {},
   "outputs": [
    {
     "data": {
      "text/plain": [
       "'Belgium'"
      ]
     },
     "execution_count": 20,
     "metadata": {},
     "output_type": "execute_result"
    }
   ],
   "source": [
    "s.loc[\"b\"]"
   ]
  },
  {
   "cell_type": "markdown",
   "id": "145cec84",
   "metadata": {},
   "source": [
    "Jeśli index nie jest unikalny:"
   ]
  },
  {
   "cell_type": "code",
   "execution_count": 21,
   "id": "2808a0e7",
   "metadata": {},
   "outputs": [
    {
     "data": {
      "text/plain": [
       "e    England\n",
       "e    Estonia\n",
       "dtype: object"
      ]
     },
     "execution_count": 21,
     "metadata": {},
     "output_type": "execute_result"
    }
   ],
   "source": [
    "s.loc[\"e\"]"
   ]
  },
  {
   "cell_type": "markdown",
   "id": "72b56be0",
   "metadata": {},
   "source": [
    "**Metoda iloc[ ]**\n",
    "\n",
    "Pobieranie wartości po pozycji:\n"
   ]
  },
  {
   "cell_type": "code",
   "execution_count": 22,
   "id": "38431198",
   "metadata": {},
   "outputs": [
    {
     "data": {
      "text/plain": [
       "'Belgium'"
      ]
     },
     "execution_count": 22,
     "metadata": {},
     "output_type": "execute_result"
    }
   ],
   "source": [
    "s.iloc[1]"
   ]
  },
  {
   "cell_type": "code",
   "execution_count": null,
   "id": "e6a77379",
   "metadata": {},
   "outputs": [],
   "source": [
    "s.iloc[\"b\"] #BŁAD!"
   ]
  },
  {
   "cell_type": "markdown",
   "id": "441dbb9f",
   "metadata": {},
   "source": [
    "Jeśli index nie jest unikalny:"
   ]
  },
  {
   "cell_type": "code",
   "execution_count": 24,
   "id": "df7f306a",
   "metadata": {},
   "outputs": [
    {
     "data": {
      "text/plain": [
       "b    Belgium\n",
       "c     Canada\n",
       "dtype: object"
      ]
     },
     "execution_count": 24,
     "metadata": {},
     "output_type": "execute_result"
    }
   ],
   "source": [
    "s.iloc[[1, 2]]"
   ]
  },
  {
   "cell_type": "code",
   "execution_count": null,
   "id": "9b8870b0",
   "metadata": {},
   "outputs": [],
   "source": []
  }
 ],
 "metadata": {
  "kernelspec": {
   "display_name": "Python 3",
   "language": "python",
   "name": "python3"
  },
  "language_info": {
   "codemirror_mode": {
    "name": "ipython",
    "version": 3
   },
   "file_extension": ".py",
   "mimetype": "text/x-python",
   "name": "python",
   "nbconvert_exporter": "python",
   "pygments_lexer": "ipython3",
   "version": "3.8.8"
  }
 },
 "nbformat": 4,
 "nbformat_minor": 5
}
