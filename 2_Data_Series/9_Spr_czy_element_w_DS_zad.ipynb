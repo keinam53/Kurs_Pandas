{
 "cells": [
  {
   "cell_type": "code",
   "execution_count": 1,
   "id": "cdc0c35a",
   "metadata": {},
   "outputs": [],
   "source": [
    "import pandas as pd\n",
    "import numpy as np\n",
    "import matplotlib.pyplot as plt\n",
    "import math"
   ]
  },
  {
   "cell_type": "code",
   "execution_count": 3,
   "id": "5c5eff6f",
   "metadata": {},
   "outputs": [
    {
     "data": {
      "text/plain": [
       "0     United States\n",
       "1    United Kingdom\n",
       "2    United Kingdom\n",
       "3     United States\n",
       "4       Switzerland\n",
       "Name: Country, dtype: object"
      ]
     },
     "execution_count": 3,
     "metadata": {},
     "output_type": "execute_result"
    }
   ],
   "source": [
    "countries = pd.read_csv(\"C:/Users/Mariusz Baran/Data_Science_kurs/Data_science_pliki/course-files/StackOverflowDeveloperSurvey.csv\",\n",
    "                 usecols=[\"Country\"], squeeze=True).dropna()\n",
    "countries.head()"
   ]
  },
  {
   "cell_type": "markdown",
   "id": "0e84445d",
   "metadata": {},
   "source": [
    "Spain nie jest indexem!"
   ]
  },
  {
   "cell_type": "code",
   "execution_count": 4,
   "id": "a776c71c",
   "metadata": {},
   "outputs": [
    {
     "data": {
      "text/plain": [
       "False"
      ]
     },
     "execution_count": 4,
     "metadata": {},
     "output_type": "execute_result"
    }
   ],
   "source": [
    "\"Spain\" in countries"
   ]
  },
  {
   "cell_type": "markdown",
   "id": "510a2312",
   "metadata": {},
   "source": [
    "Spain jest wartością!"
   ]
  },
  {
   "cell_type": "code",
   "execution_count": 5,
   "id": "a8db21d5",
   "metadata": {},
   "outputs": [
    {
     "data": {
      "text/plain": [
       "True"
      ]
     },
     "execution_count": 5,
     "metadata": {},
     "output_type": "execute_result"
    }
   ],
   "source": [
    "\"Spain\" in countries.values"
   ]
  },
  {
   "cell_type": "code",
   "execution_count": null,
   "id": "4e5f4ed6",
   "metadata": {},
   "outputs": [],
   "source": []
  }
 ],
 "metadata": {
  "kernelspec": {
   "display_name": "Python 3",
   "language": "python",
   "name": "python3"
  },
  "language_info": {
   "codemirror_mode": {
    "name": "ipython",
    "version": 3
   },
   "file_extension": ".py",
   "mimetype": "text/x-python",
   "name": "python",
   "nbconvert_exporter": "python",
   "pygments_lexer": "ipython3",
   "version": "3.8.8"
  }
 },
 "nbformat": 4,
 "nbformat_minor": 5
}
