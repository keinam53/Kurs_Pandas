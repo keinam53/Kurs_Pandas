{
 "cells": [
  {
   "cell_type": "code",
   "execution_count": 1,
   "id": "bf67750a",
   "metadata": {},
   "outputs": [],
   "source": [
    "import pandas as pd\n",
    "import numpy as np\n",
    "import matplotlib.pyplot as plt\n",
    "import math"
   ]
  },
  {
   "cell_type": "code",
   "execution_count": 2,
   "id": "0c27baf7",
   "metadata": {},
   "outputs": [],
   "source": [
    "pok = pd.read_csv(\"C:/Users/Mariusz Baran/Data_Science_kurs/Data_science_pliki/course-files/pokemon.csv\",\n",
    "           usecols=[\"Attack\", \"Name\"], squeeze=True, index_col=\"Name\")"
   ]
  },
  {
   "cell_type": "code",
   "execution_count": 3,
   "id": "c7ffe07d",
   "metadata": {},
   "outputs": [
    {
     "data": {
      "text/plain": [
       "Name\n",
       "Bulbasaur                 49\n",
       "Ivysaur                   62\n",
       "Venusaur                  82\n",
       "VenusaurMega Venusaur    100\n",
       "Charmander                52\n",
       "Name: Attack, dtype: int64"
      ]
     },
     "execution_count": 3,
     "metadata": {},
     "output_type": "execute_result"
    }
   ],
   "source": [
    "pok.head()"
   ]
  },
  {
   "cell_type": "code",
   "execution_count": 4,
   "id": "d73ec196",
   "metadata": {},
   "outputs": [
    {
     "data": {
      "text/plain": [
       "800"
      ]
     },
     "execution_count": 4,
     "metadata": {},
     "output_type": "execute_result"
    }
   ],
   "source": [
    "pok.count()"
   ]
  },
  {
   "cell_type": "code",
   "execution_count": 6,
   "id": "d97ff7f5",
   "metadata": {},
   "outputs": [],
   "source": [
    "pok_type = pd.read_csv(\"C:/Users/Mariusz Baran/Data_Science_kurs/Data_science_pliki/course-files/pokemon.csv\",\n",
    "           usecols=[\"Name\", \"Type 2\"], squeeze=True, index_col=\"Name\")"
   ]
  },
  {
   "cell_type": "code",
   "execution_count": 7,
   "id": "646d0dda",
   "metadata": {},
   "outputs": [
    {
     "data": {
      "text/plain": [
       "Name\n",
       "Bulbasaur                Poison\n",
       "Ivysaur                  Poison\n",
       "Venusaur                 Poison\n",
       "VenusaurMega Venusaur    Poison\n",
       "Charmander                  NaN\n",
       "Name: Type 2, dtype: object"
      ]
     },
     "execution_count": 7,
     "metadata": {},
     "output_type": "execute_result"
    }
   ],
   "source": [
    "pok_type.head()"
   ]
  },
  {
   "cell_type": "markdown",
   "id": "581855b1",
   "metadata": {},
   "source": [
    "Zliczenie wszystkich typów"
   ]
  },
  {
   "cell_type": "code",
   "execution_count": 8,
   "id": "a83d76dc",
   "metadata": {},
   "outputs": [
    {
     "data": {
      "text/plain": [
       "Flying      97\n",
       "Ground      35\n",
       "Poison      34\n",
       "Psychic     33\n",
       "Fighting    26\n",
       "Grass       25\n",
       "Fairy       23\n",
       "Steel       22\n",
       "Dark        20\n",
       "Dragon      18\n",
       "Ice         14\n",
       "Rock        14\n",
       "Water       14\n",
       "Ghost       14\n",
       "Fire        12\n",
       "Electric     6\n",
       "Normal       4\n",
       "Bug          3\n",
       "Name: Type 2, dtype: int64"
      ]
     },
     "execution_count": 8,
     "metadata": {},
     "output_type": "execute_result"
    }
   ],
   "source": [
    "pok_type.value_counts()"
   ]
  },
  {
   "cell_type": "code",
   "execution_count": 9,
   "id": "a7300fcf",
   "metadata": {},
   "outputs": [
    {
     "data": {
      "text/plain": [
       "Flying      97\n",
       "Ground      35\n",
       "Poison      34\n",
       "Psychic     33\n",
       "Fighting    26\n",
       "Name: Type 2, dtype: int64"
      ]
     },
     "execution_count": 9,
     "metadata": {},
     "output_type": "execute_result"
    }
   ],
   "source": [
    "pok_type.value_counts().head()"
   ]
  },
  {
   "cell_type": "code",
   "execution_count": 10,
   "id": "dacec77e",
   "metadata": {},
   "outputs": [
    {
     "data": {
      "text/plain": [
       "5"
      ]
     },
     "execution_count": 10,
     "metadata": {},
     "output_type": "execute_result"
    }
   ],
   "source": [
    "pok.min()"
   ]
  },
  {
   "cell_type": "code",
   "execution_count": 11,
   "id": "4d53238d",
   "metadata": {},
   "outputs": [
    {
     "data": {
      "text/plain": [
       "190"
      ]
     },
     "execution_count": 11,
     "metadata": {},
     "output_type": "execute_result"
    }
   ],
   "source": [
    "pok.max()"
   ]
  },
  {
   "cell_type": "code",
   "execution_count": 14,
   "id": "d8055612",
   "metadata": {},
   "outputs": [
    {
     "name": "stdout",
     "output_type": "stream",
     "text": [
      "Chansey\n",
      "MewtwoMega Mewtwo X\n"
     ]
    }
   ],
   "source": [
    "print(pok.idxmin())\n",
    "print(pok.idxmax())"
   ]
  },
  {
   "cell_type": "markdown",
   "id": "a6d47622",
   "metadata": {},
   "source": [
    "Średnia - suma / ilość"
   ]
  },
  {
   "cell_type": "code",
   "execution_count": 15,
   "id": "41187ad3",
   "metadata": {},
   "outputs": [
    {
     "data": {
      "text/plain": [
       "79.00125"
      ]
     },
     "execution_count": 15,
     "metadata": {},
     "output_type": "execute_result"
    }
   ],
   "source": [
    "pok.mean()"
   ]
  },
  {
   "cell_type": "markdown",
   "id": "6f4b5943",
   "metadata": {},
   "source": [
    "Mediana - wartość środkowa"
   ]
  },
  {
   "cell_type": "code",
   "execution_count": 16,
   "id": "bbf6422f",
   "metadata": {},
   "outputs": [
    {
     "data": {
      "text/plain": [
       "75.0"
      ]
     },
     "execution_count": 16,
     "metadata": {},
     "output_type": "execute_result"
    }
   ],
   "source": [
    "pok.median()"
   ]
  },
  {
   "cell_type": "markdown",
   "id": "b7bd3267",
   "metadata": {},
   "source": [
    "Odchylenie standardowe -  jak szeroko wartości jakiejś wielkości są rozrzucone wokół jej średniej"
   ]
  },
  {
   "cell_type": "code",
   "execution_count": 17,
   "id": "63b830c6",
   "metadata": {},
   "outputs": [
    {
     "data": {
      "text/plain": [
       "32.45736586949843"
      ]
     },
     "execution_count": 17,
     "metadata": {},
     "output_type": "execute_result"
    }
   ],
   "source": [
    "pok.std()"
   ]
  },
  {
   "cell_type": "code",
   "execution_count": null,
   "id": "d0bc2a16",
   "metadata": {},
   "outputs": [],
   "source": []
  }
 ],
 "metadata": {
  "kernelspec": {
   "display_name": "Python 3",
   "language": "python",
   "name": "python3"
  },
  "language_info": {
   "codemirror_mode": {
    "name": "ipython",
    "version": 3
   },
   "file_extension": ".py",
   "mimetype": "text/x-python",
   "name": "python",
   "nbconvert_exporter": "python",
   "pygments_lexer": "ipython3",
   "version": "3.8.8"
  }
 },
 "nbformat": 4,
 "nbformat_minor": 5
}
