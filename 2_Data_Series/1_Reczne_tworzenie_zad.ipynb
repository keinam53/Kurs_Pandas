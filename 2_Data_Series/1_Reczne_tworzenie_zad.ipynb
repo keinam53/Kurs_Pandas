{
 "cells": [
  {
   "cell_type": "code",
   "execution_count": 1,
   "id": "a5e7f129",
   "metadata": {},
   "outputs": [],
   "source": [
    "import pandas as pd\n",
    "import numpy as np\n",
    "import matplotlib.pyplot as plt\n",
    "import math"
   ]
  },
  {
   "cell_type": "code",
   "execution_count": 2,
   "id": "09d2a757",
   "metadata": {},
   "outputs": [],
   "source": [
    "%matplotlib inline"
   ]
  },
  {
   "cell_type": "code",
   "execution_count": 3,
   "id": "1ef7de23",
   "metadata": {},
   "outputs": [
    {
     "name": "stdout",
     "output_type": "stream",
     "text": [
      "0    Poniedziałek\n",
      "1          Wtorek\n",
      "2           Sroda\n",
      "3        Czwartek\n",
      "4          Piatek\n",
      "5          Sobota\n",
      "6       Niedziela\n",
      "dtype: object\n"
     ]
    }
   ],
   "source": [
    "weekdays = [\"Poniedziałek\", \"Wtorek\", \"Sroda\", \"Czwartek\", \"Piatek\", \"Sobota\", \"Niedziela\"]\n",
    "weekdays_series = pd.Series(weekdays)\n",
    "print(weekdays_series)"
   ]
  },
  {
   "cell_type": "code",
   "execution_count": 4,
   "id": "e581c88b",
   "metadata": {},
   "outputs": [
    {
     "name": "stdout",
     "output_type": "stream",
     "text": [
      "0    False\n",
      "1    False\n",
      "2    False\n",
      "3    False\n",
      "4    False\n",
      "5     True\n",
      "6     True\n",
      "dtype: bool\n"
     ]
    }
   ],
   "source": [
    "free_days = [False, False, False, False, False, True, True]\n",
    "free_days_series = pd.Series(free_days)\n",
    "print(free_days_series)"
   ]
  },
  {
   "cell_type": "code",
   "execution_count": null,
   "id": "9471450a",
   "metadata": {},
   "outputs": [],
   "source": [
    "holidays = {\"Nowy Rok\": 2021-01-01,\n",
    "           \"Trzech Króli\": 2021-01-06,\n",
    "           \"Wielkanoc\": 2021-04-04}\n",
    "holidays_series = pd.Series()"
   ]
  }
 ],
 "metadata": {
  "kernelspec": {
   "display_name": "Python 3",
   "language": "python",
   "name": "python3"
  },
  "language_info": {
   "codemirror_mode": {
    "name": "ipython",
    "version": 3
   },
   "file_extension": ".py",
   "mimetype": "text/x-python",
   "name": "python",
   "nbconvert_exporter": "python",
   "pygments_lexer": "ipython3",
   "version": "3.8.8"
  }
 },
 "nbformat": 4,
 "nbformat_minor": 5
}
