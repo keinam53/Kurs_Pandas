{
 "cells": [
  {
   "cell_type": "markdown",
   "id": "2984c38a",
   "metadata": {},
   "source": [
    "**Modyfikacja serii danych**"
   ]
  },
  {
   "cell_type": "code",
   "execution_count": 1,
   "id": "b1cd3abb",
   "metadata": {},
   "outputs": [],
   "source": [
    "import pandas as pd\n",
    "import numpy as np\n",
    "import matplotlib.pyplot as plt\n",
    "import math"
   ]
  },
  {
   "cell_type": "code",
   "execution_count": 2,
   "id": "7bae8177",
   "metadata": {},
   "outputs": [],
   "source": [
    "pok = pd.read_csv(\"C:/Users/Mariusz Baran/Data_Science_kurs/Data_science_pliki/course-files/pokemon.csv\",\n",
    "           usecols=[\"Attack\", \"Name\"], squeeze=True, index_col=\"Name\")"
   ]
  },
  {
   "cell_type": "code",
   "execution_count": 3,
   "id": "d31447f6",
   "metadata": {},
   "outputs": [
    {
     "data": {
      "text/plain": [
       "Name\n",
       "Bulbasaur                 49\n",
       "Ivysaur                   62\n",
       "Venusaur                  82\n",
       "VenusaurMega Venusaur    100\n",
       "Charmander                52\n",
       "Name: Attack, dtype: int64"
      ]
     },
     "execution_count": 3,
     "metadata": {},
     "output_type": "execute_result"
    }
   ],
   "source": [
    "pok.head()"
   ]
  },
  {
   "cell_type": "markdown",
   "id": "c2553861",
   "metadata": {},
   "source": [
    "Mnożenie wartości:"
   ]
  },
  {
   "cell_type": "code",
   "execution_count": 8,
   "id": "b1b8cb76",
   "metadata": {},
   "outputs": [
    {
     "data": {
      "text/plain": [
       "Name\n",
       "Bulbasaur                 4900\n",
       "Ivysaur                   6200\n",
       "Venusaur                  8200\n",
       "VenusaurMega Venusaur    10000\n",
       "Charmander                5200\n",
       "Name: Attack, dtype: int64"
      ]
     },
     "execution_count": 8,
     "metadata": {},
     "output_type": "execute_result"
    }
   ],
   "source": [
    "pok_100 = pok * 100\n",
    "pok_100.head()"
   ]
  },
  {
   "cell_type": "markdown",
   "id": "e1063939",
   "metadata": {},
   "source": [
    "Modyfikacja napisów:"
   ]
  },
  {
   "cell_type": "code",
   "execution_count": 9,
   "id": "aabded0b",
   "metadata": {},
   "outputs": [
    {
     "data": {
      "text/plain": [
       "Name\n",
       "Bulbasaur                Grass\n",
       "Ivysaur                  Grass\n",
       "Venusaur                 Grass\n",
       "VenusaurMega Venusaur    Grass\n",
       "Charmander                Fire\n",
       "Name: Type 1, dtype: object"
      ]
     },
     "execution_count": 9,
     "metadata": {},
     "output_type": "execute_result"
    }
   ],
   "source": [
    "pok = pd.read_csv(\"C:/Users/Mariusz Baran/Data_Science_kurs/Data_science_pliki/course-files/pokemon.csv\",\n",
    "           usecols=[\"Type 1\", \"Name\"], squeeze=True, index_col=\"Name\")\n",
    "pok.head()"
   ]
  },
  {
   "cell_type": "code",
   "execution_count": 10,
   "id": "89da35a2",
   "metadata": {},
   "outputs": [
    {
     "data": {
      "text/plain": [
       "Name\n",
       "Bulbasaur                GRASS\n",
       "Ivysaur                  GRASS\n",
       "Venusaur                 GRASS\n",
       "VenusaurMega Venusaur    GRASS\n",
       "Charmander                FIRE\n",
       "Name: Type 1, dtype: object"
      ]
     },
     "execution_count": 10,
     "metadata": {},
     "output_type": "execute_result"
    }
   ],
   "source": [
    "pok_upper = pok.str.upper()\n",
    "pok_upper.head()"
   ]
  },
  {
   "cell_type": "code",
   "execution_count": 11,
   "id": "87e05e44",
   "metadata": {},
   "outputs": [
    {
     "data": {
      "text/plain": [
       "Name\n",
       "Bulbasaur                TYPE: GRASS\n",
       "Ivysaur                  TYPE: GRASS\n",
       "Venusaur                 TYPE: GRASS\n",
       "VenusaurMega Venusaur    TYPE: GRASS\n",
       "Charmander                TYPE: FIRE\n",
       "Name: Type 1, dtype: object"
      ]
     },
     "execution_count": 11,
     "metadata": {},
     "output_type": "execute_result"
    }
   ],
   "source": [
    "pok_with_type = \"TYPE: \" + pok.str.upper()\n",
    "pok_with_type.head()"
   ]
  },
  {
   "cell_type": "code",
   "execution_count": 12,
   "id": "ae7c4082",
   "metadata": {},
   "outputs": [
    {
     "data": {
      "text/plain": [
       "Name\n",
       "Bulbasaur                Grass\n",
       "Ivysaur                  Grass\n",
       "Venusaur                 Grass\n",
       "VenusaurMega Venusaur    Grass\n",
       "Charmander                Fire\n",
       "Name: Type 1, dtype: object"
      ]
     },
     "execution_count": 12,
     "metadata": {},
     "output_type": "execute_result"
    }
   ],
   "source": [
    "pok.head()"
   ]
  },
  {
   "cell_type": "code",
   "execution_count": 14,
   "id": "ab54bcd7",
   "metadata": {},
   "outputs": [
    {
     "data": {
      "text/plain": [
       "Water       112\n",
       "Normal       98\n",
       "Grass        70\n",
       "Bug          69\n",
       "Psychic      57\n",
       "Fire         52\n",
       "Electric     44\n",
       "Rock         44\n",
       "Ground       32\n",
       "Ghost        32\n",
       "Dragon       32\n",
       "Dark         31\n",
       "Poison       28\n",
       "Fighting     27\n",
       "Steel        27\n",
       "Ice          24\n",
       "Fairy        17\n",
       "Flying        4\n",
       "Name: Type 1, dtype: int64"
      ]
     },
     "execution_count": 14,
     "metadata": {},
     "output_type": "execute_result"
    }
   ],
   "source": [
    "pok.value_counts()"
   ]
  },
  {
   "cell_type": "markdown",
   "id": "0384e06d",
   "metadata": {},
   "source": [
    "Zamiana Grass i Ground na nature"
   ]
  },
  {
   "cell_type": "code",
   "execution_count": 15,
   "id": "ca7a594c",
   "metadata": {},
   "outputs": [],
   "source": [
    "def replace_type(old_type):\n",
    "    if old_type == \"Grass\" or old_type == \"Ground\":\n",
    "        return \"Nature\"\n",
    "    else:\n",
    "        return old_type"
   ]
  },
  {
   "cell_type": "code",
   "execution_count": 16,
   "id": "b205994b",
   "metadata": {},
   "outputs": [
    {
     "data": {
      "text/plain": [
       "'Fire'"
      ]
     },
     "execution_count": 16,
     "metadata": {},
     "output_type": "execute_result"
    }
   ],
   "source": [
    "replace_type(\"Fire\")"
   ]
  },
  {
   "cell_type": "code",
   "execution_count": 17,
   "id": "852f6cb7",
   "metadata": {},
   "outputs": [
    {
     "data": {
      "text/plain": [
       "'Nature'"
      ]
     },
     "execution_count": 17,
     "metadata": {},
     "output_type": "execute_result"
    }
   ],
   "source": [
    "replace_type(\"Grass\")"
   ]
  },
  {
   "cell_type": "code",
   "execution_count": 18,
   "id": "d801cfb7",
   "metadata": {},
   "outputs": [
    {
     "data": {
      "text/plain": [
       "Name\n",
       "Bulbasaur                Nature\n",
       "Ivysaur                  Nature\n",
       "Venusaur                 Nature\n",
       "VenusaurMega Venusaur    Nature\n",
       "Charmander                 Fire\n",
       "Name: Type 1, dtype: object"
      ]
     },
     "execution_count": 18,
     "metadata": {},
     "output_type": "execute_result"
    }
   ],
   "source": [
    "pok_nature = pok.apply(replace_type)\n",
    "pok_nature.head()"
   ]
  },
  {
   "cell_type": "code",
   "execution_count": 19,
   "id": "119e4ea6",
   "metadata": {},
   "outputs": [
    {
     "data": {
      "text/plain": [
       "Water       112\n",
       "Nature      102\n",
       "Normal       98\n",
       "Bug          69\n",
       "Psychic      57\n",
       "Fire         52\n",
       "Rock         44\n",
       "Electric     44\n",
       "Dragon       32\n",
       "Ghost        32\n",
       "Dark         31\n",
       "Poison       28\n",
       "Steel        27\n",
       "Fighting     27\n",
       "Ice          24\n",
       "Fairy        17\n",
       "Flying        4\n",
       "Name: Type 1, dtype: int64"
      ]
     },
     "execution_count": 19,
     "metadata": {},
     "output_type": "execute_result"
    }
   ],
   "source": [
    "pok_nature.value_counts()"
   ]
  },
  {
   "cell_type": "markdown",
   "id": "140c1df2",
   "metadata": {},
   "source": [
    "Opreator lambda:"
   ]
  },
  {
   "cell_type": "code",
   "execution_count": 22,
   "id": "8f6086b3",
   "metadata": {},
   "outputs": [
    {
     "data": {
      "text/plain": [
       "Name\n",
       "Bulbasaur                GRASS\n",
       "Ivysaur                  GRASS\n",
       "Venusaur                 GRASS\n",
       "VenusaurMega Venusaur    GRASS\n",
       "Charmander                FIRE\n",
       "Name: Type 1, dtype: object"
      ]
     },
     "execution_count": 22,
     "metadata": {},
     "output_type": "execute_result"
    }
   ],
   "source": [
    "pok_lambda = pok.apply(lambda a_text: a_text.upper())\n",
    "pok_lambda.head()"
   ]
  },
  {
   "cell_type": "code",
   "execution_count": null,
   "id": "54165596",
   "metadata": {},
   "outputs": [],
   "source": []
  }
 ],
 "metadata": {
  "kernelspec": {
   "display_name": "Python 3",
   "language": "python",
   "name": "python3"
  },
  "language_info": {
   "codemirror_mode": {
    "name": "ipython",
    "version": 3
   },
   "file_extension": ".py",
   "mimetype": "text/x-python",
   "name": "python",
   "nbconvert_exporter": "python",
   "pygments_lexer": "ipython3",
   "version": "3.8.8"
  }
 },
 "nbformat": 4,
 "nbformat_minor": 5
}
