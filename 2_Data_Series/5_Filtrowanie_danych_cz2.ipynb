{
 "cells": [
  {
   "cell_type": "code",
   "execution_count": 1,
   "id": "e1c2527e",
   "metadata": {},
   "outputs": [],
   "source": [
    "import pandas as pd\n",
    "import numpy as np\n",
    "import matplotlib.pyplot as plt\n",
    "import math"
   ]
  },
  {
   "cell_type": "code",
   "execution_count": 2,
   "id": "bd98c217",
   "metadata": {},
   "outputs": [
    {
     "name": "stdout",
     "output_type": "stream",
     "text": [
      "[1, 2, 3, 11, 12, 13]\n"
     ]
    }
   ],
   "source": [
    "numbers = [1, 2, 3, 11, 12, 13]\n",
    "print(numbers)"
   ]
  },
  {
   "cell_type": "code",
   "execution_count": 3,
   "id": "434e1ca9",
   "metadata": {},
   "outputs": [
    {
     "name": "stdout",
     "output_type": "stream",
     "text": [
      "0     1\n",
      "1     2\n",
      "2     3\n",
      "3    11\n",
      "4    12\n",
      "5    13\n",
      "dtype: int64\n"
     ]
    }
   ],
   "source": [
    "num_series = pd.Series(numbers)\n",
    "print(num_series)"
   ]
  },
  {
   "cell_type": "markdown",
   "id": "c7319922",
   "metadata": {},
   "source": [
    "**Parzyste i większe od 10**"
   ]
  },
  {
   "cell_type": "code",
   "execution_count": 8,
   "id": "f93e8ff6",
   "metadata": {},
   "outputs": [
    {
     "name": "stdout",
     "output_type": "stream",
     "text": [
      "0    False\n",
      "1    False\n",
      "2    False\n",
      "3     True\n",
      "4     True\n",
      "5     True\n",
      "dtype: bool\n"
     ]
    }
   ],
   "source": [
    "wieksze_od_10 = num_series > 10\n",
    "print(wieksze_od_10)"
   ]
  },
  {
   "cell_type": "code",
   "execution_count": 10,
   "id": "4b724fbf",
   "metadata": {},
   "outputs": [
    {
     "name": "stdout",
     "output_type": "stream",
     "text": [
      "0     True\n",
      "1    False\n",
      "2     True\n",
      "3     True\n",
      "4    False\n",
      "5     True\n",
      "dtype: bool\n"
     ]
    }
   ],
   "source": [
    "parzyste = num_series %2 == 1\n",
    "print(parzyste)"
   ]
  },
  {
   "cell_type": "code",
   "execution_count": 11,
   "id": "0652bfb4",
   "metadata": {},
   "outputs": [
    {
     "data": {
      "text/plain": [
       "3    11.0\n",
       "5    13.0\n",
       "dtype: float64"
      ]
     },
     "execution_count": 11,
     "metadata": {},
     "output_type": "execute_result"
    }
   ],
   "source": [
    "num_series.where(wieksze_od_10 & parzyste).dropna()"
   ]
  },
  {
   "cell_type": "markdown",
   "id": "5072fc9d",
   "metadata": {},
   "source": [
    "**Wartości pomiędzy - between()**"
   ]
  },
  {
   "cell_type": "code",
   "execution_count": 13,
   "id": "f0582861",
   "metadata": {},
   "outputs": [
    {
     "data": {
      "text/plain": [
       "0    False\n",
       "1    False\n",
       "2     True\n",
       "3     True\n",
       "4     True\n",
       "5    False\n",
       "dtype: bool"
      ]
     },
     "execution_count": 13,
     "metadata": {},
     "output_type": "execute_result"
    }
   ],
   "source": [
    "num_series.between(3, 12)"
   ]
  },
  {
   "cell_type": "code",
   "execution_count": 14,
   "id": "2581d410",
   "metadata": {},
   "outputs": [
    {
     "data": {
      "text/plain": [
       "2     3.0\n",
       "3    11.0\n",
       "4    12.0\n",
       "dtype: float64"
      ]
     },
     "execution_count": 14,
     "metadata": {},
     "output_type": "execute_result"
    }
   ],
   "source": [
    "num_series.where(num_series.between(3, 12)).dropna()"
   ]
  },
  {
   "cell_type": "code",
   "execution_count": null,
   "id": "69b6ea35",
   "metadata": {},
   "outputs": [],
   "source": []
  }
 ],
 "metadata": {
  "kernelspec": {
   "display_name": "Python 3",
   "language": "python",
   "name": "python3"
  },
  "language_info": {
   "codemirror_mode": {
    "name": "ipython",
    "version": 3
   },
   "file_extension": ".py",
   "mimetype": "text/x-python",
   "name": "python",
   "nbconvert_exporter": "python",
   "pygments_lexer": "ipython3",
   "version": "3.8.8"
  }
 },
 "nbformat": 4,
 "nbformat_minor": 5
}
