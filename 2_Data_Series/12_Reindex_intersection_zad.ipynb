{
 "cells": [
  {
   "cell_type": "code",
   "execution_count": 1,
   "id": "c624e07b",
   "metadata": {},
   "outputs": [],
   "source": [
    "import pandas as pd"
   ]
  },
  {
   "cell_type": "code",
   "execution_count": 7,
   "id": "94376c6c",
   "metadata": {},
   "outputs": [
    {
     "name": "stdout",
     "output_type": "stream",
     "text": [
      "Symbol\n",
      "AF            Afghanistan\n",
      "AL                Albania\n",
      "DZ                Algeria\n",
      "AD                Andorra\n",
      "AO                 Angola\n",
      "AI               Anguilla\n",
      "AQ             Antarctica\n",
      "AG    Antigua and Barbuda\n",
      "SA           Saudi Arabia\n",
      "AR              Argentina\n",
      "AM                Armenia\n",
      "AW                  Aruba\n",
      "AU              Australia\n",
      "AT                Austria\n",
      "AZ             Azerbaijan\n",
      "BS                Bahamas\n",
      "BH                Bahrain\n",
      "BD             Bangladesh\n",
      "BB               Barbados\n",
      "BE                Belgium\n",
      "Name: Name, dtype: object\n"
     ]
    }
   ],
   "source": [
    "countries = pd.read_csv(\"C:/Users\\Mariusz Baran/Data_Science_kurs/Data_science_pliki/course-files/countries.csv\",\n",
    "                       usecols=[\"Symbol\", \"Name\"],index_col=\"Symbol\", squeeze=True)\n",
    "countries.dropna(inplace=True)\n",
    "print(countries.head(20))"
   ]
  },
  {
   "cell_type": "code",
   "execution_count": 9,
   "id": "2730d6d2",
   "metadata": {},
   "outputs": [],
   "source": [
    "to_find = [\"BB\", \"AA\", \"BS\"] #BŁĄD! - już nie wspierane\n",
    "countries.loc[to_find]"
   ]
  },
  {
   "cell_type": "code",
   "execution_count": 10,
   "id": "d11635a3",
   "metadata": {},
   "outputs": [
    {
     "data": {
      "text/plain": [
       "Symbol\n",
       "BB    Barbados\n",
       "AA         NaN\n",
       "BS     Bahamas\n",
       "Name: Name, dtype: object"
      ]
     },
     "execution_count": 10,
     "metadata": {},
     "output_type": "execute_result"
    }
   ],
   "source": [
    "countries.reindex(to_find)"
   ]
  },
  {
   "cell_type": "code",
   "execution_count": 11,
   "id": "86395dba",
   "metadata": {},
   "outputs": [
    {
     "data": {
      "text/plain": [
       "Symbol\n",
       "BS     Bahamas\n",
       "BB    Barbados\n",
       "Name: Name, dtype: object"
      ]
     },
     "execution_count": 11,
     "metadata": {},
     "output_type": "execute_result"
    }
   ],
   "source": [
    "countries.loc[countries.index.intersection(to_find)]"
   ]
  },
  {
   "cell_type": "code",
   "execution_count": null,
   "id": "b0be22c8",
   "metadata": {},
   "outputs": [],
   "source": []
  }
 ],
 "metadata": {
  "kernelspec": {
   "display_name": "Python 3",
   "language": "python",
   "name": "python3"
  },
  "language_info": {
   "codemirror_mode": {
    "name": "ipython",
    "version": 3
   },
   "file_extension": ".py",
   "mimetype": "text/x-python",
   "name": "python",
   "nbconvert_exporter": "python",
   "pygments_lexer": "ipython3",
   "version": "3.8.8"
  }
 },
 "nbformat": 4,
 "nbformat_minor": 5
}
