{
 "cells": [
  {
   "cell_type": "code",
   "execution_count": 5,
   "id": "5b44898c",
   "metadata": {},
   "outputs": [],
   "source": [
    "import pandas as pd\n",
    "import random as rd"
   ]
  },
  {
   "cell_type": "code",
   "execution_count": 6,
   "id": "82ecc8ca",
   "metadata": {},
   "outputs": [
    {
     "name": "stdout",
     "output_type": "stream",
     "text": [
      "{'PYT001': 'Airbus 320', 'PYT002': 'Boeing 737', 'PYT003': 'Airbus 321'}\n"
     ]
    }
   ],
   "source": [
    "aircrafts_dict = {\"PYT001\": \"Airbus 320\", \"PYT002\": \"Boeing 737\", \"PYT003\": \"Airbus 321\"}\n",
    "print(aircrafts_dict)"
   ]
  },
  {
   "cell_type": "code",
   "execution_count": 7,
   "id": "37c59c38",
   "metadata": {},
   "outputs": [
    {
     "name": "stdout",
     "output_type": "stream",
     "text": [
      "PYT001    Airbus 320\n",
      "PYT002    Boeing 737\n",
      "PYT003    Airbus 321\n",
      "dtype: object\n"
     ]
    }
   ],
   "source": [
    "aircrafts = pd.Series(aircrafts_dict)\n",
    "print(aircrafts)"
   ]
  },
  {
   "cell_type": "code",
   "execution_count": 11,
   "id": "ac233495",
   "metadata": {},
   "outputs": [
    {
     "name": "stdout",
     "output_type": "stream",
     "text": [
      "['PYT003', 'PYT002', 'PYT001', 'PYT001', 'PYT002']\n"
     ]
    }
   ],
   "source": [
    "flights_list = []\n",
    "for planes in range(100):\n",
    "    flights_list.append(rd.choice(aircrafts.index))\n",
    "print(flights_list[:5])"
   ]
  },
  {
   "cell_type": "code",
   "execution_count": 12,
   "id": "2e4c5de4",
   "metadata": {},
   "outputs": [
    {
     "data": {
      "text/plain": [
       "0    PYT003\n",
       "1    PYT002\n",
       "2    PYT001\n",
       "3    PYT001\n",
       "4    PYT002\n",
       "dtype: object"
      ]
     },
     "execution_count": 12,
     "metadata": {},
     "output_type": "execute_result"
    }
   ],
   "source": [
    "flights = pd.Series(flights_list)\n",
    "flights.head()"
   ]
  },
  {
   "cell_type": "code",
   "execution_count": 15,
   "id": "c4e48623",
   "metadata": {},
   "outputs": [
    {
     "name": "stdout",
     "output_type": "stream",
     "text": [
      "0    Airbus 321\n",
      "1    Boeing 737\n",
      "2    Airbus 320\n",
      "3    Airbus 320\n",
      "4    Boeing 737\n",
      "dtype: object\n"
     ]
    }
   ],
   "source": [
    "flights_aircrafts = flights.map(aircrafts)\n",
    "print(flights_aircrafts.head())"
   ]
  },
  {
   "cell_type": "code",
   "execution_count": null,
   "id": "fa6e8ad4",
   "metadata": {},
   "outputs": [],
   "source": []
  }
 ],
 "metadata": {
  "kernelspec": {
   "display_name": "Python 3",
   "language": "python",
   "name": "python3"
  },
  "language_info": {
   "codemirror_mode": {
    "name": "ipython",
    "version": 3
   },
   "file_extension": ".py",
   "mimetype": "text/x-python",
   "name": "python",
   "nbconvert_exporter": "python",
   "pygments_lexer": "ipython3",
   "version": "3.8.8"
  }
 },
 "nbformat": 4,
 "nbformat_minor": 5
}
