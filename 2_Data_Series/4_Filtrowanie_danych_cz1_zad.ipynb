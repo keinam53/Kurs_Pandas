{
 "cells": [
  {
   "cell_type": "code",
   "execution_count": 16,
   "id": "8184d86b",
   "metadata": {},
   "outputs": [],
   "source": [
    "import pandas as pd\n",
    "import numpy as np\n",
    "import matplotlib.pyplot as plt\n",
    "import math"
   ]
  },
  {
   "cell_type": "code",
   "execution_count": 17,
   "id": "d5aa1b7c",
   "metadata": {},
   "outputs": [
    {
     "name": "stdout",
     "output_type": "stream",
     "text": [
      "do 6             14\n",
      "7-14            334\n",
      "15-17           312\n",
      "18-24          5823\n",
      "25-39          9491\n",
      "40-59          7486\n",
      "60 i więcej    4343\n",
      "dtype: int64\n"
     ]
    }
   ],
   "source": [
    "wypadki = [14 ,334 ,312 ,5823 ,9491, 7486, 4343]\n",
    "wiek = [\"do 6\", \"7-14\", \"15-17\", \"18-24\", \"25-39\", \"40-59\", \"60 i więcej\"]\n",
    "series = pd.Series(data=wypadki, index=wiek)\n",
    "print(series)"
   ]
  },
  {
   "cell_type": "code",
   "execution_count": 18,
   "id": "220d70ac",
   "metadata": {
    "scrolled": true
   },
   "outputs": [
    {
     "data": {
      "text/plain": [
       "do 6              NaN\n",
       "7-14              NaN\n",
       "15-17             NaN\n",
       "18-24          5823.0\n",
       "25-39          9491.0\n",
       "40-59          7486.0\n",
       "60 i więcej    4343.0\n",
       "dtype: float64"
      ]
     },
     "execution_count": 18,
     "metadata": {},
     "output_type": "execute_result"
    }
   ],
   "source": [
    "series.where(series > 1000)"
   ]
  },
  {
   "cell_type": "code",
   "execution_count": 20,
   "id": "4efaf0c2",
   "metadata": {},
   "outputs": [
    {
     "name": "stdout",
     "output_type": "stream",
     "text": [
      "18-24          5823.0\n",
      "25-39          9491.0\n",
      "40-59          7486.0\n",
      "60 i więcej    4343.0\n",
      "dtype: float64\n"
     ]
    }
   ],
   "source": [
    "series_1000 = series.where(series > 1000).dropna()\n",
    "print(series_1000)"
   ]
  },
  {
   "cell_type": "code",
   "execution_count": 21,
   "id": "d6b4006e",
   "metadata": {},
   "outputs": [
    {
     "name": "stdout",
     "output_type": "stream",
     "text": [
      "do 6             14\n",
      "7-14            334\n",
      "15-17           312\n",
      "18-24          5823\n",
      "25-39          9491\n",
      "40-59          7486\n",
      "60 i więcej    4343\n",
      "dtype: int64\n"
     ]
    }
   ],
   "source": [
    "print(series)"
   ]
  },
  {
   "cell_type": "code",
   "execution_count": 23,
   "id": "2c62f10f",
   "metadata": {},
   "outputs": [
    {
     "data": {
      "text/plain": [
       "18-24    5823\n",
       "25-39    9491\n",
       "40-59    7486\n",
       "dtype: int64"
      ]
     },
     "execution_count": 23,
     "metadata": {},
     "output_type": "execute_result"
    }
   ],
   "source": [
    "series.filter(items=[\"18-24\", \"25-39\", \"40-59\"])"
   ]
  },
  {
   "cell_type": "code",
   "execution_count": 29,
   "id": "124630b4",
   "metadata": {},
   "outputs": [
    {
     "name": "stdout",
     "output_type": "stream",
     "text": [
      "do 6      14.0\n",
      "7-14     334.0\n",
      "15-17    312.0\n",
      "dtype: float64\n"
     ]
    }
   ],
   "source": [
    "series.where(series <= 1000, inplace=True)\n",
    "series.dropna(inplace=True)\n",
    "print(series)"
   ]
  },
  {
   "cell_type": "code",
   "execution_count": null,
   "id": "7d7819ee",
   "metadata": {},
   "outputs": [],
   "source": []
  }
 ],
 "metadata": {
  "kernelspec": {
   "display_name": "Python 3",
   "language": "python",
   "name": "python3"
  },
  "language_info": {
   "codemirror_mode": {
    "name": "ipython",
    "version": 3
   },
   "file_extension": ".py",
   "mimetype": "text/x-python",
   "name": "python",
   "nbconvert_exporter": "python",
   "pygments_lexer": "ipython3",
   "version": "3.8.8"
  }
 },
 "nbformat": 4,
 "nbformat_minor": 5
}
