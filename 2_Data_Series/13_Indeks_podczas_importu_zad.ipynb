{
 "cells": [
  {
   "cell_type": "code",
   "execution_count": 1,
   "id": "8dc6ddbb",
   "metadata": {},
   "outputs": [],
   "source": [
    "import pandas as pd"
   ]
  },
  {
   "cell_type": "code",
   "execution_count": 8,
   "id": "568ea33c",
   "metadata": {},
   "outputs": [
    {
     "name": "stdout",
     "output_type": "stream",
     "text": [
      "Rank\n",
      "1                 Walmart\n",
      "2      Berkshire Hathaway\n",
      "3                   Apple\n",
      "4             Exxon Mobil\n",
      "5                McKesson\n",
      "              ...        \n",
      "496         Michaels Cos.\n",
      "497         Toll Brothers\n",
      "498                 Yahoo\n",
      "499         Vistra Energy\n",
      "500        ABM Industries\n",
      "Name: Title, Length: 500, dtype: object\n"
     ]
    }
   ],
   "source": [
    "fortune_500 = pd.read_csv(\"C:/Users/Mariusz Baran/Data_Science_kurs/Data_science_pliki/course-files/Fortune_500_2017.csv\",\n",
    "                         usecols=[\"Rank\", \"Title\"], index_col=\"Rank\", squeeze=True)\n",
    "print(fortune_500)"
   ]
  },
  {
   "cell_type": "code",
   "execution_count": 9,
   "id": "6ab64dac",
   "metadata": {},
   "outputs": [
    {
     "name": "stdout",
     "output_type": "stream",
     "text": [
      "Rank\n",
      "481           Booz Allen Hamilton Holding\n",
      "482                              Chemours\n",
      "483    Western & Southern Financial Group\n",
      "484                              Celanese\n",
      "485                   Windstream Holdings\n",
      "486                              Seaboard\n",
      "487                             Essendant\n",
      "488                                Apache\n",
      "489                                Airgas\n",
      "490                        Kelly Services\n",
      "491                         Liberty Media\n",
      "492                      Rockwell Collins\n",
      "493             Robert Half International\n",
      "494                             CH2M Hill\n",
      "495                              Big Lots\n",
      "496                         Michaels Cos.\n",
      "497                         Toll Brothers\n",
      "498                                 Yahoo\n",
      "499                         Vistra Energy\n",
      "500                        ABM Industries\n",
      "Name: Title, dtype: object\n"
     ]
    }
   ],
   "source": [
    "print(fortune_500.tail(20))"
   ]
  },
  {
   "cell_type": "code",
   "execution_count": 11,
   "id": "464998b6",
   "metadata": {},
   "outputs": [
    {
     "name": "stdout",
     "output_type": "stream",
     "text": [
      "Title\n",
      "Walmart               2300000\n",
      "Berkshire Hathaway     367700\n",
      "Apple                  116000\n",
      "Exxon Mobil             72700\n",
      "McKesson                68000\n",
      "Name: Employees, dtype: int64\n"
     ]
    }
   ],
   "source": [
    "fortune_500 = pd.read_csv(\"C:/Users/Mariusz Baran/Data_Science_kurs/Data_science_pliki/course-files/Fortune_500_2017.csv\",\n",
    "                         usecols=[\"Employees\", \"Title\"], index_col=\"Title\", squeeze=True)\n",
    "print(fortune_500.head())"
   ]
  },
  {
   "cell_type": "code",
   "execution_count": 21,
   "id": "f838b257",
   "metadata": {},
   "outputs": [
    {
     "name": "stdout",
     "output_type": "stream",
     "text": [
      "IBM: 414400\n",
      "Alphabet (Google): 72053\n",
      "Facebook: 17048\n",
      "Apple: 116000\n"
     ]
    }
   ],
   "source": [
    "print(f'IBM: {fortune_500[\"IBM\"]}')\n",
    "print(f'Alphabet (Google): {fortune_500[\"Alphabet\"]}')\n",
    "print(f'Facebook: {fortune_500[\"Facebook\"]}')\n",
    "print(f'Apple: {fortune_500[\"Apple\"]}')"
   ]
  },
  {
   "cell_type": "code",
   "execution_count": 16,
   "id": "a34d1e1a",
   "metadata": {},
   "outputs": [
    {
     "data": {
      "text/plain": [
       "414400"
      ]
     },
     "execution_count": 16,
     "metadata": {},
     "output_type": "execute_result"
    }
   ],
   "source": [
    "fortune_500[\"IBM\"]"
   ]
  },
  {
   "cell_type": "code",
   "execution_count": null,
   "id": "4eacd89b",
   "metadata": {},
   "outputs": [],
   "source": []
  }
 ],
 "metadata": {
  "kernelspec": {
   "display_name": "Python 3",
   "language": "python",
   "name": "python3"
  },
  "language_info": {
   "codemirror_mode": {
    "name": "ipython",
    "version": 3
   },
   "file_extension": ".py",
   "mimetype": "text/x-python",
   "name": "python",
   "nbconvert_exporter": "python",
   "pygments_lexer": "ipython3",
   "version": "3.8.8"
  }
 },
 "nbformat": 4,
 "nbformat_minor": 5
}
