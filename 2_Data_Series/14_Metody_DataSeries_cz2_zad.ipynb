{
 "cells": [
  {
   "cell_type": "code",
   "execution_count": 1,
   "id": "7da39fc3",
   "metadata": {},
   "outputs": [],
   "source": [
    "import pandas as pd"
   ]
  },
  {
   "cell_type": "code",
   "execution_count": 4,
   "id": "adea7a5b",
   "metadata": {},
   "outputs": [
    {
     "name": "stdout",
     "output_type": "stream",
     "text": [
      "0        NaN\n",
      "1    70841.0\n",
      "2        NaN\n",
      "3        NaN\n",
      "4    21426.0\n",
      "Name: ConvertedSalary, dtype: float64\n"
     ]
    }
   ],
   "source": [
    "programmers = pd.read_csv(\"C:/Users/Mariusz Baran/Data_Science_kurs/Data_science_pliki/course-files/StackOverflowDeveloperSurvey2018.csv\",\n",
    "                         low_memory=False, usecols=[\"ConvertedSalary\"], squeeze=True)\n",
    "print(programmers.head())"
   ]
  },
  {
   "cell_type": "code",
   "execution_count": 5,
   "id": "4f78af06",
   "metadata": {},
   "outputs": [
    {
     "name": "stdout",
     "output_type": "stream",
     "text": [
      "Średnia: 95780.86178776571\n",
      "Mediana: 55075.0\n",
      "Odchylenie standardowe: 202348.21562528735\n"
     ]
    }
   ],
   "source": [
    "print(f'Średnia: {programmers.mean()}')\n",
    "print(f'Mediana: {programmers.median()}')\n",
    "print(f'Odchylenie standardowe: {programmers.std()}')"
   ]
  },
  {
   "cell_type": "code",
   "execution_count": 6,
   "id": "7465fdb8",
   "metadata": {},
   "outputs": [
    {
     "name": "stdout",
     "output_type": "stream",
     "text": [
      "Title\n",
      "Walmart               2300000\n",
      "Berkshire Hathaway     367700\n",
      "Apple                  116000\n",
      "Exxon Mobil             72700\n",
      "McKesson                68000\n",
      "Name: Employees, dtype: int64\n"
     ]
    }
   ],
   "source": [
    "fortune_500 = pd.read_csv(\"C:/Users/Mariusz Baran/Data_Science_kurs/Data_science_pliki/course-files/Fortune_500_2017.csv\",\n",
    "                         usecols=[\"Title\", \"Employees\"], index_col=\"Title\", squeeze=True)\n",
    "print(fortune_500.head())"
   ]
  },
  {
   "cell_type": "code",
   "execution_count": 8,
   "id": "bfb4966e",
   "metadata": {},
   "outputs": [
    {
     "name": "stdout",
     "output_type": "stream",
     "text": [
      "Najwięcej pracowników zatrudnia: Walmart\n"
     ]
    }
   ],
   "source": [
    "print(f'Najwięcej pracowników zatrudnia: {fortune_500.idxmax()}')"
   ]
  },
  {
   "cell_type": "code",
   "execution_count": 16,
   "id": "f6aea37b",
   "metadata": {},
   "outputs": [
    {
     "name": "stdout",
     "output_type": "stream",
     "text": [
      "Walmart zatrudnia 2300000 pracowników\n"
     ]
    }
   ],
   "source": [
    "print(f'{fortune_500.idxmax()} zatrudnia {fortune_500.loc[fortune_500.idxmax()]} pracowników')"
   ]
  },
  {
   "cell_type": "code",
   "execution_count": 17,
   "id": "868c14ac",
   "metadata": {},
   "outputs": [
    {
     "name": "stdout",
     "output_type": "stream",
     "text": [
      "Najmniej pracowników zatrudnia: A-Mark Precious Metals\n"
     ]
    }
   ],
   "source": [
    "print(f'Najmniej pracowników zatrudnia: {fortune_500.idxmin()}')"
   ]
  },
  {
   "cell_type": "code",
   "execution_count": null,
   "id": "9a2af6f5",
   "metadata": {},
   "outputs": [],
   "source": [
    "print(f'{fortune_500.idxmin()} zatrudnia {fortune_500.loc[fortune_500.idxmax()]} pracowników')"
   ]
  }
 ],
 "metadata": {
  "kernelspec": {
   "display_name": "Python 3",
   "language": "python",
   "name": "python3"
  },
  "language_info": {
   "codemirror_mode": {
    "name": "ipython",
    "version": 3
   },
   "file_extension": ".py",
   "mimetype": "text/x-python",
   "name": "python",
   "nbconvert_exporter": "python",
   "pygments_lexer": "ipython3",
   "version": "3.8.8"
  }
 },
 "nbformat": 4,
 "nbformat_minor": 5
}
