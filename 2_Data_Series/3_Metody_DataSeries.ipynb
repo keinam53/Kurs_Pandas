{
 "cells": [
  {
   "cell_type": "code",
   "execution_count": 1,
   "id": "8020c1d6",
   "metadata": {},
   "outputs": [],
   "source": [
    "import pandas as pd\n",
    "import numpy as np\n",
    "import matplotlib.pyplot as plt\n",
    "import math"
   ]
  },
  {
   "cell_type": "code",
   "execution_count": 2,
   "id": "c6f42c5e",
   "metadata": {},
   "outputs": [
    {
     "name": "stdout",
     "output_type": "stream",
     "text": [
      "0     1\n",
      "1     2\n",
      "2     4\n",
      "3    64\n",
      "4    99\n",
      "dtype: int64\n"
     ]
    }
   ],
   "source": [
    "monotonic_list = [1, 2, 4, 64, 99]\n",
    "monotonic_series = pd.Series(monotonic_list)\n",
    "print(monotonic_series)"
   ]
  },
  {
   "cell_type": "code",
   "execution_count": 4,
   "id": "9de7f658",
   "metadata": {},
   "outputs": [
    {
     "data": {
      "text/plain": [
       "170"
      ]
     },
     "execution_count": 4,
     "metadata": {},
     "output_type": "execute_result"
    }
   ],
   "source": [
    "monotonic_series.sum()"
   ]
  },
  {
   "cell_type": "code",
   "execution_count": 5,
   "id": "b2a38dbc",
   "metadata": {},
   "outputs": [
    {
     "data": {
      "text/plain": [
       "1"
      ]
     },
     "execution_count": 5,
     "metadata": {},
     "output_type": "execute_result"
    }
   ],
   "source": [
    "monotonic_series.min()"
   ]
  },
  {
   "cell_type": "code",
   "execution_count": 6,
   "id": "7f0a1fff",
   "metadata": {},
   "outputs": [
    {
     "data": {
      "text/plain": [
       "99"
      ]
     },
     "execution_count": 6,
     "metadata": {},
     "output_type": "execute_result"
    }
   ],
   "source": [
    "monotonic_series.max()"
   ]
  },
  {
   "cell_type": "code",
   "execution_count": 7,
   "id": "38e32753",
   "metadata": {},
   "outputs": [
    {
     "data": {
      "text/plain": [
       "34.0"
      ]
     },
     "execution_count": 7,
     "metadata": {},
     "output_type": "execute_result"
    }
   ],
   "source": [
    "monotonic_series.mean()"
   ]
  },
  {
   "cell_type": "code",
   "execution_count": 8,
   "id": "940bb30a",
   "metadata": {},
   "outputs": [
    {
     "data": {
      "text/plain": [
       "5"
      ]
     },
     "execution_count": 8,
     "metadata": {},
     "output_type": "execute_result"
    }
   ],
   "source": [
    "monotonic_series.count()"
   ]
  },
  {
   "cell_type": "code",
   "execution_count": 10,
   "id": "2e921f0f",
   "metadata": {},
   "outputs": [
    {
     "data": {
      "text/plain": [
       "50688"
      ]
     },
     "execution_count": 10,
     "metadata": {},
     "output_type": "execute_result"
    }
   ],
   "source": [
    "monotonic_series.product()"
   ]
  },
  {
   "cell_type": "code",
   "execution_count": 11,
   "id": "da82c380",
   "metadata": {},
   "outputs": [
    {
     "data": {
      "text/plain": [
       "RangeIndex(start=0, stop=5, step=1)"
      ]
     },
     "execution_count": 11,
     "metadata": {},
     "output_type": "execute_result"
    }
   ],
   "source": [
    "monotonic_series.keys()"
   ]
  },
  {
   "cell_type": "markdown",
   "id": "b201f41f",
   "metadata": {},
   "source": [
    "**Zamiana Data Series na listę:**"
   ]
  },
  {
   "cell_type": "code",
   "execution_count": 12,
   "id": "39ef59da",
   "metadata": {},
   "outputs": [
    {
     "data": {
      "text/plain": [
       "[1, 2, 4, 64, 99]"
      ]
     },
     "execution_count": 12,
     "metadata": {},
     "output_type": "execute_result"
    }
   ],
   "source": [
    "monotonic_series.to_list()"
   ]
  },
  {
   "cell_type": "markdown",
   "id": "d42b74d4",
   "metadata": {},
   "source": [
    "**Modyfikacja DS:**"
   ]
  },
  {
   "cell_type": "code",
   "execution_count": 13,
   "id": "7804b597",
   "metadata": {},
   "outputs": [
    {
     "data": {
      "text/plain": [
       "0     11\n",
       "1     12\n",
       "2     14\n",
       "3     74\n",
       "4    109\n",
       "dtype: int64"
      ]
     },
     "execution_count": 13,
     "metadata": {},
     "output_type": "execute_result"
    }
   ],
   "source": [
    "monotonic_series.add(10)"
   ]
  },
  {
   "cell_type": "code",
   "execution_count": 14,
   "id": "8f34b743",
   "metadata": {},
   "outputs": [
    {
     "data": {
      "text/plain": [
       "0     1\n",
       "1     2\n",
       "2     4\n",
       "3    64\n",
       "4    99\n",
       "dtype: int64"
      ]
     },
     "execution_count": 14,
     "metadata": {},
     "output_type": "execute_result"
    }
   ],
   "source": [
    "monotonic_series"
   ]
  },
  {
   "cell_type": "code",
   "execution_count": 15,
   "id": "7224ce1b",
   "metadata": {},
   "outputs": [],
   "source": [
    "new_series = monotonic_series.add(10)"
   ]
  },
  {
   "cell_type": "code",
   "execution_count": 16,
   "id": "3d93362b",
   "metadata": {},
   "outputs": [
    {
     "name": "stdout",
     "output_type": "stream",
     "text": [
      "0     11\n",
      "1     12\n",
      "2     14\n",
      "3     74\n",
      "4    109\n",
      "dtype: int64\n"
     ]
    }
   ],
   "source": [
    "print(new_series)"
   ]
  },
  {
   "cell_type": "markdown",
   "id": "53d282cd",
   "metadata": {},
   "source": [
    "**Przekazywanie parametrów do metod:**"
   ]
  },
  {
   "cell_type": "code",
   "execution_count": 17,
   "id": "6543b343",
   "metadata": {},
   "outputs": [],
   "source": [
    "currencies = [\"USD\", \"EUR\", \"PLN\", \"EUR\", \"EUR\"]\n",
    "countries = [\"USA\", \"Spain\", \"Poland\", \"Portugal\", \"Italy\"]"
   ]
  },
  {
   "cell_type": "code",
   "execution_count": 18,
   "id": "cbe4eff7",
   "metadata": {},
   "outputs": [
    {
     "name": "stdout",
     "output_type": "stream",
     "text": [
      "USA         USD\n",
      "Spain       EUR\n",
      "Poland      PLN\n",
      "Portugal    EUR\n",
      "Italy       EUR\n",
      "dtype: object\n"
     ]
    }
   ],
   "source": [
    "cur_series = pd.Series(currencies, countries)\n",
    "print(cur_series)"
   ]
  },
  {
   "cell_type": "code",
   "execution_count": null,
   "id": "7dc99b5e",
   "metadata": {},
   "outputs": [],
   "source": []
  }
 ],
 "metadata": {
  "kernelspec": {
   "display_name": "Python 3",
   "language": "python",
   "name": "python3"
  },
  "language_info": {
   "codemirror_mode": {
    "name": "ipython",
    "version": 3
   },
   "file_extension": ".py",
   "mimetype": "text/x-python",
   "name": "python",
   "nbconvert_exporter": "python",
   "pygments_lexer": "ipython3",
   "version": "3.8.8"
  }
 },
 "nbformat": 4,
 "nbformat_minor": 5
}
