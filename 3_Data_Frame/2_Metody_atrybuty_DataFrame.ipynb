{
 "cells": [
  {
   "cell_type": "code",
   "execution_count": 1,
   "id": "c39597f1",
   "metadata": {},
   "outputs": [],
   "source": [
    "import pandas as pd\n",
    "import numpy as np\n",
    "import matplotlib.pyplot as plt\n",
    "import math"
   ]
  },
  {
   "cell_type": "code",
   "execution_count": 2,
   "id": "3bb36a8f",
   "metadata": {},
   "outputs": [],
   "source": [
    "frame = pd.read_csv(\"C:/Users/Mariusz Baran/Data_Science_kurs/Data_science_pliki/course-files/Mcdonalds.csv\")"
   ]
  },
  {
   "cell_type": "code",
   "execution_count": 3,
   "id": "e3df02a0",
   "metadata": {},
   "outputs": [],
   "source": [
    "series = pd.read_csv(\"C:/Users/Mariusz Baran/Data_Science_kurs/Data_science_pliki/course-files/Mcdonalds.csv\",\n",
    "                    usecols=['Item', 'Calories'], index_col='Item', squeeze=True)"
   ]
  },
  {
   "cell_type": "code",
   "execution_count": 4,
   "id": "b31145c2",
   "metadata": {},
   "outputs": [
    {
     "data": {
      "text/html": [
       "<div>\n",
       "<style scoped>\n",
       "    .dataframe tbody tr th:only-of-type {\n",
       "        vertical-align: middle;\n",
       "    }\n",
       "\n",
       "    .dataframe tbody tr th {\n",
       "        vertical-align: top;\n",
       "    }\n",
       "\n",
       "    .dataframe thead th {\n",
       "        text-align: right;\n",
       "    }\n",
       "</style>\n",
       "<table border=\"1\" class=\"dataframe\">\n",
       "  <thead>\n",
       "    <tr style=\"text-align: right;\">\n",
       "      <th></th>\n",
       "      <th>Category</th>\n",
       "      <th>Item</th>\n",
       "      <th>Serving Size</th>\n",
       "      <th>Calories</th>\n",
       "      <th>Calories from Fat</th>\n",
       "      <th>TotalFat</th>\n",
       "      <th>Total Fat (% Daily Value)</th>\n",
       "      <th>Saturated Fat</th>\n",
       "      <th>Saturated Fat (% Daily Value)</th>\n",
       "      <th>Trans Fat</th>\n",
       "      <th>...</th>\n",
       "      <th>Carbohydrates</th>\n",
       "      <th>Carbohydrates (% Daily Value)</th>\n",
       "      <th>Dietary Fiber</th>\n",
       "      <th>Dietary Fiber (% Daily Value)</th>\n",
       "      <th>Sugars</th>\n",
       "      <th>Protein</th>\n",
       "      <th>Vitamin A (% Daily Value)</th>\n",
       "      <th>Vitamin C (% Daily Value)</th>\n",
       "      <th>Calcium (% Daily Value)</th>\n",
       "      <th>Iron (% Daily Value)</th>\n",
       "    </tr>\n",
       "  </thead>\n",
       "  <tbody>\n",
       "    <tr>\n",
       "      <th>0</th>\n",
       "      <td>Breakfast</td>\n",
       "      <td>Egg McMuffin</td>\n",
       "      <td>4.8 oz (136 g)</td>\n",
       "      <td>300</td>\n",
       "      <td>120</td>\n",
       "      <td>13.0</td>\n",
       "      <td>20</td>\n",
       "      <td>5.0</td>\n",
       "      <td>25</td>\n",
       "      <td>0.0</td>\n",
       "      <td>...</td>\n",
       "      <td>31</td>\n",
       "      <td>10</td>\n",
       "      <td>4</td>\n",
       "      <td>17</td>\n",
       "      <td>3</td>\n",
       "      <td>17</td>\n",
       "      <td>10</td>\n",
       "      <td>0</td>\n",
       "      <td>25</td>\n",
       "      <td>15</td>\n",
       "    </tr>\n",
       "    <tr>\n",
       "      <th>1</th>\n",
       "      <td>Breakfast</td>\n",
       "      <td>Egg White Delight</td>\n",
       "      <td>4.8 oz (135 g)</td>\n",
       "      <td>250</td>\n",
       "      <td>70</td>\n",
       "      <td>8.0</td>\n",
       "      <td>12</td>\n",
       "      <td>3.0</td>\n",
       "      <td>15</td>\n",
       "      <td>0.0</td>\n",
       "      <td>...</td>\n",
       "      <td>30</td>\n",
       "      <td>10</td>\n",
       "      <td>4</td>\n",
       "      <td>17</td>\n",
       "      <td>3</td>\n",
       "      <td>18</td>\n",
       "      <td>6</td>\n",
       "      <td>0</td>\n",
       "      <td>25</td>\n",
       "      <td>8</td>\n",
       "    </tr>\n",
       "    <tr>\n",
       "      <th>2</th>\n",
       "      <td>Breakfast</td>\n",
       "      <td>Sausage McMuffin</td>\n",
       "      <td>3.9 oz (111 g)</td>\n",
       "      <td>370</td>\n",
       "      <td>200</td>\n",
       "      <td>23.0</td>\n",
       "      <td>35</td>\n",
       "      <td>8.0</td>\n",
       "      <td>42</td>\n",
       "      <td>0.0</td>\n",
       "      <td>...</td>\n",
       "      <td>29</td>\n",
       "      <td>10</td>\n",
       "      <td>4</td>\n",
       "      <td>17</td>\n",
       "      <td>2</td>\n",
       "      <td>14</td>\n",
       "      <td>8</td>\n",
       "      <td>0</td>\n",
       "      <td>25</td>\n",
       "      <td>10</td>\n",
       "    </tr>\n",
       "    <tr>\n",
       "      <th>3</th>\n",
       "      <td>Breakfast</td>\n",
       "      <td>Sausage McMuffin with Egg</td>\n",
       "      <td>5.7 oz (161 g)</td>\n",
       "      <td>450</td>\n",
       "      <td>250</td>\n",
       "      <td>28.0</td>\n",
       "      <td>43</td>\n",
       "      <td>10.0</td>\n",
       "      <td>52</td>\n",
       "      <td>0.0</td>\n",
       "      <td>...</td>\n",
       "      <td>30</td>\n",
       "      <td>10</td>\n",
       "      <td>4</td>\n",
       "      <td>17</td>\n",
       "      <td>2</td>\n",
       "      <td>21</td>\n",
       "      <td>15</td>\n",
       "      <td>0</td>\n",
       "      <td>30</td>\n",
       "      <td>15</td>\n",
       "    </tr>\n",
       "    <tr>\n",
       "      <th>4</th>\n",
       "      <td>Breakfast</td>\n",
       "      <td>Sausage McMuffin with Egg Whites</td>\n",
       "      <td>5.7 oz (161 g)</td>\n",
       "      <td>400</td>\n",
       "      <td>210</td>\n",
       "      <td>23.0</td>\n",
       "      <td>35</td>\n",
       "      <td>8.0</td>\n",
       "      <td>42</td>\n",
       "      <td>0.0</td>\n",
       "      <td>...</td>\n",
       "      <td>30</td>\n",
       "      <td>10</td>\n",
       "      <td>4</td>\n",
       "      <td>17</td>\n",
       "      <td>2</td>\n",
       "      <td>21</td>\n",
       "      <td>6</td>\n",
       "      <td>0</td>\n",
       "      <td>25</td>\n",
       "      <td>10</td>\n",
       "    </tr>\n",
       "  </tbody>\n",
       "</table>\n",
       "<p>5 rows × 24 columns</p>\n",
       "</div>"
      ],
      "text/plain": [
       "    Category                              Item    Serving Size  Calories  \\\n",
       "0  Breakfast                      Egg McMuffin  4.8 oz (136 g)       300   \n",
       "1  Breakfast                 Egg White Delight  4.8 oz (135 g)       250   \n",
       "2  Breakfast                  Sausage McMuffin  3.9 oz (111 g)       370   \n",
       "3  Breakfast         Sausage McMuffin with Egg  5.7 oz (161 g)       450   \n",
       "4  Breakfast  Sausage McMuffin with Egg Whites  5.7 oz (161 g)       400   \n",
       "\n",
       "   Calories from Fat  TotalFat  Total Fat (% Daily Value)  Saturated Fat  \\\n",
       "0                120      13.0                         20            5.0   \n",
       "1                 70       8.0                         12            3.0   \n",
       "2                200      23.0                         35            8.0   \n",
       "3                250      28.0                         43           10.0   \n",
       "4                210      23.0                         35            8.0   \n",
       "\n",
       "   Saturated Fat (% Daily Value)  Trans Fat  ...  Carbohydrates  \\\n",
       "0                             25        0.0  ...             31   \n",
       "1                             15        0.0  ...             30   \n",
       "2                             42        0.0  ...             29   \n",
       "3                             52        0.0  ...             30   \n",
       "4                             42        0.0  ...             30   \n",
       "\n",
       "   Carbohydrates (% Daily Value)  Dietary Fiber  \\\n",
       "0                             10              4   \n",
       "1                             10              4   \n",
       "2                             10              4   \n",
       "3                             10              4   \n",
       "4                             10              4   \n",
       "\n",
       "   Dietary Fiber (% Daily Value)  Sugars  Protein  Vitamin A (% Daily Value)  \\\n",
       "0                             17       3       17                         10   \n",
       "1                             17       3       18                          6   \n",
       "2                             17       2       14                          8   \n",
       "3                             17       2       21                         15   \n",
       "4                             17       2       21                          6   \n",
       "\n",
       "   Vitamin C (% Daily Value)  Calcium (% Daily Value)  Iron (% Daily Value)  \n",
       "0                          0                       25                    15  \n",
       "1                          0                       25                     8  \n",
       "2                          0                       25                    10  \n",
       "3                          0                       30                    15  \n",
       "4                          0                       25                    10  \n",
       "\n",
       "[5 rows x 24 columns]"
      ]
     },
     "execution_count": 4,
     "metadata": {},
     "output_type": "execute_result"
    }
   ],
   "source": [
    "frame.head()"
   ]
  },
  {
   "cell_type": "code",
   "execution_count": 5,
   "id": "2dab08e4",
   "metadata": {},
   "outputs": [
    {
     "data": {
      "text/plain": [
       "Item\n",
       "Egg McMuffin                        300\n",
       "Egg White Delight                   250\n",
       "Sausage McMuffin                    370\n",
       "Sausage McMuffin with Egg           450\n",
       "Sausage McMuffin with Egg Whites    400\n",
       "Name: Calories, dtype: int64"
      ]
     },
     "execution_count": 5,
     "metadata": {},
     "output_type": "execute_result"
    }
   ],
   "source": [
    "series.head()"
   ]
  },
  {
   "cell_type": "code",
   "execution_count": 6,
   "id": "9ae337dd",
   "metadata": {},
   "outputs": [
    {
     "data": {
      "text/plain": [
       "260"
      ]
     },
     "execution_count": 6,
     "metadata": {},
     "output_type": "execute_result"
    }
   ],
   "source": [
    "series.count()"
   ]
  },
  {
   "cell_type": "markdown",
   "id": "ecfdb121",
   "metadata": {},
   "source": [
    "count zlicza wartości dla każdej komumny"
   ]
  },
  {
   "cell_type": "code",
   "execution_count": 7,
   "id": "e3a12a27",
   "metadata": {},
   "outputs": [
    {
     "data": {
      "text/plain": [
       "Category                         260\n",
       "Item                             260\n",
       "Serving Size                     260\n",
       "Calories                         260\n",
       "Calories from Fat                260\n",
       "TotalFat                         260\n",
       "Total Fat (% Daily Value)        260\n",
       "Saturated Fat                    260\n",
       "Saturated Fat (% Daily Value)    260\n",
       "Trans Fat                        260\n",
       "Cholesterol                      260\n",
       "Cholesterol (% Daily Value)      260\n",
       "Sodium                           260\n",
       "Sodium (% Daily Value)           260\n",
       "Carbohydrates                    260\n",
       "Carbohydrates (% Daily Value)    260\n",
       "Dietary Fiber                    260\n",
       "Dietary Fiber (% Daily Value)    260\n",
       "Sugars                           260\n",
       "Protein                          260\n",
       "Vitamin A (% Daily Value)        260\n",
       "Vitamin C (% Daily Value)        260\n",
       "Calcium (% Daily Value)          260\n",
       "Iron (% Daily Value)             260\n",
       "dtype: int64"
      ]
     },
     "execution_count": 7,
     "metadata": {},
     "output_type": "execute_result"
    }
   ],
   "source": [
    "frame.count()"
   ]
  },
  {
   "cell_type": "markdown",
   "id": "ed4fa09b",
   "metadata": {},
   "source": [
    "len() dla całego Data Frame"
   ]
  },
  {
   "cell_type": "code",
   "execution_count": 8,
   "id": "bbef753d",
   "metadata": {},
   "outputs": [
    {
     "data": {
      "text/plain": [
       "260"
      ]
     },
     "execution_count": 8,
     "metadata": {},
     "output_type": "execute_result"
    }
   ],
   "source": [
    "len(frame)"
   ]
  },
  {
   "cell_type": "code",
   "execution_count": 11,
   "id": "2328515a",
   "metadata": {},
   "outputs": [
    {
     "data": {
      "text/plain": [
       "dtype('int64')"
      ]
     },
     "execution_count": 11,
     "metadata": {},
     "output_type": "execute_result"
    }
   ],
   "source": [
    "series.dtypes"
   ]
  },
  {
   "cell_type": "markdown",
   "id": "796212b8",
   "metadata": {},
   "source": [
    "dtypes dla każdej kolumny osobno"
   ]
  },
  {
   "cell_type": "code",
   "execution_count": 13,
   "id": "f67d0af1",
   "metadata": {},
   "outputs": [
    {
     "data": {
      "text/plain": [
       "Category                          object\n",
       "Item                              object\n",
       "Serving Size                      object\n",
       "Calories                           int64\n",
       "Calories from Fat                  int64\n",
       "TotalFat                         float64\n",
       "Total Fat (% Daily Value)          int64\n",
       "Saturated Fat                    float64\n",
       "Saturated Fat (% Daily Value)      int64\n",
       "Trans Fat                        float64\n",
       "Cholesterol                        int64\n",
       "Cholesterol (% Daily Value)        int64\n",
       "Sodium                             int64\n",
       "Sodium (% Daily Value)             int64\n",
       "Carbohydrates                      int64\n",
       "Carbohydrates (% Daily Value)      int64\n",
       "Dietary Fiber                      int64\n",
       "Dietary Fiber (% Daily Value)      int64\n",
       "Sugars                             int64\n",
       "Protein                            int64\n",
       "Vitamin A (% Daily Value)          int64\n",
       "Vitamin C (% Daily Value)          int64\n",
       "Calcium (% Daily Value)            int64\n",
       "Iron (% Daily Value)               int64\n",
       "dtype: object"
      ]
     },
     "execution_count": 13,
     "metadata": {},
     "output_type": "execute_result"
    }
   ],
   "source": [
    "frame.dtypes"
   ]
  },
  {
   "cell_type": "markdown",
   "id": "0dca39a2",
   "metadata": {},
   "source": [
    "Zliczenie wszystkich typów:"
   ]
  },
  {
   "cell_type": "code",
   "execution_count": 15,
   "id": "1e7fdef5",
   "metadata": {},
   "outputs": [
    {
     "data": {
      "text/plain": [
       "int64      18\n",
       "object      3\n",
       "float64     3\n",
       "dtype: int64"
      ]
     },
     "execution_count": 15,
     "metadata": {},
     "output_type": "execute_result"
    }
   ],
   "source": [
    "frame.dtypes.value_counts()"
   ]
  },
  {
   "cell_type": "markdown",
   "id": "cbdd3de4",
   "metadata": {},
   "source": [
    "Kształt danych:"
   ]
  },
  {
   "cell_type": "code",
   "execution_count": 16,
   "id": "7352b84c",
   "metadata": {},
   "outputs": [
    {
     "data": {
      "text/plain": [
       "(260, 24)"
      ]
     },
     "execution_count": 16,
     "metadata": {},
     "output_type": "execute_result"
    }
   ],
   "source": [
    "frame.shape"
   ]
  },
  {
   "cell_type": "code",
   "execution_count": 17,
   "id": "769b4880",
   "metadata": {},
   "outputs": [
    {
     "data": {
      "text/plain": [
       "[Index(['Egg McMuffin', 'Egg White Delight', 'Sausage McMuffin',\n",
       "        'Sausage McMuffin with Egg', 'Sausage McMuffin with Egg Whites',\n",
       "        'Steak & Egg McMuffin', 'Bacon, Egg & Cheese Biscuit (Regular Biscuit)',\n",
       "        'Bacon, Egg & Cheese Biscuit (Large Biscuit)',\n",
       "        'Bacon, Egg & Cheese Biscuit with Egg Whites (Regular Biscuit)',\n",
       "        'Bacon, Egg & Cheese Biscuit with Egg Whites (Large Biscuit)',\n",
       "        ...\n",
       "        'Shamrock Shake (Medium)', 'Shamrock Shake (Large)',\n",
       "        'McFlurry with M&M’s Candies (Small)',\n",
       "        'McFlurry with M&M’s Candies (Medium)',\n",
       "        'McFlurry with M&M’s Candies (Snack)',\n",
       "        'McFlurry with Oreo Cookies (Small)',\n",
       "        'McFlurry with Oreo Cookies (Medium)',\n",
       "        'McFlurry with Oreo Cookies (Snack)',\n",
       "        'McFlurry with Reese's Peanut Butter Cups (Medium)',\n",
       "        'McFlurry with Reese's Peanut Butter Cups (Snack)'],\n",
       "       dtype='object', name='Item', length=260)]"
      ]
     },
     "execution_count": 17,
     "metadata": {},
     "output_type": "execute_result"
    }
   ],
   "source": [
    "series.axes"
   ]
  },
  {
   "cell_type": "markdown",
   "id": "d49ab32e",
   "metadata": {},
   "source": [
    "axes wyświetla index i nazwy kolumn"
   ]
  },
  {
   "cell_type": "code",
   "execution_count": 18,
   "id": "1dd7bafd",
   "metadata": {},
   "outputs": [
    {
     "data": {
      "text/plain": [
       "[RangeIndex(start=0, stop=260, step=1),\n",
       " Index(['Category', 'Item', 'Serving Size', 'Calories', 'Calories from Fat',\n",
       "        'TotalFat', 'Total Fat (% Daily Value)', 'Saturated Fat',\n",
       "        'Saturated Fat (% Daily Value)', 'Trans Fat', 'Cholesterol',\n",
       "        'Cholesterol (% Daily Value)', 'Sodium', 'Sodium (% Daily Value)',\n",
       "        'Carbohydrates', 'Carbohydrates (% Daily Value)', 'Dietary Fiber',\n",
       "        'Dietary Fiber (% Daily Value)', 'Sugars', 'Protein',\n",
       "        'Vitamin A (% Daily Value)', 'Vitamin C (% Daily Value)',\n",
       "        'Calcium (% Daily Value)', 'Iron (% Daily Value)'],\n",
       "       dtype='object')]"
      ]
     },
     "execution_count": 18,
     "metadata": {},
     "output_type": "execute_result"
    }
   ],
   "source": [
    "frame.axes"
   ]
  },
  {
   "cell_type": "code",
   "execution_count": 19,
   "id": "f6d7d3b6",
   "metadata": {},
   "outputs": [
    {
     "data": {
      "text/plain": [
       "RangeIndex(start=0, stop=260, step=1)"
      ]
     },
     "execution_count": 19,
     "metadata": {},
     "output_type": "execute_result"
    }
   ],
   "source": [
    "frame.index"
   ]
  },
  {
   "cell_type": "markdown",
   "id": "0e9d1b89",
   "metadata": {},
   "source": [
    "Wyświetlenie kolumn:"
   ]
  },
  {
   "cell_type": "code",
   "execution_count": 20,
   "id": "6494c905",
   "metadata": {},
   "outputs": [
    {
     "data": {
      "text/plain": [
       "Index(['Category', 'Item', 'Serving Size', 'Calories', 'Calories from Fat',\n",
       "       'TotalFat', 'Total Fat (% Daily Value)', 'Saturated Fat',\n",
       "       'Saturated Fat (% Daily Value)', 'Trans Fat', 'Cholesterol',\n",
       "       'Cholesterol (% Daily Value)', 'Sodium', 'Sodium (% Daily Value)',\n",
       "       'Carbohydrates', 'Carbohydrates (% Daily Value)', 'Dietary Fiber',\n",
       "       'Dietary Fiber (% Daily Value)', 'Sugars', 'Protein',\n",
       "       'Vitamin A (% Daily Value)', 'Vitamin C (% Daily Value)',\n",
       "       'Calcium (% Daily Value)', 'Iron (% Daily Value)'],\n",
       "      dtype='object')"
      ]
     },
     "execution_count": 20,
     "metadata": {},
     "output_type": "execute_result"
    }
   ],
   "source": [
    "frame.columns"
   ]
  },
  {
   "cell_type": "markdown",
   "id": "61569ddd",
   "metadata": {},
   "source": [
    "Wyświetlenie wartości"
   ]
  },
  {
   "cell_type": "code",
   "execution_count": 21,
   "id": "a867a962",
   "metadata": {},
   "outputs": [
    {
     "data": {
      "text/plain": [
       "array([['Breakfast', 'Egg McMuffin', '4.8 oz (136 g)', ..., 0, 25, 15],\n",
       "       ['Breakfast', 'Egg White Delight', '4.8 oz (135 g)', ..., 0, 25,\n",
       "        8],\n",
       "       ['Breakfast', 'Sausage McMuffin', '3.9 oz (111 g)', ..., 0, 25,\n",
       "        10],\n",
       "       ...,\n",
       "       ['Smoothies & Shakes', 'McFlurry with Oreo Cookies (Snack)',\n",
       "        '6.7 oz (190 g)', ..., 0, 25, 6],\n",
       "       ['Smoothies & Shakes',\n",
       "        \"McFlurry with Reese's Peanut Butter Cups (Medium)\",\n",
       "        '14.2 oz (403 g)', ..., 0, 60, 6],\n",
       "       ['Smoothies & Shakes',\n",
       "        \"McFlurry with Reese's Peanut Butter Cups (Snack)\",\n",
       "        '7.1 oz (202 g)', ..., 0, 30, 4]], dtype=object)"
      ]
     },
     "execution_count": 21,
     "metadata": {},
     "output_type": "execute_result"
    }
   ],
   "source": [
    "frame.values"
   ]
  },
  {
   "cell_type": "markdown",
   "id": "2b54ac89",
   "metadata": {},
   "source": [
    "informacje, ilość, czy są wartości null, typ:"
   ]
  },
  {
   "cell_type": "code",
   "execution_count": 22,
   "id": "52f1031a",
   "metadata": {},
   "outputs": [
    {
     "name": "stdout",
     "output_type": "stream",
     "text": [
      "<class 'pandas.core.frame.DataFrame'>\n",
      "RangeIndex: 260 entries, 0 to 259\n",
      "Data columns (total 24 columns):\n",
      " #   Column                         Non-Null Count  Dtype  \n",
      "---  ------                         --------------  -----  \n",
      " 0   Category                       260 non-null    object \n",
      " 1   Item                           260 non-null    object \n",
      " 2   Serving Size                   260 non-null    object \n",
      " 3   Calories                       260 non-null    int64  \n",
      " 4   Calories from Fat              260 non-null    int64  \n",
      " 5   TotalFat                       260 non-null    float64\n",
      " 6   Total Fat (% Daily Value)      260 non-null    int64  \n",
      " 7   Saturated Fat                  260 non-null    float64\n",
      " 8   Saturated Fat (% Daily Value)  260 non-null    int64  \n",
      " 9   Trans Fat                      260 non-null    float64\n",
      " 10  Cholesterol                    260 non-null    int64  \n",
      " 11  Cholesterol (% Daily Value)    260 non-null    int64  \n",
      " 12  Sodium                         260 non-null    int64  \n",
      " 13  Sodium (% Daily Value)         260 non-null    int64  \n",
      " 14  Carbohydrates                  260 non-null    int64  \n",
      " 15  Carbohydrates (% Daily Value)  260 non-null    int64  \n",
      " 16  Dietary Fiber                  260 non-null    int64  \n",
      " 17  Dietary Fiber (% Daily Value)  260 non-null    int64  \n",
      " 18  Sugars                         260 non-null    int64  \n",
      " 19  Protein                        260 non-null    int64  \n",
      " 20  Vitamin A (% Daily Value)      260 non-null    int64  \n",
      " 21  Vitamin C (% Daily Value)      260 non-null    int64  \n",
      " 22  Calcium (% Daily Value)        260 non-null    int64  \n",
      " 23  Iron (% Daily Value)           260 non-null    int64  \n",
      "dtypes: float64(3), int64(18), object(3)\n",
      "memory usage: 48.9+ KB\n"
     ]
    }
   ],
   "source": [
    "frame.info()"
   ]
  },
  {
   "cell_type": "code",
   "execution_count": 24,
   "id": "7dcbcaac",
   "metadata": {
    "collapsed": true
   },
   "outputs": [
    {
     "data": {
      "text/plain": [
       "0       16\n",
       "430     10\n",
       "340     10\n",
       "280      9\n",
       "250      8\n",
       "        ..\n",
       "620      1\n",
       "650      1\n",
       "640      1\n",
       "1150     1\n",
       "740      1\n",
       "Name: Calories, Length: 78, dtype: int64"
      ]
     },
     "execution_count": 24,
     "metadata": {},
     "output_type": "execute_result"
    }
   ],
   "source": [
    "series.value_counts()"
   ]
  },
  {
   "cell_type": "markdown",
   "id": "249a1bb9",
   "metadata": {},
   "source": [
    "value_counts() nie działa na całym DF, można użyć na pojedyńczej kolumnie"
   ]
  },
  {
   "cell_type": "code",
   "execution_count": 26,
   "id": "b68daf6a",
   "metadata": {},
   "outputs": [
    {
     "data": {
      "text/plain": [
       "Coffee & Tea          95\n",
       "Breakfast             42\n",
       "Smoothies & Shakes    28\n",
       "Chicken & Fish        27\n",
       "Beverages             27\n",
       "Beef & Pork           15\n",
       "Snacks & Sides        13\n",
       "Desserts               7\n",
       "Salads                 6\n",
       "Name: Category, dtype: int64"
      ]
     },
     "execution_count": 26,
     "metadata": {},
     "output_type": "execute_result"
    }
   ],
   "source": [
    "frame['Category'].value_counts()"
   ]
  },
  {
   "cell_type": "markdown",
   "id": "a897359d",
   "metadata": {},
   "source": [
    "Losowanie kilku wartości:"
   ]
  },
  {
   "cell_type": "code",
   "execution_count": 29,
   "id": "88396cdf",
   "metadata": {},
   "outputs": [
    {
     "data": {
      "text/plain": [
       "Item\n",
       "French Vanilla Latte (Large)    420\n",
       "Name: Calories, dtype: int64"
      ]
     },
     "execution_count": 29,
     "metadata": {},
     "output_type": "execute_result"
    }
   ],
   "source": [
    "series.sample()"
   ]
  },
  {
   "cell_type": "code",
   "execution_count": 33,
   "id": "6f5fedcb",
   "metadata": {},
   "outputs": [
    {
     "data": {
      "text/html": [
       "<div>\n",
       "<style scoped>\n",
       "    .dataframe tbody tr th:only-of-type {\n",
       "        vertical-align: middle;\n",
       "    }\n",
       "\n",
       "    .dataframe tbody tr th {\n",
       "        vertical-align: top;\n",
       "    }\n",
       "\n",
       "    .dataframe thead th {\n",
       "        text-align: right;\n",
       "    }\n",
       "</style>\n",
       "<table border=\"1\" class=\"dataframe\">\n",
       "  <thead>\n",
       "    <tr style=\"text-align: right;\">\n",
       "      <th></th>\n",
       "      <th>Vitamin A (% Daily Value)</th>\n",
       "      <th>Saturated Fat</th>\n",
       "      <th>Iron (% Daily Value)</th>\n",
       "    </tr>\n",
       "  </thead>\n",
       "  <tbody>\n",
       "    <tr>\n",
       "      <th>0</th>\n",
       "      <td>10</td>\n",
       "      <td>5.0</td>\n",
       "      <td>15</td>\n",
       "    </tr>\n",
       "    <tr>\n",
       "      <th>1</th>\n",
       "      <td>6</td>\n",
       "      <td>3.0</td>\n",
       "      <td>8</td>\n",
       "    </tr>\n",
       "    <tr>\n",
       "      <th>2</th>\n",
       "      <td>8</td>\n",
       "      <td>8.0</td>\n",
       "      <td>10</td>\n",
       "    </tr>\n",
       "    <tr>\n",
       "      <th>3</th>\n",
       "      <td>15</td>\n",
       "      <td>10.0</td>\n",
       "      <td>15</td>\n",
       "    </tr>\n",
       "    <tr>\n",
       "      <th>4</th>\n",
       "      <td>6</td>\n",
       "      <td>8.0</td>\n",
       "      <td>10</td>\n",
       "    </tr>\n",
       "  </tbody>\n",
       "</table>\n",
       "</div>"
      ],
      "text/plain": [
       "   Vitamin A (% Daily Value)  Saturated Fat  Iron (% Daily Value)\n",
       "0                         10            5.0                    15\n",
       "1                          6            3.0                     8\n",
       "2                          8            8.0                    10\n",
       "3                         15           10.0                    15\n",
       "4                          6            8.0                    10"
      ]
     },
     "execution_count": 33,
     "metadata": {},
     "output_type": "execute_result"
    }
   ],
   "source": [
    "frame.sample(n=3, axis=\"columns\").head()"
   ]
  },
  {
   "cell_type": "code",
   "execution_count": 34,
   "id": "94976800",
   "metadata": {},
   "outputs": [
    {
     "data": {
      "text/html": [
       "<div>\n",
       "<style scoped>\n",
       "    .dataframe tbody tr th:only-of-type {\n",
       "        vertical-align: middle;\n",
       "    }\n",
       "\n",
       "    .dataframe tbody tr th {\n",
       "        vertical-align: top;\n",
       "    }\n",
       "\n",
       "    .dataframe thead th {\n",
       "        text-align: right;\n",
       "    }\n",
       "</style>\n",
       "<table border=\"1\" class=\"dataframe\">\n",
       "  <thead>\n",
       "    <tr style=\"text-align: right;\">\n",
       "      <th></th>\n",
       "      <th>Category</th>\n",
       "      <th>Item</th>\n",
       "      <th>Serving Size</th>\n",
       "      <th>Calories</th>\n",
       "      <th>Calories from Fat</th>\n",
       "      <th>TotalFat</th>\n",
       "      <th>Total Fat (% Daily Value)</th>\n",
       "      <th>Saturated Fat</th>\n",
       "      <th>Saturated Fat (% Daily Value)</th>\n",
       "      <th>Trans Fat</th>\n",
       "      <th>...</th>\n",
       "      <th>Carbohydrates</th>\n",
       "      <th>Carbohydrates (% Daily Value)</th>\n",
       "      <th>Dietary Fiber</th>\n",
       "      <th>Dietary Fiber (% Daily Value)</th>\n",
       "      <th>Sugars</th>\n",
       "      <th>Protein</th>\n",
       "      <th>Vitamin A (% Daily Value)</th>\n",
       "      <th>Vitamin C (% Daily Value)</th>\n",
       "      <th>Calcium (% Daily Value)</th>\n",
       "      <th>Iron (% Daily Value)</th>\n",
       "    </tr>\n",
       "  </thead>\n",
       "  <tbody>\n",
       "    <tr>\n",
       "      <th>250</th>\n",
       "      <td>Smoothies &amp; Shakes</td>\n",
       "      <td>Shamrock Shake (Medium)</td>\n",
       "      <td>16 fl oz cup</td>\n",
       "      <td>660</td>\n",
       "      <td>170</td>\n",
       "      <td>19.0</td>\n",
       "      <td>29</td>\n",
       "      <td>12.0</td>\n",
       "      <td>61</td>\n",
       "      <td>1.0</td>\n",
       "      <td>...</td>\n",
       "      <td>109</td>\n",
       "      <td>36</td>\n",
       "      <td>0</td>\n",
       "      <td>0</td>\n",
       "      <td>93</td>\n",
       "      <td>14</td>\n",
       "      <td>25</td>\n",
       "      <td>0</td>\n",
       "      <td>50</td>\n",
       "      <td>0</td>\n",
       "    </tr>\n",
       "    <tr>\n",
       "      <th>128</th>\n",
       "      <td>Beverages</td>\n",
       "      <td>Sprite (Large)</td>\n",
       "      <td>30 fl oz cup</td>\n",
       "      <td>280</td>\n",
       "      <td>0</td>\n",
       "      <td>0.0</td>\n",
       "      <td>0</td>\n",
       "      <td>0.0</td>\n",
       "      <td>0</td>\n",
       "      <td>0.0</td>\n",
       "      <td>...</td>\n",
       "      <td>74</td>\n",
       "      <td>25</td>\n",
       "      <td>0</td>\n",
       "      <td>0</td>\n",
       "      <td>74</td>\n",
       "      <td>0</td>\n",
       "      <td>0</td>\n",
       "      <td>0</td>\n",
       "      <td>0</td>\n",
       "      <td>0</td>\n",
       "    </tr>\n",
       "    <tr>\n",
       "      <th>141</th>\n",
       "      <td>Coffee &amp; Tea</td>\n",
       "      <td>Sweet Tea (Small)</td>\n",
       "      <td>16 fl oz cup</td>\n",
       "      <td>150</td>\n",
       "      <td>0</td>\n",
       "      <td>0.0</td>\n",
       "      <td>0</td>\n",
       "      <td>0.0</td>\n",
       "      <td>0</td>\n",
       "      <td>0.0</td>\n",
       "      <td>...</td>\n",
       "      <td>36</td>\n",
       "      <td>12</td>\n",
       "      <td>0</td>\n",
       "      <td>0</td>\n",
       "      <td>36</td>\n",
       "      <td>1</td>\n",
       "      <td>0</td>\n",
       "      <td>0</td>\n",
       "      <td>0</td>\n",
       "      <td>0</td>\n",
       "    </tr>\n",
       "    <tr>\n",
       "      <th>134</th>\n",
       "      <td>Beverages</td>\n",
       "      <td>Minute Maid Orange Juice (Medium)</td>\n",
       "      <td>16 fl oz cup</td>\n",
       "      <td>190</td>\n",
       "      <td>0</td>\n",
       "      <td>0.0</td>\n",
       "      <td>0</td>\n",
       "      <td>0.0</td>\n",
       "      <td>0</td>\n",
       "      <td>0.0</td>\n",
       "      <td>...</td>\n",
       "      <td>44</td>\n",
       "      <td>15</td>\n",
       "      <td>0</td>\n",
       "      <td>0</td>\n",
       "      <td>39</td>\n",
       "      <td>3</td>\n",
       "      <td>0</td>\n",
       "      <td>160</td>\n",
       "      <td>4</td>\n",
       "      <td>0</td>\n",
       "    </tr>\n",
       "    <tr>\n",
       "      <th>195</th>\n",
       "      <td>Coffee &amp; Tea</td>\n",
       "      <td>Hot Chocolate with Nonfat Milk (Large)</td>\n",
       "      <td>20 fl oz cup</td>\n",
       "      <td>400</td>\n",
       "      <td>35</td>\n",
       "      <td>3.5</td>\n",
       "      <td>6</td>\n",
       "      <td>2.5</td>\n",
       "      <td>12</td>\n",
       "      <td>0.0</td>\n",
       "      <td>...</td>\n",
       "      <td>74</td>\n",
       "      <td>25</td>\n",
       "      <td>1</td>\n",
       "      <td>5</td>\n",
       "      <td>69</td>\n",
       "      <td>19</td>\n",
       "      <td>25</td>\n",
       "      <td>0</td>\n",
       "      <td>60</td>\n",
       "      <td>8</td>\n",
       "    </tr>\n",
       "  </tbody>\n",
       "</table>\n",
       "<p>5 rows × 24 columns</p>\n",
       "</div>"
      ],
      "text/plain": [
       "               Category                                    Item  Serving Size  \\\n",
       "250  Smoothies & Shakes                 Shamrock Shake (Medium)  16 fl oz cup   \n",
       "128           Beverages                          Sprite (Large)  30 fl oz cup   \n",
       "141        Coffee & Tea                       Sweet Tea (Small)  16 fl oz cup   \n",
       "134           Beverages       Minute Maid Orange Juice (Medium)  16 fl oz cup   \n",
       "195        Coffee & Tea  Hot Chocolate with Nonfat Milk (Large)  20 fl oz cup   \n",
       "\n",
       "     Calories  Calories from Fat  TotalFat  Total Fat (% Daily Value)  \\\n",
       "250       660                170      19.0                         29   \n",
       "128       280                  0       0.0                          0   \n",
       "141       150                  0       0.0                          0   \n",
       "134       190                  0       0.0                          0   \n",
       "195       400                 35       3.5                          6   \n",
       "\n",
       "     Saturated Fat  Saturated Fat (% Daily Value)  Trans Fat  ...  \\\n",
       "250           12.0                             61        1.0  ...   \n",
       "128            0.0                              0        0.0  ...   \n",
       "141            0.0                              0        0.0  ...   \n",
       "134            0.0                              0        0.0  ...   \n",
       "195            2.5                             12        0.0  ...   \n",
       "\n",
       "     Carbohydrates  Carbohydrates (% Daily Value)  Dietary Fiber  \\\n",
       "250            109                             36              0   \n",
       "128             74                             25              0   \n",
       "141             36                             12              0   \n",
       "134             44                             15              0   \n",
       "195             74                             25              1   \n",
       "\n",
       "     Dietary Fiber (% Daily Value)  Sugars  Protein  \\\n",
       "250                              0      93       14   \n",
       "128                              0      74        0   \n",
       "141                              0      36        1   \n",
       "134                              0      39        3   \n",
       "195                              5      69       19   \n",
       "\n",
       "     Vitamin A (% Daily Value)  Vitamin C (% Daily Value)  \\\n",
       "250                         25                          0   \n",
       "128                          0                          0   \n",
       "141                          0                          0   \n",
       "134                          0                        160   \n",
       "195                         25                          0   \n",
       "\n",
       "     Calcium (% Daily Value)  Iron (% Daily Value)  \n",
       "250                       50                     0  \n",
       "128                        0                     0  \n",
       "141                        0                     0  \n",
       "134                        4                     0  \n",
       "195                       60                     8  \n",
       "\n",
       "[5 rows x 24 columns]"
      ]
     },
     "execution_count": 34,
     "metadata": {},
     "output_type": "execute_result"
    }
   ],
   "source": [
    "frame.sample(frac=0.02)"
   ]
  },
  {
   "cell_type": "code",
   "execution_count": null,
   "id": "dd2cf020",
   "metadata": {},
   "outputs": [],
   "source": []
  }
 ],
 "metadata": {
  "kernelspec": {
   "display_name": "Python 3",
   "language": "python",
   "name": "python3"
  },
  "language_info": {
   "codemirror_mode": {
    "name": "ipython",
    "version": 3
   },
   "file_extension": ".py",
   "mimetype": "text/x-python",
   "name": "python",
   "nbconvert_exporter": "python",
   "pygments_lexer": "ipython3",
   "version": "3.8.8"
  }
 },
 "nbformat": 4,
 "nbformat_minor": 5
}
