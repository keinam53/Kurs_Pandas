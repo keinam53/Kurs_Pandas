{
 "cells": [
  {
   "cell_type": "markdown",
   "id": "d0cbf050",
   "metadata": {},
   "source": [
    "**Kontrola i optymalizacja typów**"
   ]
  },
  {
   "cell_type": "code",
   "execution_count": 1,
   "id": "e53ca091",
   "metadata": {},
   "outputs": [],
   "source": [
    "import pandas as pd\n",
    "import numpy as np\n",
    "import matplotlib.pyplot as plt\n",
    "import math"
   ]
  },
  {
   "cell_type": "code",
   "execution_count": 2,
   "id": "e49f4f5e",
   "metadata": {},
   "outputs": [
    {
     "data": {
      "text/html": [
       "<div>\n",
       "<style scoped>\n",
       "    .dataframe tbody tr th:only-of-type {\n",
       "        vertical-align: middle;\n",
       "    }\n",
       "\n",
       "    .dataframe tbody tr th {\n",
       "        vertical-align: top;\n",
       "    }\n",
       "\n",
       "    .dataframe thead th {\n",
       "        text-align: right;\n",
       "    }\n",
       "</style>\n",
       "<table border=\"1\" class=\"dataframe\">\n",
       "  <thead>\n",
       "    <tr style=\"text-align: right;\">\n",
       "      <th></th>\n",
       "      <th>Category</th>\n",
       "      <th>Item</th>\n",
       "      <th>Serving Size</th>\n",
       "      <th>Calories</th>\n",
       "      <th>TotalFat</th>\n",
       "    </tr>\n",
       "  </thead>\n",
       "  <tbody>\n",
       "    <tr>\n",
       "      <th>0</th>\n",
       "      <td>Breakfast</td>\n",
       "      <td>Egg McMuffin</td>\n",
       "      <td>4.8 oz (136 g)</td>\n",
       "      <td>300</td>\n",
       "      <td>13.0</td>\n",
       "    </tr>\n",
       "    <tr>\n",
       "      <th>1</th>\n",
       "      <td>Breakfast</td>\n",
       "      <td>Egg White Delight</td>\n",
       "      <td>4.8 oz (135 g)</td>\n",
       "      <td>250</td>\n",
       "      <td>8.0</td>\n",
       "    </tr>\n",
       "    <tr>\n",
       "      <th>2</th>\n",
       "      <td>Breakfast</td>\n",
       "      <td>Sausage McMuffin</td>\n",
       "      <td>3.9 oz (111 g)</td>\n",
       "      <td>370</td>\n",
       "      <td>23.0</td>\n",
       "    </tr>\n",
       "    <tr>\n",
       "      <th>3</th>\n",
       "      <td>Breakfast</td>\n",
       "      <td>Sausage McMuffin with Egg</td>\n",
       "      <td>5.7 oz (161 g)</td>\n",
       "      <td>450</td>\n",
       "      <td>28.0</td>\n",
       "    </tr>\n",
       "    <tr>\n",
       "      <th>4</th>\n",
       "      <td>Breakfast</td>\n",
       "      <td>Sausage McMuffin with Egg Whites</td>\n",
       "      <td>5.7 oz (161 g)</td>\n",
       "      <td>400</td>\n",
       "      <td>23.0</td>\n",
       "    </tr>\n",
       "  </tbody>\n",
       "</table>\n",
       "</div>"
      ],
      "text/plain": [
       "    Category                              Item    Serving Size  Calories  \\\n",
       "0  Breakfast                      Egg McMuffin  4.8 oz (136 g)       300   \n",
       "1  Breakfast                 Egg White Delight  4.8 oz (135 g)       250   \n",
       "2  Breakfast                  Sausage McMuffin  3.9 oz (111 g)       370   \n",
       "3  Breakfast         Sausage McMuffin with Egg  5.7 oz (161 g)       450   \n",
       "4  Breakfast  Sausage McMuffin with Egg Whites  5.7 oz (161 g)       400   \n",
       "\n",
       "   TotalFat  \n",
       "0      13.0  \n",
       "1       8.0  \n",
       "2      23.0  \n",
       "3      28.0  \n",
       "4      23.0  "
      ]
     },
     "execution_count": 2,
     "metadata": {},
     "output_type": "execute_result"
    }
   ],
   "source": [
    "frame = pd.read_csv('C:/Users/Mariusz Baran/Data_Science_kurs/Data_science_pliki/course-files/Mcdonalds.csv',\n",
    "                   usecols=['Item', 'Category', 'Serving Size', 'Calories', 'TotalFat'])\n",
    "frame.head()"
   ]
  },
  {
   "cell_type": "markdown",
   "id": "e9c3fa8b",
   "metadata": {},
   "source": [
    "Sprawdzenie typów kolumn:"
   ]
  },
  {
   "cell_type": "code",
   "execution_count": 4,
   "id": "31d2dc82",
   "metadata": {},
   "outputs": [
    {
     "data": {
      "text/plain": [
       "Category         object\n",
       "Item             object\n",
       "Serving Size     object\n",
       "Calories          int64\n",
       "TotalFat        float64\n",
       "dtype: object"
      ]
     },
     "execution_count": 4,
     "metadata": {},
     "output_type": "execute_result"
    }
   ],
   "source": [
    "frame.dtypes"
   ]
  },
  {
   "cell_type": "markdown",
   "id": "51ea5900",
   "metadata": {},
   "source": [
    "Sprawdzenie ile zajmuje pamięci:"
   ]
  },
  {
   "cell_type": "code",
   "execution_count": 6,
   "id": "9e772d0c",
   "metadata": {},
   "outputs": [
    {
     "name": "stdout",
     "output_type": "stream",
     "text": [
      "<class 'pandas.core.frame.DataFrame'>\n",
      "RangeIndex: 260 entries, 0 to 259\n",
      "Data columns (total 5 columns):\n",
      " #   Column        Non-Null Count  Dtype  \n",
      "---  ------        --------------  -----  \n",
      " 0   Category      260 non-null    object \n",
      " 1   Item          260 non-null    object \n",
      " 2   Serving Size  260 non-null    object \n",
      " 3   Calories      260 non-null    int64  \n",
      " 4   TotalFat      260 non-null    float64\n",
      "dtypes: float64(1), int64(1), object(3)\n",
      "memory usage: 61.7 KB\n"
     ]
    }
   ],
   "source": [
    "frame.info(memory_usage='deep')"
   ]
  },
  {
   "cell_type": "code",
   "execution_count": 8,
   "id": "5b5a1033",
   "metadata": {},
   "outputs": [
    {
     "data": {
      "text/html": [
       "<div>\n",
       "<style scoped>\n",
       "    .dataframe tbody tr th:only-of-type {\n",
       "        vertical-align: middle;\n",
       "    }\n",
       "\n",
       "    .dataframe tbody tr th {\n",
       "        vertical-align: top;\n",
       "    }\n",
       "\n",
       "    .dataframe thead th {\n",
       "        text-align: right;\n",
       "    }\n",
       "</style>\n",
       "<table border=\"1\" class=\"dataframe\">\n",
       "  <thead>\n",
       "    <tr style=\"text-align: right;\">\n",
       "      <th></th>\n",
       "      <th>Category</th>\n",
       "      <th>Item</th>\n",
       "      <th>Serving Size</th>\n",
       "      <th>Calories</th>\n",
       "      <th>TotalFat</th>\n",
       "    </tr>\n",
       "  </thead>\n",
       "  <tbody>\n",
       "    <tr>\n",
       "      <th>0</th>\n",
       "      <td>Breakfast</td>\n",
       "      <td>Egg McMuffin</td>\n",
       "      <td>4.8 oz (136 g)</td>\n",
       "      <td>300</td>\n",
       "      <td>13.0</td>\n",
       "    </tr>\n",
       "    <tr>\n",
       "      <th>1</th>\n",
       "      <td>Breakfast</td>\n",
       "      <td>Egg White Delight</td>\n",
       "      <td>NaN</td>\n",
       "      <td>250</td>\n",
       "      <td>8.0</td>\n",
       "    </tr>\n",
       "    <tr>\n",
       "      <th>2</th>\n",
       "      <td>Breakfast</td>\n",
       "      <td>Sausage McMuffin</td>\n",
       "      <td>3.9 oz (111 g)</td>\n",
       "      <td>370</td>\n",
       "      <td>23.0</td>\n",
       "    </tr>\n",
       "    <tr>\n",
       "      <th>3</th>\n",
       "      <td>Breakfast</td>\n",
       "      <td>Sausage McMuffin with Egg</td>\n",
       "      <td>5.7 oz (161 g)</td>\n",
       "      <td>450</td>\n",
       "      <td>28.0</td>\n",
       "    </tr>\n",
       "    <tr>\n",
       "      <th>4</th>\n",
       "      <td>Breakfast</td>\n",
       "      <td>Sausage McMuffin with Egg Whites</td>\n",
       "      <td>5.7 oz (161 g)</td>\n",
       "      <td>400</td>\n",
       "      <td>23.0</td>\n",
       "    </tr>\n",
       "  </tbody>\n",
       "</table>\n",
       "</div>"
      ],
      "text/plain": [
       "    Category                              Item    Serving Size  Calories  \\\n",
       "0  Breakfast                      Egg McMuffin  4.8 oz (136 g)       300   \n",
       "1  Breakfast                 Egg White Delight             NaN       250   \n",
       "2  Breakfast                  Sausage McMuffin  3.9 oz (111 g)       370   \n",
       "3  Breakfast         Sausage McMuffin with Egg  5.7 oz (161 g)       450   \n",
       "4  Breakfast  Sausage McMuffin with Egg Whites  5.7 oz (161 g)       400   \n",
       "\n",
       "   TotalFat  \n",
       "0      13.0  \n",
       "1       8.0  \n",
       "2      23.0  \n",
       "3      28.0  \n",
       "4      23.0  "
      ]
     },
     "execution_count": 8,
     "metadata": {},
     "output_type": "execute_result"
    }
   ],
   "source": [
    "frame.loc[1, 'Serving Size'] = np.NaN\n",
    "frame.head()"
   ]
  },
  {
   "cell_type": "code",
   "execution_count": 9,
   "id": "501b8f64",
   "metadata": {},
   "outputs": [
    {
     "data": {
      "text/html": [
       "<div>\n",
       "<style scoped>\n",
       "    .dataframe tbody tr th:only-of-type {\n",
       "        vertical-align: middle;\n",
       "    }\n",
       "\n",
       "    .dataframe tbody tr th {\n",
       "        vertical-align: top;\n",
       "    }\n",
       "\n",
       "    .dataframe thead th {\n",
       "        text-align: right;\n",
       "    }\n",
       "</style>\n",
       "<table border=\"1\" class=\"dataframe\">\n",
       "  <thead>\n",
       "    <tr style=\"text-align: right;\">\n",
       "      <th></th>\n",
       "      <th>Category</th>\n",
       "      <th>Item</th>\n",
       "      <th>Serving Size</th>\n",
       "      <th>Calories</th>\n",
       "      <th>TotalFat</th>\n",
       "    </tr>\n",
       "  </thead>\n",
       "  <tbody>\n",
       "    <tr>\n",
       "      <th>0</th>\n",
       "      <td>Breakfast</td>\n",
       "      <td>Egg McMuffin</td>\n",
       "      <td>4.8 oz (136 g)</td>\n",
       "      <td>300.0</td>\n",
       "      <td>13.0</td>\n",
       "    </tr>\n",
       "    <tr>\n",
       "      <th>1</th>\n",
       "      <td>Breakfast</td>\n",
       "      <td>Egg White Delight</td>\n",
       "      <td>NaN</td>\n",
       "      <td>250.0</td>\n",
       "      <td>8.0</td>\n",
       "    </tr>\n",
       "    <tr>\n",
       "      <th>2</th>\n",
       "      <td>Breakfast</td>\n",
       "      <td>Sausage McMuffin</td>\n",
       "      <td>3.9 oz (111 g)</td>\n",
       "      <td>NaN</td>\n",
       "      <td>23.0</td>\n",
       "    </tr>\n",
       "    <tr>\n",
       "      <th>3</th>\n",
       "      <td>Breakfast</td>\n",
       "      <td>Sausage McMuffin with Egg</td>\n",
       "      <td>5.7 oz (161 g)</td>\n",
       "      <td>450.0</td>\n",
       "      <td>28.0</td>\n",
       "    </tr>\n",
       "    <tr>\n",
       "      <th>4</th>\n",
       "      <td>Breakfast</td>\n",
       "      <td>Sausage McMuffin with Egg Whites</td>\n",
       "      <td>5.7 oz (161 g)</td>\n",
       "      <td>400.0</td>\n",
       "      <td>23.0</td>\n",
       "    </tr>\n",
       "  </tbody>\n",
       "</table>\n",
       "</div>"
      ],
      "text/plain": [
       "    Category                              Item    Serving Size  Calories  \\\n",
       "0  Breakfast                      Egg McMuffin  4.8 oz (136 g)     300.0   \n",
       "1  Breakfast                 Egg White Delight             NaN     250.0   \n",
       "2  Breakfast                  Sausage McMuffin  3.9 oz (111 g)       NaN   \n",
       "3  Breakfast         Sausage McMuffin with Egg  5.7 oz (161 g)     450.0   \n",
       "4  Breakfast  Sausage McMuffin with Egg Whites  5.7 oz (161 g)     400.0   \n",
       "\n",
       "   TotalFat  \n",
       "0      13.0  \n",
       "1       8.0  \n",
       "2      23.0  \n",
       "3      28.0  \n",
       "4      23.0  "
      ]
     },
     "execution_count": 9,
     "metadata": {},
     "output_type": "execute_result"
    }
   ],
   "source": [
    "frame.loc[2, 'Calories'] = np.NaN\n",
    "frame.head()"
   ]
  },
  {
   "cell_type": "code",
   "execution_count": 10,
   "id": "8e8f4ce8",
   "metadata": {},
   "outputs": [
    {
     "name": "stdout",
     "output_type": "stream",
     "text": [
      "<class 'pandas.core.frame.DataFrame'>\n",
      "RangeIndex: 260 entries, 0 to 259\n",
      "Data columns (total 5 columns):\n",
      " #   Column        Non-Null Count  Dtype  \n",
      "---  ------        --------------  -----  \n",
      " 0   Category      260 non-null    object \n",
      " 1   Item          260 non-null    object \n",
      " 2   Serving Size  259 non-null    object \n",
      " 3   Calories      259 non-null    float64\n",
      " 4   TotalFat      260 non-null    float64\n",
      "dtypes: float64(2), object(3)\n",
      "memory usage: 61.6 KB\n"
     ]
    }
   ],
   "source": [
    "frame.info(memory_usage='deep')"
   ]
  },
  {
   "cell_type": "code",
   "execution_count": 11,
   "id": "010e21ee",
   "metadata": {},
   "outputs": [
    {
     "data": {
      "text/html": [
       "<div>\n",
       "<style scoped>\n",
       "    .dataframe tbody tr th:only-of-type {\n",
       "        vertical-align: middle;\n",
       "    }\n",
       "\n",
       "    .dataframe tbody tr th {\n",
       "        vertical-align: top;\n",
       "    }\n",
       "\n",
       "    .dataframe thead th {\n",
       "        text-align: right;\n",
       "    }\n",
       "</style>\n",
       "<table border=\"1\" class=\"dataframe\">\n",
       "  <thead>\n",
       "    <tr style=\"text-align: right;\">\n",
       "      <th></th>\n",
       "      <th>Category</th>\n",
       "      <th>Item</th>\n",
       "      <th>Serving Size</th>\n",
       "      <th>Calories</th>\n",
       "      <th>TotalFat</th>\n",
       "    </tr>\n",
       "  </thead>\n",
       "  <tbody>\n",
       "    <tr>\n",
       "      <th>0</th>\n",
       "      <td>Breakfast</td>\n",
       "      <td>Egg McMuffin</td>\n",
       "      <td>4.8 oz (136 g)</td>\n",
       "      <td>300.0</td>\n",
       "      <td>13.0</td>\n",
       "    </tr>\n",
       "    <tr>\n",
       "      <th>1</th>\n",
       "      <td>Breakfast</td>\n",
       "      <td>Egg White Delight</td>\n",
       "      <td>NaN</td>\n",
       "      <td>250.0</td>\n",
       "      <td>8.0</td>\n",
       "    </tr>\n",
       "    <tr>\n",
       "      <th>2</th>\n",
       "      <td>Breakfast</td>\n",
       "      <td>Sausage McMuffin</td>\n",
       "      <td>3.9 oz (111 g)</td>\n",
       "      <td>0.0</td>\n",
       "      <td>23.0</td>\n",
       "    </tr>\n",
       "    <tr>\n",
       "      <th>3</th>\n",
       "      <td>Breakfast</td>\n",
       "      <td>Sausage McMuffin with Egg</td>\n",
       "      <td>5.7 oz (161 g)</td>\n",
       "      <td>450.0</td>\n",
       "      <td>28.0</td>\n",
       "    </tr>\n",
       "    <tr>\n",
       "      <th>4</th>\n",
       "      <td>Breakfast</td>\n",
       "      <td>Sausage McMuffin with Egg Whites</td>\n",
       "      <td>5.7 oz (161 g)</td>\n",
       "      <td>400.0</td>\n",
       "      <td>23.0</td>\n",
       "    </tr>\n",
       "  </tbody>\n",
       "</table>\n",
       "</div>"
      ],
      "text/plain": [
       "    Category                              Item    Serving Size  Calories  \\\n",
       "0  Breakfast                      Egg McMuffin  4.8 oz (136 g)     300.0   \n",
       "1  Breakfast                 Egg White Delight             NaN     250.0   \n",
       "2  Breakfast                  Sausage McMuffin  3.9 oz (111 g)       0.0   \n",
       "3  Breakfast         Sausage McMuffin with Egg  5.7 oz (161 g)     450.0   \n",
       "4  Breakfast  Sausage McMuffin with Egg Whites  5.7 oz (161 g)     400.0   \n",
       "\n",
       "   TotalFat  \n",
       "0      13.0  \n",
       "1       8.0  \n",
       "2      23.0  \n",
       "3      28.0  \n",
       "4      23.0  "
      ]
     },
     "execution_count": 11,
     "metadata": {},
     "output_type": "execute_result"
    }
   ],
   "source": [
    "frame['Calories'].fillna(value=0, inplace=True)\n",
    "frame.head()"
   ]
  },
  {
   "cell_type": "markdown",
   "id": "864f29e6",
   "metadata": {},
   "source": [
    "Zmiana typu kolumny - wszystkie komórki muszą być uzupełnione"
   ]
  },
  {
   "cell_type": "code",
   "execution_count": 12,
   "id": "929ebf6b",
   "metadata": {},
   "outputs": [],
   "source": [
    "frame['Calories'] = frame['Calories'].astype('int')"
   ]
  },
  {
   "cell_type": "code",
   "execution_count": 13,
   "id": "0e54e28c",
   "metadata": {},
   "outputs": [
    {
     "name": "stdout",
     "output_type": "stream",
     "text": [
      "<class 'pandas.core.frame.DataFrame'>\n",
      "RangeIndex: 260 entries, 0 to 259\n",
      "Data columns (total 5 columns):\n",
      " #   Column        Non-Null Count  Dtype  \n",
      "---  ------        --------------  -----  \n",
      " 0   Category      260 non-null    object \n",
      " 1   Item          260 non-null    object \n",
      " 2   Serving Size  259 non-null    object \n",
      " 3   Calories      260 non-null    int32  \n",
      " 4   TotalFat      260 non-null    float64\n",
      "dtypes: float64(1), int32(1), object(3)\n",
      "memory usage: 60.6 KB\n"
     ]
    }
   ],
   "source": [
    "frame.info(memory_usage='deep')"
   ]
  },
  {
   "cell_type": "markdown",
   "id": "5eb5b0c3",
   "metadata": {},
   "source": [
    "Wartości w kolumnie Category powtarzają się, można zmienić na typ category zaoszczędzając pamięć"
   ]
  },
  {
   "cell_type": "code",
   "execution_count": 14,
   "id": "14af44ba",
   "metadata": {},
   "outputs": [
    {
     "data": {
      "text/plain": [
       "Coffee & Tea          95\n",
       "Breakfast             42\n",
       "Smoothies & Shakes    28\n",
       "Chicken & Fish        27\n",
       "Beverages             27\n",
       "Beef & Pork           15\n",
       "Snacks & Sides        13\n",
       "Desserts               7\n",
       "Salads                 6\n",
       "Name: Category, dtype: int64"
      ]
     },
     "execution_count": 14,
     "metadata": {},
     "output_type": "execute_result"
    }
   ],
   "source": [
    "frame['Category'].value_counts()"
   ]
  },
  {
   "cell_type": "code",
   "execution_count": 16,
   "id": "f28d20e2",
   "metadata": {},
   "outputs": [],
   "source": [
    "frame['Category'] = frame['Category'].astype('category')"
   ]
  },
  {
   "cell_type": "code",
   "execution_count": 18,
   "id": "ea4d1e75",
   "metadata": {},
   "outputs": [
    {
     "name": "stdout",
     "output_type": "stream",
     "text": [
      "<class 'pandas.core.frame.DataFrame'>\n",
      "RangeIndex: 260 entries, 0 to 259\n",
      "Data columns (total 5 columns):\n",
      " #   Column        Non-Null Count  Dtype   \n",
      "---  ------        --------------  -----   \n",
      " 0   Category      260 non-null    category\n",
      " 1   Item          260 non-null    object  \n",
      " 2   Serving Size  259 non-null    object  \n",
      " 3   Calories      260 non-null    int32   \n",
      " 4   TotalFat      260 non-null    float64 \n",
      "dtypes: category(1), float64(1), int32(1), object(2)\n",
      "memory usage: 44.3 KB\n"
     ]
    }
   ],
   "source": [
    "frame.info(memory_usage='deep')"
   ]
  },
  {
   "cell_type": "markdown",
   "id": "d4c08ee8",
   "metadata": {},
   "source": [
    "To samo można zrobić z kolumną Serving Size:"
   ]
  },
  {
   "cell_type": "code",
   "execution_count": 19,
   "id": "5f2fedfb",
   "metadata": {},
   "outputs": [
    {
     "name": "stdout",
     "output_type": "stream",
     "text": [
      "<class 'pandas.core.frame.DataFrame'>\n",
      "RangeIndex: 260 entries, 0 to 259\n",
      "Data columns (total 5 columns):\n",
      " #   Column        Non-Null Count  Dtype   \n",
      "---  ------        --------------  -----   \n",
      " 0   Category      260 non-null    category\n",
      " 1   Item          260 non-null    object  \n",
      " 2   Serving Size  259 non-null    category\n",
      " 3   Calories      260 non-null    int32   \n",
      " 4   TotalFat      260 non-null    float64 \n",
      "dtypes: category(2), float64(1), int32(1), object(1)\n",
      "memory usage: 38.2 KB\n"
     ]
    }
   ],
   "source": [
    "frame['Serving Size'] = frame['Serving Size'].astype('category')\n",
    "frame.info(memory_usage='deep')"
   ]
  },
  {
   "cell_type": "code",
   "execution_count": null,
   "id": "0bdd6efe",
   "metadata": {},
   "outputs": [],
   "source": []
  }
 ],
 "metadata": {
  "kernelspec": {
   "display_name": "Python 3",
   "language": "python",
   "name": "python3"
  },
  "language_info": {
   "codemirror_mode": {
    "name": "ipython",
    "version": 3
   },
   "file_extension": ".py",
   "mimetype": "text/x-python",
   "name": "python",
   "nbconvert_exporter": "python",
   "pygments_lexer": "ipython3",
   "version": "3.8.8"
  }
 },
 "nbformat": 4,
 "nbformat_minor": 5
}
