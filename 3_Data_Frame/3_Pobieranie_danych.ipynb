{
 "cells": [
  {
   "cell_type": "markdown",
   "id": "2844502a",
   "metadata": {},
   "source": [
    "**Pobieranie danych z Data Frame**"
   ]
  },
  {
   "cell_type": "code",
   "execution_count": 1,
   "id": "56618ffa",
   "metadata": {},
   "outputs": [],
   "source": [
    "import pandas as pd\n",
    "import numpy as np\n",
    "import matplotlib.pyplot as plt\n",
    "import math"
   ]
  },
  {
   "cell_type": "code",
   "execution_count": 2,
   "id": "e4a25bec",
   "metadata": {},
   "outputs": [],
   "source": [
    "frame = pd.read_csv(\"C:/Users/Mariusz Baran/Data_Science_kurs/Data_science_pliki/course-files/Mcdonalds.csv\")"
   ]
  },
  {
   "cell_type": "code",
   "execution_count": 3,
   "id": "10dd58c9",
   "metadata": {},
   "outputs": [],
   "source": [
    "series = pd.read_csv(\"C:/Users/Mariusz Baran/Data_Science_kurs/Data_science_pliki/course-files/Mcdonalds.csv\",\n",
    "                    usecols=['Item', 'Calories'], index_col='Item', squeeze=True)"
   ]
  },
  {
   "cell_type": "code",
   "execution_count": 4,
   "id": "b935ddc8",
   "metadata": {},
   "outputs": [
    {
     "data": {
      "text/plain": [
       "pandas.core.frame.DataFrame"
      ]
     },
     "execution_count": 4,
     "metadata": {},
     "output_type": "execute_result"
    }
   ],
   "source": [
    "type(frame)"
   ]
  },
  {
   "cell_type": "code",
   "execution_count": 5,
   "id": "1c32083b",
   "metadata": {},
   "outputs": [
    {
     "data": {
      "text/plain": [
       "pandas.core.series.Series"
      ]
     },
     "execution_count": 5,
     "metadata": {},
     "output_type": "execute_result"
    }
   ],
   "source": [
    "type(series)"
   ]
  },
  {
   "cell_type": "markdown",
   "id": "ad69adbc",
   "metadata": {},
   "source": [
    "Można odwoływać się do kolumny:"
   ]
  },
  {
   "cell_type": "code",
   "execution_count": 6,
   "id": "878b61a9",
   "metadata": {},
   "outputs": [
    {
     "data": {
      "text/plain": [
       "pandas.core.series.Series"
      ]
     },
     "execution_count": 6,
     "metadata": {},
     "output_type": "execute_result"
    }
   ],
   "source": [
    "type(frame.Calories)"
   ]
  },
  {
   "cell_type": "markdown",
   "id": "e1d98f05",
   "metadata": {},
   "source": [
    "Jest to wtedy typ series, więc można korzystać z wszystkich metod dla Series"
   ]
  },
  {
   "cell_type": "code",
   "execution_count": 8,
   "id": "a9a897ff",
   "metadata": {},
   "outputs": [
    {
     "data": {
      "text/plain": [
       "368.2692307692308"
      ]
     },
     "execution_count": 8,
     "metadata": {},
     "output_type": "execute_result"
    }
   ],
   "source": [
    "frame.Calories.mean()"
   ]
  },
  {
   "cell_type": "code",
   "execution_count": 9,
   "id": "2973198e",
   "metadata": {},
   "outputs": [
    {
     "data": {
      "text/plain": [
       "340.0"
      ]
     },
     "execution_count": 9,
     "metadata": {},
     "output_type": "execute_result"
    }
   ],
   "source": [
    "frame.Calories.median()"
   ]
  },
  {
   "cell_type": "code",
   "execution_count": 10,
   "id": "be9f5870",
   "metadata": {},
   "outputs": [
    {
     "data": {
      "text/plain": [
       "1880"
      ]
     },
     "execution_count": 10,
     "metadata": {},
     "output_type": "execute_result"
    }
   ],
   "source": [
    "frame.Calories.max()"
   ]
  },
  {
   "cell_type": "code",
   "execution_count": 12,
   "id": "0466a773",
   "metadata": {},
   "outputs": [
    {
     "data": {
      "text/plain": [
       "82"
      ]
     },
     "execution_count": 12,
     "metadata": {},
     "output_type": "execute_result"
    }
   ],
   "source": [
    "frame.Calories.idxmax()"
   ]
  },
  {
   "cell_type": "code",
   "execution_count": 15,
   "id": "db25da90",
   "metadata": {},
   "outputs": [
    {
     "data": {
      "text/plain": [
       "'Chicken McNuggets (40 piece)'"
      ]
     },
     "execution_count": 15,
     "metadata": {},
     "output_type": "execute_result"
    }
   ],
   "source": [
    "frame.Item[82]"
   ]
  },
  {
   "cell_type": "code",
   "execution_count": 16,
   "id": "4c931008",
   "metadata": {},
   "outputs": [
    {
     "data": {
      "text/plain": [
       "'Chicken McNuggets (40 piece)'"
      ]
     },
     "execution_count": 16,
     "metadata": {},
     "output_type": "execute_result"
    }
   ],
   "source": [
    "frame.Item[frame.Calories.idxmax]"
   ]
  },
  {
   "cell_type": "markdown",
   "id": "88e505e9",
   "metadata": {},
   "source": [
    "Wyszukiwanie po indexie"
   ]
  },
  {
   "cell_type": "code",
   "execution_count": 19,
   "id": "40cd43b4",
   "metadata": {},
   "outputs": [],
   "source": [
    "s = frame[\"Item\"]"
   ]
  },
  {
   "cell_type": "code",
   "execution_count": 20,
   "id": "4978ebdd",
   "metadata": {},
   "outputs": [
    {
     "data": {
      "text/plain": [
       "'Vanilla Shake (Medium)'"
      ]
     },
     "execution_count": 20,
     "metadata": {},
     "output_type": "execute_result"
    }
   ],
   "source": [
    "s[242]"
   ]
  },
  {
   "cell_type": "code",
   "execution_count": 21,
   "id": "5bd8b69d",
   "metadata": {},
   "outputs": [
    {
     "data": {
      "text/plain": [
       "'Vanilla Shake (Medium)'"
      ]
     },
     "execution_count": 21,
     "metadata": {},
     "output_type": "execute_result"
    }
   ],
   "source": [
    "s.loc[242]"
   ]
  },
  {
   "cell_type": "code",
   "execution_count": 22,
   "id": "5e373876",
   "metadata": {},
   "outputs": [
    {
     "data": {
      "text/plain": [
       "'Vanilla Shake (Medium)'"
      ]
     },
     "execution_count": 22,
     "metadata": {},
     "output_type": "execute_result"
    }
   ],
   "source": [
    "frame[\"Item\"][242]"
   ]
  },
  {
   "cell_type": "code",
   "execution_count": 24,
   "id": "98c8ceba",
   "metadata": {},
   "outputs": [
    {
     "data": {
      "text/plain": [
       "'Vanilla Shake (Medium)'"
      ]
     },
     "execution_count": 24,
     "metadata": {},
     "output_type": "execute_result"
    }
   ],
   "source": [
    "frame.loc[242].loc[\"Item\"]"
   ]
  },
  {
   "cell_type": "code",
   "execution_count": 25,
   "id": "33753db1",
   "metadata": {},
   "outputs": [
    {
     "data": {
      "text/plain": [
       "'Vanilla Shake (Medium)'"
      ]
     },
     "execution_count": 25,
     "metadata": {},
     "output_type": "execute_result"
    }
   ],
   "source": [
    "frame.loc[242, \"Item\"]"
   ]
  },
  {
   "cell_type": "markdown",
   "id": "25c91fd5",
   "metadata": {},
   "source": [
    "Wyciągnięcie kilku kolumn:"
   ]
  },
  {
   "cell_type": "code",
   "execution_count": 26,
   "id": "c63d72e4",
   "metadata": {},
   "outputs": [
    {
     "data": {
      "text/html": [
       "<div>\n",
       "<style scoped>\n",
       "    .dataframe tbody tr th:only-of-type {\n",
       "        vertical-align: middle;\n",
       "    }\n",
       "\n",
       "    .dataframe tbody tr th {\n",
       "        vertical-align: top;\n",
       "    }\n",
       "\n",
       "    .dataframe thead th {\n",
       "        text-align: right;\n",
       "    }\n",
       "</style>\n",
       "<table border=\"1\" class=\"dataframe\">\n",
       "  <thead>\n",
       "    <tr style=\"text-align: right;\">\n",
       "      <th></th>\n",
       "      <th>Item</th>\n",
       "      <th>Calories</th>\n",
       "      <th>TotalFat</th>\n",
       "      <th>Sugars</th>\n",
       "    </tr>\n",
       "  </thead>\n",
       "  <tbody>\n",
       "    <tr>\n",
       "      <th>0</th>\n",
       "      <td>Egg McMuffin</td>\n",
       "      <td>300</td>\n",
       "      <td>13.0</td>\n",
       "      <td>3</td>\n",
       "    </tr>\n",
       "    <tr>\n",
       "      <th>1</th>\n",
       "      <td>Egg White Delight</td>\n",
       "      <td>250</td>\n",
       "      <td>8.0</td>\n",
       "      <td>3</td>\n",
       "    </tr>\n",
       "    <tr>\n",
       "      <th>2</th>\n",
       "      <td>Sausage McMuffin</td>\n",
       "      <td>370</td>\n",
       "      <td>23.0</td>\n",
       "      <td>2</td>\n",
       "    </tr>\n",
       "    <tr>\n",
       "      <th>3</th>\n",
       "      <td>Sausage McMuffin with Egg</td>\n",
       "      <td>450</td>\n",
       "      <td>28.0</td>\n",
       "      <td>2</td>\n",
       "    </tr>\n",
       "    <tr>\n",
       "      <th>4</th>\n",
       "      <td>Sausage McMuffin with Egg Whites</td>\n",
       "      <td>400</td>\n",
       "      <td>23.0</td>\n",
       "      <td>2</td>\n",
       "    </tr>\n",
       "  </tbody>\n",
       "</table>\n",
       "</div>"
      ],
      "text/plain": [
       "                               Item  Calories  TotalFat  Sugars\n",
       "0                      Egg McMuffin       300      13.0       3\n",
       "1                 Egg White Delight       250       8.0       3\n",
       "2                  Sausage McMuffin       370      23.0       2\n",
       "3         Sausage McMuffin with Egg       450      28.0       2\n",
       "4  Sausage McMuffin with Egg Whites       400      23.0       2"
      ]
     },
     "execution_count": 26,
     "metadata": {},
     "output_type": "execute_result"
    }
   ],
   "source": [
    "frame[[\"Item\",\"Calories\", \"TotalFat\", \"Sugars\"]].head()"
   ]
  },
  {
   "cell_type": "code",
   "execution_count": null,
   "id": "42b85535",
   "metadata": {},
   "outputs": [],
   "source": []
  }
 ],
 "metadata": {
  "kernelspec": {
   "display_name": "Python 3",
   "language": "python",
   "name": "python3"
  },
  "language_info": {
   "codemirror_mode": {
    "name": "ipython",
    "version": 3
   },
   "file_extension": ".py",
   "mimetype": "text/x-python",
   "name": "python",
   "nbconvert_exporter": "python",
   "pygments_lexer": "ipython3",
   "version": "3.8.8"
  }
 },
 "nbformat": 4,
 "nbformat_minor": 5
}
