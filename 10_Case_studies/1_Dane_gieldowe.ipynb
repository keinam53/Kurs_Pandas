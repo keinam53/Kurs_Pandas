{
  "nbformat": 4,
  "nbformat_minor": 0,
  "metadata": {
    "colab": {
      "name": "1_Dane_gieldowe.ipynb",
      "provenance": [],
      "authorship_tag": "ABX9TyPK0n+zyZ8p2+ifRW9fOj1d",
      "include_colab_link": true
    },
    "kernelspec": {
      "name": "python3",
      "display_name": "Python 3"
    },
    "language_info": {
      "name": "python"
    }
  },
  "cells": [
    {
      "cell_type": "markdown",
      "metadata": {
        "id": "view-in-github",
        "colab_type": "text"
      },
      "source": [
        "<a href=\"https://colab.research.google.com/github/keinam53/Kurs_Pandas/blob/master/10_Case_studies/1_Dane_gieldowe.ipynb\" target=\"_parent\"><img src=\"https://colab.research.google.com/assets/colab-badge.svg\" alt=\"Open In Colab\"/></a>"
      ]
    },
    {
      "cell_type": "markdown",
      "metadata": {
        "id": "CixqoBySTsLe"
      },
      "source": [
        "###Dane giełdowe\n",
        "1. [Import Bibliotek](#a1)\n",
        "2. [Załadowanie danych](#a2)\n",
        "3. [Eksploracja danych](#a3)\n",
        "4. [Selekcja kolumn](#a4)\n",
        "5. [Selekcja wierszy](#a5)\n",
        "6. [Obliczanie nowych kolumn](#a6)\n",
        "7. [Filtrowanie danych](#a7)"
      ]
    },
    {
      "cell_type": "markdown",
      "metadata": {
        "id": "FYJstVsUT4Lj"
      },
      "source": [
        "### <a name='a1'></a> Import Bibliotek"
      ]
    },
    {
      "cell_type": "code",
      "metadata": {
        "colab": {
          "base_uri": "https://localhost:8080/",
          "height": 36
        },
        "id": "2wrN3ucQvNnK",
        "outputId": "8c329404-c9b9-42c3-ee20-0e85bdec7230"
      },
      "source": [
        "import pandas as pd\n",
        "import numpy as np\n",
        "import pandas_datareader.data as web\n",
        "\n",
        "pd.__version__"
      ],
      "execution_count": 1,
      "outputs": [
        {
          "output_type": "execute_result",
          "data": {
            "application/vnd.google.colaboratory.intrinsic+json": {
              "type": "string"
            },
            "text/plain": [
              "'1.1.5'"
            ]
          },
          "metadata": {
            "tags": []
          },
          "execution_count": 1
        }
      ]
    },
    {
      "cell_type": "markdown",
      "metadata": {
        "id": "GrjiozJMT5Ws"
      },
      "source": [
        "### <a name='a2'></a> Załadowanie danych"
      ]
    },
    {
      "cell_type": "code",
      "metadata": {
        "colab": {
          "base_uri": "https://localhost:8080/"
        },
        "id": "TZfTVtcRvSXF",
        "outputId": "4ad2e76f-9991-479c-aa79-896b61bd7f8b"
      },
      "source": [
        "def fetch_financial_data(company='AMZN'):\n",
        "    return web.DataReader(name=company, data_source='stooq')\n",
        "\n",
        "df = fetch_financial_data()\n",
        "df.info()"
      ],
      "execution_count": 2,
      "outputs": [
        {
          "output_type": "stream",
          "text": [
            "<class 'pandas.core.frame.DataFrame'>\n",
            "DatetimeIndex: 1259 entries, 2021-07-30 to 2016-08-01\n",
            "Data columns (total 5 columns):\n",
            " #   Column  Non-Null Count  Dtype  \n",
            "---  ------  --------------  -----  \n",
            " 0   Open    1259 non-null   float64\n",
            " 1   High    1259 non-null   float64\n",
            " 2   Low     1259 non-null   float64\n",
            " 3   Close   1259 non-null   float64\n",
            " 4   Volume  1259 non-null   int64  \n",
            "dtypes: float64(4), int64(1)\n",
            "memory usage: 59.0 KB\n"
          ],
          "name": "stdout"
        }
      ]
    },
    {
      "cell_type": "markdown",
      "metadata": {
        "id": "caRSdpyWT7_G"
      },
      "source": [
        "### <a name='a3'></a> Eksploracja danych"
      ]
    },
    {
      "cell_type": "code",
      "metadata": {
        "colab": {
          "base_uri": "https://localhost:8080/",
          "height": 238
        },
        "id": "l_NoQjxFWCvb",
        "outputId": "590ebf83-4f1f-41f7-fd39-d807259d72ff"
      },
      "source": [
        "df.head()"
      ],
      "execution_count": 3,
      "outputs": [
        {
          "output_type": "execute_result",
          "data": {
            "text/html": [
              "<div>\n",
              "<style scoped>\n",
              "    .dataframe tbody tr th:only-of-type {\n",
              "        vertical-align: middle;\n",
              "    }\n",
              "\n",
              "    .dataframe tbody tr th {\n",
              "        vertical-align: top;\n",
              "    }\n",
              "\n",
              "    .dataframe thead th {\n",
              "        text-align: right;\n",
              "    }\n",
              "</style>\n",
              "<table border=\"1\" class=\"dataframe\">\n",
              "  <thead>\n",
              "    <tr style=\"text-align: right;\">\n",
              "      <th></th>\n",
              "      <th>Open</th>\n",
              "      <th>High</th>\n",
              "      <th>Low</th>\n",
              "      <th>Close</th>\n",
              "      <th>Volume</th>\n",
              "    </tr>\n",
              "    <tr>\n",
              "      <th>Date</th>\n",
              "      <th></th>\n",
              "      <th></th>\n",
              "      <th></th>\n",
              "      <th></th>\n",
              "      <th></th>\n",
              "    </tr>\n",
              "  </thead>\n",
              "  <tbody>\n",
              "    <tr>\n",
              "      <th>2021-07-30</th>\n",
              "      <td>3347.95</td>\n",
              "      <td>3368.1400</td>\n",
              "      <td>3306.98</td>\n",
              "      <td>3327.59</td>\n",
              "      <td>9965593</td>\n",
              "    </tr>\n",
              "    <tr>\n",
              "      <th>2021-07-29</th>\n",
              "      <td>3627.75</td>\n",
              "      <td>3637.9500</td>\n",
              "      <td>3580.01</td>\n",
              "      <td>3599.92</td>\n",
              "      <td>5519952</td>\n",
              "    </tr>\n",
              "    <tr>\n",
              "      <th>2021-07-28</th>\n",
              "      <td>3633.78</td>\n",
              "      <td>3658.4204</td>\n",
              "      <td>3601.00</td>\n",
              "      <td>3630.32</td>\n",
              "      <td>2999378</td>\n",
              "    </tr>\n",
              "    <tr>\n",
              "      <th>2021-07-27</th>\n",
              "      <td>3698.50</td>\n",
              "      <td>3698.5000</td>\n",
              "      <td>3586.15</td>\n",
              "      <td>3626.39</td>\n",
              "      <td>4131890</td>\n",
              "    </tr>\n",
              "    <tr>\n",
              "      <th>2021-07-26</th>\n",
              "      <td>3673.17</td>\n",
              "      <td>3712.0800</td>\n",
              "      <td>3647.25</td>\n",
              "      <td>3699.82</td>\n",
              "      <td>2900068</td>\n",
              "    </tr>\n",
              "  </tbody>\n",
              "</table>\n",
              "</div>"
            ],
            "text/plain": [
              "               Open       High      Low    Close   Volume\n",
              "Date                                                     \n",
              "2021-07-30  3347.95  3368.1400  3306.98  3327.59  9965593\n",
              "2021-07-29  3627.75  3637.9500  3580.01  3599.92  5519952\n",
              "2021-07-28  3633.78  3658.4204  3601.00  3630.32  2999378\n",
              "2021-07-27  3698.50  3698.5000  3586.15  3626.39  4131890\n",
              "2021-07-26  3673.17  3712.0800  3647.25  3699.82  2900068"
            ]
          },
          "metadata": {
            "tags": []
          },
          "execution_count": 3
        }
      ]
    },
    {
      "cell_type": "code",
      "metadata": {
        "colab": {
          "base_uri": "https://localhost:8080/"
        },
        "id": "x8W5hdguWtk-",
        "outputId": "f067e048-3aa6-464c-ce71-7e1766645411"
      },
      "source": [
        "df.columns"
      ],
      "execution_count": 4,
      "outputs": [
        {
          "output_type": "execute_result",
          "data": {
            "text/plain": [
              "Index(['Open', 'High', 'Low', 'Close', 'Volume'], dtype='object')"
            ]
          },
          "metadata": {
            "tags": []
          },
          "execution_count": 4
        }
      ]
    },
    {
      "cell_type": "code",
      "metadata": {
        "colab": {
          "base_uri": "https://localhost:8080/",
          "height": 238
        },
        "id": "ixm8H9FBWwoD",
        "outputId": "1f400cd6-0a74-4014-be3c-1ce18ee0fc99"
      },
      "source": [
        "df.columns = [col.lower() for col in df.columns]\n",
        "df.head()"
      ],
      "execution_count": 5,
      "outputs": [
        {
          "output_type": "execute_result",
          "data": {
            "text/html": [
              "<div>\n",
              "<style scoped>\n",
              "    .dataframe tbody tr th:only-of-type {\n",
              "        vertical-align: middle;\n",
              "    }\n",
              "\n",
              "    .dataframe tbody tr th {\n",
              "        vertical-align: top;\n",
              "    }\n",
              "\n",
              "    .dataframe thead th {\n",
              "        text-align: right;\n",
              "    }\n",
              "</style>\n",
              "<table border=\"1\" class=\"dataframe\">\n",
              "  <thead>\n",
              "    <tr style=\"text-align: right;\">\n",
              "      <th></th>\n",
              "      <th>open</th>\n",
              "      <th>high</th>\n",
              "      <th>low</th>\n",
              "      <th>close</th>\n",
              "      <th>volume</th>\n",
              "    </tr>\n",
              "    <tr>\n",
              "      <th>Date</th>\n",
              "      <th></th>\n",
              "      <th></th>\n",
              "      <th></th>\n",
              "      <th></th>\n",
              "      <th></th>\n",
              "    </tr>\n",
              "  </thead>\n",
              "  <tbody>\n",
              "    <tr>\n",
              "      <th>2021-07-30</th>\n",
              "      <td>3347.95</td>\n",
              "      <td>3368.1400</td>\n",
              "      <td>3306.98</td>\n",
              "      <td>3327.59</td>\n",
              "      <td>9965593</td>\n",
              "    </tr>\n",
              "    <tr>\n",
              "      <th>2021-07-29</th>\n",
              "      <td>3627.75</td>\n",
              "      <td>3637.9500</td>\n",
              "      <td>3580.01</td>\n",
              "      <td>3599.92</td>\n",
              "      <td>5519952</td>\n",
              "    </tr>\n",
              "    <tr>\n",
              "      <th>2021-07-28</th>\n",
              "      <td>3633.78</td>\n",
              "      <td>3658.4204</td>\n",
              "      <td>3601.00</td>\n",
              "      <td>3630.32</td>\n",
              "      <td>2999378</td>\n",
              "    </tr>\n",
              "    <tr>\n",
              "      <th>2021-07-27</th>\n",
              "      <td>3698.50</td>\n",
              "      <td>3698.5000</td>\n",
              "      <td>3586.15</td>\n",
              "      <td>3626.39</td>\n",
              "      <td>4131890</td>\n",
              "    </tr>\n",
              "    <tr>\n",
              "      <th>2021-07-26</th>\n",
              "      <td>3673.17</td>\n",
              "      <td>3712.0800</td>\n",
              "      <td>3647.25</td>\n",
              "      <td>3699.82</td>\n",
              "      <td>2900068</td>\n",
              "    </tr>\n",
              "  </tbody>\n",
              "</table>\n",
              "</div>"
            ],
            "text/plain": [
              "               open       high      low    close   volume\n",
              "Date                                                     \n",
              "2021-07-30  3347.95  3368.1400  3306.98  3327.59  9965593\n",
              "2021-07-29  3627.75  3637.9500  3580.01  3599.92  5519952\n",
              "2021-07-28  3633.78  3658.4204  3601.00  3630.32  2999378\n",
              "2021-07-27  3698.50  3698.5000  3586.15  3626.39  4131890\n",
              "2021-07-26  3673.17  3712.0800  3647.25  3699.82  2900068"
            ]
          },
          "metadata": {
            "tags": []
          },
          "execution_count": 5
        }
      ]
    },
    {
      "cell_type": "code",
      "metadata": {
        "colab": {
          "base_uri": "https://localhost:8080/",
          "height": 206
        },
        "id": "6qY9bV9AZYHW",
        "outputId": "6122a9c3-5f28-4d43-c5b8-478d77a9f46c"
      },
      "source": [
        "df.describe().T"
      ],
      "execution_count": 6,
      "outputs": [
        {
          "output_type": "execute_result",
          "data": {
            "text/html": [
              "<div>\n",
              "<style scoped>\n",
              "    .dataframe tbody tr th:only-of-type {\n",
              "        vertical-align: middle;\n",
              "    }\n",
              "\n",
              "    .dataframe tbody tr th {\n",
              "        vertical-align: top;\n",
              "    }\n",
              "\n",
              "    .dataframe thead th {\n",
              "        text-align: right;\n",
              "    }\n",
              "</style>\n",
              "<table border=\"1\" class=\"dataframe\">\n",
              "  <thead>\n",
              "    <tr style=\"text-align: right;\">\n",
              "      <th></th>\n",
              "      <th>count</th>\n",
              "      <th>mean</th>\n",
              "      <th>std</th>\n",
              "      <th>min</th>\n",
              "      <th>25%</th>\n",
              "      <th>50%</th>\n",
              "      <th>75%</th>\n",
              "      <th>max</th>\n",
              "    </tr>\n",
              "  </thead>\n",
              "  <tbody>\n",
              "    <tr>\n",
              "      <th>open</th>\n",
              "      <td>1259.0</td>\n",
              "      <td>1.864460e+03</td>\n",
              "      <td>8.488463e+02</td>\n",
              "      <td>730.00</td>\n",
              "      <td>1080.350</td>\n",
              "      <td>1760.24</td>\n",
              "      <td>2.372120e+03</td>\n",
              "      <td>3.744000e+03</td>\n",
              "    </tr>\n",
              "    <tr>\n",
              "      <th>high</th>\n",
              "      <td>1259.0</td>\n",
              "      <td>1.883612e+03</td>\n",
              "      <td>8.593404e+02</td>\n",
              "      <td>743.26</td>\n",
              "      <td>1103.760</td>\n",
              "      <td>1777.42</td>\n",
              "      <td>2.403850e+03</td>\n",
              "      <td>3.773078e+03</td>\n",
              "    </tr>\n",
              "    <tr>\n",
              "      <th>low</th>\n",
              "      <td>1259.0</td>\n",
              "      <td>1.842752e+03</td>\n",
              "      <td>8.369528e+02</td>\n",
              "      <td>710.10</td>\n",
              "      <td>1068.710</td>\n",
              "      <td>1743.03</td>\n",
              "      <td>2.340457e+03</td>\n",
              "      <td>3.696793e+03</td>\n",
              "    </tr>\n",
              "    <tr>\n",
              "      <th>close</th>\n",
              "      <td>1259.0</td>\n",
              "      <td>1.863767e+03</td>\n",
              "      <td>8.478318e+02</td>\n",
              "      <td>719.07</td>\n",
              "      <td>1097.585</td>\n",
              "      <td>1761.85</td>\n",
              "      <td>2.373855e+03</td>\n",
              "      <td>3.731410e+03</td>\n",
              "    </tr>\n",
              "    <tr>\n",
              "      <th>volume</th>\n",
              "      <td>1259.0</td>\n",
              "      <td>4.275325e+06</td>\n",
              "      <td>2.098668e+06</td>\n",
              "      <td>881337.00</td>\n",
              "      <td>2890777.000</td>\n",
              "      <td>3689272.00</td>\n",
              "      <td>5.114930e+06</td>\n",
              "      <td>1.655260e+07</td>\n",
              "    </tr>\n",
              "  </tbody>\n",
              "</table>\n",
              "</div>"
            ],
            "text/plain": [
              "         count          mean  ...           75%           max\n",
              "open    1259.0  1.864460e+03  ...  2.372120e+03  3.744000e+03\n",
              "high    1259.0  1.883612e+03  ...  2.403850e+03  3.773078e+03\n",
              "low     1259.0  1.842752e+03  ...  2.340457e+03  3.696793e+03\n",
              "close   1259.0  1.863767e+03  ...  2.373855e+03  3.731410e+03\n",
              "volume  1259.0  4.275325e+06  ...  5.114930e+06  1.655260e+07\n",
              "\n",
              "[5 rows x 8 columns]"
            ]
          },
          "metadata": {
            "tags": []
          },
          "execution_count": 6
        }
      ]
    },
    {
      "cell_type": "markdown",
      "metadata": {
        "id": "L6GQpHttT-Sw"
      },
      "source": [
        "### <a name='a4'></a> Selekcja kolumn"
      ]
    },
    {
      "cell_type": "code",
      "metadata": {
        "colab": {
          "base_uri": "https://localhost:8080/",
          "height": 394
        },
        "id": "XxH5oRZRT91n",
        "outputId": "2ebf5785-6faf-463e-8122-e207c9158ed3"
      },
      "source": [
        "df = df.head(10)\n",
        "df"
      ],
      "execution_count": 7,
      "outputs": [
        {
          "output_type": "execute_result",
          "data": {
            "text/html": [
              "<div>\n",
              "<style scoped>\n",
              "    .dataframe tbody tr th:only-of-type {\n",
              "        vertical-align: middle;\n",
              "    }\n",
              "\n",
              "    .dataframe tbody tr th {\n",
              "        vertical-align: top;\n",
              "    }\n",
              "\n",
              "    .dataframe thead th {\n",
              "        text-align: right;\n",
              "    }\n",
              "</style>\n",
              "<table border=\"1\" class=\"dataframe\">\n",
              "  <thead>\n",
              "    <tr style=\"text-align: right;\">\n",
              "      <th></th>\n",
              "      <th>open</th>\n",
              "      <th>high</th>\n",
              "      <th>low</th>\n",
              "      <th>close</th>\n",
              "      <th>volume</th>\n",
              "    </tr>\n",
              "    <tr>\n",
              "      <th>Date</th>\n",
              "      <th></th>\n",
              "      <th></th>\n",
              "      <th></th>\n",
              "      <th></th>\n",
              "      <th></th>\n",
              "    </tr>\n",
              "  </thead>\n",
              "  <tbody>\n",
              "    <tr>\n",
              "      <th>2021-07-30</th>\n",
              "      <td>3347.950</td>\n",
              "      <td>3368.1400</td>\n",
              "      <td>3306.9800</td>\n",
              "      <td>3327.59</td>\n",
              "      <td>9965593</td>\n",
              "    </tr>\n",
              "    <tr>\n",
              "      <th>2021-07-29</th>\n",
              "      <td>3627.750</td>\n",
              "      <td>3637.9500</td>\n",
              "      <td>3580.0100</td>\n",
              "      <td>3599.92</td>\n",
              "      <td>5519952</td>\n",
              "    </tr>\n",
              "    <tr>\n",
              "      <th>2021-07-28</th>\n",
              "      <td>3633.780</td>\n",
              "      <td>3658.4204</td>\n",
              "      <td>3601.0000</td>\n",
              "      <td>3630.32</td>\n",
              "      <td>2999378</td>\n",
              "    </tr>\n",
              "    <tr>\n",
              "      <th>2021-07-27</th>\n",
              "      <td>3698.500</td>\n",
              "      <td>3698.5000</td>\n",
              "      <td>3586.1500</td>\n",
              "      <td>3626.39</td>\n",
              "      <td>4131890</td>\n",
              "    </tr>\n",
              "    <tr>\n",
              "      <th>2021-07-26</th>\n",
              "      <td>3673.170</td>\n",
              "      <td>3712.0800</td>\n",
              "      <td>3647.2500</td>\n",
              "      <td>3699.82</td>\n",
              "      <td>2900068</td>\n",
              "    </tr>\n",
              "    <tr>\n",
              "      <th>2021-07-23</th>\n",
              "      <td>3640.000</td>\n",
              "      <td>3666.1100</td>\n",
              "      <td>3622.0400</td>\n",
              "      <td>3656.64</td>\n",
              "      <td>2436292</td>\n",
              "    </tr>\n",
              "    <tr>\n",
              "      <th>2021-07-22</th>\n",
              "      <td>3587.230</td>\n",
              "      <td>3640.0200</td>\n",
              "      <td>3582.2700</td>\n",
              "      <td>3638.03</td>\n",
              "      <td>3265352</td>\n",
              "    </tr>\n",
              "    <tr>\n",
              "      <th>2021-07-21</th>\n",
              "      <td>3576.375</td>\n",
              "      <td>3586.4500</td>\n",
              "      <td>3543.6415</td>\n",
              "      <td>3585.20</td>\n",
              "      <td>2318989</td>\n",
              "    </tr>\n",
              "    <tr>\n",
              "      <th>2021-07-20</th>\n",
              "      <td>3567.320</td>\n",
              "      <td>3592.0000</td>\n",
              "      <td>3518.0000</td>\n",
              "      <td>3573.19</td>\n",
              "      <td>3255680</td>\n",
              "    </tr>\n",
              "    <tr>\n",
              "      <th>2021-07-19</th>\n",
              "      <td>3532.580</td>\n",
              "      <td>3550.2100</td>\n",
              "      <td>3499.1600</td>\n",
              "      <td>3549.59</td>\n",
              "      <td>3784595</td>\n",
              "    </tr>\n",
              "  </tbody>\n",
              "</table>\n",
              "</div>"
            ],
            "text/plain": [
              "                open       high        low    close   volume\n",
              "Date                                                        \n",
              "2021-07-30  3347.950  3368.1400  3306.9800  3327.59  9965593\n",
              "2021-07-29  3627.750  3637.9500  3580.0100  3599.92  5519952\n",
              "2021-07-28  3633.780  3658.4204  3601.0000  3630.32  2999378\n",
              "2021-07-27  3698.500  3698.5000  3586.1500  3626.39  4131890\n",
              "2021-07-26  3673.170  3712.0800  3647.2500  3699.82  2900068\n",
              "2021-07-23  3640.000  3666.1100  3622.0400  3656.64  2436292\n",
              "2021-07-22  3587.230  3640.0200  3582.2700  3638.03  3265352\n",
              "2021-07-21  3576.375  3586.4500  3543.6415  3585.20  2318989\n",
              "2021-07-20  3567.320  3592.0000  3518.0000  3573.19  3255680\n",
              "2021-07-19  3532.580  3550.2100  3499.1600  3549.59  3784595"
            ]
          },
          "metadata": {
            "tags": []
          },
          "execution_count": 7
        }
      ]
    },
    {
      "cell_type": "code",
      "metadata": {
        "colab": {
          "base_uri": "https://localhost:8080/",
          "height": 394
        },
        "id": "4kTQvLegUBM-",
        "outputId": "5c7f28b0-dd9e-4206-928b-1a75c5a0cbe1"
      },
      "source": [
        "df[['open', 'close']]"
      ],
      "execution_count": 8,
      "outputs": [
        {
          "output_type": "execute_result",
          "data": {
            "text/html": [
              "<div>\n",
              "<style scoped>\n",
              "    .dataframe tbody tr th:only-of-type {\n",
              "        vertical-align: middle;\n",
              "    }\n",
              "\n",
              "    .dataframe tbody tr th {\n",
              "        vertical-align: top;\n",
              "    }\n",
              "\n",
              "    .dataframe thead th {\n",
              "        text-align: right;\n",
              "    }\n",
              "</style>\n",
              "<table border=\"1\" class=\"dataframe\">\n",
              "  <thead>\n",
              "    <tr style=\"text-align: right;\">\n",
              "      <th></th>\n",
              "      <th>open</th>\n",
              "      <th>close</th>\n",
              "    </tr>\n",
              "    <tr>\n",
              "      <th>Date</th>\n",
              "      <th></th>\n",
              "      <th></th>\n",
              "    </tr>\n",
              "  </thead>\n",
              "  <tbody>\n",
              "    <tr>\n",
              "      <th>2021-07-30</th>\n",
              "      <td>3347.950</td>\n",
              "      <td>3327.59</td>\n",
              "    </tr>\n",
              "    <tr>\n",
              "      <th>2021-07-29</th>\n",
              "      <td>3627.750</td>\n",
              "      <td>3599.92</td>\n",
              "    </tr>\n",
              "    <tr>\n",
              "      <th>2021-07-28</th>\n",
              "      <td>3633.780</td>\n",
              "      <td>3630.32</td>\n",
              "    </tr>\n",
              "    <tr>\n",
              "      <th>2021-07-27</th>\n",
              "      <td>3698.500</td>\n",
              "      <td>3626.39</td>\n",
              "    </tr>\n",
              "    <tr>\n",
              "      <th>2021-07-26</th>\n",
              "      <td>3673.170</td>\n",
              "      <td>3699.82</td>\n",
              "    </tr>\n",
              "    <tr>\n",
              "      <th>2021-07-23</th>\n",
              "      <td>3640.000</td>\n",
              "      <td>3656.64</td>\n",
              "    </tr>\n",
              "    <tr>\n",
              "      <th>2021-07-22</th>\n",
              "      <td>3587.230</td>\n",
              "      <td>3638.03</td>\n",
              "    </tr>\n",
              "    <tr>\n",
              "      <th>2021-07-21</th>\n",
              "      <td>3576.375</td>\n",
              "      <td>3585.20</td>\n",
              "    </tr>\n",
              "    <tr>\n",
              "      <th>2021-07-20</th>\n",
              "      <td>3567.320</td>\n",
              "      <td>3573.19</td>\n",
              "    </tr>\n",
              "    <tr>\n",
              "      <th>2021-07-19</th>\n",
              "      <td>3532.580</td>\n",
              "      <td>3549.59</td>\n",
              "    </tr>\n",
              "  </tbody>\n",
              "</table>\n",
              "</div>"
            ],
            "text/plain": [
              "                open    close\n",
              "Date                         \n",
              "2021-07-30  3347.950  3327.59\n",
              "2021-07-29  3627.750  3599.92\n",
              "2021-07-28  3633.780  3630.32\n",
              "2021-07-27  3698.500  3626.39\n",
              "2021-07-26  3673.170  3699.82\n",
              "2021-07-23  3640.000  3656.64\n",
              "2021-07-22  3587.230  3638.03\n",
              "2021-07-21  3576.375  3585.20\n",
              "2021-07-20  3567.320  3573.19\n",
              "2021-07-19  3532.580  3549.59"
            ]
          },
          "metadata": {
            "tags": []
          },
          "execution_count": 8
        }
      ]
    },
    {
      "cell_type": "code",
      "metadata": {
        "colab": {
          "base_uri": "https://localhost:8080/",
          "height": 394
        },
        "id": "VUeZ3XYWaiqk",
        "outputId": "4f1babce-aa91-463b-d6f6-420a00072429"
      },
      "source": [
        "df.iloc[:, 3:5]"
      ],
      "execution_count": 9,
      "outputs": [
        {
          "output_type": "execute_result",
          "data": {
            "text/html": [
              "<div>\n",
              "<style scoped>\n",
              "    .dataframe tbody tr th:only-of-type {\n",
              "        vertical-align: middle;\n",
              "    }\n",
              "\n",
              "    .dataframe tbody tr th {\n",
              "        vertical-align: top;\n",
              "    }\n",
              "\n",
              "    .dataframe thead th {\n",
              "        text-align: right;\n",
              "    }\n",
              "</style>\n",
              "<table border=\"1\" class=\"dataframe\">\n",
              "  <thead>\n",
              "    <tr style=\"text-align: right;\">\n",
              "      <th></th>\n",
              "      <th>close</th>\n",
              "      <th>volume</th>\n",
              "    </tr>\n",
              "    <tr>\n",
              "      <th>Date</th>\n",
              "      <th></th>\n",
              "      <th></th>\n",
              "    </tr>\n",
              "  </thead>\n",
              "  <tbody>\n",
              "    <tr>\n",
              "      <th>2021-07-30</th>\n",
              "      <td>3327.59</td>\n",
              "      <td>9965593</td>\n",
              "    </tr>\n",
              "    <tr>\n",
              "      <th>2021-07-29</th>\n",
              "      <td>3599.92</td>\n",
              "      <td>5519952</td>\n",
              "    </tr>\n",
              "    <tr>\n",
              "      <th>2021-07-28</th>\n",
              "      <td>3630.32</td>\n",
              "      <td>2999378</td>\n",
              "    </tr>\n",
              "    <tr>\n",
              "      <th>2021-07-27</th>\n",
              "      <td>3626.39</td>\n",
              "      <td>4131890</td>\n",
              "    </tr>\n",
              "    <tr>\n",
              "      <th>2021-07-26</th>\n",
              "      <td>3699.82</td>\n",
              "      <td>2900068</td>\n",
              "    </tr>\n",
              "    <tr>\n",
              "      <th>2021-07-23</th>\n",
              "      <td>3656.64</td>\n",
              "      <td>2436292</td>\n",
              "    </tr>\n",
              "    <tr>\n",
              "      <th>2021-07-22</th>\n",
              "      <td>3638.03</td>\n",
              "      <td>3265352</td>\n",
              "    </tr>\n",
              "    <tr>\n",
              "      <th>2021-07-21</th>\n",
              "      <td>3585.20</td>\n",
              "      <td>2318989</td>\n",
              "    </tr>\n",
              "    <tr>\n",
              "      <th>2021-07-20</th>\n",
              "      <td>3573.19</td>\n",
              "      <td>3255680</td>\n",
              "    </tr>\n",
              "    <tr>\n",
              "      <th>2021-07-19</th>\n",
              "      <td>3549.59</td>\n",
              "      <td>3784595</td>\n",
              "    </tr>\n",
              "  </tbody>\n",
              "</table>\n",
              "</div>"
            ],
            "text/plain": [
              "              close   volume\n",
              "Date                        \n",
              "2021-07-30  3327.59  9965593\n",
              "2021-07-29  3599.92  5519952\n",
              "2021-07-28  3630.32  2999378\n",
              "2021-07-27  3626.39  4131890\n",
              "2021-07-26  3699.82  2900068\n",
              "2021-07-23  3656.64  2436292\n",
              "2021-07-22  3638.03  3265352\n",
              "2021-07-21  3585.20  2318989\n",
              "2021-07-20  3573.19  3255680\n",
              "2021-07-19  3549.59  3784595"
            ]
          },
          "metadata": {
            "tags": []
          },
          "execution_count": 9
        }
      ]
    },
    {
      "cell_type": "markdown",
      "metadata": {
        "id": "_RVN-p0ZUBt5"
      },
      "source": [
        "### <a name='a5'></a>  Selekcja wierszy"
      ]
    },
    {
      "cell_type": "code",
      "metadata": {
        "colab": {
          "base_uri": "https://localhost:8080/",
          "height": 394
        },
        "id": "xiWmh6zpUDYI",
        "outputId": "39bfdeaa-0017-4657-a7db-7a530a2caacf"
      },
      "source": [
        "df"
      ],
      "execution_count": 10,
      "outputs": [
        {
          "output_type": "execute_result",
          "data": {
            "text/html": [
              "<div>\n",
              "<style scoped>\n",
              "    .dataframe tbody tr th:only-of-type {\n",
              "        vertical-align: middle;\n",
              "    }\n",
              "\n",
              "    .dataframe tbody tr th {\n",
              "        vertical-align: top;\n",
              "    }\n",
              "\n",
              "    .dataframe thead th {\n",
              "        text-align: right;\n",
              "    }\n",
              "</style>\n",
              "<table border=\"1\" class=\"dataframe\">\n",
              "  <thead>\n",
              "    <tr style=\"text-align: right;\">\n",
              "      <th></th>\n",
              "      <th>open</th>\n",
              "      <th>high</th>\n",
              "      <th>low</th>\n",
              "      <th>close</th>\n",
              "      <th>volume</th>\n",
              "    </tr>\n",
              "    <tr>\n",
              "      <th>Date</th>\n",
              "      <th></th>\n",
              "      <th></th>\n",
              "      <th></th>\n",
              "      <th></th>\n",
              "      <th></th>\n",
              "    </tr>\n",
              "  </thead>\n",
              "  <tbody>\n",
              "    <tr>\n",
              "      <th>2021-07-30</th>\n",
              "      <td>3347.950</td>\n",
              "      <td>3368.1400</td>\n",
              "      <td>3306.9800</td>\n",
              "      <td>3327.59</td>\n",
              "      <td>9965593</td>\n",
              "    </tr>\n",
              "    <tr>\n",
              "      <th>2021-07-29</th>\n",
              "      <td>3627.750</td>\n",
              "      <td>3637.9500</td>\n",
              "      <td>3580.0100</td>\n",
              "      <td>3599.92</td>\n",
              "      <td>5519952</td>\n",
              "    </tr>\n",
              "    <tr>\n",
              "      <th>2021-07-28</th>\n",
              "      <td>3633.780</td>\n",
              "      <td>3658.4204</td>\n",
              "      <td>3601.0000</td>\n",
              "      <td>3630.32</td>\n",
              "      <td>2999378</td>\n",
              "    </tr>\n",
              "    <tr>\n",
              "      <th>2021-07-27</th>\n",
              "      <td>3698.500</td>\n",
              "      <td>3698.5000</td>\n",
              "      <td>3586.1500</td>\n",
              "      <td>3626.39</td>\n",
              "      <td>4131890</td>\n",
              "    </tr>\n",
              "    <tr>\n",
              "      <th>2021-07-26</th>\n",
              "      <td>3673.170</td>\n",
              "      <td>3712.0800</td>\n",
              "      <td>3647.2500</td>\n",
              "      <td>3699.82</td>\n",
              "      <td>2900068</td>\n",
              "    </tr>\n",
              "    <tr>\n",
              "      <th>2021-07-23</th>\n",
              "      <td>3640.000</td>\n",
              "      <td>3666.1100</td>\n",
              "      <td>3622.0400</td>\n",
              "      <td>3656.64</td>\n",
              "      <td>2436292</td>\n",
              "    </tr>\n",
              "    <tr>\n",
              "      <th>2021-07-22</th>\n",
              "      <td>3587.230</td>\n",
              "      <td>3640.0200</td>\n",
              "      <td>3582.2700</td>\n",
              "      <td>3638.03</td>\n",
              "      <td>3265352</td>\n",
              "    </tr>\n",
              "    <tr>\n",
              "      <th>2021-07-21</th>\n",
              "      <td>3576.375</td>\n",
              "      <td>3586.4500</td>\n",
              "      <td>3543.6415</td>\n",
              "      <td>3585.20</td>\n",
              "      <td>2318989</td>\n",
              "    </tr>\n",
              "    <tr>\n",
              "      <th>2021-07-20</th>\n",
              "      <td>3567.320</td>\n",
              "      <td>3592.0000</td>\n",
              "      <td>3518.0000</td>\n",
              "      <td>3573.19</td>\n",
              "      <td>3255680</td>\n",
              "    </tr>\n",
              "    <tr>\n",
              "      <th>2021-07-19</th>\n",
              "      <td>3532.580</td>\n",
              "      <td>3550.2100</td>\n",
              "      <td>3499.1600</td>\n",
              "      <td>3549.59</td>\n",
              "      <td>3784595</td>\n",
              "    </tr>\n",
              "  </tbody>\n",
              "</table>\n",
              "</div>"
            ],
            "text/plain": [
              "                open       high        low    close   volume\n",
              "Date                                                        \n",
              "2021-07-30  3347.950  3368.1400  3306.9800  3327.59  9965593\n",
              "2021-07-29  3627.750  3637.9500  3580.0100  3599.92  5519952\n",
              "2021-07-28  3633.780  3658.4204  3601.0000  3630.32  2999378\n",
              "2021-07-27  3698.500  3698.5000  3586.1500  3626.39  4131890\n",
              "2021-07-26  3673.170  3712.0800  3647.2500  3699.82  2900068\n",
              "2021-07-23  3640.000  3666.1100  3622.0400  3656.64  2436292\n",
              "2021-07-22  3587.230  3640.0200  3582.2700  3638.03  3265352\n",
              "2021-07-21  3576.375  3586.4500  3543.6415  3585.20  2318989\n",
              "2021-07-20  3567.320  3592.0000  3518.0000  3573.19  3255680\n",
              "2021-07-19  3532.580  3550.2100  3499.1600  3549.59  3784595"
            ]
          },
          "metadata": {
            "tags": []
          },
          "execution_count": 10
        }
      ]
    },
    {
      "cell_type": "code",
      "metadata": {
        "colab": {
          "base_uri": "https://localhost:8080/",
          "height": 175
        },
        "id": "JRHHBc8jbqFv",
        "outputId": "170c75ca-cc51-400b-c2d1-272c04cdbe16"
      },
      "source": [
        "df.iloc[[0, 1, 2]]"
      ],
      "execution_count": 11,
      "outputs": [
        {
          "output_type": "execute_result",
          "data": {
            "text/html": [
              "<div>\n",
              "<style scoped>\n",
              "    .dataframe tbody tr th:only-of-type {\n",
              "        vertical-align: middle;\n",
              "    }\n",
              "\n",
              "    .dataframe tbody tr th {\n",
              "        vertical-align: top;\n",
              "    }\n",
              "\n",
              "    .dataframe thead th {\n",
              "        text-align: right;\n",
              "    }\n",
              "</style>\n",
              "<table border=\"1\" class=\"dataframe\">\n",
              "  <thead>\n",
              "    <tr style=\"text-align: right;\">\n",
              "      <th></th>\n",
              "      <th>open</th>\n",
              "      <th>high</th>\n",
              "      <th>low</th>\n",
              "      <th>close</th>\n",
              "      <th>volume</th>\n",
              "    </tr>\n",
              "    <tr>\n",
              "      <th>Date</th>\n",
              "      <th></th>\n",
              "      <th></th>\n",
              "      <th></th>\n",
              "      <th></th>\n",
              "      <th></th>\n",
              "    </tr>\n",
              "  </thead>\n",
              "  <tbody>\n",
              "    <tr>\n",
              "      <th>2021-07-30</th>\n",
              "      <td>3347.95</td>\n",
              "      <td>3368.1400</td>\n",
              "      <td>3306.98</td>\n",
              "      <td>3327.59</td>\n",
              "      <td>9965593</td>\n",
              "    </tr>\n",
              "    <tr>\n",
              "      <th>2021-07-29</th>\n",
              "      <td>3627.75</td>\n",
              "      <td>3637.9500</td>\n",
              "      <td>3580.01</td>\n",
              "      <td>3599.92</td>\n",
              "      <td>5519952</td>\n",
              "    </tr>\n",
              "    <tr>\n",
              "      <th>2021-07-28</th>\n",
              "      <td>3633.78</td>\n",
              "      <td>3658.4204</td>\n",
              "      <td>3601.00</td>\n",
              "      <td>3630.32</td>\n",
              "      <td>2999378</td>\n",
              "    </tr>\n",
              "  </tbody>\n",
              "</table>\n",
              "</div>"
            ],
            "text/plain": [
              "               open       high      low    close   volume\n",
              "Date                                                     \n",
              "2021-07-30  3347.95  3368.1400  3306.98  3327.59  9965593\n",
              "2021-07-29  3627.75  3637.9500  3580.01  3599.92  5519952\n",
              "2021-07-28  3633.78  3658.4204  3601.00  3630.32  2999378"
            ]
          },
          "metadata": {
            "tags": []
          },
          "execution_count": 11
        }
      ]
    },
    {
      "cell_type": "code",
      "metadata": {
        "colab": {
          "base_uri": "https://localhost:8080/",
          "height": 206
        },
        "id": "cHQB_YG7b7E9",
        "outputId": "acb5c069-45ad-4af8-a6ae-2f969d5fcf81"
      },
      "source": [
        "df.loc['2021-07-27':'2021-07-22']"
      ],
      "execution_count": 12,
      "outputs": [
        {
          "output_type": "execute_result",
          "data": {
            "text/html": [
              "<div>\n",
              "<style scoped>\n",
              "    .dataframe tbody tr th:only-of-type {\n",
              "        vertical-align: middle;\n",
              "    }\n",
              "\n",
              "    .dataframe tbody tr th {\n",
              "        vertical-align: top;\n",
              "    }\n",
              "\n",
              "    .dataframe thead th {\n",
              "        text-align: right;\n",
              "    }\n",
              "</style>\n",
              "<table border=\"1\" class=\"dataframe\">\n",
              "  <thead>\n",
              "    <tr style=\"text-align: right;\">\n",
              "      <th></th>\n",
              "      <th>open</th>\n",
              "      <th>high</th>\n",
              "      <th>low</th>\n",
              "      <th>close</th>\n",
              "      <th>volume</th>\n",
              "    </tr>\n",
              "    <tr>\n",
              "      <th>Date</th>\n",
              "      <th></th>\n",
              "      <th></th>\n",
              "      <th></th>\n",
              "      <th></th>\n",
              "      <th></th>\n",
              "    </tr>\n",
              "  </thead>\n",
              "  <tbody>\n",
              "    <tr>\n",
              "      <th>2021-07-27</th>\n",
              "      <td>3698.50</td>\n",
              "      <td>3698.50</td>\n",
              "      <td>3586.15</td>\n",
              "      <td>3626.39</td>\n",
              "      <td>4131890</td>\n",
              "    </tr>\n",
              "    <tr>\n",
              "      <th>2021-07-26</th>\n",
              "      <td>3673.17</td>\n",
              "      <td>3712.08</td>\n",
              "      <td>3647.25</td>\n",
              "      <td>3699.82</td>\n",
              "      <td>2900068</td>\n",
              "    </tr>\n",
              "    <tr>\n",
              "      <th>2021-07-23</th>\n",
              "      <td>3640.00</td>\n",
              "      <td>3666.11</td>\n",
              "      <td>3622.04</td>\n",
              "      <td>3656.64</td>\n",
              "      <td>2436292</td>\n",
              "    </tr>\n",
              "    <tr>\n",
              "      <th>2021-07-22</th>\n",
              "      <td>3587.23</td>\n",
              "      <td>3640.02</td>\n",
              "      <td>3582.27</td>\n",
              "      <td>3638.03</td>\n",
              "      <td>3265352</td>\n",
              "    </tr>\n",
              "  </tbody>\n",
              "</table>\n",
              "</div>"
            ],
            "text/plain": [
              "               open     high      low    close   volume\n",
              "Date                                                   \n",
              "2021-07-27  3698.50  3698.50  3586.15  3626.39  4131890\n",
              "2021-07-26  3673.17  3712.08  3647.25  3699.82  2900068\n",
              "2021-07-23  3640.00  3666.11  3622.04  3656.64  2436292\n",
              "2021-07-22  3587.23  3640.02  3582.27  3638.03  3265352"
            ]
          },
          "metadata": {
            "tags": []
          },
          "execution_count": 12
        }
      ]
    },
    {
      "cell_type": "markdown",
      "metadata": {
        "id": "kIgepJQcUECs"
      },
      "source": [
        "### <a name='a6'></a> Obliczanie nowych kolumn"
      ]
    },
    {
      "cell_type": "code",
      "metadata": {
        "colab": {
          "base_uri": "https://localhost:8080/",
          "height": 238
        },
        "id": "dUi5Za57UGTO",
        "outputId": "279cc8a4-c4f5-4857-dcbd-0fa5bda1b76f"
      },
      "source": [
        "df = fetch_financial_data('MSFT')\n",
        "df.head()"
      ],
      "execution_count": 13,
      "outputs": [
        {
          "output_type": "execute_result",
          "data": {
            "text/html": [
              "<div>\n",
              "<style scoped>\n",
              "    .dataframe tbody tr th:only-of-type {\n",
              "        vertical-align: middle;\n",
              "    }\n",
              "\n",
              "    .dataframe tbody tr th {\n",
              "        vertical-align: top;\n",
              "    }\n",
              "\n",
              "    .dataframe thead th {\n",
              "        text-align: right;\n",
              "    }\n",
              "</style>\n",
              "<table border=\"1\" class=\"dataframe\">\n",
              "  <thead>\n",
              "    <tr style=\"text-align: right;\">\n",
              "      <th></th>\n",
              "      <th>Open</th>\n",
              "      <th>High</th>\n",
              "      <th>Low</th>\n",
              "      <th>Close</th>\n",
              "      <th>Volume</th>\n",
              "    </tr>\n",
              "    <tr>\n",
              "      <th>Date</th>\n",
              "      <th></th>\n",
              "      <th></th>\n",
              "      <th></th>\n",
              "      <th></th>\n",
              "      <th></th>\n",
              "    </tr>\n",
              "  </thead>\n",
              "  <tbody>\n",
              "    <tr>\n",
              "      <th>2021-07-30</th>\n",
              "      <td>285.170</td>\n",
              "      <td>286.660</td>\n",
              "      <td>283.9100</td>\n",
              "      <td>284.91</td>\n",
              "      <td>20944846</td>\n",
              "    </tr>\n",
              "    <tr>\n",
              "      <th>2021-07-29</th>\n",
              "      <td>286.235</td>\n",
              "      <td>288.618</td>\n",
              "      <td>286.0800</td>\n",
              "      <td>286.50</td>\n",
              "      <td>18168294</td>\n",
              "    </tr>\n",
              "    <tr>\n",
              "      <th>2021-07-28</th>\n",
              "      <td>288.990</td>\n",
              "      <td>290.150</td>\n",
              "      <td>283.8303</td>\n",
              "      <td>286.22</td>\n",
              "      <td>33566853</td>\n",
              "    </tr>\n",
              "    <tr>\n",
              "      <th>2021-07-27</th>\n",
              "      <td>289.430</td>\n",
              "      <td>289.575</td>\n",
              "      <td>282.9500</td>\n",
              "      <td>286.54</td>\n",
              "      <td>33604073</td>\n",
              "    </tr>\n",
              "    <tr>\n",
              "      <th>2021-07-26</th>\n",
              "      <td>289.000</td>\n",
              "      <td>289.690</td>\n",
              "      <td>286.6420</td>\n",
              "      <td>289.05</td>\n",
              "      <td>23176073</td>\n",
              "    </tr>\n",
              "  </tbody>\n",
              "</table>\n",
              "</div>"
            ],
            "text/plain": [
              "               Open     High       Low   Close    Volume\n",
              "Date                                                    \n",
              "2021-07-30  285.170  286.660  283.9100  284.91  20944846\n",
              "2021-07-29  286.235  288.618  286.0800  286.50  18168294\n",
              "2021-07-28  288.990  290.150  283.8303  286.22  33566853\n",
              "2021-07-27  289.430  289.575  282.9500  286.54  33604073\n",
              "2021-07-26  289.000  289.690  286.6420  289.05  23176073"
            ]
          },
          "metadata": {
            "tags": []
          },
          "execution_count": 13
        }
      ]
    },
    {
      "cell_type": "code",
      "metadata": {
        "colab": {
          "base_uri": "https://localhost:8080/"
        },
        "id": "jjQza0A-c-Dr",
        "outputId": "d428096b-36b8-4775-dac7-e0c9ab272074"
      },
      "source": [
        "df.info()"
      ],
      "execution_count": 14,
      "outputs": [
        {
          "output_type": "stream",
          "text": [
            "<class 'pandas.core.frame.DataFrame'>\n",
            "DatetimeIndex: 1259 entries, 2021-07-30 to 2016-08-01\n",
            "Data columns (total 5 columns):\n",
            " #   Column  Non-Null Count  Dtype  \n",
            "---  ------  --------------  -----  \n",
            " 0   Open    1259 non-null   float64\n",
            " 1   High    1259 non-null   float64\n",
            " 2   Low     1259 non-null   float64\n",
            " 3   Close   1259 non-null   float64\n",
            " 4   Volume  1259 non-null   int64  \n",
            "dtypes: float64(4), int64(1)\n",
            "memory usage: 59.0 KB\n"
          ],
          "name": "stdout"
        }
      ]
    },
    {
      "cell_type": "code",
      "metadata": {
        "colab": {
          "base_uri": "https://localhost:8080/",
          "height": 206
        },
        "id": "Jsp8pSFOdAe5",
        "outputId": "d795a28c-91d1-491a-e6ef-acd8f8bcfa04"
      },
      "source": [
        "df.describe().T"
      ],
      "execution_count": 15,
      "outputs": [
        {
          "output_type": "execute_result",
          "data": {
            "text/html": [
              "<div>\n",
              "<style scoped>\n",
              "    .dataframe tbody tr th:only-of-type {\n",
              "        vertical-align: middle;\n",
              "    }\n",
              "\n",
              "    .dataframe tbody tr th {\n",
              "        vertical-align: top;\n",
              "    }\n",
              "\n",
              "    .dataframe thead th {\n",
              "        text-align: right;\n",
              "    }\n",
              "</style>\n",
              "<table border=\"1\" class=\"dataframe\">\n",
              "  <thead>\n",
              "    <tr style=\"text-align: right;\">\n",
              "      <th></th>\n",
              "      <th>count</th>\n",
              "      <th>mean</th>\n",
              "      <th>std</th>\n",
              "      <th>min</th>\n",
              "      <th>25%</th>\n",
              "      <th>50%</th>\n",
              "      <th>75%</th>\n",
              "      <th>max</th>\n",
              "    </tr>\n",
              "  </thead>\n",
              "  <tbody>\n",
              "    <tr>\n",
              "      <th>Open</th>\n",
              "      <td>1259.0</td>\n",
              "      <td>1.303959e+02</td>\n",
              "      <td>6.363640e+01</td>\n",
              "      <td>52.033</td>\n",
              "      <td>7.788700e+01</td>\n",
              "      <td>108.68</td>\n",
              "      <td>1.808250e+02</td>\n",
              "      <td>2.894300e+02</td>\n",
              "    </tr>\n",
              "    <tr>\n",
              "      <th>High</th>\n",
              "      <td>1259.0</td>\n",
              "      <td>1.316376e+02</td>\n",
              "      <td>6.433877e+01</td>\n",
              "      <td>52.402</td>\n",
              "      <td>7.902400e+01</td>\n",
              "      <td>109.60</td>\n",
              "      <td>1.827500e+02</td>\n",
              "      <td>2.901500e+02</td>\n",
              "    </tr>\n",
              "    <tr>\n",
              "      <th>Low</th>\n",
              "      <td>1259.0</td>\n",
              "      <td>1.291113e+02</td>\n",
              "      <td>6.299641e+01</td>\n",
              "      <td>50.766</td>\n",
              "      <td>7.730700e+01</td>\n",
              "      <td>107.73</td>\n",
              "      <td>1.791850e+02</td>\n",
              "      <td>2.866420e+02</td>\n",
              "    </tr>\n",
              "    <tr>\n",
              "      <th>Close</th>\n",
              "      <td>1259.0</td>\n",
              "      <td>1.304526e+02</td>\n",
              "      <td>6.371583e+01</td>\n",
              "      <td>52.229</td>\n",
              "      <td>7.778150e+01</td>\n",
              "      <td>108.64</td>\n",
              "      <td>1.809900e+02</td>\n",
              "      <td>2.896700e+02</td>\n",
              "    </tr>\n",
              "    <tr>\n",
              "      <th>Volume</th>\n",
              "      <td>1259.0</td>\n",
              "      <td>2.910301e+07</td>\n",
              "      <td>1.302743e+07</td>\n",
              "      <td>7764895.000</td>\n",
              "      <td>2.081598e+07</td>\n",
              "      <td>25527813.00</td>\n",
              "      <td>3.325632e+07</td>\n",
              "      <td>1.143455e+08</td>\n",
              "    </tr>\n",
              "  </tbody>\n",
              "</table>\n",
              "</div>"
            ],
            "text/plain": [
              "         count          mean  ...           75%           max\n",
              "Open    1259.0  1.303959e+02  ...  1.808250e+02  2.894300e+02\n",
              "High    1259.0  1.316376e+02  ...  1.827500e+02  2.901500e+02\n",
              "Low     1259.0  1.291113e+02  ...  1.791850e+02  2.866420e+02\n",
              "Close   1259.0  1.304526e+02  ...  1.809900e+02  2.896700e+02\n",
              "Volume  1259.0  2.910301e+07  ...  3.325632e+07  1.143455e+08\n",
              "\n",
              "[5 rows x 8 columns]"
            ]
          },
          "metadata": {
            "tags": []
          },
          "execution_count": 15
        }
      ]
    },
    {
      "cell_type": "code",
      "metadata": {
        "colab": {
          "base_uri": "https://localhost:8080/",
          "height": 238
        },
        "id": "cf-3R85OdHMf",
        "outputId": "732df084-3d7f-40a0-9d75-7e87d4431007"
      },
      "source": [
        "df['Average'] = (df['Open'] + df['Close']) / 2\n",
        "df.head()"
      ],
      "execution_count": 16,
      "outputs": [
        {
          "output_type": "execute_result",
          "data": {
            "text/html": [
              "<div>\n",
              "<style scoped>\n",
              "    .dataframe tbody tr th:only-of-type {\n",
              "        vertical-align: middle;\n",
              "    }\n",
              "\n",
              "    .dataframe tbody tr th {\n",
              "        vertical-align: top;\n",
              "    }\n",
              "\n",
              "    .dataframe thead th {\n",
              "        text-align: right;\n",
              "    }\n",
              "</style>\n",
              "<table border=\"1\" class=\"dataframe\">\n",
              "  <thead>\n",
              "    <tr style=\"text-align: right;\">\n",
              "      <th></th>\n",
              "      <th>Open</th>\n",
              "      <th>High</th>\n",
              "      <th>Low</th>\n",
              "      <th>Close</th>\n",
              "      <th>Volume</th>\n",
              "      <th>Average</th>\n",
              "    </tr>\n",
              "    <tr>\n",
              "      <th>Date</th>\n",
              "      <th></th>\n",
              "      <th></th>\n",
              "      <th></th>\n",
              "      <th></th>\n",
              "      <th></th>\n",
              "      <th></th>\n",
              "    </tr>\n",
              "  </thead>\n",
              "  <tbody>\n",
              "    <tr>\n",
              "      <th>2021-07-30</th>\n",
              "      <td>285.170</td>\n",
              "      <td>286.660</td>\n",
              "      <td>283.9100</td>\n",
              "      <td>284.91</td>\n",
              "      <td>20944846</td>\n",
              "      <td>285.0400</td>\n",
              "    </tr>\n",
              "    <tr>\n",
              "      <th>2021-07-29</th>\n",
              "      <td>286.235</td>\n",
              "      <td>288.618</td>\n",
              "      <td>286.0800</td>\n",
              "      <td>286.50</td>\n",
              "      <td>18168294</td>\n",
              "      <td>286.3675</td>\n",
              "    </tr>\n",
              "    <tr>\n",
              "      <th>2021-07-28</th>\n",
              "      <td>288.990</td>\n",
              "      <td>290.150</td>\n",
              "      <td>283.8303</td>\n",
              "      <td>286.22</td>\n",
              "      <td>33566853</td>\n",
              "      <td>287.6050</td>\n",
              "    </tr>\n",
              "    <tr>\n",
              "      <th>2021-07-27</th>\n",
              "      <td>289.430</td>\n",
              "      <td>289.575</td>\n",
              "      <td>282.9500</td>\n",
              "      <td>286.54</td>\n",
              "      <td>33604073</td>\n",
              "      <td>287.9850</td>\n",
              "    </tr>\n",
              "    <tr>\n",
              "      <th>2021-07-26</th>\n",
              "      <td>289.000</td>\n",
              "      <td>289.690</td>\n",
              "      <td>286.6420</td>\n",
              "      <td>289.05</td>\n",
              "      <td>23176073</td>\n",
              "      <td>289.0250</td>\n",
              "    </tr>\n",
              "  </tbody>\n",
              "</table>\n",
              "</div>"
            ],
            "text/plain": [
              "               Open     High       Low   Close    Volume   Average\n",
              "Date                                                              \n",
              "2021-07-30  285.170  286.660  283.9100  284.91  20944846  285.0400\n",
              "2021-07-29  286.235  288.618  286.0800  286.50  18168294  286.3675\n",
              "2021-07-28  288.990  290.150  283.8303  286.22  33566853  287.6050\n",
              "2021-07-27  289.430  289.575  282.9500  286.54  33604073  287.9850\n",
              "2021-07-26  289.000  289.690  286.6420  289.05  23176073  289.0250"
            ]
          },
          "metadata": {
            "tags": []
          },
          "execution_count": 16
        }
      ]
    },
    {
      "cell_type": "code",
      "metadata": {
        "colab": {
          "base_uri": "https://localhost:8080/",
          "height": 238
        },
        "id": "AHrg72YZdi2G",
        "outputId": "8aacf848-45f6-4e10-bb0a-0c2905e93a53"
      },
      "source": [
        "df.sort_index(inplace=True)\n",
        "df.head()"
      ],
      "execution_count": 17,
      "outputs": [
        {
          "output_type": "execute_result",
          "data": {
            "text/html": [
              "<div>\n",
              "<style scoped>\n",
              "    .dataframe tbody tr th:only-of-type {\n",
              "        vertical-align: middle;\n",
              "    }\n",
              "\n",
              "    .dataframe tbody tr th {\n",
              "        vertical-align: top;\n",
              "    }\n",
              "\n",
              "    .dataframe thead th {\n",
              "        text-align: right;\n",
              "    }\n",
              "</style>\n",
              "<table border=\"1\" class=\"dataframe\">\n",
              "  <thead>\n",
              "    <tr style=\"text-align: right;\">\n",
              "      <th></th>\n",
              "      <th>Open</th>\n",
              "      <th>High</th>\n",
              "      <th>Low</th>\n",
              "      <th>Close</th>\n",
              "      <th>Volume</th>\n",
              "      <th>Average</th>\n",
              "    </tr>\n",
              "    <tr>\n",
              "      <th>Date</th>\n",
              "      <th></th>\n",
              "      <th></th>\n",
              "      <th></th>\n",
              "      <th></th>\n",
              "      <th></th>\n",
              "      <th></th>\n",
              "    </tr>\n",
              "  </thead>\n",
              "  <tbody>\n",
              "    <tr>\n",
              "      <th>2016-08-01</th>\n",
              "      <td>52.263</td>\n",
              "      <td>52.402</td>\n",
              "      <td>51.840</td>\n",
              "      <td>52.246</td>\n",
              "      <td>26603065</td>\n",
              "      <td>52.2545</td>\n",
              "    </tr>\n",
              "    <tr>\n",
              "      <th>2016-08-02</th>\n",
              "      <td>52.493</td>\n",
              "      <td>52.542</td>\n",
              "      <td>51.996</td>\n",
              "      <td>52.246</td>\n",
              "      <td>34213790</td>\n",
              "      <td>52.3695</td>\n",
              "    </tr>\n",
              "    <tr>\n",
              "      <th>2016-08-03</th>\n",
              "      <td>52.338</td>\n",
              "      <td>52.735</td>\n",
              "      <td>52.161</td>\n",
              "      <td>52.604</td>\n",
              "      <td>22444600</td>\n",
              "      <td>52.4710</td>\n",
              "    </tr>\n",
              "    <tr>\n",
              "      <th>2016-08-04</th>\n",
              "      <td>52.447</td>\n",
              "      <td>53.112</td>\n",
              "      <td>52.328</td>\n",
              "      <td>52.993</td>\n",
              "      <td>27199679</td>\n",
              "      <td>52.7200</td>\n",
              "    </tr>\n",
              "    <tr>\n",
              "      <th>2016-08-05</th>\n",
              "      <td>53.235</td>\n",
              "      <td>53.749</td>\n",
              "      <td>53.048</td>\n",
              "      <td>53.519</td>\n",
              "      <td>28717576</td>\n",
              "      <td>53.3770</td>\n",
              "    </tr>\n",
              "  </tbody>\n",
              "</table>\n",
              "</div>"
            ],
            "text/plain": [
              "              Open    High     Low   Close    Volume  Average\n",
              "Date                                                         \n",
              "2016-08-01  52.263  52.402  51.840  52.246  26603065  52.2545\n",
              "2016-08-02  52.493  52.542  51.996  52.246  34213790  52.3695\n",
              "2016-08-03  52.338  52.735  52.161  52.604  22444600  52.4710\n",
              "2016-08-04  52.447  53.112  52.328  52.993  27199679  52.7200\n",
              "2016-08-05  53.235  53.749  53.048  53.519  28717576  53.3770"
            ]
          },
          "metadata": {
            "tags": []
          },
          "execution_count": 17
        }
      ]
    },
    {
      "cell_type": "code",
      "metadata": {
        "colab": {
          "base_uri": "https://localhost:8080/",
          "height": 238
        },
        "id": "TvYxZiA6d-Eb",
        "outputId": "954e5739-f382-422c-cf8f-d9098b3b18f1"
      },
      "source": [
        "df['Close_shift'] = df[['Close']].shift()\n",
        "df.head()"
      ],
      "execution_count": 18,
      "outputs": [
        {
          "output_type": "execute_result",
          "data": {
            "text/html": [
              "<div>\n",
              "<style scoped>\n",
              "    .dataframe tbody tr th:only-of-type {\n",
              "        vertical-align: middle;\n",
              "    }\n",
              "\n",
              "    .dataframe tbody tr th {\n",
              "        vertical-align: top;\n",
              "    }\n",
              "\n",
              "    .dataframe thead th {\n",
              "        text-align: right;\n",
              "    }\n",
              "</style>\n",
              "<table border=\"1\" class=\"dataframe\">\n",
              "  <thead>\n",
              "    <tr style=\"text-align: right;\">\n",
              "      <th></th>\n",
              "      <th>Open</th>\n",
              "      <th>High</th>\n",
              "      <th>Low</th>\n",
              "      <th>Close</th>\n",
              "      <th>Volume</th>\n",
              "      <th>Average</th>\n",
              "      <th>Close_shift</th>\n",
              "    </tr>\n",
              "    <tr>\n",
              "      <th>Date</th>\n",
              "      <th></th>\n",
              "      <th></th>\n",
              "      <th></th>\n",
              "      <th></th>\n",
              "      <th></th>\n",
              "      <th></th>\n",
              "      <th></th>\n",
              "    </tr>\n",
              "  </thead>\n",
              "  <tbody>\n",
              "    <tr>\n",
              "      <th>2016-08-01</th>\n",
              "      <td>52.263</td>\n",
              "      <td>52.402</td>\n",
              "      <td>51.840</td>\n",
              "      <td>52.246</td>\n",
              "      <td>26603065</td>\n",
              "      <td>52.2545</td>\n",
              "      <td>NaN</td>\n",
              "    </tr>\n",
              "    <tr>\n",
              "      <th>2016-08-02</th>\n",
              "      <td>52.493</td>\n",
              "      <td>52.542</td>\n",
              "      <td>51.996</td>\n",
              "      <td>52.246</td>\n",
              "      <td>34213790</td>\n",
              "      <td>52.3695</td>\n",
              "      <td>52.246</td>\n",
              "    </tr>\n",
              "    <tr>\n",
              "      <th>2016-08-03</th>\n",
              "      <td>52.338</td>\n",
              "      <td>52.735</td>\n",
              "      <td>52.161</td>\n",
              "      <td>52.604</td>\n",
              "      <td>22444600</td>\n",
              "      <td>52.4710</td>\n",
              "      <td>52.246</td>\n",
              "    </tr>\n",
              "    <tr>\n",
              "      <th>2016-08-04</th>\n",
              "      <td>52.447</td>\n",
              "      <td>53.112</td>\n",
              "      <td>52.328</td>\n",
              "      <td>52.993</td>\n",
              "      <td>27199679</td>\n",
              "      <td>52.7200</td>\n",
              "      <td>52.604</td>\n",
              "    </tr>\n",
              "    <tr>\n",
              "      <th>2016-08-05</th>\n",
              "      <td>53.235</td>\n",
              "      <td>53.749</td>\n",
              "      <td>53.048</td>\n",
              "      <td>53.519</td>\n",
              "      <td>28717576</td>\n",
              "      <td>53.3770</td>\n",
              "      <td>52.993</td>\n",
              "    </tr>\n",
              "  </tbody>\n",
              "</table>\n",
              "</div>"
            ],
            "text/plain": [
              "              Open    High     Low   Close    Volume  Average  Close_shift\n",
              "Date                                                                      \n",
              "2016-08-01  52.263  52.402  51.840  52.246  26603065  52.2545          NaN\n",
              "2016-08-02  52.493  52.542  51.996  52.246  34213790  52.3695       52.246\n",
              "2016-08-03  52.338  52.735  52.161  52.604  22444600  52.4710       52.246\n",
              "2016-08-04  52.447  53.112  52.328  52.993  27199679  52.7200       52.604\n",
              "2016-08-05  53.235  53.749  53.048  53.519  28717576  53.3770       52.993"
            ]
          },
          "metadata": {
            "tags": []
          },
          "execution_count": 18
        }
      ]
    },
    {
      "cell_type": "code",
      "metadata": {
        "colab": {
          "base_uri": "https://localhost:8080/",
          "height": 238
        },
        "id": "1KrZdt9FeuDf",
        "outputId": "b5f6cd22-b5fa-4350-f23f-4b3975be9563"
      },
      "source": [
        "df['Difference'] = df['Close'] / df['Close_shift'] - 1\n",
        "df['Difference_[%]'] = (df['Difference'] * 100)\n",
        "df.head()"
      ],
      "execution_count": 19,
      "outputs": [
        {
          "output_type": "execute_result",
          "data": {
            "text/html": [
              "<div>\n",
              "<style scoped>\n",
              "    .dataframe tbody tr th:only-of-type {\n",
              "        vertical-align: middle;\n",
              "    }\n",
              "\n",
              "    .dataframe tbody tr th {\n",
              "        vertical-align: top;\n",
              "    }\n",
              "\n",
              "    .dataframe thead th {\n",
              "        text-align: right;\n",
              "    }\n",
              "</style>\n",
              "<table border=\"1\" class=\"dataframe\">\n",
              "  <thead>\n",
              "    <tr style=\"text-align: right;\">\n",
              "      <th></th>\n",
              "      <th>Open</th>\n",
              "      <th>High</th>\n",
              "      <th>Low</th>\n",
              "      <th>Close</th>\n",
              "      <th>Volume</th>\n",
              "      <th>Average</th>\n",
              "      <th>Close_shift</th>\n",
              "      <th>Difference</th>\n",
              "      <th>Difference_[%]</th>\n",
              "    </tr>\n",
              "    <tr>\n",
              "      <th>Date</th>\n",
              "      <th></th>\n",
              "      <th></th>\n",
              "      <th></th>\n",
              "      <th></th>\n",
              "      <th></th>\n",
              "      <th></th>\n",
              "      <th></th>\n",
              "      <th></th>\n",
              "      <th></th>\n",
              "    </tr>\n",
              "  </thead>\n",
              "  <tbody>\n",
              "    <tr>\n",
              "      <th>2016-08-01</th>\n",
              "      <td>52.263</td>\n",
              "      <td>52.402</td>\n",
              "      <td>51.840</td>\n",
              "      <td>52.246</td>\n",
              "      <td>26603065</td>\n",
              "      <td>52.2545</td>\n",
              "      <td>NaN</td>\n",
              "      <td>NaN</td>\n",
              "      <td>NaN</td>\n",
              "    </tr>\n",
              "    <tr>\n",
              "      <th>2016-08-02</th>\n",
              "      <td>52.493</td>\n",
              "      <td>52.542</td>\n",
              "      <td>51.996</td>\n",
              "      <td>52.246</td>\n",
              "      <td>34213790</td>\n",
              "      <td>52.3695</td>\n",
              "      <td>52.246</td>\n",
              "      <td>0.000000</td>\n",
              "      <td>0.000000</td>\n",
              "    </tr>\n",
              "    <tr>\n",
              "      <th>2016-08-03</th>\n",
              "      <td>52.338</td>\n",
              "      <td>52.735</td>\n",
              "      <td>52.161</td>\n",
              "      <td>52.604</td>\n",
              "      <td>22444600</td>\n",
              "      <td>52.4710</td>\n",
              "      <td>52.246</td>\n",
              "      <td>0.006852</td>\n",
              "      <td>0.685220</td>\n",
              "    </tr>\n",
              "    <tr>\n",
              "      <th>2016-08-04</th>\n",
              "      <td>52.447</td>\n",
              "      <td>53.112</td>\n",
              "      <td>52.328</td>\n",
              "      <td>52.993</td>\n",
              "      <td>27199679</td>\n",
              "      <td>52.7200</td>\n",
              "      <td>52.604</td>\n",
              "      <td>0.007395</td>\n",
              "      <td>0.739487</td>\n",
              "    </tr>\n",
              "    <tr>\n",
              "      <th>2016-08-05</th>\n",
              "      <td>53.235</td>\n",
              "      <td>53.749</td>\n",
              "      <td>53.048</td>\n",
              "      <td>53.519</td>\n",
              "      <td>28717576</td>\n",
              "      <td>53.3770</td>\n",
              "      <td>52.993</td>\n",
              "      <td>0.009926</td>\n",
              "      <td>0.992584</td>\n",
              "    </tr>\n",
              "  </tbody>\n",
              "</table>\n",
              "</div>"
            ],
            "text/plain": [
              "              Open    High     Low  ...  Close_shift  Difference  Difference_[%]\n",
              "Date                                ...                                         \n",
              "2016-08-01  52.263  52.402  51.840  ...          NaN         NaN             NaN\n",
              "2016-08-02  52.493  52.542  51.996  ...       52.246    0.000000        0.000000\n",
              "2016-08-03  52.338  52.735  52.161  ...       52.246    0.006852        0.685220\n",
              "2016-08-04  52.447  53.112  52.328  ...       52.604    0.007395        0.739487\n",
              "2016-08-05  53.235  53.749  53.048  ...       52.993    0.009926        0.992584\n",
              "\n",
              "[5 rows x 9 columns]"
            ]
          },
          "metadata": {
            "tags": []
          },
          "execution_count": 19
        }
      ]
    },
    {
      "cell_type": "code",
      "metadata": {
        "colab": {
          "base_uri": "https://localhost:8080/",
          "height": 238
        },
        "id": "9kyDMUWGgsaS",
        "outputId": "d313e7b6-9e78-41f9-8920-e9c73f2d2b90"
      },
      "source": [
        "del df['Difference']\n",
        "df.head()"
      ],
      "execution_count": 22,
      "outputs": [
        {
          "output_type": "execute_result",
          "data": {
            "text/html": [
              "<div>\n",
              "<style scoped>\n",
              "    .dataframe tbody tr th:only-of-type {\n",
              "        vertical-align: middle;\n",
              "    }\n",
              "\n",
              "    .dataframe tbody tr th {\n",
              "        vertical-align: top;\n",
              "    }\n",
              "\n",
              "    .dataframe thead th {\n",
              "        text-align: right;\n",
              "    }\n",
              "</style>\n",
              "<table border=\"1\" class=\"dataframe\">\n",
              "  <thead>\n",
              "    <tr style=\"text-align: right;\">\n",
              "      <th></th>\n",
              "      <th>Open</th>\n",
              "      <th>High</th>\n",
              "      <th>Low</th>\n",
              "      <th>Close</th>\n",
              "      <th>Volume</th>\n",
              "      <th>Average</th>\n",
              "      <th>Close_shift</th>\n",
              "      <th>Difference_[%]</th>\n",
              "    </tr>\n",
              "    <tr>\n",
              "      <th>Date</th>\n",
              "      <th></th>\n",
              "      <th></th>\n",
              "      <th></th>\n",
              "      <th></th>\n",
              "      <th></th>\n",
              "      <th></th>\n",
              "      <th></th>\n",
              "      <th></th>\n",
              "    </tr>\n",
              "  </thead>\n",
              "  <tbody>\n",
              "    <tr>\n",
              "      <th>2016-08-01</th>\n",
              "      <td>52.263</td>\n",
              "      <td>52.402</td>\n",
              "      <td>51.840</td>\n",
              "      <td>52.246</td>\n",
              "      <td>26603065</td>\n",
              "      <td>52.2545</td>\n",
              "      <td>NaN</td>\n",
              "      <td>NaN</td>\n",
              "    </tr>\n",
              "    <tr>\n",
              "      <th>2016-08-02</th>\n",
              "      <td>52.493</td>\n",
              "      <td>52.542</td>\n",
              "      <td>51.996</td>\n",
              "      <td>52.246</td>\n",
              "      <td>34213790</td>\n",
              "      <td>52.3695</td>\n",
              "      <td>52.246</td>\n",
              "      <td>0.000000</td>\n",
              "    </tr>\n",
              "    <tr>\n",
              "      <th>2016-08-03</th>\n",
              "      <td>52.338</td>\n",
              "      <td>52.735</td>\n",
              "      <td>52.161</td>\n",
              "      <td>52.604</td>\n",
              "      <td>22444600</td>\n",
              "      <td>52.4710</td>\n",
              "      <td>52.246</td>\n",
              "      <td>0.685220</td>\n",
              "    </tr>\n",
              "    <tr>\n",
              "      <th>2016-08-04</th>\n",
              "      <td>52.447</td>\n",
              "      <td>53.112</td>\n",
              "      <td>52.328</td>\n",
              "      <td>52.993</td>\n",
              "      <td>27199679</td>\n",
              "      <td>52.7200</td>\n",
              "      <td>52.604</td>\n",
              "      <td>0.739487</td>\n",
              "    </tr>\n",
              "    <tr>\n",
              "      <th>2016-08-05</th>\n",
              "      <td>53.235</td>\n",
              "      <td>53.749</td>\n",
              "      <td>53.048</td>\n",
              "      <td>53.519</td>\n",
              "      <td>28717576</td>\n",
              "      <td>53.3770</td>\n",
              "      <td>52.993</td>\n",
              "      <td>0.992584</td>\n",
              "    </tr>\n",
              "  </tbody>\n",
              "</table>\n",
              "</div>"
            ],
            "text/plain": [
              "              Open    High     Low  ...  Average  Close_shift  Difference_[%]\n",
              "Date                                ...                                      \n",
              "2016-08-01  52.263  52.402  51.840  ...  52.2545          NaN             NaN\n",
              "2016-08-02  52.493  52.542  51.996  ...  52.3695       52.246        0.000000\n",
              "2016-08-03  52.338  52.735  52.161  ...  52.4710       52.246        0.685220\n",
              "2016-08-04  52.447  53.112  52.328  ...  52.7200       52.604        0.739487\n",
              "2016-08-05  53.235  53.749  53.048  ...  53.3770       52.993        0.992584\n",
              "\n",
              "[5 rows x 8 columns]"
            ]
          },
          "metadata": {
            "tags": []
          },
          "execution_count": 22
        }
      ]
    },
    {
      "cell_type": "code",
      "metadata": {
        "colab": {
          "base_uri": "https://localhost:8080/"
        },
        "id": "2r8MgWZKhVUV",
        "outputId": "2b17adf1-10c3-4b67-e1c8-5af02dee1028"
      },
      "source": [
        "df['Difference_[%]'].min()"
      ],
      "execution_count": 23,
      "outputs": [
        {
          "output_type": "execute_result",
          "data": {
            "text/plain": [
              "-14.748155685576192"
            ]
          },
          "metadata": {
            "tags": []
          },
          "execution_count": 23
        }
      ]
    },
    {
      "cell_type": "code",
      "metadata": {
        "colab": {
          "base_uri": "https://localhost:8080/"
        },
        "id": "fGP6T3mTheq-",
        "outputId": "1c13444f-c85e-4f47-bb80-55ca55ddc68a"
      },
      "source": [
        "df['Difference_[%]'].max()"
      ],
      "execution_count": 24,
      "outputs": [
        {
          "output_type": "execute_result",
          "data": {
            "text/plain": [
              "14.223449077437177"
            ]
          },
          "metadata": {
            "tags": []
          },
          "execution_count": 24
        }
      ]
    },
    {
      "cell_type": "code",
      "metadata": {
        "colab": {
          "base_uri": "https://localhost:8080/",
          "height": 112
        },
        "id": "GQEOgyRDhmHv",
        "outputId": "9235a3f5-2c39-4ff3-93b6-523f648a418d"
      },
      "source": [
        "max = df['Difference_[%]'] == 14.223449077437177\n",
        "df[max]"
      ],
      "execution_count": 31,
      "outputs": [
        {
          "output_type": "execute_result",
          "data": {
            "text/html": [
              "<div>\n",
              "<style scoped>\n",
              "    .dataframe tbody tr th:only-of-type {\n",
              "        vertical-align: middle;\n",
              "    }\n",
              "\n",
              "    .dataframe tbody tr th {\n",
              "        vertical-align: top;\n",
              "    }\n",
              "\n",
              "    .dataframe thead th {\n",
              "        text-align: right;\n",
              "    }\n",
              "</style>\n",
              "<table border=\"1\" class=\"dataframe\">\n",
              "  <thead>\n",
              "    <tr style=\"text-align: right;\">\n",
              "      <th></th>\n",
              "      <th>Open</th>\n",
              "      <th>High</th>\n",
              "      <th>Low</th>\n",
              "      <th>Close</th>\n",
              "      <th>Volume</th>\n",
              "      <th>Average</th>\n",
              "      <th>Close_shift</th>\n",
              "      <th>Difference_[%]</th>\n",
              "    </tr>\n",
              "    <tr>\n",
              "      <th>Date</th>\n",
              "      <th></th>\n",
              "      <th></th>\n",
              "      <th></th>\n",
              "      <th></th>\n",
              "      <th></th>\n",
              "      <th></th>\n",
              "      <th></th>\n",
              "      <th></th>\n",
              "    </tr>\n",
              "  </thead>\n",
              "  <tbody>\n",
              "    <tr>\n",
              "      <th>2020-03-13</th>\n",
              "      <td>146.02</td>\n",
              "      <td>160.28</td>\n",
              "      <td>139.31</td>\n",
              "      <td>157.24</td>\n",
              "      <td>93669743</td>\n",
              "      <td>151.63</td>\n",
              "      <td>137.66</td>\n",
              "      <td>14.223449</td>\n",
              "    </tr>\n",
              "  </tbody>\n",
              "</table>\n",
              "</div>"
            ],
            "text/plain": [
              "              Open    High     Low  ...  Average  Close_shift  Difference_[%]\n",
              "Date                                ...                                      \n",
              "2020-03-13  146.02  160.28  139.31  ...   151.63       137.66       14.223449\n",
              "\n",
              "[1 rows x 8 columns]"
            ]
          },
          "metadata": {
            "tags": []
          },
          "execution_count": 31
        }
      ]
    },
    {
      "cell_type": "code",
      "metadata": {
        "colab": {
          "base_uri": "https://localhost:8080/",
          "height": 286
        },
        "id": "yTePijTrjjId",
        "outputId": "76a1d424-9fee-4c6d-d629-2cee2cf5284b"
      },
      "source": [
        "import seaborn as sns\n",
        "sns.set()\n",
        "\n",
        "df['Difference_[%]'].plot(kind='hist', bins=100)"
      ],
      "execution_count": 37,
      "outputs": [
        {
          "output_type": "execute_result",
          "data": {
            "text/plain": [
              "<matplotlib.axes._subplots.AxesSubplot at 0x7f4bbfe41390>"
            ]
          },
          "metadata": {
            "tags": []
          },
          "execution_count": 37
        },
        {
          "output_type": "display_data",
          "data": {
            "image/png": "[encoded data removed]",
            "text/plain": [
              "<Figure size 432x288 with 1 Axes>"
            ]
          },
          "metadata": {
            "tags": []
          }
        }
      ]
    },
    {
      "cell_type": "code",
      "metadata": {
        "colab": {
          "base_uri": "https://localhost:8080/",
          "height": 297
        },
        "id": "KPtkLbmtk_rR",
        "outputId": "538db440-87d8-4fe6-cad5-66081e083ba0"
      },
      "source": [
        "df['Close'].plot()"
      ],
      "execution_count": 38,
      "outputs": [
        {
          "output_type": "execute_result",
          "data": {
            "text/plain": [
              "<matplotlib.axes._subplots.AxesSubplot at 0x7f4bbfe15c50>"
            ]
          },
          "metadata": {
            "tags": []
          },
          "execution_count": 38
        },
        {
          "output_type": "display_data",
          "data": {
            "image/png": "[encoded data removed]",
            "text/plain": [
              "<Figure size 432x288 with 1 Axes>"
            ]
          },
          "metadata": {
            "tags": []
          }
        }
      ]
    },
    {
      "cell_type": "markdown",
      "metadata": {
        "id": "kfIo9ZrtUGvd"
      },
      "source": [
        "### <a name='a7'></a> Filtrowanie danych"
      ]
    },
    {
      "cell_type": "code",
      "metadata": {
        "colab": {
          "base_uri": "https://localhost:8080/",
          "height": 238
        },
        "id": "0KpTn3yZUIx6",
        "outputId": "20e97d51-c9c1-423c-94f3-cd5c5734041a"
      },
      "source": [
        "difference_plus = df['Difference_[%]'] > 0\n",
        "df_positive = df[difference_plus]\n",
        "df_positive.head()"
      ],
      "execution_count": 43,
      "outputs": [
        {
          "output_type": "execute_result",
          "data": {
            "text/html": [
              "<div>\n",
              "<style scoped>\n",
              "    .dataframe tbody tr th:only-of-type {\n",
              "        vertical-align: middle;\n",
              "    }\n",
              "\n",
              "    .dataframe tbody tr th {\n",
              "        vertical-align: top;\n",
              "    }\n",
              "\n",
              "    .dataframe thead th {\n",
              "        text-align: right;\n",
              "    }\n",
              "</style>\n",
              "<table border=\"1\" class=\"dataframe\">\n",
              "  <thead>\n",
              "    <tr style=\"text-align: right;\">\n",
              "      <th></th>\n",
              "      <th>Open</th>\n",
              "      <th>High</th>\n",
              "      <th>Low</th>\n",
              "      <th>Close</th>\n",
              "      <th>Volume</th>\n",
              "      <th>Average</th>\n",
              "      <th>Close_shift</th>\n",
              "      <th>Difference_[%]</th>\n",
              "    </tr>\n",
              "    <tr>\n",
              "      <th>Date</th>\n",
              "      <th></th>\n",
              "      <th></th>\n",
              "      <th></th>\n",
              "      <th></th>\n",
              "      <th></th>\n",
              "      <th></th>\n",
              "      <th></th>\n",
              "      <th></th>\n",
              "    </tr>\n",
              "  </thead>\n",
              "  <tbody>\n",
              "    <tr>\n",
              "      <th>2016-08-03</th>\n",
              "      <td>52.338</td>\n",
              "      <td>52.735</td>\n",
              "      <td>52.161</td>\n",
              "      <td>52.604</td>\n",
              "      <td>22444600</td>\n",
              "      <td>52.4710</td>\n",
              "      <td>52.246</td>\n",
              "      <td>0.685220</td>\n",
              "    </tr>\n",
              "    <tr>\n",
              "      <th>2016-08-04</th>\n",
              "      <td>52.447</td>\n",
              "      <td>53.112</td>\n",
              "      <td>52.328</td>\n",
              "      <td>52.993</td>\n",
              "      <td>27199679</td>\n",
              "      <td>52.7200</td>\n",
              "      <td>52.604</td>\n",
              "      <td>0.739487</td>\n",
              "    </tr>\n",
              "    <tr>\n",
              "      <th>2016-08-05</th>\n",
              "      <td>53.235</td>\n",
              "      <td>53.749</td>\n",
              "      <td>53.048</td>\n",
              "      <td>53.519</td>\n",
              "      <td>28717576</td>\n",
              "      <td>53.3770</td>\n",
              "      <td>52.993</td>\n",
              "      <td>0.992584</td>\n",
              "    </tr>\n",
              "    <tr>\n",
              "      <th>2016-08-08</th>\n",
              "      <td>53.608</td>\n",
              "      <td>53.635</td>\n",
              "      <td>53.352</td>\n",
              "      <td>53.613</td>\n",
              "      <td>19318362</td>\n",
              "      <td>53.6105</td>\n",
              "      <td>53.519</td>\n",
              "      <td>0.175639</td>\n",
              "    </tr>\n",
              "    <tr>\n",
              "      <th>2016-08-09</th>\n",
              "      <td>53.713</td>\n",
              "      <td>54.018</td>\n",
              "      <td>53.576</td>\n",
              "      <td>53.741</td>\n",
              "      <td>17862299</td>\n",
              "      <td>53.7270</td>\n",
              "      <td>53.613</td>\n",
              "      <td>0.238748</td>\n",
              "    </tr>\n",
              "  </tbody>\n",
              "</table>\n",
              "</div>"
            ],
            "text/plain": [
              "              Open    High     Low  ...  Average  Close_shift  Difference_[%]\n",
              "Date                                ...                                      \n",
              "2016-08-03  52.338  52.735  52.161  ...  52.4710       52.246        0.685220\n",
              "2016-08-04  52.447  53.112  52.328  ...  52.7200       52.604        0.739487\n",
              "2016-08-05  53.235  53.749  53.048  ...  53.3770       52.993        0.992584\n",
              "2016-08-08  53.608  53.635  53.352  ...  53.6105       53.519        0.175639\n",
              "2016-08-09  53.713  54.018  53.576  ...  53.7270       53.613        0.238748\n",
              "\n",
              "[5 rows x 8 columns]"
            ]
          },
          "metadata": {
            "tags": []
          },
          "execution_count": 43
        }
      ]
    },
    {
      "cell_type": "code",
      "metadata": {
        "colab": {
          "base_uri": "https://localhost:8080/"
        },
        "id": "FNamU5TToDFB",
        "outputId": "69818774-cab6-4e0b-9b4a-b61c455b8cd3"
      },
      "source": [
        "df_positive['Difference_[%]'].mean()"
      ],
      "execution_count": 44,
      "outputs": [
        {
          "output_type": "execute_result",
          "data": {
            "text/plain": [
              "1.1485645403898979"
            ]
          },
          "metadata": {
            "tags": []
          },
          "execution_count": 44
        }
      ]
    },
    {
      "cell_type": "code",
      "metadata": {
        "colab": {
          "base_uri": "https://localhost:8080/",
          "height": 363
        },
        "id": "o8CECsCooxAc",
        "outputId": "db02acee-88e4-4f62-c55c-537d4ea46913"
      },
      "source": [
        "df[df.index > '2021-07-19']"
      ],
      "execution_count": 48,
      "outputs": [
        {
          "output_type": "execute_result",
          "data": {
            "text/html": [
              "<div>\n",
              "<style scoped>\n",
              "    .dataframe tbody tr th:only-of-type {\n",
              "        vertical-align: middle;\n",
              "    }\n",
              "\n",
              "    .dataframe tbody tr th {\n",
              "        vertical-align: top;\n",
              "    }\n",
              "\n",
              "    .dataframe thead th {\n",
              "        text-align: right;\n",
              "    }\n",
              "</style>\n",
              "<table border=\"1\" class=\"dataframe\">\n",
              "  <thead>\n",
              "    <tr style=\"text-align: right;\">\n",
              "      <th></th>\n",
              "      <th>Open</th>\n",
              "      <th>High</th>\n",
              "      <th>Low</th>\n",
              "      <th>Close</th>\n",
              "      <th>Volume</th>\n",
              "      <th>Average</th>\n",
              "      <th>Close_shift</th>\n",
              "      <th>Difference_[%]</th>\n",
              "    </tr>\n",
              "    <tr>\n",
              "      <th>Date</th>\n",
              "      <th></th>\n",
              "      <th></th>\n",
              "      <th></th>\n",
              "      <th></th>\n",
              "      <th></th>\n",
              "      <th></th>\n",
              "      <th></th>\n",
              "      <th></th>\n",
              "    </tr>\n",
              "  </thead>\n",
              "  <tbody>\n",
              "    <tr>\n",
              "      <th>2021-07-20</th>\n",
              "      <td>278.030</td>\n",
              "      <td>280.970</td>\n",
              "      <td>276.2600</td>\n",
              "      <td>279.32</td>\n",
              "      <td>26259741</td>\n",
              "      <td>278.6750</td>\n",
              "      <td>277.01</td>\n",
              "      <td>0.833905</td>\n",
              "    </tr>\n",
              "    <tr>\n",
              "      <th>2021-07-21</th>\n",
              "      <td>278.905</td>\n",
              "      <td>281.520</td>\n",
              "      <td>277.2900</td>\n",
              "      <td>281.40</td>\n",
              "      <td>24364320</td>\n",
              "      <td>280.1525</td>\n",
              "      <td>279.32</td>\n",
              "      <td>0.744666</td>\n",
              "    </tr>\n",
              "    <tr>\n",
              "      <th>2021-07-22</th>\n",
              "      <td>283.840</td>\n",
              "      <td>286.420</td>\n",
              "      <td>283.4200</td>\n",
              "      <td>286.14</td>\n",
              "      <td>23384059</td>\n",
              "      <td>284.9900</td>\n",
              "      <td>281.40</td>\n",
              "      <td>1.684435</td>\n",
              "    </tr>\n",
              "    <tr>\n",
              "      <th>2021-07-23</th>\n",
              "      <td>287.370</td>\n",
              "      <td>289.990</td>\n",
              "      <td>286.5000</td>\n",
              "      <td>289.67</td>\n",
              "      <td>22768071</td>\n",
              "      <td>288.5200</td>\n",
              "      <td>286.14</td>\n",
              "      <td>1.233662</td>\n",
              "    </tr>\n",
              "    <tr>\n",
              "      <th>2021-07-26</th>\n",
              "      <td>289.000</td>\n",
              "      <td>289.690</td>\n",
              "      <td>286.6420</td>\n",
              "      <td>289.05</td>\n",
              "      <td>23176073</td>\n",
              "      <td>289.0250</td>\n",
              "      <td>289.67</td>\n",
              "      <td>-0.214037</td>\n",
              "    </tr>\n",
              "    <tr>\n",
              "      <th>2021-07-27</th>\n",
              "      <td>289.430</td>\n",
              "      <td>289.575</td>\n",
              "      <td>282.9500</td>\n",
              "      <td>286.54</td>\n",
              "      <td>33604073</td>\n",
              "      <td>287.9850</td>\n",
              "      <td>289.05</td>\n",
              "      <td>-0.868362</td>\n",
              "    </tr>\n",
              "    <tr>\n",
              "      <th>2021-07-28</th>\n",
              "      <td>288.990</td>\n",
              "      <td>290.150</td>\n",
              "      <td>283.8303</td>\n",
              "      <td>286.22</td>\n",
              "      <td>33566853</td>\n",
              "      <td>287.6050</td>\n",
              "      <td>286.54</td>\n",
              "      <td>-0.111677</td>\n",
              "    </tr>\n",
              "    <tr>\n",
              "      <th>2021-07-29</th>\n",
              "      <td>286.235</td>\n",
              "      <td>288.618</td>\n",
              "      <td>286.0800</td>\n",
              "      <td>286.50</td>\n",
              "      <td>18168294</td>\n",
              "      <td>286.3675</td>\n",
              "      <td>286.22</td>\n",
              "      <td>0.097827</td>\n",
              "    </tr>\n",
              "    <tr>\n",
              "      <th>2021-07-30</th>\n",
              "      <td>285.170</td>\n",
              "      <td>286.660</td>\n",
              "      <td>283.9100</td>\n",
              "      <td>284.91</td>\n",
              "      <td>20944846</td>\n",
              "      <td>285.0400</td>\n",
              "      <td>286.50</td>\n",
              "      <td>-0.554974</td>\n",
              "    </tr>\n",
              "  </tbody>\n",
              "</table>\n",
              "</div>"
            ],
            "text/plain": [
              "               Open     High       Low  ...   Average  Close_shift  Difference_[%]\n",
              "Date                                    ...                                       \n",
              "2021-07-20  278.030  280.970  276.2600  ...  278.6750       277.01        0.833905\n",
              "2021-07-21  278.905  281.520  277.2900  ...  280.1525       279.32        0.744666\n",
              "2021-07-22  283.840  286.420  283.4200  ...  284.9900       281.40        1.684435\n",
              "2021-07-23  287.370  289.990  286.5000  ...  288.5200       286.14        1.233662\n",
              "2021-07-26  289.000  289.690  286.6420  ...  289.0250       289.67       -0.214037\n",
              "2021-07-27  289.430  289.575  282.9500  ...  287.9850       289.05       -0.868362\n",
              "2021-07-28  288.990  290.150  283.8303  ...  287.6050       286.54       -0.111677\n",
              "2021-07-29  286.235  288.618  286.0800  ...  286.3675       286.22        0.097827\n",
              "2021-07-30  285.170  286.660  283.9100  ...  285.0400       286.50       -0.554974\n",
              "\n",
              "[9 rows x 8 columns]"
            ]
          },
          "metadata": {
            "tags": []
          },
          "execution_count": 48
        }
      ]
    },
    {
      "cell_type": "code",
      "metadata": {
        "colab": {
          "base_uri": "https://localhost:8080/",
          "height": 269
        },
        "id": "I2hHvuUypbgk",
        "outputId": "83ec34e5-0a50-4704-a935-9c4a98e4751c"
      },
      "source": [
        "df[(df.index > '2021-07-19') & (df.index > '2021-07-22')]"
      ],
      "execution_count": 53,
      "outputs": [
        {
          "output_type": "execute_result",
          "data": {
            "text/html": [
              "<div>\n",
              "<style scoped>\n",
              "    .dataframe tbody tr th:only-of-type {\n",
              "        vertical-align: middle;\n",
              "    }\n",
              "\n",
              "    .dataframe tbody tr th {\n",
              "        vertical-align: top;\n",
              "    }\n",
              "\n",
              "    .dataframe thead th {\n",
              "        text-align: right;\n",
              "    }\n",
              "</style>\n",
              "<table border=\"1\" class=\"dataframe\">\n",
              "  <thead>\n",
              "    <tr style=\"text-align: right;\">\n",
              "      <th></th>\n",
              "      <th>Open</th>\n",
              "      <th>High</th>\n",
              "      <th>Low</th>\n",
              "      <th>Close</th>\n",
              "      <th>Volume</th>\n",
              "      <th>Average</th>\n",
              "      <th>Close_shift</th>\n",
              "      <th>Difference_[%]</th>\n",
              "    </tr>\n",
              "    <tr>\n",
              "      <th>Date</th>\n",
              "      <th></th>\n",
              "      <th></th>\n",
              "      <th></th>\n",
              "      <th></th>\n",
              "      <th></th>\n",
              "      <th></th>\n",
              "      <th></th>\n",
              "      <th></th>\n",
              "    </tr>\n",
              "  </thead>\n",
              "  <tbody>\n",
              "    <tr>\n",
              "      <th>2021-07-23</th>\n",
              "      <td>287.370</td>\n",
              "      <td>289.990</td>\n",
              "      <td>286.5000</td>\n",
              "      <td>289.67</td>\n",
              "      <td>22768071</td>\n",
              "      <td>288.5200</td>\n",
              "      <td>286.14</td>\n",
              "      <td>1.233662</td>\n",
              "    </tr>\n",
              "    <tr>\n",
              "      <th>2021-07-26</th>\n",
              "      <td>289.000</td>\n",
              "      <td>289.690</td>\n",
              "      <td>286.6420</td>\n",
              "      <td>289.05</td>\n",
              "      <td>23176073</td>\n",
              "      <td>289.0250</td>\n",
              "      <td>289.67</td>\n",
              "      <td>-0.214037</td>\n",
              "    </tr>\n",
              "    <tr>\n",
              "      <th>2021-07-27</th>\n",
              "      <td>289.430</td>\n",
              "      <td>289.575</td>\n",
              "      <td>282.9500</td>\n",
              "      <td>286.54</td>\n",
              "      <td>33604073</td>\n",
              "      <td>287.9850</td>\n",
              "      <td>289.05</td>\n",
              "      <td>-0.868362</td>\n",
              "    </tr>\n",
              "    <tr>\n",
              "      <th>2021-07-28</th>\n",
              "      <td>288.990</td>\n",
              "      <td>290.150</td>\n",
              "      <td>283.8303</td>\n",
              "      <td>286.22</td>\n",
              "      <td>33566853</td>\n",
              "      <td>287.6050</td>\n",
              "      <td>286.54</td>\n",
              "      <td>-0.111677</td>\n",
              "    </tr>\n",
              "    <tr>\n",
              "      <th>2021-07-29</th>\n",
              "      <td>286.235</td>\n",
              "      <td>288.618</td>\n",
              "      <td>286.0800</td>\n",
              "      <td>286.50</td>\n",
              "      <td>18168294</td>\n",
              "      <td>286.3675</td>\n",
              "      <td>286.22</td>\n",
              "      <td>0.097827</td>\n",
              "    </tr>\n",
              "    <tr>\n",
              "      <th>2021-07-30</th>\n",
              "      <td>285.170</td>\n",
              "      <td>286.660</td>\n",
              "      <td>283.9100</td>\n",
              "      <td>284.91</td>\n",
              "      <td>20944846</td>\n",
              "      <td>285.0400</td>\n",
              "      <td>286.50</td>\n",
              "      <td>-0.554974</td>\n",
              "    </tr>\n",
              "  </tbody>\n",
              "</table>\n",
              "</div>"
            ],
            "text/plain": [
              "               Open     High       Low  ...   Average  Close_shift  Difference_[%]\n",
              "Date                                    ...                                       \n",
              "2021-07-23  287.370  289.990  286.5000  ...  288.5200       286.14        1.233662\n",
              "2021-07-26  289.000  289.690  286.6420  ...  289.0250       289.67       -0.214037\n",
              "2021-07-27  289.430  289.575  282.9500  ...  287.9850       289.05       -0.868362\n",
              "2021-07-28  288.990  290.150  283.8303  ...  287.6050       286.54       -0.111677\n",
              "2021-07-29  286.235  288.618  286.0800  ...  286.3675       286.22        0.097827\n",
              "2021-07-30  285.170  286.660  283.9100  ...  285.0400       286.50       -0.554974\n",
              "\n",
              "[6 rows x 8 columns]"
            ]
          },
          "metadata": {
            "tags": []
          },
          "execution_count": 53
        }
      ]
    },
    {
      "cell_type": "code",
      "metadata": {
        "colab": {
          "base_uri": "https://localhost:8080/",
          "height": 455
        },
        "id": "GGpaXW95p9PQ",
        "outputId": "e1acc073-b033-4a33-d79d-456423dcc2f0"
      },
      "source": [
        "df[df.index.year == 2020]"
      ],
      "execution_count": 56,
      "outputs": [
        {
          "output_type": "execute_result",
          "data": {
            "text/html": [
              "<div>\n",
              "<style scoped>\n",
              "    .dataframe tbody tr th:only-of-type {\n",
              "        vertical-align: middle;\n",
              "    }\n",
              "\n",
              "    .dataframe tbody tr th {\n",
              "        vertical-align: top;\n",
              "    }\n",
              "\n",
              "    .dataframe thead th {\n",
              "        text-align: right;\n",
              "    }\n",
              "</style>\n",
              "<table border=\"1\" class=\"dataframe\">\n",
              "  <thead>\n",
              "    <tr style=\"text-align: right;\">\n",
              "      <th></th>\n",
              "      <th>Open</th>\n",
              "      <th>High</th>\n",
              "      <th>Low</th>\n",
              "      <th>Close</th>\n",
              "      <th>Volume</th>\n",
              "      <th>Average</th>\n",
              "      <th>Close_shift</th>\n",
              "      <th>Difference_[%]</th>\n",
              "    </tr>\n",
              "    <tr>\n",
              "      <th>Date</th>\n",
              "      <th></th>\n",
              "      <th></th>\n",
              "      <th></th>\n",
              "      <th></th>\n",
              "      <th></th>\n",
              "      <th></th>\n",
              "      <th></th>\n",
              "      <th></th>\n",
              "    </tr>\n",
              "  </thead>\n",
              "  <tbody>\n",
              "    <tr>\n",
              "      <th>2020-01-02</th>\n",
              "      <td>156.76</td>\n",
              "      <td>158.66</td>\n",
              "      <td>156.31</td>\n",
              "      <td>158.56</td>\n",
              "      <td>22927011</td>\n",
              "      <td>157.660</td>\n",
              "      <td>155.68</td>\n",
              "      <td>1.849949</td>\n",
              "    </tr>\n",
              "    <tr>\n",
              "      <th>2020-01-03</th>\n",
              "      <td>156.30</td>\n",
              "      <td>157.92</td>\n",
              "      <td>156.04</td>\n",
              "      <td>156.60</td>\n",
              "      <td>21394597</td>\n",
              "      <td>156.450</td>\n",
              "      <td>158.56</td>\n",
              "      <td>-1.236125</td>\n",
              "    </tr>\n",
              "    <tr>\n",
              "      <th>2020-01-06</th>\n",
              "      <td>155.06</td>\n",
              "      <td>157.08</td>\n",
              "      <td>154.50</td>\n",
              "      <td>157.01</td>\n",
              "      <td>21095806</td>\n",
              "      <td>156.035</td>\n",
              "      <td>156.60</td>\n",
              "      <td>0.261814</td>\n",
              "    </tr>\n",
              "    <tr>\n",
              "      <th>2020-01-07</th>\n",
              "      <td>157.30</td>\n",
              "      <td>157.65</td>\n",
              "      <td>155.30</td>\n",
              "      <td>155.56</td>\n",
              "      <td>22164477</td>\n",
              "      <td>156.430</td>\n",
              "      <td>157.01</td>\n",
              "      <td>-0.923508</td>\n",
              "    </tr>\n",
              "    <tr>\n",
              "      <th>2020-01-08</th>\n",
              "      <td>156.91</td>\n",
              "      <td>158.73</td>\n",
              "      <td>155.93</td>\n",
              "      <td>158.06</td>\n",
              "      <td>28120743</td>\n",
              "      <td>157.485</td>\n",
              "      <td>155.56</td>\n",
              "      <td>1.607097</td>\n",
              "    </tr>\n",
              "    <tr>\n",
              "      <th>...</th>\n",
              "      <td>...</td>\n",
              "      <td>...</td>\n",
              "      <td>...</td>\n",
              "      <td>...</td>\n",
              "      <td>...</td>\n",
              "      <td>...</td>\n",
              "      <td>...</td>\n",
              "      <td>...</td>\n",
              "    </tr>\n",
              "    <tr>\n",
              "      <th>2020-12-24</th>\n",
              "      <td>220.91</td>\n",
              "      <td>223.10</td>\n",
              "      <td>220.69</td>\n",
              "      <td>222.24</td>\n",
              "      <td>10574872</td>\n",
              "      <td>221.575</td>\n",
              "      <td>220.51</td>\n",
              "      <td>0.784545</td>\n",
              "    </tr>\n",
              "    <tr>\n",
              "      <th>2020-12-28</th>\n",
              "      <td>223.93</td>\n",
              "      <td>225.51</td>\n",
              "      <td>222.51</td>\n",
              "      <td>224.44</td>\n",
              "      <td>17974800</td>\n",
              "      <td>224.185</td>\n",
              "      <td>222.24</td>\n",
              "      <td>0.989921</td>\n",
              "    </tr>\n",
              "    <tr>\n",
              "      <th>2020-12-29</th>\n",
              "      <td>225.79</td>\n",
              "      <td>226.66</td>\n",
              "      <td>223.07</td>\n",
              "      <td>223.63</td>\n",
              "      <td>17443296</td>\n",
              "      <td>224.710</td>\n",
              "      <td>224.44</td>\n",
              "      <td>-0.360898</td>\n",
              "    </tr>\n",
              "    <tr>\n",
              "      <th>2020-12-30</th>\n",
              "      <td>224.71</td>\n",
              "      <td>225.11</td>\n",
              "      <td>220.96</td>\n",
              "      <td>221.17</td>\n",
              "      <td>20319028</td>\n",
              "      <td>222.940</td>\n",
              "      <td>223.63</td>\n",
              "      <td>-1.100031</td>\n",
              "    </tr>\n",
              "    <tr>\n",
              "      <th>2020-12-31</th>\n",
              "      <td>221.19</td>\n",
              "      <td>222.49</td>\n",
              "      <td>219.18</td>\n",
              "      <td>221.91</td>\n",
              "      <td>20990366</td>\n",
              "      <td>221.550</td>\n",
              "      <td>221.17</td>\n",
              "      <td>0.334584</td>\n",
              "    </tr>\n",
              "  </tbody>\n",
              "</table>\n",
              "<p>253 rows × 8 columns</p>\n",
              "</div>"
            ],
            "text/plain": [
              "              Open    High     Low  ...  Average  Close_shift  Difference_[%]\n",
              "Date                                ...                                      \n",
              "2020-01-02  156.76  158.66  156.31  ...  157.660       155.68        1.849949\n",
              "2020-01-03  156.30  157.92  156.04  ...  156.450       158.56       -1.236125\n",
              "2020-01-06  155.06  157.08  154.50  ...  156.035       156.60        0.261814\n",
              "2020-01-07  157.30  157.65  155.30  ...  156.430       157.01       -0.923508\n",
              "2020-01-08  156.91  158.73  155.93  ...  157.485       155.56        1.607097\n",
              "...            ...     ...     ...  ...      ...          ...             ...\n",
              "2020-12-24  220.91  223.10  220.69  ...  221.575       220.51        0.784545\n",
              "2020-12-28  223.93  225.51  222.51  ...  224.185       222.24        0.989921\n",
              "2020-12-29  225.79  226.66  223.07  ...  224.710       224.44       -0.360898\n",
              "2020-12-30  224.71  225.11  220.96  ...  222.940       223.63       -1.100031\n",
              "2020-12-31  221.19  222.49  219.18  ...  221.550       221.17        0.334584\n",
              "\n",
              "[253 rows x 8 columns]"
            ]
          },
          "metadata": {
            "tags": []
          },
          "execution_count": 56
        }
      ]
    },
    {
      "cell_type": "code",
      "metadata": {
        "id": "qLa-N3vJqw2h"
      },
      "source": [
        ""
      ],
      "execution_count": null,
      "outputs": []
    }
  ]
}