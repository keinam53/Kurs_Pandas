{
 "cells": [
  {
   "cell_type": "markdown",
   "id": "299a7f52",
   "metadata": {},
   "source": [
    "**Wykres Słupkowy, skrzynkowy i histogram**"
   ]
  },
  {
   "cell_type": "code",
   "execution_count": 1,
   "id": "af49390e",
   "metadata": {},
   "outputs": [],
   "source": [
    "import pandas as pd\n",
    "import numpy as np\n",
    "import matplotlib as plt\n",
    "%matplotlib inline"
   ]
  },
  {
   "cell_type": "code",
   "execution_count": 2,
   "id": "3605037c",
   "metadata": {},
   "outputs": [],
   "source": [
    "bar = pd.read_csv('C:/Users/Mariusz Baran/Data_Science_kurs/Data_science_pliki/course-files/weather_barcelona.csv',\n",
    "                 index_col='Date')\n",
    "rom = pd.read_csv('C:/Users/Mariusz Baran/Data_Science_kurs/Data_science_pliki/course-files/weather_rome.csv',\n",
    "                 index_col='Date')\n",
    "ams = pd.read_csv('C:/Users/Mariusz Baran/Data_Science_kurs/Data_science_pliki/course-files/weather_amsterdam.csv',\n",
    "                 index_col='Date')"
   ]
  },
  {
   "cell_type": "code",
   "execution_count": 3,
   "id": "9714c134",
   "metadata": {},
   "outputs": [],
   "source": [
    "temp_max = pd.DataFrame(index=bar.index)\n",
    "temp_max['Barcelona'] = bar['TempMax']\n",
    "temp_max['Rome'] = rom['TempMax']\n",
    "temp_max['Amsterdam'] = ams['TempMax']"
   ]
  },
  {
   "cell_type": "code",
   "execution_count": 4,
   "id": "11d9379f",
   "metadata": {},
   "outputs": [],
   "source": [
    "def grade_day(row):\n",
    "    if (row['TempMax'] >= row['AvgTempMax']):\n",
    "        return 'PLUS'\n",
    "    else:\n",
    "        return 'MINUS'"
   ]
  },
  {
   "cell_type": "code",
   "execution_count": 6,
   "id": "32c50531",
   "metadata": {},
   "outputs": [],
   "source": [
    "rom['GradeDay'] = rom.apply(grade_day, axis=1)\n",
    "bar['GradeDay'] = bar.apply(grade_day, axis=1)\n",
    "ams['GradeDay'] = ams.apply(grade_day, axis=1)"
   ]
  },
  {
   "cell_type": "code",
   "execution_count": 7,
   "id": "135db5d8",
   "metadata": {},
   "outputs": [
    {
     "data": {
      "text/plain": [
       "PLUS     70\n",
       "MINUS    20\n",
       "Name: GradeDay, dtype: int64"
      ]
     },
     "execution_count": 7,
     "metadata": {},
     "output_type": "execute_result"
    }
   ],
   "source": [
    "rom['GradeDay'].value_counts()"
   ]
  },
  {
   "cell_type": "code",
   "execution_count": 8,
   "id": "969f797e",
   "metadata": {},
   "outputs": [
    {
     "data": {
      "text/html": [
       "<div>\n",
       "<style scoped>\n",
       "    .dataframe tbody tr th:only-of-type {\n",
       "        vertical-align: middle;\n",
       "    }\n",
       "\n",
       "    .dataframe tbody tr th {\n",
       "        vertical-align: top;\n",
       "    }\n",
       "\n",
       "    .dataframe thead th {\n",
       "        text-align: right;\n",
       "    }\n",
       "</style>\n",
       "<table border=\"1\" class=\"dataframe\">\n",
       "  <thead>\n",
       "    <tr style=\"text-align: right;\">\n",
       "      <th></th>\n",
       "      <th>Barcelona</th>\n",
       "      <th>Rome</th>\n",
       "      <th>Amsterdam</th>\n",
       "    </tr>\n",
       "  </thead>\n",
       "  <tbody>\n",
       "    <tr>\n",
       "      <th>MINUS</th>\n",
       "      <td>26</td>\n",
       "      <td>20</td>\n",
       "      <td>22</td>\n",
       "    </tr>\n",
       "    <tr>\n",
       "      <th>PLUS</th>\n",
       "      <td>64</td>\n",
       "      <td>70</td>\n",
       "      <td>68</td>\n",
       "    </tr>\n",
       "  </tbody>\n",
       "</table>\n",
       "</div>"
      ],
      "text/plain": [
       "       Barcelona  Rome  Amsterdam\n",
       "MINUS         26    20         22\n",
       "PLUS          64    70         68"
      ]
     },
     "execution_count": 8,
     "metadata": {},
     "output_type": "execute_result"
    }
   ],
   "source": [
    "cities3 = pd.DataFrame(index=['MINUS', 'PLUS'])\n",
    "cities3['Barcelona'] = bar['GradeDay'].value_counts()\n",
    "cities3['Rome'] = rom['GradeDay'].value_counts()\n",
    "cities3['Amsterdam'] = ams['GradeDay'].value_counts()\n",
    "cities3"
   ]
  },
  {
   "cell_type": "markdown",
   "id": "e99cc960",
   "metadata": {},
   "source": [
    "kind='bar' - wykres słupkowy pionowy"
   ]
  },
  {
   "cell_type": "code",
   "execution_count": 12,
   "id": "649b4500",
   "metadata": {},
   "outputs": [
    {
     "data": {
      "text/plain": [
       "<AxesSubplot:>"
      ]
     },
     "execution_count": 12,
     "metadata": {},
     "output_type": "execute_result"
    },
    {
     "data": {
      "image/png": "[encoded data removed]",
      "text/plain": [
       "<Figure size 432x288 with 1 Axes>"
      ]
     },
     "metadata": {
      "needs_background": "light"
     },
     "output_type": "display_data"
    }
   ],
   "source": [
    "cities3['Barcelona'].plot(kind='bar')"
   ]
  },
  {
   "cell_type": "markdown",
   "id": "343327e9",
   "metadata": {},
   "source": [
    "kind='barh' - wykres słupkowy poziomy"
   ]
  },
  {
   "cell_type": "code",
   "execution_count": 13,
   "id": "63c5a196",
   "metadata": {},
   "outputs": [
    {
     "data": {
      "text/plain": [
       "<AxesSubplot:>"
      ]
     },
     "execution_count": 13,
     "metadata": {},
     "output_type": "execute_result"
    },
    {
     "data": {
      "image/png": "[encoded data removed]",
      "text/plain": [
       "<Figure size 432x288 with 1 Axes>"
      ]
     },
     "metadata": {
      "needs_background": "light"
     },
     "output_type": "display_data"
    }
   ],
   "source": [
    "cities3['Barcelona'].plot(kind='barh')"
   ]
  },
  {
   "cell_type": "code",
   "execution_count": 14,
   "id": "c75060ea",
   "metadata": {},
   "outputs": [
    {
     "data": {
      "text/plain": [
       "<AxesSubplot:>"
      ]
     },
     "execution_count": 14,
     "metadata": {},
     "output_type": "execute_result"
    },
    {
     "data": {
      "image/png": "[encoded data removed]",
      "text/plain": [
       "<Figure size 432x288 with 1 Axes>"
      ]
     },
     "metadata": {
      "needs_background": "light"
     },
     "output_type": "display_data"
    }
   ],
   "source": [
    "cities3.plot(kind='bar')"
   ]
  },
  {
   "cell_type": "code",
   "execution_count": 16,
   "id": "a4a14eb5",
   "metadata": {},
   "outputs": [
    {
     "data": {
      "text/plain": [
       "<AxesSubplot:>"
      ]
     },
     "execution_count": 16,
     "metadata": {},
     "output_type": "execute_result"
    },
    {
     "data": {
      "image/png": "[encoded data removed]",
      "text/plain": [
       "<Figure size 432x288 with 1 Axes>"
      ]
     },
     "metadata": {
      "needs_background": "light"
     },
     "output_type": "display_data"
    }
   ],
   "source": [
    "cities3.plot(kind='barh')"
   ]
  },
  {
   "cell_type": "markdown",
   "id": "436d8e8b",
   "metadata": {},
   "source": [
    "stacked=True - sumowanie się słupków"
   ]
  },
  {
   "cell_type": "code",
   "execution_count": 17,
   "id": "bb05494d",
   "metadata": {},
   "outputs": [
    {
     "data": {
      "text/plain": [
       "<AxesSubplot:>"
      ]
     },
     "execution_count": 17,
     "metadata": {},
     "output_type": "execute_result"
    },
    {
     "data": {
      "image/png": "[encoded data removed]",
      "text/plain": [
       "<Figure size 432x288 with 1 Axes>"
      ]
     },
     "metadata": {
      "needs_background": "light"
     },
     "output_type": "display_data"
    }
   ],
   "source": [
    "cities3.plot(kind='bar', stacked=True)"
   ]
  },
  {
   "cell_type": "code",
   "execution_count": 18,
   "id": "e761b272",
   "metadata": {},
   "outputs": [
    {
     "data": {
      "text/html": [
       "<div>\n",
       "<style scoped>\n",
       "    .dataframe tbody tr th:only-of-type {\n",
       "        vertical-align: middle;\n",
       "    }\n",
       "\n",
       "    .dataframe tbody tr th {\n",
       "        vertical-align: top;\n",
       "    }\n",
       "\n",
       "    .dataframe thead th {\n",
       "        text-align: right;\n",
       "    }\n",
       "</style>\n",
       "<table border=\"1\" class=\"dataframe\">\n",
       "  <thead>\n",
       "    <tr style=\"text-align: right;\">\n",
       "      <th></th>\n",
       "      <th>Barcelona</th>\n",
       "      <th>Rome</th>\n",
       "      <th>Amsterdam</th>\n",
       "    </tr>\n",
       "    <tr>\n",
       "      <th>Date</th>\n",
       "      <th></th>\n",
       "      <th></th>\n",
       "      <th></th>\n",
       "    </tr>\n",
       "  </thead>\n",
       "  <tbody>\n",
       "    <tr>\n",
       "      <th>2018-01-01</th>\n",
       "      <td>17</td>\n",
       "      <td>14</td>\n",
       "      <td>8</td>\n",
       "    </tr>\n",
       "    <tr>\n",
       "      <th>2018-01-02</th>\n",
       "      <td>19</td>\n",
       "      <td>13</td>\n",
       "      <td>9</td>\n",
       "    </tr>\n",
       "    <tr>\n",
       "      <th>2018-01-03</th>\n",
       "      <td>23</td>\n",
       "      <td>14</td>\n",
       "      <td>11</td>\n",
       "    </tr>\n",
       "    <tr>\n",
       "      <th>2018-01-04</th>\n",
       "      <td>24</td>\n",
       "      <td>16</td>\n",
       "      <td>11</td>\n",
       "    </tr>\n",
       "    <tr>\n",
       "      <th>2018-01-05</th>\n",
       "      <td>20</td>\n",
       "      <td>17</td>\n",
       "      <td>8</td>\n",
       "    </tr>\n",
       "  </tbody>\n",
       "</table>\n",
       "</div>"
      ],
      "text/plain": [
       "            Barcelona  Rome  Amsterdam\n",
       "Date                                  \n",
       "2018-01-01         17    14          8\n",
       "2018-01-02         19    13          9\n",
       "2018-01-03         23    14         11\n",
       "2018-01-04         24    16         11\n",
       "2018-01-05         20    17          8"
      ]
     },
     "execution_count": 18,
     "metadata": {},
     "output_type": "execute_result"
    }
   ],
   "source": [
    "temp_max.head()"
   ]
  },
  {
   "cell_type": "markdown",
   "id": "5e8987df",
   "metadata": {},
   "source": [
    "kind='box' - wykres skrzynkowy"
   ]
  },
  {
   "cell_type": "code",
   "execution_count": 19,
   "id": "56e178ca",
   "metadata": {},
   "outputs": [
    {
     "data": {
      "text/plain": [
       "<AxesSubplot:>"
      ]
     },
     "execution_count": 19,
     "metadata": {},
     "output_type": "execute_result"
    },
    {
     "data": {
      "image/png": "[encoded data removed]",
      "text/plain": [
       "<Figure size 432x288 with 1 Axes>"
      ]
     },
     "metadata": {
      "needs_background": "light"
     },
     "output_type": "display_data"
    }
   ],
   "source": [
    "temp_max.plot(kind='box')"
   ]
  },
  {
   "cell_type": "markdown",
   "id": "6c8fb4af",
   "metadata": {},
   "source": [
    "Zmiana kolorów za pomocą słownika"
   ]
  },
  {
   "cell_type": "code",
   "execution_count": 22,
   "id": "3a31d676",
   "metadata": {},
   "outputs": [
    {
     "data": {
      "text/plain": [
       "<AxesSubplot:>"
      ]
     },
     "execution_count": 22,
     "metadata": {},
     "output_type": "execute_result"
    },
    {
     "data": {
      "image/png": "[encoded data removed]",
      "text/plain": [
       "<Figure size 432x288 with 1 Axes>"
      ]
     },
     "metadata": {
      "needs_background": "light"
     },
     "output_type": "display_data"
    }
   ],
   "source": [
    "color = dict(boxes='DarkGreen', whiskers='DarkOrange', medians='DarkBlue', caps='Gray')\n",
    "temp_max.plot(kind='box', color=color)"
   ]
  },
  {
   "cell_type": "markdown",
   "id": "053fa1ab",
   "metadata": {},
   "source": [
    "kind='hist' - hostogram"
   ]
  },
  {
   "cell_type": "code",
   "execution_count": 23,
   "id": "f2f7e45c",
   "metadata": {},
   "outputs": [
    {
     "data": {
      "text/plain": [
       "<AxesSubplot:ylabel='Frequency'>"
      ]
     },
     "execution_count": 23,
     "metadata": {},
     "output_type": "execute_result"
    },
    {
     "data": {
      "image/png": "[encoded data removed]",
      "text/plain": [
       "<Figure size 432x288 with 1 Axes>"
      ]
     },
     "metadata": {
      "needs_background": "light"
     },
     "output_type": "display_data"
    }
   ],
   "source": [
    "bar['TempMax'].plot(kind='hist')"
   ]
  },
  {
   "cell_type": "code",
   "execution_count": 24,
   "id": "c729a8b1",
   "metadata": {},
   "outputs": [
    {
     "data": {
      "text/plain": [
       "18"
      ]
     },
     "execution_count": 24,
     "metadata": {},
     "output_type": "execute_result"
    }
   ],
   "source": [
    "bar['TempMax'].nunique()"
   ]
  },
  {
   "cell_type": "markdown",
   "id": "ea3ae1b2",
   "metadata": {},
   "source": [
    "bins - wyrysowanie tylu słupków ile chcemy"
   ]
  },
  {
   "cell_type": "code",
   "execution_count": 25,
   "id": "19d2b90f",
   "metadata": {},
   "outputs": [
    {
     "data": {
      "text/plain": [
       "<AxesSubplot:ylabel='Frequency'>"
      ]
     },
     "execution_count": 25,
     "metadata": {},
     "output_type": "execute_result"
    },
    {
     "data": {
      "image/png": "[encoded data removed]",
      "text/plain": [
       "<Figure size 432x288 with 1 Axes>"
      ]
     },
     "metadata": {
      "needs_background": "light"
     },
     "output_type": "display_data"
    }
   ],
   "source": [
    "bar['TempMax'].plot(kind='hist', bins=18)"
   ]
  },
  {
   "cell_type": "code",
   "execution_count": null,
   "id": "926d6177",
   "metadata": {},
   "outputs": [],
   "source": []
  }
 ],
 "metadata": {
  "kernelspec": {
   "display_name": "Python 3",
   "language": "python",
   "name": "python3"
  },
  "language_info": {
   "codemirror_mode": {
    "name": "ipython",
    "version": 3
   },
   "file_extension": ".py",
   "mimetype": "text/x-python",
   "name": "python",
   "nbconvert_exporter": "python",
   "pygments_lexer": "ipython3",
   "version": "3.8.8"
  }
 },
 "nbformat": 4,
 "nbformat_minor": 5
}
