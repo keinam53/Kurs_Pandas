{
 "cells": [
  {
   "cell_type": "code",
   "execution_count": 1,
   "id": "cf1746be",
   "metadata": {},
   "outputs": [],
   "source": [
    "import pandas as pd\n",
    "import numpy as np"
   ]
  },
  {
   "cell_type": "code",
   "execution_count": 2,
   "id": "c1138840",
   "metadata": {},
   "outputs": [
    {
     "data": {
      "text/html": [
       "<div>\n",
       "<style scoped>\n",
       "    .dataframe tbody tr th:only-of-type {\n",
       "        vertical-align: middle;\n",
       "    }\n",
       "\n",
       "    .dataframe tbody tr th {\n",
       "        vertical-align: top;\n",
       "    }\n",
       "\n",
       "    .dataframe thead th {\n",
       "        text-align: right;\n",
       "    }\n",
       "</style>\n",
       "<table border=\"1\" class=\"dataframe\">\n",
       "  <thead>\n",
       "    <tr style=\"text-align: right;\">\n",
       "      <th></th>\n",
       "      <th>status_id</th>\n",
       "      <th>status_message</th>\n",
       "      <th>link_name</th>\n",
       "      <th>status_type</th>\n",
       "      <th>status_link</th>\n",
       "      <th>status_published</th>\n",
       "      <th>num_reactions</th>\n",
       "      <th>num_comments</th>\n",
       "      <th>num_shares</th>\n",
       "      <th>num_likes</th>\n",
       "      <th>num_loves</th>\n",
       "      <th>num_wows</th>\n",
       "      <th>num_hahas</th>\n",
       "      <th>num_sads</th>\n",
       "      <th>num_angrys</th>\n",
       "    </tr>\n",
       "  </thead>\n",
       "  <tbody>\n",
       "    <tr>\n",
       "      <th>0</th>\n",
       "      <td>17774451468_10154154735571469</td>\n",
       "      <td>It's time for Mr Bean and Teddy to get ready f...</td>\n",
       "      <td>Mr Bean - Preparing To Go Camping</td>\n",
       "      <td>video</td>\n",
       "      <td>https://youtu.be/fgURU75gTMQ</td>\n",
       "      <td>2016-06-23 11:35:48</td>\n",
       "      <td>16570.0</td>\n",
       "      <td>223.0</td>\n",
       "      <td>338.0</td>\n",
       "      <td>16079</td>\n",
       "      <td>166</td>\n",
       "      <td>6</td>\n",
       "      <td>320</td>\n",
       "      <td>0</td>\n",
       "      <td>0</td>\n",
       "    </tr>\n",
       "    <tr>\n",
       "      <th>1</th>\n",
       "      <td>17774451468_10154146584106469</td>\n",
       "      <td>NaN</td>\n",
       "      <td>Timeline Photos</td>\n",
       "      <td>photo</td>\n",
       "      <td>https://www.facebook.com/MrBean/photos/a.10150...</td>\n",
       "      <td>2016-06-21 10:00:01</td>\n",
       "      <td>119886.0</td>\n",
       "      <td>2171.0</td>\n",
       "      <td>1657.0</td>\n",
       "      <td>114008</td>\n",
       "      <td>946</td>\n",
       "      <td>104</td>\n",
       "      <td>4795</td>\n",
       "      <td>16</td>\n",
       "      <td>17</td>\n",
       "    </tr>\n",
       "    <tr>\n",
       "      <th>2</th>\n",
       "      <td>17774451468_10154135502911469</td>\n",
       "      <td>NaN</td>\n",
       "      <td>Timeline Photos</td>\n",
       "      <td>photo</td>\n",
       "      <td>https://www.facebook.com/MrBean/photos/a.10150...</td>\n",
       "      <td>2016-06-19 10:00:01</td>\n",
       "      <td>NaN</td>\n",
       "      <td>2395.0</td>\n",
       "      <td>10050.0</td>\n",
       "      <td>218579</td>\n",
       "      <td>2988</td>\n",
       "      <td>188</td>\n",
       "      <td>13992</td>\n",
       "      <td>52</td>\n",
       "      <td>53</td>\n",
       "    </tr>\n",
       "    <tr>\n",
       "      <th>3</th>\n",
       "      <td>17774451468_10154138120151469</td>\n",
       "      <td>Mr Bean is ready to do some shopping but bewar...</td>\n",
       "      <td>www.youtube.com</td>\n",
       "      <td>video</td>\n",
       "      <td>https://www.youtube.com/watch?v=58Z8J0PbLS8</td>\n",
       "      <td>2016-06-18 11:00:02</td>\n",
       "      <td>20913.0</td>\n",
       "      <td>214.0</td>\n",
       "      <td>257.0</td>\n",
       "      <td>20338</td>\n",
       "      <td>211</td>\n",
       "      <td>20</td>\n",
       "      <td>336</td>\n",
       "      <td>0</td>\n",
       "      <td>8</td>\n",
       "    </tr>\n",
       "    <tr>\n",
       "      <th>4</th>\n",
       "      <td>17774451468_10154135502476469</td>\n",
       "      <td>NaN</td>\n",
       "      <td>Timeline Photos</td>\n",
       "      <td>photo</td>\n",
       "      <td>https://www.facebook.com/MrBean/photos/a.10150...</td>\n",
       "      <td>2016-06-17 09:00:01</td>\n",
       "      <td>223602.0</td>\n",
       "      <td>880.0</td>\n",
       "      <td>2228.0</td>\n",
       "      <td>215591</td>\n",
       "      <td>2872</td>\n",
       "      <td>259</td>\n",
       "      <td>4814</td>\n",
       "      <td>27</td>\n",
       "      <td>39</td>\n",
       "    </tr>\n",
       "  </tbody>\n",
       "</table>\n",
       "</div>"
      ],
      "text/plain": [
       "                       status_id  \\\n",
       "0  17774451468_10154154735571469   \n",
       "1  17774451468_10154146584106469   \n",
       "2  17774451468_10154135502911469   \n",
       "3  17774451468_10154138120151469   \n",
       "4  17774451468_10154135502476469   \n",
       "\n",
       "                                      status_message  \\\n",
       "0  It's time for Mr Bean and Teddy to get ready f...   \n",
       "1                                                NaN   \n",
       "2                                                NaN   \n",
       "3  Mr Bean is ready to do some shopping but bewar...   \n",
       "4                                                NaN   \n",
       "\n",
       "                           link_name status_type  \\\n",
       "0  Mr Bean - Preparing To Go Camping       video   \n",
       "1                    Timeline Photos       photo   \n",
       "2                    Timeline Photos       photo   \n",
       "3                    www.youtube.com       video   \n",
       "4                    Timeline Photos       photo   \n",
       "\n",
       "                                         status_link     status_published  \\\n",
       "0                       https://youtu.be/fgURU75gTMQ  2016-06-23 11:35:48   \n",
       "1  https://www.facebook.com/MrBean/photos/a.10150...  2016-06-21 10:00:01   \n",
       "2  https://www.facebook.com/MrBean/photos/a.10150...  2016-06-19 10:00:01   \n",
       "3        https://www.youtube.com/watch?v=58Z8J0PbLS8  2016-06-18 11:00:02   \n",
       "4  https://www.facebook.com/MrBean/photos/a.10150...  2016-06-17 09:00:01   \n",
       "\n",
       "   num_reactions  num_comments  num_shares  num_likes  num_loves  num_wows  \\\n",
       "0        16570.0         223.0       338.0      16079        166         6   \n",
       "1       119886.0        2171.0      1657.0     114008        946       104   \n",
       "2            NaN        2395.0     10050.0     218579       2988       188   \n",
       "3        20913.0         214.0       257.0      20338        211        20   \n",
       "4       223602.0         880.0      2228.0     215591       2872       259   \n",
       "\n",
       "   num_hahas  num_sads  num_angrys  \n",
       "0        320         0           0  \n",
       "1       4795        16          17  \n",
       "2      13992        52          53  \n",
       "3        336         0           8  \n",
       "4       4814        27          39  "
      ]
     },
     "execution_count": 2,
     "metadata": {},
     "output_type": "execute_result"
    }
   ],
   "source": [
    "fb = pd.read_csv('C:/Users/Mariusz Baran/Data_Science_kurs/Data_science_pliki/course-files/mrbean_facebook_statuses_with_nulls.csv')\n",
    "fb.head()                 "
   ]
  },
  {
   "cell_type": "code",
   "execution_count": 3,
   "id": "4d905b8c",
   "metadata": {},
   "outputs": [
    {
     "name": "stdout",
     "output_type": "stream",
     "text": [
      "<class 'pandas.core.frame.DataFrame'>\n",
      "RangeIndex: 56 entries, 0 to 55\n",
      "Data columns (total 15 columns):\n",
      " #   Column            Non-Null Count  Dtype  \n",
      "---  ------            --------------  -----  \n",
      " 0   status_id         56 non-null     object \n",
      " 1   status_message    40 non-null     object \n",
      " 2   link_name         56 non-null     object \n",
      " 3   status_type       56 non-null     object \n",
      " 4   status_link       56 non-null     object \n",
      " 5   status_published  56 non-null     object \n",
      " 6   num_reactions     54 non-null     float64\n",
      " 7   num_comments      55 non-null     float64\n",
      " 8   num_shares        56 non-null     float64\n",
      " 9   num_likes         56 non-null     int64  \n",
      " 10  num_loves         56 non-null     int64  \n",
      " 11  num_wows          56 non-null     int64  \n",
      " 12  num_hahas         56 non-null     int64  \n",
      " 13  num_sads          56 non-null     int64  \n",
      " 14  num_angrys        56 non-null     int64  \n",
      "dtypes: float64(3), int64(6), object(6)\n",
      "memory usage: 34.4 KB\n"
     ]
    }
   ],
   "source": [
    "fb.info(memory_usage='deep')"
   ]
  },
  {
   "cell_type": "code",
   "execution_count": 4,
   "id": "653584eb",
   "metadata": {},
   "outputs": [
    {
     "data": {
      "text/html": [
       "<div>\n",
       "<style scoped>\n",
       "    .dataframe tbody tr th:only-of-type {\n",
       "        vertical-align: middle;\n",
       "    }\n",
       "\n",
       "    .dataframe tbody tr th {\n",
       "        vertical-align: top;\n",
       "    }\n",
       "\n",
       "    .dataframe thead th {\n",
       "        text-align: right;\n",
       "    }\n",
       "</style>\n",
       "<table border=\"1\" class=\"dataframe\">\n",
       "  <thead>\n",
       "    <tr style=\"text-align: right;\">\n",
       "      <th></th>\n",
       "      <th>status_message</th>\n",
       "      <th>link_name</th>\n",
       "      <th>status_type</th>\n",
       "      <th>num_reactions</th>\n",
       "      <th>num_shares</th>\n",
       "      <th>num_likes</th>\n",
       "    </tr>\n",
       "  </thead>\n",
       "  <tbody>\n",
       "    <tr>\n",
       "      <th>0</th>\n",
       "      <td>It's time for Mr Bean and Teddy to get ready f...</td>\n",
       "      <td>Mr Bean - Preparing To Go Camping</td>\n",
       "      <td>video</td>\n",
       "      <td>16570.0</td>\n",
       "      <td>338.0</td>\n",
       "      <td>16079</td>\n",
       "    </tr>\n",
       "    <tr>\n",
       "      <th>1</th>\n",
       "      <td>NaN</td>\n",
       "      <td>Timeline Photos</td>\n",
       "      <td>photo</td>\n",
       "      <td>119886.0</td>\n",
       "      <td>1657.0</td>\n",
       "      <td>114008</td>\n",
       "    </tr>\n",
       "    <tr>\n",
       "      <th>2</th>\n",
       "      <td>NaN</td>\n",
       "      <td>Timeline Photos</td>\n",
       "      <td>photo</td>\n",
       "      <td>NaN</td>\n",
       "      <td>10050.0</td>\n",
       "      <td>218579</td>\n",
       "    </tr>\n",
       "    <tr>\n",
       "      <th>3</th>\n",
       "      <td>Mr Bean is ready to do some shopping but bewar...</td>\n",
       "      <td>www.youtube.com</td>\n",
       "      <td>video</td>\n",
       "      <td>20913.0</td>\n",
       "      <td>257.0</td>\n",
       "      <td>20338</td>\n",
       "    </tr>\n",
       "    <tr>\n",
       "      <th>4</th>\n",
       "      <td>NaN</td>\n",
       "      <td>Timeline Photos</td>\n",
       "      <td>photo</td>\n",
       "      <td>223602.0</td>\n",
       "      <td>2228.0</td>\n",
       "      <td>215591</td>\n",
       "    </tr>\n",
       "  </tbody>\n",
       "</table>\n",
       "</div>"
      ],
      "text/plain": [
       "                                      status_message  \\\n",
       "0  It's time for Mr Bean and Teddy to get ready f...   \n",
       "1                                                NaN   \n",
       "2                                                NaN   \n",
       "3  Mr Bean is ready to do some shopping but bewar...   \n",
       "4                                                NaN   \n",
       "\n",
       "                           link_name status_type  num_reactions  num_shares  \\\n",
       "0  Mr Bean - Preparing To Go Camping       video        16570.0       338.0   \n",
       "1                    Timeline Photos       photo       119886.0      1657.0   \n",
       "2                    Timeline Photos       photo            NaN     10050.0   \n",
       "3                    www.youtube.com       video        20913.0       257.0   \n",
       "4                    Timeline Photos       photo       223602.0      2228.0   \n",
       "\n",
       "   num_likes  \n",
       "0      16079  \n",
       "1     114008  \n",
       "2     218579  \n",
       "3      20338  \n",
       "4     215591  "
      ]
     },
     "execution_count": 4,
     "metadata": {},
     "output_type": "execute_result"
    }
   ],
   "source": [
    "fb = pd.read_csv('C:/Users/Mariusz Baran/Data_Science_kurs/Data_science_pliki/course-files/mrbean_facebook_statuses_with_nulls.csv',\n",
    "                usecols=[\"status_message\", \"status_type\", \"link_name\",\"num_reactions\", \"num_shares\", \"num_likes\"])\n",
    "fb.head() "
   ]
  },
  {
   "cell_type": "code",
   "execution_count": 5,
   "id": "3999fe68",
   "metadata": {},
   "outputs": [
    {
     "name": "stdout",
     "output_type": "stream",
     "text": [
      "<class 'pandas.core.frame.DataFrame'>\n",
      "RangeIndex: 56 entries, 0 to 55\n",
      "Data columns (total 6 columns):\n",
      " #   Column          Non-Null Count  Dtype  \n",
      "---  ------          --------------  -----  \n",
      " 0   status_message  40 non-null     object \n",
      " 1   link_name       56 non-null     object \n",
      " 2   status_type     56 non-null     object \n",
      " 3   num_reactions   54 non-null     float64\n",
      " 4   num_shares      56 non-null     float64\n",
      " 5   num_likes       56 non-null     int64  \n",
      "dtypes: float64(2), int64(1), object(3)\n",
      "memory usage: 16.1 KB\n"
     ]
    }
   ],
   "source": [
    "fb.info(memory_usage='deep')"
   ]
  },
  {
   "cell_type": "code",
   "execution_count": 8,
   "id": "b7c94f9e",
   "metadata": {},
   "outputs": [
    {
     "data": {
      "text/plain": [
       "RangeIndex(start=0, stop=56, step=1)"
      ]
     },
     "execution_count": 8,
     "metadata": {},
     "output_type": "execute_result"
    }
   ],
   "source": [
    "fb.index"
   ]
  },
  {
   "cell_type": "code",
   "execution_count": 9,
   "id": "731c65ea",
   "metadata": {},
   "outputs": [
    {
     "data": {
      "text/plain": [
       "3"
      ]
     },
     "execution_count": 9,
     "metadata": {},
     "output_type": "execute_result"
    }
   ],
   "source": [
    "fb['status_type'].nunique()"
   ]
  },
  {
   "cell_type": "code",
   "execution_count": 10,
   "id": "a198c72f",
   "metadata": {},
   "outputs": [
    {
     "data": {
      "text/plain": [
       "video    32\n",
       "photo    22\n",
       "link      2\n",
       "Name: status_type, dtype: int64"
      ]
     },
     "execution_count": 10,
     "metadata": {},
     "output_type": "execute_result"
    }
   ],
   "source": [
    "fb['status_type'].value_counts()"
   ]
  },
  {
   "cell_type": "code",
   "execution_count": 11,
   "id": "33213da6",
   "metadata": {},
   "outputs": [],
   "source": [
    "fb['status_type'] = fb['status_type'].astype('category')"
   ]
  },
  {
   "cell_type": "code",
   "execution_count": 13,
   "id": "9bea68e7",
   "metadata": {},
   "outputs": [
    {
     "data": {
      "text/plain": [
       "32"
      ]
     },
     "execution_count": 13,
     "metadata": {},
     "output_type": "execute_result"
    }
   ],
   "source": [
    "fb['link_name'].nuniqueque()"
   ]
  },
  {
   "cell_type": "code",
   "execution_count": 16,
   "id": "0cdd09a6",
   "metadata": {},
   "outputs": [
    {
     "data": {
      "text/plain": [
       "Timeline Photos                                         22\n",
       "www.youtube.com                                          4\n",
       "Mr Bean (NEW series) - Litterbugs Clip                   1\n",
       "Rowan Atkinson: I will never wave goodbye to Mr Bean     1\n",
       "Mr. Bean's Happy Moments                                 1\n",
       "Name: link_name, dtype: int64"
      ]
     },
     "execution_count": 16,
     "metadata": {},
     "output_type": "execute_result"
    }
   ],
   "source": [
    "fb['link_name'].value_counts().head()"
   ]
  },
  {
   "cell_type": "code",
   "execution_count": 14,
   "id": "a2ce0d66",
   "metadata": {},
   "outputs": [],
   "source": [
    "fb['link_name'] = fb['link_name'].astype('category')"
   ]
  },
  {
   "cell_type": "code",
   "execution_count": 15,
   "id": "07d412c8",
   "metadata": {},
   "outputs": [
    {
     "name": "stdout",
     "output_type": "stream",
     "text": [
      "<class 'pandas.core.frame.DataFrame'>\n",
      "RangeIndex: 56 entries, 0 to 55\n",
      "Data columns (total 6 columns):\n",
      " #   Column          Non-Null Count  Dtype   \n",
      "---  ------          --------------  -----   \n",
      " 0   status_message  40 non-null     object  \n",
      " 1   link_name       56 non-null     category\n",
      " 2   status_type     56 non-null     category\n",
      " 3   num_reactions   54 non-null     float64 \n",
      " 4   num_shares      56 non-null     float64 \n",
      " 5   num_likes       56 non-null     int64   \n",
      "dtypes: category(2), float64(2), int64(1), object(1)\n",
      "memory usage: 12.4 KB\n"
     ]
    }
   ],
   "source": [
    "fb.info(memory_usage='deep')"
   ]
  },
  {
   "cell_type": "code",
   "execution_count": 17,
   "id": "e540f674",
   "metadata": {},
   "outputs": [],
   "source": [
    "fb['num_reactions'].fillna(0, inplace=True)\n",
    "fb['num_shares'].fillna(0, inplace=True)"
   ]
  },
  {
   "cell_type": "code",
   "execution_count": 18,
   "id": "466eb17c",
   "metadata": {},
   "outputs": [],
   "source": [
    "fb['num_reactions'] = fb['num_reactions'].astype('int')\n",
    "fb['num_shares'] = fb['num_shares'].astype('int')\n",
    "fb['num_likes'] = fb['num_likes'].astype('int')"
   ]
  },
  {
   "cell_type": "code",
   "execution_count": 19,
   "id": "a7a09137",
   "metadata": {},
   "outputs": [
    {
     "name": "stdout",
     "output_type": "stream",
     "text": [
      "<class 'pandas.core.frame.DataFrame'>\n",
      "RangeIndex: 56 entries, 0 to 55\n",
      "Data columns (total 6 columns):\n",
      " #   Column          Non-Null Count  Dtype   \n",
      "---  ------          --------------  -----   \n",
      " 0   status_message  40 non-null     object  \n",
      " 1   link_name       56 non-null     category\n",
      " 2   status_type     56 non-null     category\n",
      " 3   num_reactions   56 non-null     int32   \n",
      " 4   num_shares      56 non-null     int32   \n",
      " 5   num_likes       56 non-null     int32   \n",
      "dtypes: category(2), int32(3), object(1)\n",
      "memory usage: 11.8 KB\n"
     ]
    }
   ],
   "source": [
    "fb.info(memory_usage='deep')"
   ]
  },
  {
   "cell_type": "code",
   "execution_count": null,
   "id": "6d7fe32d",
   "metadata": {},
   "outputs": [],
   "source": []
  }
 ],
 "metadata": {
  "kernelspec": {
   "display_name": "Python 3",
   "language": "python",
   "name": "python3"
  },
  "language_info": {
   "codemirror_mode": {
    "name": "ipython",
    "version": 3
   },
   "file_extension": ".py",
   "mimetype": "text/x-python",
   "name": "python",
   "nbconvert_exporter": "python",
   "pygments_lexer": "ipython3",
   "version": "3.8.8"
  }
 },
 "nbformat": 4,
 "nbformat_minor": 5
}
