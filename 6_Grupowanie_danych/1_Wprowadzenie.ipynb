{
 "cells": [
  {
   "cell_type": "markdown",
   "id": "8c4b21ab",
   "metadata": {},
   "source": [
    "**Wprowadzenie do grupowania danych**"
   ]
  },
  {
   "cell_type": "code",
   "execution_count": 1,
   "id": "41189d15",
   "metadata": {},
   "outputs": [],
   "source": [
    "import pandas as pd\n",
    "import numpy as np"
   ]
  },
  {
   "cell_type": "code",
   "execution_count": 2,
   "id": "97aad36e",
   "metadata": {},
   "outputs": [
    {
     "data": {
      "text/html": [
       "<div>\n",
       "<style scoped>\n",
       "    .dataframe tbody tr th:only-of-type {\n",
       "        vertical-align: middle;\n",
       "    }\n",
       "\n",
       "    .dataframe tbody tr th {\n",
       "        vertical-align: top;\n",
       "    }\n",
       "\n",
       "    .dataframe thead th {\n",
       "        text-align: right;\n",
       "    }\n",
       "</style>\n",
       "<table border=\"1\" class=\"dataframe\">\n",
       "  <thead>\n",
       "    <tr style=\"text-align: right;\">\n",
       "      <th></th>\n",
       "      <th>Retailer country</th>\n",
       "      <th>Order method type</th>\n",
       "      <th>Retailer type</th>\n",
       "      <th>Product line</th>\n",
       "      <th>Product type</th>\n",
       "      <th>Product</th>\n",
       "      <th>Year</th>\n",
       "      <th>Quarter</th>\n",
       "      <th>Revenue</th>\n",
       "      <th>Quantity</th>\n",
       "      <th>Gross margin</th>\n",
       "    </tr>\n",
       "  </thead>\n",
       "  <tbody>\n",
       "    <tr>\n",
       "      <th>0</th>\n",
       "      <td>United States</td>\n",
       "      <td>Fax</td>\n",
       "      <td>Outdoors Shop</td>\n",
       "      <td>Camping Equipment</td>\n",
       "      <td>Cooking Gear</td>\n",
       "      <td>TrailChef Deluxe Cook Set</td>\n",
       "      <td>2012</td>\n",
       "      <td>Q1 2012</td>\n",
       "      <td>59628.66</td>\n",
       "      <td>489</td>\n",
       "      <td>0.347548</td>\n",
       "    </tr>\n",
       "    <tr>\n",
       "      <th>1</th>\n",
       "      <td>United States</td>\n",
       "      <td>Fax</td>\n",
       "      <td>Outdoors Shop</td>\n",
       "      <td>Camping Equipment</td>\n",
       "      <td>Cooking Gear</td>\n",
       "      <td>TrailChef Double Flame</td>\n",
       "      <td>2012</td>\n",
       "      <td>Q1 2012</td>\n",
       "      <td>35950.32</td>\n",
       "      <td>252</td>\n",
       "      <td>0.474274</td>\n",
       "    </tr>\n",
       "    <tr>\n",
       "      <th>2</th>\n",
       "      <td>United States</td>\n",
       "      <td>Fax</td>\n",
       "      <td>Outdoors Shop</td>\n",
       "      <td>Camping Equipment</td>\n",
       "      <td>Tents</td>\n",
       "      <td>Star Dome</td>\n",
       "      <td>2012</td>\n",
       "      <td>Q1 2012</td>\n",
       "      <td>89940.48</td>\n",
       "      <td>147</td>\n",
       "      <td>0.352772</td>\n",
       "    </tr>\n",
       "    <tr>\n",
       "      <th>3</th>\n",
       "      <td>United States</td>\n",
       "      <td>Fax</td>\n",
       "      <td>Outdoors Shop</td>\n",
       "      <td>Camping Equipment</td>\n",
       "      <td>Tents</td>\n",
       "      <td>Star Gazer 2</td>\n",
       "      <td>2012</td>\n",
       "      <td>Q1 2012</td>\n",
       "      <td>165883.41</td>\n",
       "      <td>303</td>\n",
       "      <td>0.282938</td>\n",
       "    </tr>\n",
       "    <tr>\n",
       "      <th>4</th>\n",
       "      <td>United States</td>\n",
       "      <td>Fax</td>\n",
       "      <td>Outdoors Shop</td>\n",
       "      <td>Camping Equipment</td>\n",
       "      <td>Sleeping Bags</td>\n",
       "      <td>Hibernator Lite</td>\n",
       "      <td>2012</td>\n",
       "      <td>Q1 2012</td>\n",
       "      <td>119822.20</td>\n",
       "      <td>1415</td>\n",
       "      <td>0.291450</td>\n",
       "    </tr>\n",
       "  </tbody>\n",
       "</table>\n",
       "</div>"
      ],
      "text/plain": [
       "  Retailer country Order method type  Retailer type       Product line  \\\n",
       "0    United States               Fax  Outdoors Shop  Camping Equipment   \n",
       "1    United States               Fax  Outdoors Shop  Camping Equipment   \n",
       "2    United States               Fax  Outdoors Shop  Camping Equipment   \n",
       "3    United States               Fax  Outdoors Shop  Camping Equipment   \n",
       "4    United States               Fax  Outdoors Shop  Camping Equipment   \n",
       "\n",
       "    Product type                    Product  Year  Quarter    Revenue  \\\n",
       "0   Cooking Gear  TrailChef Deluxe Cook Set  2012  Q1 2012   59628.66   \n",
       "1   Cooking Gear     TrailChef Double Flame  2012  Q1 2012   35950.32   \n",
       "2          Tents                  Star Dome  2012  Q1 2012   89940.48   \n",
       "3          Tents               Star Gazer 2  2012  Q1 2012  165883.41   \n",
       "4  Sleeping Bags            Hibernator Lite  2012  Q1 2012  119822.20   \n",
       "\n",
       "   Quantity  Gross margin  \n",
       "0       489      0.347548  \n",
       "1       252      0.474274  \n",
       "2       147      0.352772  \n",
       "3       303      0.282938  \n",
       "4      1415      0.291450  "
      ]
     },
     "execution_count": 2,
     "metadata": {},
     "output_type": "execute_result"
    }
   ],
   "source": [
    "products = pd.read_csv('C:/Users/Mariusz Baran/Data_Science_kurs/Data_science_pliki/course-files/WA_Sales_Products_2012-14.csv')\n",
    "products.head()"
   ]
  },
  {
   "cell_type": "code",
   "execution_count": 3,
   "id": "13c9cc1e",
   "metadata": {},
   "outputs": [
    {
     "name": "stdout",
     "output_type": "stream",
     "text": [
      "<class 'pandas.core.frame.DataFrame'>\n",
      "RangeIndex: 88475 entries, 0 to 88474\n",
      "Data columns (total 11 columns):\n",
      " #   Column             Non-Null Count  Dtype  \n",
      "---  ------             --------------  -----  \n",
      " 0   Retailer country   88475 non-null  object \n",
      " 1   Order method type  88475 non-null  object \n",
      " 2   Retailer type      88475 non-null  object \n",
      " 3   Product line       88475 non-null  object \n",
      " 4   Product type       88475 non-null  object \n",
      " 5   Product            88475 non-null  object \n",
      " 6   Year               88475 non-null  int64  \n",
      " 7   Quarter            88475 non-null  object \n",
      " 8   Revenue            88475 non-null  float64\n",
      " 9   Quantity           88475 non-null  int64  \n",
      " 10  Gross margin       87894 non-null  float64\n",
      "dtypes: float64(2), int64(2), object(7)\n",
      "memory usage: 7.4+ MB\n"
     ]
    }
   ],
   "source": [
    "products.info()"
   ]
  },
  {
   "cell_type": "markdown",
   "id": "aae0ea2b",
   "metadata": {},
   "source": [
    "Wyświetlenie wartości numerycznych kolumn"
   ]
  },
  {
   "cell_type": "code",
   "execution_count": 4,
   "id": "a129048c",
   "metadata": {},
   "outputs": [
    {
     "data": {
      "text/html": [
       "<div>\n",
       "<style scoped>\n",
       "    .dataframe tbody tr th:only-of-type {\n",
       "        vertical-align: middle;\n",
       "    }\n",
       "\n",
       "    .dataframe tbody tr th {\n",
       "        vertical-align: top;\n",
       "    }\n",
       "\n",
       "    .dataframe thead th {\n",
       "        text-align: right;\n",
       "    }\n",
       "</style>\n",
       "<table border=\"1\" class=\"dataframe\">\n",
       "  <thead>\n",
       "    <tr style=\"text-align: right;\">\n",
       "      <th></th>\n",
       "      <th>Year</th>\n",
       "      <th>Revenue</th>\n",
       "      <th>Quantity</th>\n",
       "      <th>Gross margin</th>\n",
       "    </tr>\n",
       "  </thead>\n",
       "  <tbody>\n",
       "    <tr>\n",
       "      <th>count</th>\n",
       "      <td>88475.000000</td>\n",
       "      <td>8.847500e+04</td>\n",
       "      <td>88475.000000</td>\n",
       "      <td>87894.000000</td>\n",
       "    </tr>\n",
       "    <tr>\n",
       "      <th>mean</th>\n",
       "      <td>2012.855281</td>\n",
       "      <td>4.263829e+04</td>\n",
       "      <td>780.586166</td>\n",
       "      <td>0.449718</td>\n",
       "    </tr>\n",
       "    <tr>\n",
       "      <th>std</th>\n",
       "      <td>0.778342</td>\n",
       "      <td>6.578402e+04</td>\n",
       "      <td>1541.645422</td>\n",
       "      <td>0.123642</td>\n",
       "    </tr>\n",
       "    <tr>\n",
       "      <th>min</th>\n",
       "      <td>2012.000000</td>\n",
       "      <td>0.000000e+00</td>\n",
       "      <td>1.000000</td>\n",
       "      <td>-12.853678</td>\n",
       "    </tr>\n",
       "    <tr>\n",
       "      <th>25%</th>\n",
       "      <td>2012.000000</td>\n",
       "      <td>8.184360e+03</td>\n",
       "      <td>131.000000</td>\n",
       "      <td>0.369880</td>\n",
       "    </tr>\n",
       "    <tr>\n",
       "      <th>50%</th>\n",
       "      <td>2013.000000</td>\n",
       "      <td>2.102628e+04</td>\n",
       "      <td>333.000000</td>\n",
       "      <td>0.450634</td>\n",
       "    </tr>\n",
       "    <tr>\n",
       "      <th>75%</th>\n",
       "      <td>2013.000000</td>\n",
       "      <td>5.039060e+04</td>\n",
       "      <td>816.000000</td>\n",
       "      <td>0.520130</td>\n",
       "    </tr>\n",
       "    <tr>\n",
       "      <th>max</th>\n",
       "      <td>2014.000000</td>\n",
       "      <td>1.635688e+06</td>\n",
       "      <td>67875.000000</td>\n",
       "      <td>0.770476</td>\n",
       "    </tr>\n",
       "  </tbody>\n",
       "</table>\n",
       "</div>"
      ],
      "text/plain": [
       "               Year       Revenue      Quantity  Gross margin\n",
       "count  88475.000000  8.847500e+04  88475.000000  87894.000000\n",
       "mean    2012.855281  4.263829e+04    780.586166      0.449718\n",
       "std        0.778342  6.578402e+04   1541.645422      0.123642\n",
       "min     2012.000000  0.000000e+00      1.000000    -12.853678\n",
       "25%     2012.000000  8.184360e+03    131.000000      0.369880\n",
       "50%     2013.000000  2.102628e+04    333.000000      0.450634\n",
       "75%     2013.000000  5.039060e+04    816.000000      0.520130\n",
       "max     2014.000000  1.635688e+06  67875.000000      0.770476"
      ]
     },
     "execution_count": 4,
     "metadata": {},
     "output_type": "execute_result"
    }
   ],
   "source": [
    "products.describe()"
   ]
  },
  {
   "cell_type": "markdown",
   "id": "40bee70d",
   "metadata": {},
   "source": [
    "Sprawdzenie unikalności w kolumnie Retailer country"
   ]
  },
  {
   "cell_type": "code",
   "execution_count": 5,
   "id": "0e858230",
   "metadata": {},
   "outputs": [
    {
     "data": {
      "text/plain": [
       "United States     7482\n",
       "Canada            5923\n",
       "France            5779\n",
       "Germany           5397\n",
       "Japan             5359\n",
       "United Kingdom    5102\n",
       "Netherlands       4199\n",
       "Switzerland       4103\n",
       "Italy             4018\n",
       "Austria           3862\n",
       "Mexico            3845\n",
       "Belgium           3710\n",
       "Australia         3665\n",
       "China             3652\n",
       "Spain             3557\n",
       "Singapore         3443\n",
       "Finland           3409\n",
       "Korea             3399\n",
       "Brazil            3288\n",
       "Sweden            2925\n",
       "Denmark           2358\n",
       "Name: Retailer country, dtype: int64"
      ]
     },
     "execution_count": 5,
     "metadata": {},
     "output_type": "execute_result"
    }
   ],
   "source": [
    "products['Retailer country'].value_counts()"
   ]
  },
  {
   "cell_type": "code",
   "execution_count": 6,
   "id": "342d9c87",
   "metadata": {},
   "outputs": [
    {
     "data": {
      "text/plain": [
       "21"
      ]
     },
     "execution_count": 6,
     "metadata": {},
     "output_type": "execute_result"
    }
   ],
   "source": [
    "products['Retailer country'].nunique()"
   ]
  },
  {
   "cell_type": "markdown",
   "id": "9e0b8761",
   "metadata": {},
   "source": [
    "Przypisanie do zmiennej unikalnych danych"
   ]
  },
  {
   "cell_type": "code",
   "execution_count": 7,
   "id": "55c55401",
   "metadata": {},
   "outputs": [
    {
     "data": {
      "text/plain": [
       "array(['United States', 'Canada', 'Mexico', 'Brazil', 'Japan',\n",
       "       'Singapore', 'Korea', 'China', 'Australia', 'Netherlands',\n",
       "       'Sweden', 'Denmark', 'Finland', 'France', 'Germany', 'Switzerland',\n",
       "       'United Kingdom', 'Belgium', 'Austria', 'Italy', 'Spain'],\n",
       "      dtype=object)"
      ]
     },
     "execution_count": 7,
     "metadata": {},
     "output_type": "execute_result"
    }
   ],
   "source": [
    "products['Retailer country'].unique()"
   ]
  },
  {
   "cell_type": "code",
   "execution_count": 13,
   "id": "d15b10ed",
   "metadata": {},
   "outputs": [],
   "source": [
    "countries = products['Retailer country'].unique()"
   ]
  },
  {
   "cell_type": "markdown",
   "id": "07045802",
   "metadata": {},
   "source": [
    "Przypisanie krajów do słownika za pomocą pętli, można to zrobić za pomocą metod"
   ]
  },
  {
   "cell_type": "code",
   "execution_count": 14,
   "id": "5e47dc49",
   "metadata": {},
   "outputs": [],
   "source": [
    "my_groups = {}\n",
    "for country in countries:\n",
    "    my_dtat_frame = products.where(products['Retailer country'] == country).dropna()\n",
    "    my_groups[country] = my_dtat_frame"
   ]
  },
  {
   "cell_type": "code",
   "execution_count": 16,
   "id": "af905735",
   "metadata": {},
   "outputs": [
    {
     "data": {
      "text/html": [
       "<div>\n",
       "<style scoped>\n",
       "    .dataframe tbody tr th:only-of-type {\n",
       "        vertical-align: middle;\n",
       "    }\n",
       "\n",
       "    .dataframe tbody tr th {\n",
       "        vertical-align: top;\n",
       "    }\n",
       "\n",
       "    .dataframe thead th {\n",
       "        text-align: right;\n",
       "    }\n",
       "</style>\n",
       "<table border=\"1\" class=\"dataframe\">\n",
       "  <thead>\n",
       "    <tr style=\"text-align: right;\">\n",
       "      <th></th>\n",
       "      <th>Retailer country</th>\n",
       "      <th>Order method type</th>\n",
       "      <th>Retailer type</th>\n",
       "      <th>Product line</th>\n",
       "      <th>Product type</th>\n",
       "      <th>Product</th>\n",
       "      <th>Year</th>\n",
       "      <th>Quarter</th>\n",
       "      <th>Revenue</th>\n",
       "      <th>Quantity</th>\n",
       "      <th>Gross margin</th>\n",
       "    </tr>\n",
       "  </thead>\n",
       "  <tbody>\n",
       "    <tr>\n",
       "      <th>1468</th>\n",
       "      <td>Mexico</td>\n",
       "      <td>Web</td>\n",
       "      <td>Golf Shop</td>\n",
       "      <td>Personal Accessories</td>\n",
       "      <td>Watches</td>\n",
       "      <td>Infinity</td>\n",
       "      <td>2012.0</td>\n",
       "      <td>Q1 2012</td>\n",
       "      <td>4620.0</td>\n",
       "      <td>21.0</td>\n",
       "      <td>0.474727</td>\n",
       "    </tr>\n",
       "    <tr>\n",
       "      <th>1469</th>\n",
       "      <td>Mexico</td>\n",
       "      <td>Web</td>\n",
       "      <td>Golf Shop</td>\n",
       "      <td>Personal Accessories</td>\n",
       "      <td>Watches</td>\n",
       "      <td>Lux</td>\n",
       "      <td>2012.0</td>\n",
       "      <td>Q1 2012</td>\n",
       "      <td>5684.8</td>\n",
       "      <td>34.0</td>\n",
       "      <td>0.478828</td>\n",
       "    </tr>\n",
       "    <tr>\n",
       "      <th>1470</th>\n",
       "      <td>Mexico</td>\n",
       "      <td>Web</td>\n",
       "      <td>Golf Shop</td>\n",
       "      <td>Personal Accessories</td>\n",
       "      <td>Watches</td>\n",
       "      <td>TX</td>\n",
       "      <td>2012.0</td>\n",
       "      <td>Q1 2012</td>\n",
       "      <td>4888.0</td>\n",
       "      <td>26.0</td>\n",
       "      <td>0.451702</td>\n",
       "    </tr>\n",
       "    <tr>\n",
       "      <th>1471</th>\n",
       "      <td>Mexico</td>\n",
       "      <td>Web</td>\n",
       "      <td>Golf Shop</td>\n",
       "      <td>Personal Accessories</td>\n",
       "      <td>Watches</td>\n",
       "      <td>Legend</td>\n",
       "      <td>2012.0</td>\n",
       "      <td>Q1 2012</td>\n",
       "      <td>4593.4</td>\n",
       "      <td>17.0</td>\n",
       "      <td>0.444782</td>\n",
       "    </tr>\n",
       "    <tr>\n",
       "      <th>1472</th>\n",
       "      <td>Mexico</td>\n",
       "      <td>Web</td>\n",
       "      <td>Golf Shop</td>\n",
       "      <td>Personal Accessories</td>\n",
       "      <td>Eyewear</td>\n",
       "      <td>Capri</td>\n",
       "      <td>2012.0</td>\n",
       "      <td>Q1 2012</td>\n",
       "      <td>4825.8</td>\n",
       "      <td>126.0</td>\n",
       "      <td>0.340209</td>\n",
       "    </tr>\n",
       "  </tbody>\n",
       "</table>\n",
       "</div>"
      ],
      "text/plain": [
       "     Retailer country Order method type Retailer type          Product line  \\\n",
       "1468           Mexico               Web     Golf Shop  Personal Accessories   \n",
       "1469           Mexico               Web     Golf Shop  Personal Accessories   \n",
       "1470           Mexico               Web     Golf Shop  Personal Accessories   \n",
       "1471           Mexico               Web     Golf Shop  Personal Accessories   \n",
       "1472           Mexico               Web     Golf Shop  Personal Accessories   \n",
       "\n",
       "     Product type   Product    Year  Quarter  Revenue  Quantity  Gross margin  \n",
       "1468      Watches  Infinity  2012.0  Q1 2012   4620.0      21.0      0.474727  \n",
       "1469      Watches       Lux  2012.0  Q1 2012   5684.8      34.0      0.478828  \n",
       "1470      Watches        TX  2012.0  Q1 2012   4888.0      26.0      0.451702  \n",
       "1471      Watches    Legend  2012.0  Q1 2012   4593.4      17.0      0.444782  \n",
       "1472      Eyewear     Capri  2012.0  Q1 2012   4825.8     126.0      0.340209  "
      ]
     },
     "execution_count": 16,
     "metadata": {},
     "output_type": "execute_result"
    }
   ],
   "source": [
    "my_groups['Mexico'].head()"
   ]
  },
  {
   "cell_type": "code",
   "execution_count": null,
   "id": "794fa173",
   "metadata": {},
   "outputs": [],
   "source": []
  }
 ],
 "metadata": {
  "kernelspec": {
   "display_name": "Python 3",
   "language": "python",
   "name": "python3"
  },
  "language_info": {
   "codemirror_mode": {
    "name": "ipython",
    "version": 3
   },
   "file_extension": ".py",
   "mimetype": "text/x-python",
   "name": "python",
   "nbconvert_exporter": "python",
   "pygments_lexer": "ipython3",
   "version": "3.8.8"
  }
 },
 "nbformat": 4,
 "nbformat_minor": 5
}
