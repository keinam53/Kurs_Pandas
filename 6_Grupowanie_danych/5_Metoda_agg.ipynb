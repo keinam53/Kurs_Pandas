{
 "cells": [
  {
   "cell_type": "markdown",
   "id": "269bf1c5",
   "metadata": {},
   "source": [
    "**Operacje agregujące na grupach danych za pomocą metody agg()**"
   ]
  },
  {
   "cell_type": "code",
   "execution_count": 1,
   "id": "f2748943",
   "metadata": {},
   "outputs": [],
   "source": [
    "import pandas as pd\n",
    "import numpy as np"
   ]
  },
  {
   "cell_type": "code",
   "execution_count": 2,
   "id": "4975eedd",
   "metadata": {},
   "outputs": [
    {
     "data": {
      "text/html": [
       "<div>\n",
       "<style scoped>\n",
       "    .dataframe tbody tr th:only-of-type {\n",
       "        vertical-align: middle;\n",
       "    }\n",
       "\n",
       "    .dataframe tbody tr th {\n",
       "        vertical-align: top;\n",
       "    }\n",
       "\n",
       "    .dataframe thead th {\n",
       "        text-align: right;\n",
       "    }\n",
       "</style>\n",
       "<table border=\"1\" class=\"dataframe\">\n",
       "  <thead>\n",
       "    <tr style=\"text-align: right;\">\n",
       "      <th></th>\n",
       "      <th>Retailer country</th>\n",
       "      <th>Order method type</th>\n",
       "      <th>Retailer type</th>\n",
       "      <th>Product line</th>\n",
       "      <th>Product type</th>\n",
       "      <th>Product</th>\n",
       "      <th>Year</th>\n",
       "      <th>Quarter</th>\n",
       "      <th>Revenue</th>\n",
       "      <th>Quantity</th>\n",
       "      <th>Gross margin</th>\n",
       "    </tr>\n",
       "  </thead>\n",
       "  <tbody>\n",
       "    <tr>\n",
       "      <th>0</th>\n",
       "      <td>United States</td>\n",
       "      <td>Fax</td>\n",
       "      <td>Outdoors Shop</td>\n",
       "      <td>Camping Equipment</td>\n",
       "      <td>Cooking Gear</td>\n",
       "      <td>TrailChef Deluxe Cook Set</td>\n",
       "      <td>2012</td>\n",
       "      <td>Q1 2012</td>\n",
       "      <td>59628.66</td>\n",
       "      <td>489</td>\n",
       "      <td>0.347548</td>\n",
       "    </tr>\n",
       "    <tr>\n",
       "      <th>1</th>\n",
       "      <td>United States</td>\n",
       "      <td>Fax</td>\n",
       "      <td>Outdoors Shop</td>\n",
       "      <td>Camping Equipment</td>\n",
       "      <td>Cooking Gear</td>\n",
       "      <td>TrailChef Double Flame</td>\n",
       "      <td>2012</td>\n",
       "      <td>Q1 2012</td>\n",
       "      <td>35950.32</td>\n",
       "      <td>252</td>\n",
       "      <td>0.474274</td>\n",
       "    </tr>\n",
       "    <tr>\n",
       "      <th>2</th>\n",
       "      <td>United States</td>\n",
       "      <td>Fax</td>\n",
       "      <td>Outdoors Shop</td>\n",
       "      <td>Camping Equipment</td>\n",
       "      <td>Tents</td>\n",
       "      <td>Star Dome</td>\n",
       "      <td>2012</td>\n",
       "      <td>Q1 2012</td>\n",
       "      <td>89940.48</td>\n",
       "      <td>147</td>\n",
       "      <td>0.352772</td>\n",
       "    </tr>\n",
       "    <tr>\n",
       "      <th>3</th>\n",
       "      <td>United States</td>\n",
       "      <td>Fax</td>\n",
       "      <td>Outdoors Shop</td>\n",
       "      <td>Camping Equipment</td>\n",
       "      <td>Tents</td>\n",
       "      <td>Star Gazer 2</td>\n",
       "      <td>2012</td>\n",
       "      <td>Q1 2012</td>\n",
       "      <td>165883.41</td>\n",
       "      <td>303</td>\n",
       "      <td>0.282938</td>\n",
       "    </tr>\n",
       "    <tr>\n",
       "      <th>4</th>\n",
       "      <td>United States</td>\n",
       "      <td>Fax</td>\n",
       "      <td>Outdoors Shop</td>\n",
       "      <td>Camping Equipment</td>\n",
       "      <td>Sleeping Bags</td>\n",
       "      <td>Hibernator Lite</td>\n",
       "      <td>2012</td>\n",
       "      <td>Q1 2012</td>\n",
       "      <td>119822.20</td>\n",
       "      <td>1415</td>\n",
       "      <td>0.291450</td>\n",
       "    </tr>\n",
       "  </tbody>\n",
       "</table>\n",
       "</div>"
      ],
      "text/plain": [
       "  Retailer country Order method type  Retailer type       Product line  \\\n",
       "0    United States               Fax  Outdoors Shop  Camping Equipment   \n",
       "1    United States               Fax  Outdoors Shop  Camping Equipment   \n",
       "2    United States               Fax  Outdoors Shop  Camping Equipment   \n",
       "3    United States               Fax  Outdoors Shop  Camping Equipment   \n",
       "4    United States               Fax  Outdoors Shop  Camping Equipment   \n",
       "\n",
       "    Product type                    Product  Year  Quarter    Revenue  \\\n",
       "0   Cooking Gear  TrailChef Deluxe Cook Set  2012  Q1 2012   59628.66   \n",
       "1   Cooking Gear     TrailChef Double Flame  2012  Q1 2012   35950.32   \n",
       "2          Tents                  Star Dome  2012  Q1 2012   89940.48   \n",
       "3          Tents               Star Gazer 2  2012  Q1 2012  165883.41   \n",
       "4  Sleeping Bags            Hibernator Lite  2012  Q1 2012  119822.20   \n",
       "\n",
       "   Quantity  Gross margin  \n",
       "0       489      0.347548  \n",
       "1       252      0.474274  \n",
       "2       147      0.352772  \n",
       "3       303      0.282938  \n",
       "4      1415      0.291450  "
      ]
     },
     "execution_count": 2,
     "metadata": {},
     "output_type": "execute_result"
    }
   ],
   "source": [
    "products = pd.read_csv('C:/Users/Mariusz Baran/Data_Science_kurs/Data_science_pliki/course-files/WA_Sales_Products_2012-14.csv')\n",
    "products.head()"
   ]
  },
  {
   "cell_type": "code",
   "execution_count": 3,
   "id": "564edd30",
   "metadata": {},
   "outputs": [],
   "source": [
    "groups = products.groupby(by=['Retailer country', 'Year'])"
   ]
  },
  {
   "cell_type": "markdown",
   "id": "83a1f7f0",
   "metadata": {},
   "source": [
    "Standardowy sposób"
   ]
  },
  {
   "cell_type": "code",
   "execution_count": 5,
   "id": "1781f3ec",
   "metadata": {},
   "outputs": [
    {
     "data": {
      "text/plain": [
       "Retailer country  Year\n",
       "Australia         2012    25607043.50\n",
       "                  2013    47799737.14\n",
       "                  2014    35893188.50\n",
       "Austria           2012    34568089.63\n",
       "                  2013    44996737.04\n",
       "Name: Revenue, dtype: float64"
      ]
     },
     "execution_count": 5,
     "metadata": {},
     "output_type": "execute_result"
    }
   ],
   "source": [
    "groups['Revenue'].sum().head()"
   ]
  },
  {
   "cell_type": "code",
   "execution_count": 6,
   "id": "76f063de",
   "metadata": {},
   "outputs": [
    {
     "data": {
      "text/plain": [
       "Retailer country  Year\n",
       "Australia         2012    522186\n",
       "                  2013    839750\n",
       "                  2014    638845\n",
       "Austria           2012    702134\n",
       "                  2013    803771\n",
       "Name: Quantity, dtype: int64"
      ]
     },
     "execution_count": 6,
     "metadata": {},
     "output_type": "execute_result"
    }
   ],
   "source": [
    "groups['Quantity'].sum().head()"
   ]
  },
  {
   "cell_type": "code",
   "execution_count": 7,
   "id": "efa58a71",
   "metadata": {},
   "outputs": [
    {
     "data": {
      "text/plain": [
       "Retailer country  Year\n",
       "Australia         2012    0.447985\n",
       "                  2013    0.457347\n",
       "                  2014    0.446609\n",
       "Austria           2012    0.446084\n",
       "                  2013    0.456790\n",
       "Name: Gross margin, dtype: float64"
      ]
     },
     "execution_count": 7,
     "metadata": {},
     "output_type": "execute_result"
    }
   ],
   "source": [
    "groups['Gross margin'].mean().head()"
   ]
  },
  {
   "cell_type": "markdown",
   "id": "c96e030e",
   "metadata": {},
   "source": [
    "Uproszczenie 1"
   ]
  },
  {
   "cell_type": "code",
   "execution_count": 8,
   "id": "7a2bd8d5",
   "metadata": {},
   "outputs": [
    {
     "data": {
      "text/plain": [
       "Retailer country  Year\n",
       "Australia         2012    25607043.50\n",
       "                  2013    47799737.14\n",
       "                  2014    35893188.50\n",
       "Austria           2012    34568089.63\n",
       "                  2013    44996737.04\n",
       "Name: Revenue, dtype: float64"
      ]
     },
     "execution_count": 8,
     "metadata": {},
     "output_type": "execute_result"
    }
   ],
   "source": [
    "groups.Revenue.sum().head()"
   ]
  },
  {
   "cell_type": "code",
   "execution_count": 9,
   "id": "a95c0a40",
   "metadata": {},
   "outputs": [
    {
     "data": {
      "text/plain": [
       "Retailer country  Year\n",
       "Australia         2012    522186\n",
       "                  2013    839750\n",
       "                  2014    638845\n",
       "Austria           2012    702134\n",
       "                  2013    803771\n",
       "Name: Quantity, dtype: int64"
      ]
     },
     "execution_count": 9,
     "metadata": {},
     "output_type": "execute_result"
    }
   ],
   "source": [
    "groups.Quantity.sum().head()"
   ]
  },
  {
   "cell_type": "markdown",
   "id": "99d819cc",
   "metadata": {},
   "source": [
    "Nie można tego wykonać na kolumnie Gross margin z powodu spacji"
   ]
  },
  {
   "cell_type": "markdown",
   "id": "0f946a28",
   "metadata": {},
   "source": [
    "Można to zrobić metodą agg()"
   ]
  },
  {
   "cell_type": "code",
   "execution_count": 10,
   "id": "cbf938e6",
   "metadata": {},
   "outputs": [
    {
     "data": {
      "text/html": [
       "<div>\n",
       "<style scoped>\n",
       "    .dataframe tbody tr th:only-of-type {\n",
       "        vertical-align: middle;\n",
       "    }\n",
       "\n",
       "    .dataframe tbody tr th {\n",
       "        vertical-align: top;\n",
       "    }\n",
       "\n",
       "    .dataframe thead th {\n",
       "        text-align: right;\n",
       "    }\n",
       "</style>\n",
       "<table border=\"1\" class=\"dataframe\">\n",
       "  <thead>\n",
       "    <tr style=\"text-align: right;\">\n",
       "      <th></th>\n",
       "      <th></th>\n",
       "      <th>Revenue</th>\n",
       "    </tr>\n",
       "    <tr>\n",
       "      <th>Retailer country</th>\n",
       "      <th>Year</th>\n",
       "      <th></th>\n",
       "    </tr>\n",
       "  </thead>\n",
       "  <tbody>\n",
       "    <tr>\n",
       "      <th rowspan=\"3\" valign=\"top\">Australia</th>\n",
       "      <th>2012</th>\n",
       "      <td>25607043.50</td>\n",
       "    </tr>\n",
       "    <tr>\n",
       "      <th>2013</th>\n",
       "      <td>47799737.14</td>\n",
       "    </tr>\n",
       "    <tr>\n",
       "      <th>2014</th>\n",
       "      <td>35893188.50</td>\n",
       "    </tr>\n",
       "    <tr>\n",
       "      <th rowspan=\"2\" valign=\"top\">Austria</th>\n",
       "      <th>2012</th>\n",
       "      <td>34568089.63</td>\n",
       "    </tr>\n",
       "    <tr>\n",
       "      <th>2013</th>\n",
       "      <td>44996737.04</td>\n",
       "    </tr>\n",
       "  </tbody>\n",
       "</table>\n",
       "</div>"
      ],
      "text/plain": [
       "                           Revenue\n",
       "Retailer country Year             \n",
       "Australia        2012  25607043.50\n",
       "                 2013  47799737.14\n",
       "                 2014  35893188.50\n",
       "Austria          2012  34568089.63\n",
       "                 2013  44996737.04"
      ]
     },
     "execution_count": 10,
     "metadata": {},
     "output_type": "execute_result"
    }
   ],
   "source": [
    "groups.agg({'Revenue': 'sum'}).head()"
   ]
  },
  {
   "cell_type": "code",
   "execution_count": 11,
   "id": "65305787",
   "metadata": {},
   "outputs": [
    {
     "data": {
      "text/html": [
       "<div>\n",
       "<style scoped>\n",
       "    .dataframe tbody tr th:only-of-type {\n",
       "        vertical-align: middle;\n",
       "    }\n",
       "\n",
       "    .dataframe tbody tr th {\n",
       "        vertical-align: top;\n",
       "    }\n",
       "\n",
       "    .dataframe thead th {\n",
       "        text-align: right;\n",
       "    }\n",
       "</style>\n",
       "<table border=\"1\" class=\"dataframe\">\n",
       "  <thead>\n",
       "    <tr style=\"text-align: right;\">\n",
       "      <th></th>\n",
       "      <th></th>\n",
       "      <th>Gross margin</th>\n",
       "    </tr>\n",
       "    <tr>\n",
       "      <th>Retailer country</th>\n",
       "      <th>Year</th>\n",
       "      <th></th>\n",
       "    </tr>\n",
       "  </thead>\n",
       "  <tbody>\n",
       "    <tr>\n",
       "      <th rowspan=\"3\" valign=\"top\">Australia</th>\n",
       "      <th>2012</th>\n",
       "      <td>0.447985</td>\n",
       "    </tr>\n",
       "    <tr>\n",
       "      <th>2013</th>\n",
       "      <td>0.457347</td>\n",
       "    </tr>\n",
       "    <tr>\n",
       "      <th>2014</th>\n",
       "      <td>0.446609</td>\n",
       "    </tr>\n",
       "    <tr>\n",
       "      <th rowspan=\"2\" valign=\"top\">Austria</th>\n",
       "      <th>2012</th>\n",
       "      <td>0.446084</td>\n",
       "    </tr>\n",
       "    <tr>\n",
       "      <th>2013</th>\n",
       "      <td>0.456790</td>\n",
       "    </tr>\n",
       "  </tbody>\n",
       "</table>\n",
       "</div>"
      ],
      "text/plain": [
       "                       Gross margin\n",
       "Retailer country Year              \n",
       "Australia        2012      0.447985\n",
       "                 2013      0.457347\n",
       "                 2014      0.446609\n",
       "Austria          2012      0.446084\n",
       "                 2013      0.456790"
      ]
     },
     "execution_count": 11,
     "metadata": {},
     "output_type": "execute_result"
    }
   ],
   "source": [
    "groups.agg({'Gross margin': 'mean'}).head()"
   ]
  },
  {
   "cell_type": "markdown",
   "id": "3e05cf56",
   "metadata": {},
   "source": [
    "W metodzie agg można wykonywać obliczenia dla słownika składającego się z wielu par klucz-wartość"
   ]
  },
  {
   "cell_type": "code",
   "execution_count": 12,
   "id": "beec127a",
   "metadata": {},
   "outputs": [
    {
     "data": {
      "text/html": [
       "<div>\n",
       "<style scoped>\n",
       "    .dataframe tbody tr th:only-of-type {\n",
       "        vertical-align: middle;\n",
       "    }\n",
       "\n",
       "    .dataframe tbody tr th {\n",
       "        vertical-align: top;\n",
       "    }\n",
       "\n",
       "    .dataframe thead th {\n",
       "        text-align: right;\n",
       "    }\n",
       "</style>\n",
       "<table border=\"1\" class=\"dataframe\">\n",
       "  <thead>\n",
       "    <tr style=\"text-align: right;\">\n",
       "      <th></th>\n",
       "      <th></th>\n",
       "      <th>Revenue</th>\n",
       "      <th>Quantity</th>\n",
       "      <th>Gross margin</th>\n",
       "    </tr>\n",
       "    <tr>\n",
       "      <th>Retailer country</th>\n",
       "      <th>Year</th>\n",
       "      <th></th>\n",
       "      <th></th>\n",
       "      <th></th>\n",
       "    </tr>\n",
       "  </thead>\n",
       "  <tbody>\n",
       "    <tr>\n",
       "      <th rowspan=\"3\" valign=\"top\">Australia</th>\n",
       "      <th>2012</th>\n",
       "      <td>25607043.50</td>\n",
       "      <td>522186</td>\n",
       "      <td>0.447985</td>\n",
       "    </tr>\n",
       "    <tr>\n",
       "      <th>2013</th>\n",
       "      <td>47799737.14</td>\n",
       "      <td>839750</td>\n",
       "      <td>0.457347</td>\n",
       "    </tr>\n",
       "    <tr>\n",
       "      <th>2014</th>\n",
       "      <td>35893188.50</td>\n",
       "      <td>638845</td>\n",
       "      <td>0.446609</td>\n",
       "    </tr>\n",
       "    <tr>\n",
       "      <th rowspan=\"2\" valign=\"top\">Austria</th>\n",
       "      <th>2012</th>\n",
       "      <td>34568089.63</td>\n",
       "      <td>702134</td>\n",
       "      <td>0.446084</td>\n",
       "    </tr>\n",
       "    <tr>\n",
       "      <th>2013</th>\n",
       "      <td>44996737.04</td>\n",
       "      <td>803771</td>\n",
       "      <td>0.456790</td>\n",
       "    </tr>\n",
       "  </tbody>\n",
       "</table>\n",
       "</div>"
      ],
      "text/plain": [
       "                           Revenue  Quantity  Gross margin\n",
       "Retailer country Year                                     \n",
       "Australia        2012  25607043.50    522186      0.447985\n",
       "                 2013  47799737.14    839750      0.457347\n",
       "                 2014  35893188.50    638845      0.446609\n",
       "Austria          2012  34568089.63    702134      0.446084\n",
       "                 2013  44996737.04    803771      0.456790"
      ]
     },
     "execution_count": 12,
     "metadata": {},
     "output_type": "execute_result"
    }
   ],
   "source": [
    "groups.agg({'Revenue': 'sum',\n",
    "           'Quantity': 'sum',\n",
    "           'Gross margin': 'mean'}).head()"
   ]
  },
  {
   "cell_type": "markdown",
   "id": "384962e9",
   "metadata": {},
   "source": [
    "Można też podać więcej niż jedną funkcję"
   ]
  },
  {
   "cell_type": "code",
   "execution_count": 13,
   "id": "a30cba66",
   "metadata": {},
   "outputs": [
    {
     "data": {
      "text/html": [
       "<div>\n",
       "<style scoped>\n",
       "    .dataframe tbody tr th:only-of-type {\n",
       "        vertical-align: middle;\n",
       "    }\n",
       "\n",
       "    .dataframe tbody tr th {\n",
       "        vertical-align: top;\n",
       "    }\n",
       "\n",
       "    .dataframe thead tr th {\n",
       "        text-align: left;\n",
       "    }\n",
       "\n",
       "    .dataframe thead tr:last-of-type th {\n",
       "        text-align: right;\n",
       "    }\n",
       "</style>\n",
       "<table border=\"1\" class=\"dataframe\">\n",
       "  <thead>\n",
       "    <tr>\n",
       "      <th></th>\n",
       "      <th></th>\n",
       "      <th colspan=\"3\" halign=\"left\">Revenue</th>\n",
       "      <th colspan=\"3\" halign=\"left\">Quantity</th>\n",
       "      <th>Gross margin</th>\n",
       "    </tr>\n",
       "    <tr>\n",
       "      <th></th>\n",
       "      <th></th>\n",
       "      <th>sum</th>\n",
       "      <th>min</th>\n",
       "      <th>max</th>\n",
       "      <th>sum</th>\n",
       "      <th>min</th>\n",
       "      <th>max</th>\n",
       "      <th>mean</th>\n",
       "    </tr>\n",
       "    <tr>\n",
       "      <th>Retailer country</th>\n",
       "      <th>Year</th>\n",
       "      <th></th>\n",
       "      <th></th>\n",
       "      <th></th>\n",
       "      <th></th>\n",
       "      <th></th>\n",
       "      <th></th>\n",
       "      <th></th>\n",
       "    </tr>\n",
       "  </thead>\n",
       "  <tbody>\n",
       "    <tr>\n",
       "      <th rowspan=\"3\" valign=\"top\">Australia</th>\n",
       "      <th>2012</th>\n",
       "      <td>25607043.50</td>\n",
       "      <td>0.0</td>\n",
       "      <td>254026.08</td>\n",
       "      <td>522186</td>\n",
       "      <td>4</td>\n",
       "      <td>6083</td>\n",
       "      <td>0.447985</td>\n",
       "    </tr>\n",
       "    <tr>\n",
       "      <th>2013</th>\n",
       "      <td>47799737.14</td>\n",
       "      <td>0.0</td>\n",
       "      <td>443746.60</td>\n",
       "      <td>839750</td>\n",
       "      <td>10</td>\n",
       "      <td>9442</td>\n",
       "      <td>0.457347</td>\n",
       "    </tr>\n",
       "    <tr>\n",
       "      <th>2014</th>\n",
       "      <td>35893188.50</td>\n",
       "      <td>0.0</td>\n",
       "      <td>516135.14</td>\n",
       "      <td>638845</td>\n",
       "      <td>1</td>\n",
       "      <td>20031</td>\n",
       "      <td>0.446609</td>\n",
       "    </tr>\n",
       "    <tr>\n",
       "      <th rowspan=\"2\" valign=\"top\">Austria</th>\n",
       "      <th>2012</th>\n",
       "      <td>34568089.63</td>\n",
       "      <td>0.0</td>\n",
       "      <td>199715.40</td>\n",
       "      <td>702134</td>\n",
       "      <td>5</td>\n",
       "      <td>6471</td>\n",
       "      <td>0.446084</td>\n",
       "    </tr>\n",
       "    <tr>\n",
       "      <th>2013</th>\n",
       "      <td>44996737.04</td>\n",
       "      <td>0.0</td>\n",
       "      <td>317161.24</td>\n",
       "      <td>803771</td>\n",
       "      <td>4</td>\n",
       "      <td>9662</td>\n",
       "      <td>0.456790</td>\n",
       "    </tr>\n",
       "  </tbody>\n",
       "</table>\n",
       "</div>"
      ],
      "text/plain": [
       "                           Revenue                 Quantity             \\\n",
       "                               sum  min        max      sum min    max   \n",
       "Retailer country Year                                                    \n",
       "Australia        2012  25607043.50  0.0  254026.08   522186   4   6083   \n",
       "                 2013  47799737.14  0.0  443746.60   839750  10   9442   \n",
       "                 2014  35893188.50  0.0  516135.14   638845   1  20031   \n",
       "Austria          2012  34568089.63  0.0  199715.40   702134   5   6471   \n",
       "                 2013  44996737.04  0.0  317161.24   803771   4   9662   \n",
       "\n",
       "                      Gross margin  \n",
       "                              mean  \n",
       "Retailer country Year               \n",
       "Australia        2012     0.447985  \n",
       "                 2013     0.457347  \n",
       "                 2014     0.446609  \n",
       "Austria          2012     0.446084  \n",
       "                 2013     0.456790  "
      ]
     },
     "execution_count": 13,
     "metadata": {},
     "output_type": "execute_result"
    }
   ],
   "source": [
    "groups.agg({'Revenue': ['sum', 'min', 'max'],\n",
    "           'Quantity': ['sum', 'min', 'max'],\n",
    "           'Gross margin': 'mean'}).head()"
   ]
  },
  {
   "cell_type": "code",
   "execution_count": 14,
   "id": "7e288c8b",
   "metadata": {},
   "outputs": [
    {
     "data": {
      "text/html": [
       "<div>\n",
       "<style scoped>\n",
       "    .dataframe tbody tr th:only-of-type {\n",
       "        vertical-align: middle;\n",
       "    }\n",
       "\n",
       "    .dataframe tbody tr th {\n",
       "        vertical-align: top;\n",
       "    }\n",
       "\n",
       "    .dataframe thead tr th {\n",
       "        text-align: left;\n",
       "    }\n",
       "\n",
       "    .dataframe thead tr:last-of-type th {\n",
       "        text-align: right;\n",
       "    }\n",
       "</style>\n",
       "<table border=\"1\" class=\"dataframe\">\n",
       "  <thead>\n",
       "    <tr>\n",
       "      <th></th>\n",
       "      <th></th>\n",
       "      <th colspan=\"3\" halign=\"left\">Revenue</th>\n",
       "      <th colspan=\"3\" halign=\"left\">Quantity</th>\n",
       "      <th>Gross margin</th>\n",
       "    </tr>\n",
       "    <tr>\n",
       "      <th></th>\n",
       "      <th></th>\n",
       "      <th>sum</th>\n",
       "      <th>min</th>\n",
       "      <th>max</th>\n",
       "      <th>sum</th>\n",
       "      <th>min</th>\n",
       "      <th>max</th>\n",
       "      <th>mean</th>\n",
       "    </tr>\n",
       "    <tr>\n",
       "      <th>Retailer country</th>\n",
       "      <th>Year</th>\n",
       "      <th></th>\n",
       "      <th></th>\n",
       "      <th></th>\n",
       "      <th></th>\n",
       "      <th></th>\n",
       "      <th></th>\n",
       "      <th></th>\n",
       "    </tr>\n",
       "  </thead>\n",
       "  <tbody>\n",
       "    <tr>\n",
       "      <th rowspan=\"3\" valign=\"top\">Australia</th>\n",
       "      <th>2012</th>\n",
       "      <td>25607043.50</td>\n",
       "      <td>0.0</td>\n",
       "      <td>254026.08</td>\n",
       "      <td>522186</td>\n",
       "      <td>4</td>\n",
       "      <td>6083</td>\n",
       "      <td>0.447985</td>\n",
       "    </tr>\n",
       "    <tr>\n",
       "      <th>2013</th>\n",
       "      <td>47799737.14</td>\n",
       "      <td>0.0</td>\n",
       "      <td>443746.60</td>\n",
       "      <td>839750</td>\n",
       "      <td>10</td>\n",
       "      <td>9442</td>\n",
       "      <td>0.457347</td>\n",
       "    </tr>\n",
       "    <tr>\n",
       "      <th>2014</th>\n",
       "      <td>35893188.50</td>\n",
       "      <td>0.0</td>\n",
       "      <td>516135.14</td>\n",
       "      <td>638845</td>\n",
       "      <td>1</td>\n",
       "      <td>20031</td>\n",
       "      <td>0.446609</td>\n",
       "    </tr>\n",
       "    <tr>\n",
       "      <th rowspan=\"2\" valign=\"top\">Austria</th>\n",
       "      <th>2012</th>\n",
       "      <td>34568089.63</td>\n",
       "      <td>0.0</td>\n",
       "      <td>199715.40</td>\n",
       "      <td>702134</td>\n",
       "      <td>5</td>\n",
       "      <td>6471</td>\n",
       "      <td>0.446084</td>\n",
       "    </tr>\n",
       "    <tr>\n",
       "      <th>2013</th>\n",
       "      <td>44996737.04</td>\n",
       "      <td>0.0</td>\n",
       "      <td>317161.24</td>\n",
       "      <td>803771</td>\n",
       "      <td>4</td>\n",
       "      <td>9662</td>\n",
       "      <td>0.456790</td>\n",
       "    </tr>\n",
       "  </tbody>\n",
       "</table>\n",
       "</div>"
      ],
      "text/plain": [
       "                           Revenue                 Quantity             \\\n",
       "                               sum  min        max      sum min    max   \n",
       "Retailer country Year                                                    \n",
       "Australia        2012  25607043.50  0.0  254026.08   522186   4   6083   \n",
       "                 2013  47799737.14  0.0  443746.60   839750  10   9442   \n",
       "                 2014  35893188.50  0.0  516135.14   638845   1  20031   \n",
       "Austria          2012  34568089.63  0.0  199715.40   702134   5   6471   \n",
       "                 2013  44996737.04  0.0  317161.24   803771   4   9662   \n",
       "\n",
       "                      Gross margin  \n",
       "                              mean  \n",
       "Retailer country Year               \n",
       "Australia        2012     0.447985  \n",
       "                 2013     0.457347  \n",
       "                 2014     0.446609  \n",
       "Austria          2012     0.446084  \n",
       "                 2013     0.456790  "
      ]
     },
     "execution_count": 14,
     "metadata": {},
     "output_type": "execute_result"
    }
   ],
   "source": [
    "my_agg = ['sum', 'min', 'max']\n",
    "groups.agg({'Revenue': my_agg,\n",
    "           'Quantity': my_agg,\n",
    "           'Gross margin': 'mean'}).head()"
   ]
  },
  {
   "cell_type": "code",
   "execution_count": null,
   "id": "7fa80c60",
   "metadata": {},
   "outputs": [],
   "source": []
  }
 ],
 "metadata": {
  "kernelspec": {
   "display_name": "Python 3",
   "language": "python",
   "name": "python3"
  },
  "language_info": {
   "codemirror_mode": {
    "name": "ipython",
    "version": 3
   },
   "file_extension": ".py",
   "mimetype": "text/x-python",
   "name": "python",
   "nbconvert_exporter": "python",
   "pygments_lexer": "ipython3",
   "version": "3.8.8"
  }
 },
 "nbformat": 4,
 "nbformat_minor": 5
}
